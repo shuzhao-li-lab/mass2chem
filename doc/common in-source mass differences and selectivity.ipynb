{
 "cells": [
  {
   "cell_type": "markdown",
   "metadata": {},
   "source": [
    "# Calculating common in-source mass differences and selectivity\n",
    "\n",
    "Development note, related to mass2chem and asari.\n",
    "\n",
    "This is 1st pass calculation of m/z patterns of a measured compound.\n",
    "\n",
    "Details dependent on concentration and chemical formula. Only ions of sufficient abundance are observed.\n",
    "On modern mass spectrometers, mass accuracy can be under 5 ppm. \n",
    "For a molecular of 200 Dalton, `200 x 0.000001 x 5ppm = 0.0010`, \n",
    "enough to distinguish 1.0034 (13C isotope) from 1.0078 (protonation).\n",
    "\n",
    "SL 2021-12-27"
   ]
  },
  {
   "cell_type": "code",
   "execution_count": 1,
   "metadata": {},
   "outputs": [],
   "source": [
    "# from itertools import combinations\n",
    "import numpy as np\n",
    "import matplotlib.pyplot as plt"
   ]
  },
  {
   "cell_type": "code",
   "execution_count": 2,
   "metadata": {},
   "outputs": [],
   "source": [
    "# Isotopes are not dependent on charge; these mass diff can be observed on any ions when the isotopes are present.\n",
    "\n",
    "# Ratio constraint is loose to leave room for 1) multiple atoms, e.g. 40 C atoms lead to ~ 40*1% in abundance\n",
    "# 2) measurement errors; not all peaks are in linear dynamic range\n",
    "# 3) quantification by peak height is not same as peak area\n",
    "\n",
    "ISOTOPES = [\n",
    "    # mass diff, isotopes, (intensity ratio constraint)\n",
    "    (1.003355, '13C/12C', (0, 0.8)),      # 13C-12C, 12C~99%, 13C ~ 1%\n",
    "    (0.997035, '15N/14N', (0, 0.2)),     # 15N-14N, 14N ~ 99.64%, 15N ~ 0.36%\n",
    "    (2.004245, '18O/16O', (0, 0.2)),      # 18O-16O, 16O ~ 99.76, 16O ~ 0.2%\n",
    "    (1.995796, '34S/32S', (0, 0.4)),      # 32S (95.02%), 33S (0.75%), 34S (4.21%)\n",
    "    (0.999388, '33S/32S', (0, 0.1)),\n",
    "    # double isotopes\n",
    "    (2.00039, 'M(13C),M(15N)', (0, 0.2)),\n",
    "    (2.999151, 'M(13C),M(34S)', (0, 0.4)),\n",
    "]\n",
    "\n",
    "common_adducts = {\n",
    "    # mass diff, modification\n",
    "    # not using (intensity ratio constraint), but it can be documented or learned\n",
    "    'pos': [\n",
    "        (1.0078, 'H'),\n",
    "        (21.9820, 'Na/H'), # Na replacing H\n",
    "        (18.0106, '+H2O'), \n",
    "        (18.033823, '+NH4'),\n",
    "        (37.9559, '39K/H'),\n",
    "        (39.9540, '41K/H'),\n",
    "        (41.026549, 'Acetonitrile'),\n",
    "    ],\n",
    "    'neg': [\n",
    "        (1.0078, 'H'),\n",
    "        (22.9893, 'Na'),\n",
    "        (20.97474706646, '+Na-2H'),\n",
    "        (18.0106, 'H2O'), \n",
    "        (34.9689, '35Cl'),\n",
    "        (36.9659, '37Cl'),\n",
    "        (40.01926853323, '+ACN-H'),\n",
    "        (44.998201, 'COOH'),\n",
    "        (59.013295, 'CH3COO'),\n",
    "    ],\n",
    "}\n",
    "\n",
    "double_charged = [ # double charged as ad hoc rule to either pos or neg\n",
    "    (0.5017, '13C/12C, double charged', 0, 0.8),\n",
    "    (0.4985, '15N/14N, double charged', 0, 0.2),\n",
    "    (10.991, 'Na/H, double charged'),\n",
    "]\n",
    "\n",
    "# to edit later\n",
    "fragments = [\n",
    "    (-18.0106, 'H2O'), \n",
    "    (-46.005479, 'H2O+CO',{'C':-1 , 'H':-2, 'O':-2 }),\n",
    "    (-44.99812353323, 'M-HCOOH+H[1+]',{'C': -1, 'H':-1, 'O':-2, }),\n",
    "    (-42.98252353323, 'M-CO2+H[1+]',{'C':-1 , 'H':1, 'O':-2,}),\n",
    "    (-35.037114, 'NH3+H2O', {'H':-5, 'O':-1, 'N':-1} ),\n",
    "    (-35.01392353323, 'M-H4O2+H[1+]',{'H':-3, 'O':-2,}),\n",
    "    (-26.98772353323, 'M-CO+H[1+]',{'C':-1 , 'H':1, 'O':-1 ,}),\n",
    "    (-19.01787646677, 'M-H2O-H[-]', {'H':-3, 'O':-1 ,}),\n",
    "    (-18.010565, 'H2O',{'H':-2, 'O':-1}),\n",
    "    (-17.026549, 'NH3',{'N':-1 , 'H':-3}),\n",
    "    (-17.00332353323, 'M-H2O+H[1+]',{'H':-1,'O':-1 ,}),\n",
    "    (-16.019223533229997, 'M-NH3+H[1+]', {'N': -1, 'H':-2 ,}),\n",
    "    (-72.0211, '-C3H4O2'),\n",
    "    ]"
   ]
  },
  {
   "cell_type": "code",
   "execution_count": 3,
   "metadata": {},
   "outputs": [],
   "source": [
    "# copied from asari\n",
    "\n",
    "def calculate_selectivity(sorted_mz_list, std_ppm=5):\n",
    "    '''\n",
    "    To calculate selectivity for all valid mass traces (thus specific m/z values).\n",
    "\n",
    "    The mass selectivity between two m/z values, between (0, 1), is defined as: \n",
    "    (1 - Probability(confusing two peaks)), further formalized as an exponential model:\n",
    "\n",
    "    P = exp( -x/std_ppm ),\n",
    "    whereas x is ppm distance between two peaks, \n",
    "    std_ppm standard deviation of ppm between true peaks and theoretical values, default at 5 pmm.\n",
    "\n",
    "    Close to 1 means high selectivity.\n",
    "    If multiple adjacent peaks are present, we multiply the selectivity scores.\n",
    "    Considering 2 lower and 2 higher neighbors approximately here.\n",
    "\n",
    "    Future direction: std_ppm can be dependent on m/z. \n",
    "    This can be taken into account by a higher order model.\n",
    "    '''\n",
    "    def __sel__(x, std_ppm=std_ppm): \n",
    "        if x > 100:         # too high, not bother\n",
    "            return 1\n",
    "        else:\n",
    "            return 1 - np.exp(-x/std_ppm)\n",
    "\n",
    "    mz_list = np.array(sorted_mz_list)\n",
    "    ppm_distances = 1000000 * (mz_list[1:] - mz_list[:-1])/mz_list[:-1]\n",
    "    # first two MassTraces\n",
    "    selectivities = [\n",
    "        __sel__(ppm_distances[0]) * __sel__(ppm_distances[0]+ppm_distances[1]),\n",
    "        __sel__(ppm_distances[0]) * __sel__(ppm_distances[1])* __sel__(ppm_distances[1]+ppm_distances[2]),\n",
    "        ]\n",
    "    for ii in range(2, mz_list.size-2):\n",
    "        selectivities.append(\n",
    "            __sel__(ppm_distances[ii-2]+ppm_distances[ii-1]) * __sel__(ppm_distances[ii-1]) * __sel__(ppm_distances[ii]) * __sel__(ppm_distances[ii]+ppm_distances[ii+1])\n",
    "        )\n",
    "    # last two MassTraces\n",
    "    selectivities += [\n",
    "        __sel__(ppm_distances[-3]+ppm_distances[-2]) * __sel__(ppm_distances[-2]) * __sel__(ppm_distances[-1]),\n",
    "        __sel__(ppm_distances[-2]+ppm_distances[-1]) * __sel__(ppm_distances[-1]),\n",
    "        ]\n",
    "\n",
    "    return selectivities\n"
   ]
  },
  {
   "cell_type": "markdown",
   "metadata": {},
   "source": [
    "## Positive ionization table"
   ]
  },
  {
   "cell_type": "code",
   "execution_count": 4,
   "metadata": {},
   "outputs": [],
   "source": [
    "adducts = common_adducts['pos']\n",
    "pbase = ISOTOPES + adducts + double_charged\n",
    "combo = []\n",
    "# not using all `combinations` here\n",
    "\n",
    "for x in ISOTOPES:\n",
    "    for y in adducts:\n",
    "        combo.append( (x[0]+y[0], x[1] +','+ y[1]) )\n",
    "\n",
    "pos_all = pbase + combo\n",
    "pos_all.sort()"
   ]
  },
  {
   "cell_type": "code",
   "execution_count": 14,
   "metadata": {},
   "outputs": [
    {
     "data": {
      "text/plain": [
       "[(0.4985, '15N/14N, double charged', 0, 0.2),\n",
       " (0.5017, '13C/12C, double charged', 0, 0.8),\n",
       " (0.997035, '15N/14N', (0, 0.2)),\n",
       " (0.999388, '33S/32S', (0, 0.1)),\n",
       " (1.003355, '13C/12C', (0, 0.8)),\n",
       " (1.0078, 'H'),\n",
       " (1.995796, '34S/32S', (0, 0.4)),\n",
       " (2.00039, 'M(13C),M(15N)'),\n",
       " (2.004245, '18O/16O', (0, 0.2)),\n",
       " (2.004835, '15N/14N,H'),\n",
       " (2.007188, '33S/32S,H'),\n",
       " (2.011155, '13C/12C,H'),\n",
       " (2.999151, 'M(13C),M(34S)'),\n",
       " (3.003596, '34S/32S,H'),\n",
       " (3.00819, 'M(13C),M(15N),H'),\n",
       " (3.012045, '18O/16O,H'),\n",
       " (4.006951, 'M(13C),M(34S),H'),\n",
       " (10.991, 'Na/H, double charged'),\n",
       " (18.0106, '+H2O'),\n",
       " (18.033823, '+NH4'),\n",
       " (19.007635, '15N/14N,+H2O'),\n",
       " (19.009988, '33S/32S,+H2O'),\n",
       " (19.013955, '13C/12C,+H2O'),\n",
       " (19.030858000000002, '15N/14N,+NH4'),\n",
       " (19.033211, '33S/32S,+NH4'),\n",
       " (19.037178, '13C/12C,+NH4'),\n",
       " (20.006396, '34S/32S,+H2O'),\n",
       " (20.01099, 'M(13C),M(15N),+H2O'),\n",
       " (20.014845, '18O/16O,+H2O'),\n",
       " (20.029619, '34S/32S,+NH4'),\n",
       " (20.034213, 'M(13C),M(15N),+NH4'),\n",
       " (20.038068000000003, '18O/16O,+NH4'),\n",
       " (21.009751, 'M(13C),M(34S),+H2O'),\n",
       " (21.032974000000003, 'M(13C),M(34S),+NH4'),\n",
       " (21.982, 'Na/H'),\n",
       " (22.979035, '15N/14N,Na/H'),\n",
       " (22.981388, '33S/32S,Na/H'),\n",
       " (22.985355, '13C/12C,Na/H'),\n",
       " (23.977795999999998, '34S/32S,Na/H'),\n",
       " (23.98239, 'M(13C),M(15N),Na/H'),\n",
       " (23.986245, '18O/16O,Na/H'),\n",
       " (24.981151, 'M(13C),M(34S),Na/H'),\n",
       " (37.9559, '39K/H'),\n",
       " (38.952935, '15N/14N,39K/H'),\n",
       " (38.955288, '33S/32S,39K/H'),\n",
       " (38.959255, '13C/12C,39K/H'),\n",
       " (39.951696, '34S/32S,39K/H'),\n",
       " (39.954, '41K/H'),\n",
       " (39.95629, 'M(13C),M(15N),39K/H'),\n",
       " (39.960145, '18O/16O,39K/H'),\n",
       " (40.951035, '15N/14N,41K/H'),\n",
       " (40.953388000000004, '33S/32S,41K/H'),\n",
       " (40.955051, 'M(13C),M(34S),39K/H'),\n",
       " (40.957355, '13C/12C,41K/H'),\n",
       " (41.026549, 'Acetonitrile'),\n",
       " (41.949796, '34S/32S,41K/H'),\n",
       " (41.954390000000004, 'M(13C),M(15N),41K/H'),\n",
       " (41.958245, '18O/16O,41K/H'),\n",
       " (42.023584, '15N/14N,Acetonitrile'),\n",
       " (42.025937000000006, '33S/32S,Acetonitrile'),\n",
       " (42.029904, '13C/12C,Acetonitrile'),\n",
       " (42.953151, 'M(13C),M(34S),41K/H'),\n",
       " (43.022345, '34S/32S,Acetonitrile'),\n",
       " (43.026939000000006, 'M(13C),M(15N),Acetonitrile'),\n",
       " (43.030794, '18O/16O,Acetonitrile'),\n",
       " (44.0257, 'M(13C),M(34S),Acetonitrile')]"
      ]
     },
     "execution_count": 14,
     "metadata": {},
     "output_type": "execute_result"
    }
   ],
   "source": [
    "pos_all #[:10]"
   ]
  },
  {
   "cell_type": "code",
   "execution_count": 6,
   "metadata": {},
   "outputs": [
    {
     "data": {
      "image/png": "[encoded data removed]",
      "text/plain": [
       "<Figure size 1296x216 with 1 Axes>"
      ]
     },
     "metadata": {
      "needs_background": "light"
     },
     "output_type": "display_data"
    }
   ],
   "source": [
    "# plot selectivity, assume for an ion ~ 200 \n",
    "\n",
    "hyperthetical = 200\n",
    "\n",
    "mzlist = [x[0]+hyperthetical for x in pos_all]\n",
    "selectivities = calculate_selectivity(mzlist)\n",
    "\n",
    "plt.figure(figsize=(18,3))\n",
    "plt.plot(mzlist, selectivities, '-o', markersize=7)\n",
    "plt.vlines(mzlist, 0, 1, color='r',linewidth=0.2)\n",
    "plt.xlabel(\"m/z\")\n",
    "plt.ylabel(\"Selectivity\")\n",
    "plt.title(\"Common m/z diff (pos) selectivity\")\n",
    "plt.savefig(\"Figure_selectivity_200_pos_common_mzdiff.pdf\")"
   ]
  },
  {
   "cell_type": "code",
   "execution_count": 7,
   "metadata": {},
   "outputs": [
    {
     "data": {
      "image/png": "[encoded data removed]",
      "text/plain": [
       "<Figure size 1296x216 with 1 Axes>"
      ]
     },
     "metadata": {
      "needs_background": "light"
     },
     "output_type": "display_data"
    }
   ],
   "source": [
    "hyperthetical = 800\n",
    "\n",
    "mzlist = [x[0]+hyperthetical for x in pos_all]\n",
    "selectivities800 = calculate_selectivity(mzlist)\n",
    "\n",
    "plt.figure(figsize=(18,3))\n",
    "plt.plot(mzlist, selectivities800, '-o', markersize=7)\n",
    "plt.vlines(mzlist, 0, 1, color='r',linewidth=0.2)\n",
    "plt.xlabel(\"m/z\")\n",
    "plt.ylabel(\"Selectivity\")\n",
    "plt.title(\"Common m/z diff (pos) selectivity\")\n",
    "plt.savefig(\"Figure_selectivity_800_pos_common_mzdiff.pdf\")"
   ]
  },
  {
   "cell_type": "code",
   "execution_count": 8,
   "metadata": {},
   "outputs": [
    {
     "name": "stdout",
     "output_type": "stream",
     "text": [
      "1\t1\t44.0257\tM(13C),M(34S),Acetonitrile\n",
      "1\t1\t37.9559\t39K/H\n",
      "1\t1\t24.981151\tM(13C),M(34S),Na/H\n",
      "1\t1\t21.982\tNa/H\n",
      "1\t1\t10.991\tNa/H, double charged\n",
      "1\t1\t4.006951\tM(13C),M(34S),H\n",
      "0.9999999009038226\t1\t42.953151\tM(13C),M(34S),41K/H\n",
      "0.9999998874381868\t1\t41.026549\tAcetonitrile\n",
      "0.9965793392097703\t1\t18.033823\t+NH4\n",
      "0.9965793392097703\t1\t18.0106\t+H2O\n",
      "0.9965076487856275\t1\t21.032974000000003\tM(13C),M(34S),+NH4\n",
      "0.9965076487856275\t1\t21.009751\tM(13C),M(34S),+H2O\n",
      "0.5990489795279155\t0.989187779062629\t1.995796\t34S/32S\t(0, 0.4)\n",
      "0.5990126401793237\t0.9873322698564604\t2.999151\tM(13C),M(34S)\n",
      "0.5883305826544349\t0.9877706425792866\t1.0078\tH\n",
      "0.5880492354090212\t0.9841892937005656\t20.006396\t34S/32S,+H2O\n",
      "0.5856537189137077\t0.982943316188848\t23.977795999999998\t34S/32S,Na/H\n",
      "0.5749483416950179\t0.9766670492591896\t41.949796\t34S/32S,41K/H\n",
      "0.5743164059463677\t0.9762600175351798\t43.022345\t34S/32S,Acetonitrile\n",
      "0.5659380147364126\t0.9841806673784697\t20.029619\t34S/32S,+NH4\n",
      "0.5504471291111062\t0.9589121914626395\t0.5017\t13C/12C, double charged\t0\t0.8\n",
      "0.5504471291111062\t0.9589121914626395\t0.4985\t15N/14N, double charged\t0\t0.2\n",
      "0.5419128670853285\t0.9773444627098424\t3.012045\t18O/16O,H\n",
      "0.5318256468000696\t0.9694750120329511\t20.038068000000003\t18O/16O,+NH4\n",
      "0.5295188048901351\t0.967494771804288\t23.986245\t18O/16O,Na/H\n",
      "0.5191699547048373\t0.9577976026537135\t41.958245\t18O/16O,41K/H\n",
      "0.5185603315409979\t0.9571852435157121\t43.030794\t18O/16O,Acetonitrile\n",
      "0.5127611720615575\t0.969485044835102\t20.014845\t18O/16O,+H2O\n",
      "0.49825528254789025\t0.9784299837739374\t2.011155\t13C/12C,H\n",
      "0.48785377042024936\t0.9702445141174181\t19.037178\t13C/12C,+NH4\n",
      "0.4854811201309945\t0.9681542260386644\t22.985355\t13C/12C,Na/H\n",
      "0.47603044793708715\t0.9589965832868297\t38.959255\t13C/12C,39K/H\n",
      "0.47564691845254164\t0.970256385281544\t19.013955\t13C/12C,+H2O\n",
      "0.47424081439251187\t0.9571125065429313\t42.029904\t13C/12C,Acetonitrile\n",
      "0.4615954433978452\t0.9540423338250621\t39.960145\t18O/16O,39K/H\n",
      "0.40843394736280214\t0.9519995640428401\t23.98239\tM(13C),M(15N),Na/H\n",
      "0.4070416404384754\t0.9550223514649618\t20.034213\tM(13C),M(15N),+NH4\n",
      "0.40633452117784963\t0.9550398487447852\t20.01099\tM(13C),M(15N),+H2O\n",
      "0.40063757097095015\t0.9765412982033689\t3.003596\t34S/32S,H\n",
      "0.39837747897767656\t0.9371852683787282\t41.954390000000004\tM(13C),M(15N),41K/H\n",
      "0.3977880141215856\t0.9362501192357621\t43.026939000000006\tM(13C),M(15N),Acetonitrile\n",
      "0.3763348458541636\t0.9668695526671747\t3.00819\tM(13C),M(15N),H\n",
      "0.3526009053923394\t0.9021215320845138\t0.997035\t15N/14N\t(0, 0.2)\n",
      "0.34368083804661603\t0.8806221356139771\t19.007635\t15N/14N,+H2O\n",
      "0.34175614347825045\t0.8757899901794093\t22.979035\t15N/14N,Na/H\n",
      "0.3360603486732975\t0.8805937814625019\t19.030858000000002\t15N/14N,+NH4\n",
      "0.33444607183603525\t0.9671243914237967\t1.003355\t13C/12C\t(0, 0.8)\n",
      "0.33416420331442087\t0.8561235026383721\t38.952935\t15N/14N,39K/H\n",
      "0.33273170987881406\t0.8523107962375625\t42.023584\t15N/14N,Acetonitrile\n",
      "0.2821824074055598\t0.9557846353887675\t2.00039\tM(13C),M(15N)\n",
      "0.28082682181259533\t0.83490467879586\t39.951696\t34S/32S,39K/H\n",
      "0.2695136808915823\t0.8597779181077757\t19.009988\t33S/32S,+H2O\n",
      "0.269428621026775\t0.853784987674365\t22.981388\t33S/32S,Na/H\n",
      "0.2687018960284063\t0.8597429744440691\t19.033211\t33S/32S,+NH4\n",
      "0.26366578851217565\t0.8275546279758828\t40.951035\t15N/14N,41K/H\n",
      "0.2625725707703453\t0.8293637356901381\t38.955288\t33S/32S,39K/H\n",
      "0.261283347524955\t0.8246282550548253\t42.025937000000006\t33S/32S,Acetonitrile\n",
      "0.25764083525766207\t0.8206095034493176\t40.957355\t13C/12C,41K/H\n",
      "0.24510178975324629\t0.886144966043672\t0.999388\t33S/32S\t(0, 0.1)\n",
      "0.16790625623770541\t0.7996969571628976\t39.95629\tM(13C),M(15N),39K/H\n",
      "0.144982062871152\t0.83687245817042\t2.007188\t33S/32S,H\n",
      "0.13638921745494667\t0.7225697637730502\t39.954\t41K/H\n",
      "0.08549728208560159\t0.6184806082863397\t40.953388000000004\t33S/32S,41K/H\n",
      "0.08478238286505949\t0.6151793238592473\t40.955051\tM(13C),M(34S),39K/H\n",
      "0.038595903436650904\t0.4091092259956333\t2.004245\t18O/16O\t(0, 0.2)\n",
      "0.032273113142272394\t0.3937033488570033\t2.004835\t15N/14N,H\n"
     ]
    }
   ],
   "source": [
    "# write out selectivity\n",
    "\n",
    "outlist = []\n",
    "for ii in range(len(pos_all)):\n",
    "    outlist.append( [selectivities800[ii], selectivities[ii]] + list(pos_all[ii]) )\n",
    "\n",
    "outlist.sort(reverse=True)\n",
    "    \n",
    "s = 'selectivity_800\\tselectivity_200\\tmz_diff\\tnote\\tratio_constraints\\n'\n",
    "for line in outlist:\n",
    "    xx = '\\t'.join( [str(x) for x in line] )\n",
    "    print(xx)\n",
    "    s += xx + '\\n'\n",
    "    \n",
    "with open('selectivity_pos_common_mzdiff.tsv', 'w') as O:\n",
    "    O.write(s)"
   ]
  },
  {
   "cell_type": "markdown",
   "metadata": {},
   "source": [
    "### Selectivity is bad for many at 800 amu, but depends on abundance of isotopes too\n"
   ]
  },
  {
   "cell_type": "markdown",
   "metadata": {},
   "source": [
    "## Negative ionization table"
   ]
  },
  {
   "cell_type": "code",
   "execution_count": 9,
   "metadata": {},
   "outputs": [],
   "source": [
    "adducts = common_adducts['neg']\n",
    "pbase = ISOTOPES + adducts + double_charged\n",
    "combo = []\n",
    "# not using all `combinations` here\n",
    "\n",
    "for x in ISOTOPES:\n",
    "    for y in adducts:\n",
    "        combo.append( (x[0]+y[0], x[1] +','+ y[1]) )\n",
    "\n",
    "neg_all = pbase + combo\n",
    "neg_all.sort()"
   ]
  },
  {
   "cell_type": "code",
   "execution_count": 15,
   "metadata": {},
   "outputs": [
    {
     "data": {
      "text/plain": [
       "[(0.4985, '15N/14N, double charged', 0, 0.2),\n",
       " (0.5017, '13C/12C, double charged', 0, 0.8),\n",
       " (0.997035, '15N/14N', (0, 0.2)),\n",
       " (0.999388, '33S/32S', (0, 0.1)),\n",
       " (1.003355, '13C/12C', (0, 0.8)),\n",
       " (1.0078, 'H'),\n",
       " (1.995796, '34S/32S', (0, 0.4)),\n",
       " (2.00039, 'M(13C),M(15N)'),\n",
       " (2.004245, '18O/16O', (0, 0.2)),\n",
       " (2.004835, '15N/14N,H'),\n",
       " (2.007188, '33S/32S,H'),\n",
       " (2.011155, '13C/12C,H'),\n",
       " (2.999151, 'M(13C),M(34S)'),\n",
       " (3.003596, '34S/32S,H'),\n",
       " (3.00819, 'M(13C),M(15N),H'),\n",
       " (3.012045, '18O/16O,H'),\n",
       " (4.006951, 'M(13C),M(34S),H'),\n",
       " (10.991, 'Na/H, double charged'),\n",
       " (18.0106, 'H2O'),\n",
       " (19.007635, '15N/14N,H2O'),\n",
       " (19.009988, '33S/32S,H2O'),\n",
       " (19.013955, '13C/12C,H2O'),\n",
       " (20.006396, '34S/32S,H2O'),\n",
       " (20.01099, 'M(13C),M(15N),H2O'),\n",
       " (20.014845, '18O/16O,H2O'),\n",
       " (20.97474706646, '+Na-2H'),\n",
       " (21.009751, 'M(13C),M(34S),H2O'),\n",
       " (21.97178206646, '15N/14N,+Na-2H'),\n",
       " (21.97413506646, '33S/32S,+Na-2H'),\n",
       " (21.97810206646, '13C/12C,+Na-2H'),\n",
       " (22.97054306646, '34S/32S,+Na-2H'),\n",
       " (22.97513706646, 'M(13C),M(15N),+Na-2H'),\n",
       " (22.978992066460002, '18O/16O,+Na-2H'),\n",
       " (22.9893, 'Na'),\n",
       " (23.973898066460002, 'M(13C),M(34S),+Na-2H'),\n",
       " (23.986335, '15N/14N,Na'),\n",
       " (23.988688, '33S/32S,Na'),\n",
       " (23.992655, '13C/12C,Na'),\n",
       " (24.985096, '34S/32S,Na'),\n",
       " (24.98969, 'M(13C),M(15N),Na'),\n",
       " (24.993545, '18O/16O,Na'),\n",
       " (25.988451, 'M(13C),M(34S),Na'),\n",
       " (34.9689, '35Cl'),\n",
       " (35.965934999999995, '15N/14N,35Cl'),\n",
       " (35.968288, '33S/32S,35Cl'),\n",
       " (35.972255, '13C/12C,35Cl'),\n",
       " (36.964695999999996, '34S/32S,35Cl'),\n",
       " (36.9659, '37Cl'),\n",
       " (36.96929, 'M(13C),M(15N),35Cl'),\n",
       " (36.973144999999995, '18O/16O,35Cl'),\n",
       " (37.962934999999995, '15N/14N,37Cl'),\n",
       " (37.965288, '33S/32S,37Cl'),\n",
       " (37.968050999999996, 'M(13C),M(34S),35Cl'),\n",
       " (37.969255, '13C/12C,37Cl'),\n",
       " (38.961695999999996, '34S/32S,37Cl'),\n",
       " (38.96629, 'M(13C),M(15N),37Cl'),\n",
       " (38.970144999999995, '18O/16O,37Cl'),\n",
       " (39.965050999999995, 'M(13C),M(34S),37Cl'),\n",
       " (40.01926853323, '+ACN-H'),\n",
       " (41.016303533229994, '15N/14N,+ACN-H'),\n",
       " (41.01865653323, '33S/32S,+ACN-H'),\n",
       " (41.022623533229996, '13C/12C,+ACN-H'),\n",
       " (42.015064533229996, '34S/32S,+ACN-H'),\n",
       " (42.01965853323, 'M(13C),M(15N),+ACN-H'),\n",
       " (42.023513533229995, '18O/16O,+ACN-H'),\n",
       " (43.018419533229995, 'M(13C),M(34S),+ACN-H'),\n",
       " (44.998201, 'COOH'),\n",
       " (45.995236, '15N/14N,COOH'),\n",
       " (45.997589000000005, '33S/32S,COOH'),\n",
       " (46.001556, '13C/12C,COOH'),\n",
       " (46.993997, '34S/32S,COOH'),\n",
       " (46.998591000000005, 'M(13C),M(15N),COOH'),\n",
       " (47.002446, '18O/16O,COOH'),\n",
       " (47.997352, 'M(13C),M(34S),COOH'),\n",
       " (59.013295, 'CH3COO'),\n",
       " (60.010329999999996, '15N/14N,CH3COO'),\n",
       " (60.012683, '33S/32S,CH3COO'),\n",
       " (60.01665, '13C/12C,CH3COO'),\n",
       " (61.009091, '34S/32S,CH3COO'),\n",
       " (61.013685, 'M(13C),M(15N),CH3COO'),\n",
       " (61.01754, '18O/16O,CH3COO'),\n",
       " (62.012446, 'M(13C),M(34S),CH3COO')]"
      ]
     },
     "execution_count": 15,
     "metadata": {},
     "output_type": "execute_result"
    }
   ],
   "source": [
    "neg_all #[:10]"
   ]
  },
  {
   "cell_type": "code",
   "execution_count": 11,
   "metadata": {},
   "outputs": [
    {
     "data": {
      "image/png": "[encoded data removed]",
      "text/plain": [
       "<Figure size 1296x216 with 1 Axes>"
      ]
     },
     "metadata": {
      "needs_background": "light"
     },
     "output_type": "display_data"
    }
   ],
   "source": [
    "# plot selectivity, assume for an ion ~ 200 \n",
    "\n",
    "hyperthetical = 200\n",
    "\n",
    "mzlist = [x[0]+hyperthetical for x in neg_all]\n",
    "selectivities = calculate_selectivity(mzlist)\n",
    "\n",
    "plt.figure(figsize=(18,3))\n",
    "plt.plot(mzlist, selectivities, '-o', markersize=7)\n",
    "plt.vlines(mzlist, 0, 1, color='r',linewidth=0.2)\n",
    "plt.xlabel(\"m/z\")\n",
    "plt.ylabel(\"Selectivity\")\n",
    "plt.title(\"Common m/z diff (neg) selectivity\")\n",
    "plt.savefig(\"Figure_selectivity_200_neg_common_mzdiff.pdf\")"
   ]
  },
  {
   "cell_type": "code",
   "execution_count": 12,
   "metadata": {},
   "outputs": [
    {
     "data": {
      "image/png": "[encoded data removed]",
      "text/plain": [
       "<Figure size 1296x216 with 1 Axes>"
      ]
     },
     "metadata": {
      "needs_background": "light"
     },
     "output_type": "display_data"
    }
   ],
   "source": [
    "hyperthetical = 800\n",
    "\n",
    "mzlist = [x[0]+hyperthetical for x in neg_all]\n",
    "selectivities800 = calculate_selectivity(mzlist)\n",
    "\n",
    "plt.figure(figsize=(18,3))\n",
    "plt.plot(mzlist, selectivities800, '-o', markersize=7)\n",
    "plt.vlines(mzlist, 0, 1, color='r',linewidth=0.2)\n",
    "plt.xlabel(\"m/z\")\n",
    "plt.ylabel(\"Selectivity\")\n",
    "plt.title(\"Common m/z diff (neg) selectivity\")\n",
    "plt.savefig(\"Figure_selectivity_800_neg_common_mzdiff.pdf\")"
   ]
  },
  {
   "cell_type": "code",
   "execution_count": 13,
   "metadata": {},
   "outputs": [
    {
     "name": "stdout",
     "output_type": "stream",
     "text": [
      "1\t1\t44.0257\tM(13C),M(34S),Acetonitrile\n",
      "1\t1\t37.9559\t39K/H\n",
      "1\t1\t24.981151\tM(13C),M(34S),Na/H\n",
      "1\t1\t18.0106\t+H2O\n",
      "1\t1\t10.991\tNa/H, double charged\n",
      "1\t1\t4.006951\tM(13C),M(34S),H\n",
      "0.9999975255034438\t1\t42.023584\t15N/14N,Acetonitrile\n",
      "0.9999975255034438\t1\t41.958245\t18O/16O,41K/H\n",
      "0.999802032582712\t1\t20.006396\t34S/32S,+H2O\n",
      "0.999802032582712\t1\t19.037178\t13C/12C,+NH4\n",
      "0.9248860604098961\t0.9999831353781108\t21.982\tNa/H\n",
      "0.88893609790201\t0.9999004294231247\t21.032974000000003\tM(13C),M(34S),+NH4\n",
      "0.5990489795279155\t0.989187779062629\t1.995796\t34S/32S\t(0, 0.4)\n",
      "0.5990126401793237\t0.9873322698564604\t2.999151\tM(13C),M(34S)\n",
      "0.5883305826544349\t0.9877706425792866\t1.0078\tH\n",
      "0.5880492354090212\t0.9841892937005656\t19.013955\t13C/12C,+H2O\n",
      "0.5862602613443765\t0.9832642141756823\t20.034213\tM(13C),M(15N),+NH4\n",
      "0.5850478442886066\t0.9826190913236883\t23.977795999999998\t34S/32S,Na/H\n",
      "0.576712931902452\t0.9777819926070552\t41.026549\tAcetonitrile\n",
      "0.5749098662110523\t0.9766423827407362\t43.022345\t34S/32S,Acetonitrile\n",
      "0.5504471291111062\t0.9589121914626395\t0.5017\t13C/12C, double charged\t0\t0.8\n",
      "0.5504471291111062\t0.9589121914626395\t0.4985\t15N/14N, double charged\t0\t0.2\n",
      "0.5419128670853285\t0.9773444627098424\t3.012045\t18O/16O,H\n",
      "0.5318392513540298\t0.9694864922295215\t19.033211\t33S/32S,+NH4\n",
      "0.5289321944199634\t0.9669805786909228\t23.986245\t18O/16O,Na/H\n",
      "0.5208735429663103\t0.9594843328138282\t41.954390000000004\tM(13C),M(15N),41K/H\n",
      "0.5191329711260615\t0.9577604421073933\t43.030794\t18O/16O,Acetonitrile\n",
      "0.49825528254789025\t0.9784299837739374\t2.011155\t13C/12C,H\n",
      "0.49536793359133663\t0.9592399659490451\t39.960145\t18O/16O,39K/H\n",
      "0.48786776975523094\t0.9702565996851804\t19.009988\t33S/32S,+H2O\n",
      "0.48681071530594683\t0.9679118732504013\t21.009751\tM(13C),M(34S),+H2O\n",
      "0.4860850312218021\t0.9686941947619754\t20.029619\t34S/32S,+NH4\n",
      "0.4848781349186472\t0.9676096773353877\t22.985355\t13C/12C,Na/H\n",
      "0.4777796520317252\t0.9607919772898099\t38.959255\t13C/12C,39K/H\n",
      "0.4748269231611196\t0.957734798012603\t42.953151\tM(13C),M(34S),41K/H\n",
      "0.4107024470948385\t0.9550398909646316\t19.030858000000002\t15N/14N,+NH4\n",
      "0.4078612612047166\t0.9512143500364619\t23.98239\tM(13C),M(15N),Na/H\n",
      "0.40063757097095015\t0.9765412982033689\t3.003596\t34S/32S,H\n",
      "0.4000260734645786\t0.9397616797830508\t41.949796\t34S/32S,41K/H\n",
      "0.39834160176993805\t0.9371285160994154\t43.026939000000006\tM(13C),M(15N),Acetonitrile\n",
      "0.3959175501896105\t0.952776195679227\t20.038068000000003\t18O/16O,+NH4\n",
      "0.3763348458541636\t0.9668695526671747\t3.00819\tM(13C),M(15N),H\n",
      "0.3526009053923394\t0.9021215320845138\t0.997035\t15N/14N\t(0, 0.2)\n",
      "0.34368083804661603\t0.8806221356139771\t18.033823\t+NH4\n",
      "0.34224287680069576\t0.8770181150083806\t20.01099\tM(13C),M(15N),+H2O\n",
      "0.3355658569174299\t0.8598240347390637\t38.952935\t15N/14N,39K/H\n",
      "0.33444607183603525\t0.9671243914237967\t1.003355\t13C/12C\t(0, 0.8)\n",
      "0.3332007290512958\t0.8535623820756293\t42.025937000000006\t33S/32S,Acetonitrile\n",
      "0.3245954230796114\t0.8745470082471763\t22.979035\t15N/14N,Na/H\n",
      "0.30297623294946313\t0.8499086589816179\t40.951035\t15N/14N,41K/H\n",
      "0.2821824074055598\t0.9557846353887675\t2.00039\tM(13C),M(15N)\n",
      "0.27117295442207734\t0.8597779226525258\t19.007635\t15N/14N,+H2O\n",
      "0.2698695058620675\t0.8553085987340714\t20.014845\t18O/16O,+H2O\n",
      "0.26383542792059234\t0.8339603591801296\t38.955288\t33S/32S,39K/H\n",
      "0.26170527245798186\t0.8261826709543887\t42.029904\t13C/12C,Acetonitrile\n",
      "0.26156432545620417\t0.8522574037146006\t22.981388\t33S/32S,Na/H\n",
      "0.24510178975324629\t0.886144966043672\t0.999388\t33S/32S\t(0, 0.1)\n",
      "0.22269790915608353\t0.8876059804301086\t39.95629\tM(13C),M(15N),39K/H\n",
      "0.16660897296169067\t0.6248161500413069\t39.951696\t34S/32S,39K/H\n",
      "0.15285939933609696\t0.6137841863432455\t40.957355\t13C/12C,41K/H\n",
      "0.144982062871152\t0.83687245817042\t2.007188\t33S/32S,H\n",
      "0.12698910555023565\t0.749412103331863\t40.953388000000004\t33S/32S,41K/H\n",
      "0.11422630312694779\t0.6002011830735665\t39.954\t41K/H\n",
      "0.08503323145609715\t0.5662701187077505\t40.955051\tM(13C),M(34S),39K/H\n",
      "0.038595903436650904\t0.4091092259956333\t2.004245\t18O/16O\t(0, 0.2)\n",
      "0.032273113142272394\t0.3937033488570033\t2.004835\t15N/14N,H\n"
     ]
    }
   ],
   "source": [
    "# write out selectivity\n",
    "outlist = []\n",
    "for ii in range(len(pos_all)):\n",
    "    outlist.append( [selectivities800[ii], selectivities[ii]] + list(pos_all[ii]) )\n",
    "\n",
    "outlist.sort(reverse=True)\n",
    "s = 'selectivity_800\\tselectivity_200\\tmz_diff\\tnote\\tratio_constraints\\n'\n",
    "for line in outlist:\n",
    "    xx = '\\t'.join( [str(x) for x in line] )\n",
    "    print(xx)\n",
    "    s += xx + '\\n'\n",
    "\n",
    "with open('selectivity_neg_common_mzdiff.tsv', 'w') as O:\n",
    "    O.write(s)"
   ]
  },
  {
   "cell_type": "markdown",
   "metadata": {},
   "source": [
    "## Summary\n",
    "\n",
    "- Selectivity here is highly m/z dependent\n",
    "- Will select a subset manually in downstream applications\n"
   ]
  }
 ],
 "metadata": {
  "kernelspec": {
   "display_name": "Python 3",
   "language": "python",
   "name": "python3"
  },
  "language_info": {
   "codemirror_mode": {
    "name": "ipython",
    "version": 3
   },
   "file_extension": ".py",
   "mimetype": "text/x-python",
   "name": "python",
   "nbconvert_exporter": "python",
   "pygments_lexer": "ipython3",
   "version": "3.7.3"
  }
 },
 "nbformat": 4,
 "nbformat_minor": 2
}
