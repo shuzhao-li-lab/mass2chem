{
 "cells": [
  {
   "cell_type": "markdown",
   "metadata": {},
   "source": [
    "# E. Coli Credentialing samples, run RP ESI+\n",
    "\n",
    "\n",
    "Demo of annoTree functions. Example of a tree:\n",
    "\n",
    "```\n",
    "95.0492@30.5\n",
    "├── 101.0693@30.8 13C/12C*6\n",
    "└── 136.0758@30.5 Acetonitrile\n",
    "    └── 142.0958@30.8 13C/12C*6\n",
    "```"
   ]
  },
  {
   "cell_type": "code",
   "execution_count": 1,
   "metadata": {},
   "outputs": [
    {
     "name": "stdout",
     "output_type": "stream",
     "text": [
      "Requirement already up-to-date: mass2chem in /opt/conda/lib/python3.7/site-packages (0.4.1)\r\n",
      "Requirement already satisfied, skipping upgrade: numpy in /opt/conda/lib/python3.7/site-packages (from mass2chem) (1.17.2)\r\n",
      "Requirement already satisfied, skipping upgrade: scipy in /opt/conda/lib/python3.7/site-packages (from mass2chem) (1.3.1)\r\n",
      "Requirement already satisfied, skipping upgrade: treelib in /opt/conda/lib/python3.7/site-packages (from mass2chem) (1.6.1)\r\n",
      "Requirement already satisfied, skipping upgrade: future in /opt/conda/lib/python3.7/site-packages (from treelib->mass2chem) (0.18.2)\r\n"
     ]
    }
   ],
   "source": [
    "!pip install --upgrade mass2chem"
   ]
  },
  {
   "cell_type": "code",
   "execution_count": 2,
   "metadata": {},
   "outputs": [],
   "source": [
    "from mass2chem.io import read_features\n",
    "from mass2chem.annotree import *"
   ]
  },
  {
   "cell_type": "code",
   "execution_count": 3,
   "metadata": {},
   "outputs": [
    {
     "name": "stdout",
     "output_type": "stream",
     "text": [
      "table headers ordered:  mz rtime\n",
      "Read 3602 feature lines\n",
      "3602 {'id': 'F6', 'mz': 115.988, 'rtime': 19.63, 'intensities': [506535.0, 510552.0, 451142.0, 549764.0, 442653.0, 549216.0], 'representative_intensity': 501643.6666666667}\n"
     ]
    }
   ],
   "source": [
    "f = 'export/full_Feature_table.tsv'\n",
    "flist = read_features(f, id_col=0, mz_col=1, rtime_col=2, intensity_cols=(11, 17))\n",
    "print(len(flist), flist[5])"
   ]
  },
  {
   "cell_type": "code",
   "execution_count": 4,
   "metadata": {},
   "outputs": [
    {
     "name": "stdout",
     "output_type": "stream",
     "text": [
      "Found 719 isotopic pairs, 455 trees and 264 in branches.\n"
     ]
    }
   ],
   "source": [
    "# Initial trees by isotopic pattern\n",
    "# search_patterns: Need to consider all possible number of 13C labels. \n",
    "#            If *6 exists, it's not granted that *4 exists. So we can't rely on pairwise to connect all pairs.\n",
    "#            The third item, (0, 0.8) here, is an option to constrain ratios but not used in this function.\n",
    "        \n",
    "n2tree = construct_isotopic_trees(\n",
    "            flist, \n",
    "            search_patterns=[\n",
    "                   (1.003355, '13C/12C', (0, 0.8)),\n",
    "                   (2.00671, '13C/12C*2', (0, 0.8)),\n",
    "                   (3.010065, '13C/12C*3', (0, 0.8)),\n",
    "                   (4.01342, '13C/12C*4', (0, 0.8)),\n",
    "                   (5.016775, '13C/12C*5', (0, 0.8)),\n",
    "                   (6.02013, '13C/12C*6', (0, 0.8)),\n",
    "                  ],)"
   ]
  },
  {
   "cell_type": "code",
   "execution_count": 5,
   "metadata": {},
   "outputs": [
    {
     "name": "stdout",
     "output_type": "stream",
     "text": [
      "Merging adducts on 409 trees...\n",
      "Unresolved multiple relationships:  {'F2755', 'F590', 'F834', 'F835', 'F323', 'F685', 'F3097', 'F943', 'F641', 'F1629', 'F2317', 'F1123', 'F1579', 'F873'}\n",
      "Got 312 merged trees.\n"
     ]
    }
   ],
   "source": [
    "# Merge adducts \n",
    "gt2 = merge_trees_by_insrc_modifications(\n",
    "            set(n2tree.values()), \n",
    "            flist,\n",
    "            search_patterns=[                  \n",
    "                    (1.0078, 'H'),\n",
    "                    (21.9820, 'Na/H'), # Na replacing H\n",
    "                    (10.991, 'Na/H, double charged'),\n",
    "                    (18.0106, '+H2O'), \n",
    "                    (18.033823, '+NH4'),\n",
    "                    (37.9559, '39K/H'),\n",
    "                    (39.9540, '41K/H'),\n",
    "                    (41.026549, 'Acetonitrile'),], \n",
    ")"
   ]
  },
  {
   "cell_type": "code",
   "execution_count": 6,
   "metadata": {},
   "outputs": [
    {
     "name": "stdout",
     "output_type": "stream",
     "text": [
      "312\n",
      "31\n",
      "52\n",
      "51\n",
      "73\n",
      "57\n"
     ]
    }
   ],
   "source": [
    "num_labels = find_trees_by_datatag_list(gt2)\n",
    "for x in num_labels:\n",
    "    print(len(x))"
   ]
  },
  {
   "cell_type": "code",
   "execution_count": 7,
   "metadata": {},
   "outputs": [
    {
     "name": "stdout",
     "output_type": "stream",
     "text": [
      "223.0248@21.5 anchor\n",
      "└── 229.045@22.0 13C/12C*6\n",
      "\n",
      "322.9932@43.4 anchor\n",
      "└── 329.0134@44.9 13C/12C*6\n",
      "\n",
      "158.0814@24.6 anchor\n",
      "└── 164.1014@24.1 13C/12C*6\n",
      "\n",
      "237.0906@25.3 anchor\n",
      "└── 243.1108@24.1 13C/12C*6\n",
      "\n",
      "285.0993@30.3 anchor\n",
      "└── 291.1191@29.9 13C/12C*6\n",
      "\n",
      "243.0266@34.5 anchor\n",
      "└── 249.0468@34.5 13C/12C*6\n",
      "\n",
      "188.1759@20.6 anchor\n",
      "└── 194.196@20.8 13C/12C*6\n",
      "\n",
      "232.1931@30.5 anchor\n",
      "└── 238.2134@30.5 13C/12C*6\n",
      "\n",
      "263.0529@33.3 anchor\n",
      "└── 269.0732@33.8 13C/12C*6\n",
      "\n",
      "131.118@25.1 anchor\n",
      "└── 137.1381@24.8 13C/12C*6\n",
      "\n",
      "132.115@25.1 anchor\n",
      "└── 138.1354@25.1 13C/12C*6\n",
      "\n",
      "145.0497@68.9 anchor\n",
      "└── 151.0702@68.9 13C/12C*6\n",
      "\n",
      "126.0916@30.3 anchor\n",
      "└── 129.1023@30.5 13C/12C*3\n",
      "    └── 135.1225@30.5 13C/12C*6\n",
      "\n",
      "236.9053@20.8 anchor\n",
      "└── 242.9257@21.8 13C/12C*6\n",
      "\n",
      "182.0813@30.5 anchor\n",
      "└── 185.0922@29.6 13C/12C*3\n",
      "    ├── 190.1081@30.8 13C/12C*5\n",
      "    └── 191.1114@30.5 13C/12C*6\n",
      "\n"
     ]
    }
   ],
   "source": [
    "# Show first 15 trees in the *6 labeled group\n",
    "for t in num_labels[5][:15]:\n",
    "    t.show()"
   ]
  },
  {
   "cell_type": "code",
   "execution_count": 8,
   "metadata": {},
   "outputs": [
    {
     "name": "stdout",
     "output_type": "stream",
     "text": [
      "632.2232@30.8 anchor\n",
      "└── 633.2265@31.0 13C/12C\n",
      "\n",
      "159.9899@25.9 anchor\n",
      "└── 164.0039@25.9 13C/12C*4\n",
      "\n",
      "162.022@30.5 anchor\n",
      "└── 167.0389@30.3 13C/12C*5\n",
      "\n",
      "344.0767@31.2 anchor\n",
      "└── 347.0852@32.8 13C/12C*3\n",
      "\n",
      "164.9948@37.8 anchor\n",
      "└── 169.0083@37.1 13C/12C*4\n",
      "\n"
     ]
    }
   ],
   "source": [
    "# these are more likely naturally occuring 13C\n",
    "for t in num_labels[0][:5]:\n",
    "    t.show()"
   ]
  },
  {
   "cell_type": "code",
   "execution_count": 9,
   "metadata": {},
   "outputs": [],
   "source": [
    "# Export to JSON\n",
    "\n",
    "export_json_trees(gt2, outfile=\"test.json\")"
   ]
  },
  {
   "cell_type": "markdown",
   "metadata": {},
   "source": [
    "## Conclusion\n",
    "\n",
    "We have used the annoTree functions to find all isotopologues in this 13C-glucose tracing dataset, and grouped them with adducts.\n",
    "\n",
    "Each tree is considered an empirical compound,\n",
    "as defined in https://github.com/shuzhao-li/metDataModel\n"
   ]
  }
 ],
 "metadata": {
  "kernelspec": {
   "display_name": "Python 3",
   "language": "python",
   "name": "python3"
  },
  "language_info": {
   "codemirror_mode": {
    "name": "ipython",
    "version": 3
   },
   "file_extension": ".py",
   "mimetype": "text/x-python",
   "name": "python",
   "nbconvert_exporter": "python",
   "pygments_lexer": "ipython3",
   "version": "3.7.3"
  }
 },
 "nbformat": 4,
 "nbformat_minor": 2
}
