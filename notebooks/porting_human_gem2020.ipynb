{
 "cells": [
  {
   "cell_type": "markdown",
   "source": [
    "# Porting Human-GEM (Robinson et al 2020), stage 1\n",
    "\n",
    "\n",
    "Objective: To port the metabolic model in Robinson et al (2020) for use in mummichog and Azimuth.\n",
    "\n",
    "This is a two stage process:\n",
    "\n",
    "1. porting out compounds and reactions (refer to data structures in https://github.com/shuzhao-li/azimuth_metabolomics), save to Pickle obj, which is uploaded to Azimuth DB separately.\n",
    "\n",
    "2. Building index and full model for mummichog use, from stage 1.\n",
    "\n",
    "Watch out:\n",
    "\n",
    "* Do not use chemical formula in these \"GEMs\" without verification. They usually have chemical formula in charged state, which can't be used for the neutral ion in mass spec data.\n",
    "\n",
    "* Identifiers are the main issue. We may have to look up by names via RefMet.\n",
    "\n",
    "\n",
    "Model retrieved on 2020-03-31 from\n",
    "\n",
    "https://github.com/SysBioChalmers/Human-GEM\n",
    "\n",
    "To start Docker for notebook:\n",
    "\n",
    "shuzhao@canyon:~/projects/Azimuth/model_porting$ docker run -v /home/shuzhao/projects/Azimuth/model_porting:/home/jovyan/ -p 8888:8888 jupyter/scipy-notebook\n",
    "\n",
    "\n",
    "By Shuzhao Li, 2020-04-08\n",
    "\n",
    "Note 2021-07-22 added to mass2chem: mostly a messy record of mapping identifiers across models and fields.\n"
   ],
   "metadata": {}
  },
  {
   "cell_type": "code",
   "execution_count": 1,
   "source": [
    "# tool to parse XML\n",
    "import xml.etree.ElementTree as ET\n",
    "# tool to parse Excel xlsx\n",
    "import xlrd\n",
    "\n",
    "xmlFile = 'Human-GEM/ModelFiles/xml/HumanGEM.xml'\n",
    "excelFile = 'Human-GEM/ModelFiles/xlsx/HumanGEM.xlsx'\n",
    "\n",
    "# Need RefMet for name mapping. Retrived 2020-03-29 from Metabolomics Workbench\n",
    "refmetFile = 'refmet.csv'\n",
    "\n",
    "# parse XML\n",
    "tree = ET.parse(xmlFile)\n",
    "root = tree.getroot()\n",
    "for child in root: print (child)"
   ],
   "outputs": [
    {
     "output_type": "stream",
     "name": "stdout",
     "text": [
      "<Element '{http://www.sbml.org/sbml/level3/version1/core}model' at 0x7f9476689b30>\n"
     ]
    }
   ],
   "metadata": {}
  },
  {
   "cell_type": "code",
   "execution_count": 2,
   "source": [
    "# Find lower level structure in this XML file\n",
    "model = root.find('{http://www.sbml.org/sbml/level3/version1/core}model')\n",
    "for child in model: print (child)"
   ],
   "outputs": [
    {
     "output_type": "stream",
     "name": "stdout",
     "text": [
      "<Element '{http://www.sbml.org/sbml/level3/version1/core}notes' at 0x7f9476689c50>\n",
      "<Element '{http://www.sbml.org/sbml/level3/version1/core}annotation' at 0x7f9476689ef0>\n",
      "<Element '{http://www.sbml.org/sbml/level3/version1/core}listOfUnitDefinitions' at 0x7f9476696890>\n",
      "<Element '{http://www.sbml.org/sbml/level3/version1/core}listOfCompartments' at 0x7f9476696bf0>\n",
      "<Element '{http://www.sbml.org/sbml/level3/version1/core}listOfSpecies' at 0x7f947669a110>\n",
      "<Element '{http://www.sbml.org/sbml/level3/version1/core}listOfParameters' at 0x7f9474322ef0>\n",
      "<Element '{http://www.sbml.org/sbml/level3/version1/core}listOfReactions' at 0x7f947432a170>\n",
      "<Element '{http://www.sbml.org/sbml/level3/version1/fbc/version2}listOfObjectives' at 0x7f945df2acb0>\n",
      "<Element '{http://www.sbml.org/sbml/level3/version1/fbc/version2}listOfGeneProducts' at 0x7f945df2afb0>\n",
      "<Element '{http://www.sbml.org/sbml/level3/version1/groups/version1}listOfGroups' at 0x7f945c817bf0>\n"
     ]
    }
   ],
   "metadata": {}
  },
  {
   "cell_type": "code",
   "execution_count": 3,
   "source": [
    "for child in model.find('{http://www.sbml.org/sbml/level3/version1/core}listOfCompartments'): print (child.attrib)"
   ],
   "outputs": [
    {
     "output_type": "stream",
     "name": "stdout",
     "text": [
      "{'metaid': 's', 'sboTerm': 'SBO:0000290', 'id': 's', 'name': 'Extracellular', 'spatialDimensions': '3', 'size': '1', 'constant': 'true'}\n",
      "{'metaid': 'p', 'sboTerm': 'SBO:0000290', 'id': 'p', 'name': 'Peroxisome', 'spatialDimensions': '3', 'size': '1', 'constant': 'true'}\n",
      "{'metaid': 'm', 'sboTerm': 'SBO:0000290', 'id': 'm', 'name': 'Mitochondria', 'spatialDimensions': '3', 'size': '1', 'constant': 'true'}\n",
      "{'metaid': 'c', 'sboTerm': 'SBO:0000290', 'id': 'c', 'name': 'Cytosol', 'spatialDimensions': '3', 'size': '1', 'constant': 'true'}\n",
      "{'metaid': 'l', 'sboTerm': 'SBO:0000290', 'id': 'l', 'name': 'Lysosome', 'spatialDimensions': '3', 'size': '1', 'constant': 'true'}\n",
      "{'metaid': 'r', 'sboTerm': 'SBO:0000290', 'id': 'r', 'name': 'Endoplasmic reticulum', 'spatialDimensions': '3', 'size': '1', 'constant': 'true'}\n",
      "{'metaid': 'g', 'sboTerm': 'SBO:0000290', 'id': 'g', 'name': 'Golgi apparatus', 'spatialDimensions': '3', 'size': '1', 'constant': 'true'}\n",
      "{'metaid': 'n', 'sboTerm': 'SBO:0000290', 'id': 'n', 'name': 'Nucleus', 'spatialDimensions': '3', 'size': '1', 'constant': 'true'}\n",
      "{'metaid': 'x', 'sboTerm': 'SBO:0000290', 'id': 'x', 'name': 'Boundary', 'spatialDimensions': '3', 'size': '1', 'constant': 'true'}\n",
      "{'metaid': 'c_i', 'sboTerm': 'SBO:0000290', 'id': 'c_i', 'name': 'Inner mitochondria', 'spatialDimensions': '3', 'size': '1', 'constant': 'true'}\n"
     ]
    }
   ],
   "metadata": {
    "scrolled": true
   }
  },
  {
   "cell_type": "markdown",
   "source": [
    "## Getting species/metabolites"
   ],
   "metadata": {}
  },
  {
   "cell_type": "code",
   "execution_count": 4,
   "source": [
    "# to get species \n",
    "species = model.find('{http://www.sbml.org/sbml/level3/version1/core}listOfSpecies')\n",
    "print(len(species))\n",
    "for c in species[:5]: print ('\\n', c.attrib)\n",
    "    \n",
    "# add species to new dict\n",
    "cpd_dict = {}\n",
    "for c in species:\n",
    "    if c.attrib:\n",
    "        try:\n",
    "            cpd_dict[ c.attrib['id'] ] = c.attrib \n",
    "        except KeyError:\n",
    "            print (c.attrib)\n",
    "            \n",
    "print(\"\\n\\nGot %d of compounds...\" %len(cpd_dict))\n",
    "print( list(cpd_dict.values())[:2] )"
   ],
   "outputs": [
    {
     "output_type": "stream",
     "name": "stdout",
     "text": [
      "10073\n",
      "\n",
      " {'metaid': 'M_m00001c', 'sboTerm': 'SBO:0000247', 'id': 'M_m00001c', 'name': '(-)-trans-carveol', 'compartment': 'c', 'initialConcentration': '0', 'hasOnlySubstanceUnits': 'false', 'boundaryCondition': 'false', 'constant': 'false', '{http://www.sbml.org/sbml/level3/version1/fbc/version2}charge': '0', '{http://www.sbml.org/sbml/level3/version1/fbc/version2}chemicalFormula': 'C10H16O'}\n",
      "\n",
      " {'metaid': 'M_m00001s', 'sboTerm': 'SBO:0000247', 'id': 'M_m00001s', 'name': '(-)-trans-carveol', 'compartment': 's', 'initialConcentration': '0', 'hasOnlySubstanceUnits': 'false', 'boundaryCondition': 'false', 'constant': 'false', '{http://www.sbml.org/sbml/level3/version1/fbc/version2}charge': '0', '{http://www.sbml.org/sbml/level3/version1/fbc/version2}chemicalFormula': 'C10H16O'}\n",
      "\n",
      " {'metaid': 'M_m00002c', 'sboTerm': 'SBO:0000247', 'id': 'M_m00002c', 'name': '(+)-alpha-pinene', 'compartment': 'c', 'initialConcentration': '0', 'hasOnlySubstanceUnits': 'false', 'boundaryCondition': 'false', 'constant': 'false', '{http://www.sbml.org/sbml/level3/version1/fbc/version2}charge': '0', '{http://www.sbml.org/sbml/level3/version1/fbc/version2}chemicalFormula': 'C10H16'}\n",
      "\n",
      " {'metaid': 'M_m00002s', 'sboTerm': 'SBO:0000247', 'id': 'M_m00002s', 'name': '(+)-alpha-pinene', 'compartment': 's', 'initialConcentration': '0', 'hasOnlySubstanceUnits': 'false', 'boundaryCondition': 'false', 'constant': 'false', '{http://www.sbml.org/sbml/level3/version1/fbc/version2}charge': '0', '{http://www.sbml.org/sbml/level3/version1/fbc/version2}chemicalFormula': 'C10H16'}\n",
      "\n",
      " {'metaid': 'M_m00003c', 'sboTerm': 'SBO:0000247', 'id': 'M_m00003c', 'name': '(10Z)-heptadecenoic acid', 'compartment': 'c', 'initialConcentration': '0', 'hasOnlySubstanceUnits': 'false', 'boundaryCondition': 'false', 'constant': 'false', '{http://www.sbml.org/sbml/level3/version1/fbc/version2}charge': '-1', '{http://www.sbml.org/sbml/level3/version1/fbc/version2}chemicalFormula': 'C17H31O2'}\n",
      "\n",
      "\n",
      "Got 10073 of compounds...\n",
      "[{'metaid': 'M_m00001c', 'sboTerm': 'SBO:0000247', 'id': 'M_m00001c', 'name': '(-)-trans-carveol', 'compartment': 'c', 'initialConcentration': '0', 'hasOnlySubstanceUnits': 'false', 'boundaryCondition': 'false', 'constant': 'false', '{http://www.sbml.org/sbml/level3/version1/fbc/version2}charge': '0', '{http://www.sbml.org/sbml/level3/version1/fbc/version2}chemicalFormula': 'C10H16O'}, {'metaid': 'M_m00001s', 'sboTerm': 'SBO:0000247', 'id': 'M_m00001s', 'name': '(-)-trans-carveol', 'compartment': 's', 'initialConcentration': '0', 'hasOnlySubstanceUnits': 'false', 'boundaryCondition': 'false', 'constant': 'false', '{http://www.sbml.org/sbml/level3/version1/fbc/version2}charge': '0', '{http://www.sbml.org/sbml/level3/version1/fbc/version2}chemicalFormula': 'C10H16O'}]\n"
     ]
    }
   ],
   "metadata": {}
  },
  {
   "cell_type": "code",
   "execution_count": 5,
   "source": [
    "# how many unique metabolites/compounds?\n",
    "\n",
    "unique_ids = [x[2:8] for x in cpd_dict.keys()]\n",
    "print( len(unique_ids), len(set(unique_ids)) )"
   ],
   "outputs": [
    {
     "output_type": "stream",
     "name": "stdout",
     "text": [
      "10073 4061\n"
     ]
    }
   ],
   "metadata": {}
  },
  {
   "cell_type": "markdown",
   "source": [
    "So there are 4061 metabolites in this model, inflated to 10073 due to compartmentalization.\n",
    "\n",
    "Metabolite identifiers will be tricky. Let's get reactions and come back to metabolites."
   ],
   "metadata": {}
  },
  {
   "cell_type": "markdown",
   "source": [
    "## Getting reactions"
   ],
   "metadata": {}
  },
  {
   "cell_type": "code",
   "execution_count": 6,
   "source": [
    "# to get reactions\n",
    "rxns = model.find('{http://www.sbml.org/sbml/level3/version1/core}listOfReactions')\n",
    "print (len(rxns))\n",
    "for r in rxns[1:3]: \n",
    "    print ('\\n', r.attrib)\n",
    "    for x in r.find('{http://www.sbml.org/sbml/level3/version1/core}listOfReactants'):\n",
    "        print(x.attrib)"
   ],
   "outputs": [
    {
     "output_type": "stream",
     "name": "stdout",
     "text": [
      "13097\n",
      "\n",
      " {'metaid': 'R_HMR_3907', 'sboTerm': 'SBO:0000176', 'id': 'R_HMR_3907', 'reversible': 'false', 'fast': 'false', '{http://www.sbml.org/sbml/level3/version1/fbc/version2}lowerFluxBound': 'FB2N0', '{http://www.sbml.org/sbml/level3/version1/fbc/version2}upperFluxBound': 'FB3N1000'}\n",
      "{'species': 'M_m01796c', 'stoichiometry': '1', 'constant': 'true'}\n",
      "{'species': 'M_m02554c', 'stoichiometry': '1', 'constant': 'true'}\n",
      "\n",
      " {'metaid': 'R_HMR_4097', 'sboTerm': 'SBO:0000176', 'id': 'R_HMR_4097', 'reversible': 'false', 'fast': 'false', '{http://www.sbml.org/sbml/level3/version1/fbc/version2}lowerFluxBound': 'FB2N0', '{http://www.sbml.org/sbml/level3/version1/fbc/version2}upperFluxBound': 'FB3N1000'}\n",
      "{'species': 'M_m01252c', 'stoichiometry': '1', 'constant': 'true'}\n",
      "{'species': 'M_m01371c', 'stoichiometry': '1', 'constant': 'true'}\n",
      "{'species': 'M_m01597c', 'stoichiometry': '1', 'constant': 'true'}\n"
     ]
    }
   ],
   "metadata": {}
  },
  {
   "cell_type": "raw",
   "source": [
    "### example SBML reaction\n",
    "\n",
    "<reaction metaid=\"R_HMR_3907\" sboTerm=\"SBO:0000176\" id=\"R_HMR_3907\" reversible=\"false\" fast=\"false\" fbc:lowerFluxBound=\"FB2N0\" fbc:upperFluxBound=\"FB3N1000\">\n",
    "        <notes>\n",
    "          <body xmlns=\"http://www.w3.org/1999/xhtml\">\n",
    "            <p>Confidence Level: 0</p>\n",
    "          </body>\n",
    "        </notes>\n",
    "        <annotation>\n",
    "          <rdf:RDF xmlns:rdf=\"http://www.w3.org/1999/02/22-rdf-syntax-ns#\" xmlns:dcterms=\"http://purl.org/dc/terms/\" xmlns:vCard=\"http://www.w3.org/2001/vcard-rdf/3.0#\" xmlns:vCard4=\"http://www.w3.org/2006/vcard/ns#\" xmlns:bqbiol=\"http://biomodels.net/biology-qualifiers/\" xmlns:bqmodel=\"http://biomodels.net/model-qualifiers/\">\n",
    "            <rdf:Description rdf:about=\"#R_HMR_3907\">\n",
    "              <bqbiol:is>\n",
    "                <rdf:Bag>\n",
    "                  <rdf:li rdf:resource=\"http://identifiers.org/ec-code/:1.1.1.2\"/>\n",
    "                  <rdf:li rdf:resource=\"http://identifiers.org/kegg.reaction/R00746\"/>\n",
    "                  <rdf:li rdf:resource=\"http://identifiers.org/bigg.reaction/ALCD2y\"/>\n",
    "                  <rdf:li rdf:resource=\"http://identifiers.org/metanetx.reaction/MNXR95726\"/>\n",
    "                </rdf:Bag>\n",
    "              </bqbiol:is>\n",
    "            </rdf:Description>\n",
    "          </rdf:RDF>\n",
    "        </annotation>\n",
    "        <listOfReactants>\n",
    "          <speciesReference species=\"M_m01796c\" stoichiometry=\"1\" constant=\"true\"/>\n",
    "          <speciesReference species=\"M_m02554c\" stoichiometry=\"1\" constant=\"true\"/>\n",
    "        </listOfReactants>\n",
    "        <listOfProducts>\n",
    "          <speciesReference species=\"M_m01249c\" stoichiometry=\"1\" constant=\"true\"/>\n",
    "          <speciesReference species=\"M_m02039c\" stoichiometry=\"1\" constant=\"true\"/>\n",
    "          <speciesReference species=\"M_m02555c\" stoichiometry=\"1\" constant=\"true\"/>\n",
    "        </listOfProducts>\n",
    "        <fbc:geneProductAssociation>\n",
    "          <fbc:geneProductRef fbc:geneProduct=\"ENSG00000117448\"/>\n",
    "        </fbc:geneProductAssociation>\n",
    "      </reaction>"
   ],
   "metadata": {}
  },
  {
   "cell_type": "markdown",
   "source": [
    "Pathway assignment? Not in here? \n",
    "\n",
    "**Check the Excel file**"
   ],
   "metadata": {}
  },
  {
   "cell_type": "code",
   "execution_count": 13,
   "source": [
    "xlsxData = xlrd.open_workbook(excelFile)\n",
    "sheets = xlsxData.sheets()\n",
    "for x in sheets: print(x.name)"
   ],
   "outputs": [
    {
     "output_type": "stream",
     "name": "stdout",
     "text": [
      "RXNS\n",
      "METS\n",
      "COMPS\n",
      "GENES\n",
      "MODEL\n"
     ]
    }
   ],
   "metadata": {}
  },
  {
   "cell_type": "code",
   "execution_count": 12,
   "source": [
    "dir(sheets[0])"
   ],
   "outputs": [
    {
     "output_type": "execute_result",
     "data": {
      "text/plain": [
       "['__class__',\n",
       " '__delattr__',\n",
       " '__dict__',\n",
       " '__dir__',\n",
       " '__doc__',\n",
       " '__eq__',\n",
       " '__format__',\n",
       " '__ge__',\n",
       " '__getattribute__',\n",
       " '__gt__',\n",
       " '__hash__',\n",
       " '__init__',\n",
       " '__init_subclass__',\n",
       " '__le__',\n",
       " '__lt__',\n",
       " '__module__',\n",
       " '__ne__',\n",
       " '__new__',\n",
       " '__reduce__',\n",
       " '__reduce_ex__',\n",
       " '__repr__',\n",
       " '__setattr__',\n",
       " '__sizeof__',\n",
       " '__str__',\n",
       " '__subclasshook__',\n",
       " '__weakref__',\n",
       " '_cell_attr_to_xfx',\n",
       " '_cell_types',\n",
       " '_cell_values',\n",
       " '_cell_xf_indexes',\n",
       " '_dimncols',\n",
       " '_dimnrows',\n",
       " '_first_full_rowx',\n",
       " '_ixfe',\n",
       " '_maxdatacolx',\n",
       " '_maxdatarowx',\n",
       " '_position',\n",
       " '_repr_these',\n",
       " '_xf_index_stats',\n",
       " '_xf_index_to_xl_type_map',\n",
       " 'automatic_grid_line_colour',\n",
       " 'bf',\n",
       " 'biff_version',\n",
       " 'book',\n",
       " 'bt',\n",
       " 'cached_normal_view_mag_factor',\n",
       " 'cached_page_break_preview_mag_factor',\n",
       " 'cell',\n",
       " 'cell_note_map',\n",
       " 'cell_type',\n",
       " 'cell_value',\n",
       " 'cell_xf_index',\n",
       " 'col',\n",
       " 'col_label_ranges',\n",
       " 'col_slice',\n",
       " 'col_types',\n",
       " 'col_values',\n",
       " 'colinfo_map',\n",
       " 'columns_from_right_to_left',\n",
       " 'computed_column_width',\n",
       " 'cooked_normal_view_mag_factor',\n",
       " 'cooked_page_break_preview_mag_factor',\n",
       " 'default_additional_space_above',\n",
       " 'default_additional_space_below',\n",
       " 'default_row_height',\n",
       " 'default_row_height_mismatch',\n",
       " 'default_row_hidden',\n",
       " 'defcolwidth',\n",
       " 'dump',\n",
       " 'fake_XF_from_BIFF20_cell_attr',\n",
       " 'first_visible_colx',\n",
       " 'first_visible_rowx',\n",
       " 'fixed_BIFF2_xfindex',\n",
       " 'formatting_info',\n",
       " 'gcw',\n",
       " 'get_rows',\n",
       " 'gridline_colour_index',\n",
       " 'gridline_colour_rgb',\n",
       " 'handle_feat11',\n",
       " 'handle_hlink',\n",
       " 'handle_msodrawingetc',\n",
       " 'handle_note',\n",
       " 'handle_obj',\n",
       " 'handle_quicktip',\n",
       " 'handle_txo',\n",
       " 'has_pane_record',\n",
       " 'horizontal_page_breaks',\n",
       " 'horz_split_first_visible',\n",
       " 'horz_split_pos',\n",
       " 'hyperlink_list',\n",
       " 'hyperlink_map',\n",
       " 'insert_new_BIFF20_xf',\n",
       " 'logfile',\n",
       " 'merged_cells',\n",
       " 'name',\n",
       " 'ncols',\n",
       " 'nrows',\n",
       " 'number',\n",
       " 'panes_are_frozen',\n",
       " 'put_cell',\n",
       " 'put_cell_ragged',\n",
       " 'put_cell_unragged',\n",
       " 'ragged_rows',\n",
       " 'read',\n",
       " 'remove_splits_if_pane_freeze_is_removed',\n",
       " 'req_fmt_info',\n",
       " 'rich_text_runlist_map',\n",
       " 'row',\n",
       " 'row_label_ranges',\n",
       " 'row_len',\n",
       " 'row_slice',\n",
       " 'row_types',\n",
       " 'row_values',\n",
       " 'rowinfo_map',\n",
       " 'scl_mag_factor',\n",
       " 'sheet_selected',\n",
       " 'sheet_visible',\n",
       " 'show_formulas',\n",
       " 'show_grid_lines',\n",
       " 'show_in_page_break_preview',\n",
       " 'show_outline_symbols',\n",
       " 'show_sheet_headers',\n",
       " 'show_zero_values',\n",
       " 'split_active_pane',\n",
       " 'standardwidth',\n",
       " 'string_record_contents',\n",
       " 'tidy_dimensions',\n",
       " 'update_cooked_mag_factors',\n",
       " 'utter_max_cols',\n",
       " 'utter_max_rows',\n",
       " 'verbosity',\n",
       " 'vert_split_first_visible',\n",
       " 'vert_split_pos',\n",
       " 'vertical_page_breaks',\n",
       " 'visibility']"
      ]
     },
     "metadata": {},
     "execution_count": 12
    }
   ],
   "metadata": {}
  },
  {
   "cell_type": "code",
   "execution_count": 16,
   "source": [
    "for ii in range(5):\n",
    "    print(sheets[1].row_values(ii))"
   ],
   "outputs": [
    {
     "output_type": "stream",
     "name": "stdout",
     "text": [
      "['#', 'ID', 'NAME', 'UNCONSTRAINED', 'MIRIAM', 'COMPOSITION', 'InChI', 'COMPARTMENT', 'REPLACEMENT ID', 'CHARGE']\n",
      "['', '(-)-trans-carveol[c]', '(-)-trans-carveol', '', '', 'C10H16O', '', 'c', 'm00001c', 0.0]\n",
      "['', '(-)-trans-carveol[s]', '(-)-trans-carveol', '', '', 'C10H16O', '', 's', 'm00001s', 0.0]\n",
      "['', '(+)-alpha-pinene[c]', '(+)-alpha-pinene', '', '', 'C10H16', '', 'c', 'm00002c', 0.0]\n",
      "['', '(+)-alpha-pinene[s]', '(+)-alpha-pinene', '', '', 'C10H16', '', 's', 'm00002s', 0.0]\n"
     ]
    }
   ],
   "metadata": {}
  },
  {
   "cell_type": "code",
   "execution_count": 17,
   "source": [
    "for ii in range(5):\n",
    "    print(sheets[0].row_values(ii))"
   ],
   "outputs": [
    {
     "output_type": "stream",
     "name": "stdout",
     "text": [
      "['#', 'ID', 'NAME', 'EQUATION', 'EC-NUMBER', 'GENE ASSOCIATION', 'LOWER BOUND', 'UPPER BOUND', 'OBJECTIVE', 'COMPARTMENT', 'MIRIAM', 'SUBSYSTEM', 'REPLACEMENT ID', 'NOTE', 'REFERENCE', 'CONFIDENCE SCORE']\n",
      "['', 'HMR_3905', '', 'ethanol[c] + NAD+[c] => acetaldehyde[c] + H+[c] + NADH[c]', 'EC:1.1.1.1; EC:1.1.1.71', 'ENSG00000147576 or ENSG00000172955 or ENSG00000180011 or ENSG00000187758 or ENSG00000196344 or ENSG00000196616 or ENSG00000197894 or ENSG00000198099 or ENSG00000248144', '', '', '', '', '', 'Glycolysis / Gluconeogenesis', '', '', 'PMID:10868354;PMID:12491384;PMID:12818203;PMID:14674758;PMID:15289102;PMID:15299346;PMID:15327949;PMID:15682493;PMID:15713978', 0.0]\n",
      "['', 'HMR_3907', '', 'ethanol[c] + NADP+[c] => acetaldehyde[c] + H+[c] + NADPH[c]', 'EC:1.1.1.2', 'ENSG00000117448', '', '', '', '', '', 'Glycolysis / Gluconeogenesis', '', '', '', 0.0]\n",
      "['', 'HMR_4097', '', 'acetate[c] + ATP[c] + CoA[c] => acetyl-CoA[c] + AMP[c] + PPi[c]', 'EC:6.2.1.1', 'ENSG00000131069', '', '', '', '', '', 'Glycolysis / Gluconeogenesis', '', '', 'PMID:10843999;PMID:11150295;PMID:2884217;PMID:4737256;PMID:5995', 0.0]\n",
      "['', 'HMR_4099', '', 'acetate[m] + ATP[m] + CoA[m] => acetyl-CoA[m] + AMP[m] + PPi[m]', 'EC:6.2.1.1', 'ENSG00000111058 or ENSG00000154930', '', '', '', '', '', 'Glycolysis / Gluconeogenesis', '', '', 'PMID:10843999;PMID:11150295;PMID:2884217;PMID:4737256;PMID:5995', 0.0]\n"
     ]
    }
   ],
   "metadata": {}
  },
  {
   "cell_type": "code",
   "execution_count": 18,
   "source": [
    "header = sheets[0].row_values(0)\n",
    "header.index(\"SUBSYSTEM\")"
   ],
   "outputs": [
    {
     "output_type": "execute_result",
     "data": {
      "text/plain": [
       "11"
      ]
     },
     "metadata": {},
     "execution_count": 18
    }
   ],
   "metadata": {}
  },
  {
   "cell_type": "code",
   "execution_count": 19,
   "source": [
    "# taking SUBSYSTEM as pathway\n",
    "pathways = [sheets[0].row_values(ii)[11] for ii in range(1, sheets[0].nrows)]\n",
    "print( len(pathways), len(set(pathways)) )"
   ],
   "outputs": [
    {
     "output_type": "stream",
     "name": "stdout",
     "text": [
      "13417 147\n"
     ]
    }
   ],
   "metadata": {}
  },
  {
   "cell_type": "code",
   "execution_count": 21,
   "source": [
    "pathways = list(set(pathways))\n",
    "pathways.sort()\n",
    "print(pathways)"
   ],
   "outputs": [
    {
     "output_type": "stream",
     "name": "stdout",
     "text": [
      "['Acyl-CoA hydrolysis', 'Acylglycerides metabolism', 'Alanine, aspartate and glutamate metabolism', 'Alkaloids Biosynthesis', 'Amino sugar and nucleotide sugar metabolism', 'Aminoacyl-tRNA biosynthesis', 'Androgen metabolism', 'Arachidonic acid metabolism', 'Arginine and proline metabolism', 'Artificial reactions', 'Ascorbate and aldarate metabolism', 'Beta oxidation of branched-chain fatty acids (mitochondrial)', 'Beta oxidation of di-unsaturated fatty acids (n-6) (mitochondrial)', 'Beta oxidation of di-unsaturated fatty acids (n-6) (peroxisomal)', 'Beta oxidation of even-chain fatty acids (mitochondrial)', 'Beta oxidation of even-chain fatty acids (peroxisomal)', 'Beta oxidation of odd-chain fatty acids (mitochondrial)', 'Beta oxidation of odd-chain fatty acids (peroxisomal)', 'Beta oxidation of phytanic acid (peroxisomal)', 'Beta oxidation of poly-unsaturated fatty acids (mitochondrial)', 'Beta oxidation of unsaturated fatty acids (n-7) (mitochondrial)', 'Beta oxidation of unsaturated fatty acids (n-7) (peroxisomal)', 'Beta oxidation of unsaturated fatty acids (n-9) (mitochondrial)', 'Beta oxidation of unsaturated fatty acids (n-9) (peroxisomal)', 'Beta-alanine metabolism', 'Bile acid biosynthesis', 'Bile acid recycling', 'Biopterin metabolism', 'Biotin metabolism', 'Blood group biosynthesis', 'Butanoate metabolism', 'C5-branched dibasic acid metabolism', 'Carnitine shuttle (cytosolic)', 'Carnitine shuttle (endoplasmic reticular)', 'Carnitine shuttle (mitochondrial)', 'Carnitine shuttle (peroxisomal)', 'Cholesterol biosynthesis 1 (Bloch pathway) ', 'Cholesterol biosynthesis 2', 'Cholesterol biosynthesis 3 (Kandustch-Russell pathway)', 'Cholesterol metabolism', 'Chondroitin / heparan sulfate biosynthesis', 'Chondroitin sulfate degradation', 'CoA catabolism', 'CoA synthesis', 'Cysteine and methionine metabolism', 'Dietary fiber binding', 'Drug metabolism', 'Eicosanoid metabolism', 'Estrogen metabolism', 'Ether lipid metabolism', 'Exchange/demand reactions', 'Fatty acid activation (cytosolic)', 'Fatty acid activation (endoplasmic reticular)', 'Fatty acid biosynthesis', 'Fatty acid biosynthesis (even-chain)', 'Fatty acid biosynthesis (odd-chain)', 'Fatty acid biosynthesis (unsaturated)', 'Fatty acid desaturation (even-chain)', 'Fatty acid desaturation (odd-chain)', 'Fatty acid elongation (even-chain)', 'Fatty acid elongation (odd-chain)', 'Fatty acid oxidation', 'Folate metabolism', 'Formation and hydrolysis of cholesterol esters', 'Fructose and mannose metabolism', 'Galactose metabolism', 'Glucocorticoid biosynthesis', 'Glutathione metabolism', 'Glycerolipid metabolism', 'Glycerophospholipid metabolism', 'Glycine, serine and threonine metabolism', 'Glycolysis / Gluconeogenesis', 'Glycosphingolipid biosynthesis-ganglio series', 'Glycosphingolipid biosynthesis-globo series', 'Glycosphingolipid biosynthesis-lacto and neolacto series', 'Glycosphingolipid metabolism', 'Glycosylphosphatidylinositol (GPI)-anchor biosynthesis', 'Heme degradation', 'Heme synthesis', 'Heparan sulfate degradation', 'Hippurate metabolism', 'Histidine metabolism', 'Inositol phosphate metabolism', 'Isolated', 'Keratan sulfate biosynthesis', 'Keratan sulfate degradation', 'Leukotriene metabolism', 'Linoleate metabolism', 'Lipoic acid metabolism', 'Lysine metabolism', 'Metabolism of Other Amino Acids', 'Metabolism of other amino acids', 'Metabolism of xenobiotics by cytochrome P450', 'Miscellaneous', 'N-glycan metabolism', 'Nicotinate and nicotinamide metabolism', 'Nitrogen metabolism', 'Nucleotide metabolism', 'O-glycan metabolism', 'Omega-3 fatty acid metabolism', 'Omega-6 fatty acid metabolism', 'Oxidative phosphorylation', 'Pantothenate and CoA biosynthesis', 'Pentose and glucuronate interconversions', 'Pentose phosphate pathway', 'Peptide metabolism', 'Phenylalanine metabolism', 'Phenylalanine, tyrosine and tryptophan biosynthesis', 'Phosphatidylinositol phosphate metabolism', 'Pool reactions', 'Porphyrin metabolism', 'Propanoate metabolism', 'Prostaglandin biosynthesis', 'Protein assembly', 'Protein degradation', 'Protein modification', 'Purine metabolism', 'Pyrimidine metabolism', 'Pyruvate metabolism', 'R group synthesis', 'ROS detoxification', 'Retinol metabolism', 'Riboflavin metabolism', 'Serotonin and melatonin biosynthesis', 'Sphingolipid metabolism', 'Starch and sucrose metabolism', 'Steroid metabolism', 'Sulfur metabolism', 'Terpenoid backbone biosynthesis', 'Thiamine metabolism', 'Transport reactions', 'Triacylglycerol synthesis', 'Tricarboxylic acid cycle and glyoxylate/dicarboxylate metabolism', 'Triglycerides formation', 'Tryptophan metabolism', 'Tyrosine metabolism', 'Ubiquinone synthesis', 'Urea cycle', 'Valine, leucine, and isoleucine metabolism', 'Vitamin A metabolism', 'Vitamin B12 metabolism', 'Vitamin B2 metabolism', 'Vitamin B6 metabolism', 'Vitamin C metabolism', 'Vitamin D metabolism', 'Vitamin E metabolism', 'Xenobiotics metabolism']\n"
     ]
    }
   ],
   "metadata": {
    "scrolled": true
   }
  },
  {
   "cell_type": "markdown",
   "source": [
    "## To get rxns from SBML, but\n",
    "\n",
    "* EC numbers for enzymes from the xlsx file\n",
    "\n",
    "* Pathway association from the xlsx file (SUBSYSTEM)\n",
    "\n",
    "Reactants and products are better defined in the SBML file.\n",
    "\n",
    "But need to map metabolite IDs to that free of compartmentalization\n"
   ],
   "metadata": {}
  },
  {
   "cell_type": "markdown",
   "source": [
    "## Compiling the metabolite list\n",
    "\n",
    "* use Refmet to match to PubChem ID if possible\n"
   ],
   "metadata": {}
  },
  {
   "cell_type": "code",
   "execution_count": 29,
   "source": [
    "# Refmet is in csv format\n",
    "\n",
    "import csv\n",
    "\n",
    "refmetDict = {}\n",
    "with open(refmetFile, newline='') as csvfile:\n",
    "    myreader = csv.reader(csvfile, delimiter=',')\n",
    "    for row in myreader:\n",
    "        try:\n",
    "            refmetDict[row[0]] = row\n",
    "        except IndexError:\n",
    "            print(len(refmetDict))\n",
    "            pass\n"
   ],
   "outputs": [
    {
     "output_type": "stream",
     "name": "stdout",
     "text": [
      "95385\n"
     ]
    }
   ],
   "metadata": {}
  },
  {
   "cell_type": "code",
   "execution_count": 32,
   "source": [
    "print(len(refmetDict), \n",
    "list(refmetDict.values())[:2]\n",
    "    )\n",
    "\n",
    "print( refmetDict[' refmet_name'] )"
   ],
   "outputs": [
    {
     "output_type": "stream",
     "name": "stdout",
     "text": [
      "95385 [[' refmet_name', 'super_class', 'main_class', 'sub_class', 'formula', 'exactmass', 'inchi_key', 'pubchem_cid'], ['Anatoxin A', 'Alkaloids', 'Aliphatic heteropolycyclic compounds', 'Anatoxins', 'C10H15NO', '165.1154', 'SGNXVBOIDPPRJJ-UHFFFAOYSA-N', '431734']]\n",
      "[' refmet_name', 'super_class', 'main_class', 'sub_class', 'formula', 'exactmass', 'inchi_key', 'pubchem_cid']\n"
     ]
    }
   ],
   "metadata": {}
  },
  {
   "cell_type": "code",
   "execution_count": 33,
   "source": [
    "print(refmetDict['trans-carveol'])"
   ],
   "outputs": [
    {
     "output_type": "error",
     "ename": "KeyError",
     "evalue": "'trans-carveol'",
     "traceback": [
      "\u001b[0;31m---------------------------------------------------------------------------\u001b[0m",
      "\u001b[0;31mKeyError\u001b[0m                                  Traceback (most recent call last)",
      "\u001b[0;32m<ipython-input-33-1c5b6e0d87fd>\u001b[0m in \u001b[0;36m<module>\u001b[0;34m\u001b[0m\n\u001b[0;32m----> 1\u001b[0;31m \u001b[0mprint\u001b[0m\u001b[0;34m(\u001b[0m\u001b[0mrefmetDict\u001b[0m\u001b[0;34m[\u001b[0m\u001b[0;34m'trans-carveol'\u001b[0m\u001b[0;34m]\u001b[0m\u001b[0;34m)\u001b[0m\u001b[0;34m\u001b[0m\u001b[0;34m\u001b[0m\u001b[0m\n\u001b[0m",
      "\u001b[0;31mKeyError\u001b[0m: 'trans-carveol'"
     ]
    }
   ],
   "metadata": {}
  },
  {
   "cell_type": "code",
   "execution_count": 36,
   "source": [
    "#\n",
    "# (-)-trans-carveol[s] in the GEM model is Trans-carveol in Refmet, etc\n",
    "#\n",
    "\n",
    "lowrefmetDict = {}\n",
    "for k,v in refmetDict.items():\n",
    "    lowrefmetDict[k.lower()] = v\n",
    "    \n",
    "print(len(lowrefmetDict))\n",
    "print(lowrefmetDict['trans-carveol'])"
   ],
   "outputs": [
    {
     "output_type": "stream",
     "name": "stdout",
     "text": [
      "95384\n",
      "['Trans-carveol', 'Prenol Lipids', 'Isoprenoids', 'C10 isoprenoids', 'C10H16O', '152.120115', 'BAVONGHXFVOKBV-VHSXEESVSA-N', '443178']\n"
     ]
    }
   ],
   "metadata": {}
  },
  {
   "cell_type": "code",
   "execution_count": 37,
   "source": [
    "print(len(cpd_dict))\n",
    "print(cpd_dict['M_m00001c'])"
   ],
   "outputs": [
    {
     "output_type": "stream",
     "name": "stdout",
     "text": [
      "10073\n",
      "{'metaid': 'M_m00001c', 'sboTerm': 'SBO:0000247', 'id': 'M_m00001c', 'name': '(-)-trans-carveol', 'compartment': 'c', 'initialConcentration': '0', 'hasOnlySubstanceUnits': 'false', 'boundaryCondition': 'false', 'constant': 'false', '{http://www.sbml.org/sbml/level3/version1/fbc/version2}charge': '0', '{http://www.sbml.org/sbml/level3/version1/fbc/version2}chemicalFormula': 'C10H16O'}\n"
     ]
    }
   ],
   "metadata": {}
  },
  {
   "cell_type": "code",
   "execution_count": 39,
   "source": [
    "new_cpd_dict = {}\n",
    "for k in cpd_dict:\n",
    "    new_cpd_dict[k[:-1]] = (cpd_dict[k]['name'], cpd_dict[k]['id'])\n",
    "    \n",
    "print(len(new_cpd_dict), k, new_cpd_dict[k[:-1]])"
   ],
   "outputs": [
    {
     "output_type": "stream",
     "name": "stdout",
     "text": [
      "4141 M_m10042c ('ursodeoxycholoyl-CoA', 'M_m10042c')\n"
     ]
    }
   ],
   "metadata": {}
  },
  {
   "cell_type": "code",
   "execution_count": 43,
   "source": [
    "# so there's 4141 metabolites in the model, ignoring compartmentalization\n",
    "# Try to match name in Refmet\n",
    "\n",
    "bad = []\n",
    "for k in new_cpd_dict:\n",
    "    x = new_cpd_dict[k][0].replace('(-)-', '').replace('(+)-', '').lower()\n",
    "    if x not in lowrefmetDict:\n",
    "        bad.append(x)\n",
    "        \n",
    "print(len(bad))"
   ],
   "outputs": [
    {
     "output_type": "stream",
     "name": "stdout",
     "text": [
      "3594\n"
     ]
    }
   ],
   "metadata": {}
  },
  {
   "cell_type": "code",
   "execution_count": 44,
   "source": [
    "bad[:22]"
   ],
   "outputs": [
    {
     "output_type": "execute_result",
     "data": {
      "text/plain": [
       "['(10z)-heptadecenoic acid',\n",
       " '(10z)-heptadecenoyl-coa',\n",
       " '(11r)-hpete',\n",
       " '(11z)-docosenoyl-coa',\n",
       " '(11z)-eicosenoyl-coa',\n",
       " '(11z,14z)-eicosadienoic acid',\n",
       " '(11z,14z)-eicosadienoyl-coa',\n",
       " '(11z,14z,17z)-eicosatrienoic acid',\n",
       " '(11z,14z,17z)-eicosatrienoylcarnitine',\n",
       " '(11z,14z,17z)-eicosatrienoyl-coa',\n",
       " '(13e)-11alpha-hydroxy-9,15-dioxoprost-13-enoate',\n",
       " '(13e)-tetranor-16-carboxy-lte4',\n",
       " '(13e)-tetranor-16-oxo-16-coa-lte4',\n",
       " '(13z)-docosenoyl-coa',\n",
       " '(13z)-eicosenoic acid',\n",
       " '(13z)-eicosenoyl-coa',\n",
       " '(13z)-octadecenoic acid',\n",
       " '(13z)-octadecenoyl-coa',\n",
       " '(13z,16z)-docosadienoic acid',\n",
       " '(13z,16z)-docosadienoylcarnitine',\n",
       " '(13z,16z)-docosadienoyl-coa',\n",
       " '(15z)-tetracosenoylcarnitine']"
      ]
     },
     "metadata": {},
     "execution_count": 44
    }
   ],
   "metadata": {}
  },
  {
   "cell_type": "code",
   "execution_count": 45,
   "source": [
    "len(rxns)"
   ],
   "outputs": [
    {
     "output_type": "execute_result",
     "data": {
      "text/plain": [
       "13097"
      ]
     },
     "metadata": {},
     "execution_count": 45
    }
   ],
   "metadata": {}
  },
  {
   "cell_type": "code",
   "execution_count": 48,
   "source": [
    "dir(rxns[0])"
   ],
   "outputs": [
    {
     "output_type": "execute_result",
     "data": {
      "text/plain": [
       "['__class__',\n",
       " '__copy__',\n",
       " '__deepcopy__',\n",
       " '__delattr__',\n",
       " '__delitem__',\n",
       " '__dir__',\n",
       " '__doc__',\n",
       " '__eq__',\n",
       " '__format__',\n",
       " '__ge__',\n",
       " '__getattribute__',\n",
       " '__getitem__',\n",
       " '__getstate__',\n",
       " '__gt__',\n",
       " '__hash__',\n",
       " '__init__',\n",
       " '__init_subclass__',\n",
       " '__le__',\n",
       " '__len__',\n",
       " '__lt__',\n",
       " '__ne__',\n",
       " '__new__',\n",
       " '__reduce__',\n",
       " '__reduce_ex__',\n",
       " '__repr__',\n",
       " '__setattr__',\n",
       " '__setitem__',\n",
       " '__setstate__',\n",
       " '__sizeof__',\n",
       " '__str__',\n",
       " '__subclasshook__',\n",
       " 'append',\n",
       " 'attrib',\n",
       " 'clear',\n",
       " 'extend',\n",
       " 'find',\n",
       " 'findall',\n",
       " 'findtext',\n",
       " 'get',\n",
       " 'getchildren',\n",
       " 'getiterator',\n",
       " 'insert',\n",
       " 'items',\n",
       " 'iter',\n",
       " 'iterfind',\n",
       " 'itertext',\n",
       " 'keys',\n",
       " 'makeelement',\n",
       " 'remove',\n",
       " 'set',\n",
       " 'tag',\n",
       " 'tail',\n",
       " 'text']"
      ]
     },
     "metadata": {},
     "execution_count": 48
    }
   ],
   "metadata": {}
  },
  {
   "cell_type": "code",
   "execution_count": 53,
   "source": [
    "rxns[0].find('{http://www.sbml.org/sbml/level3/version1/core}annotation').findtext('metanetx')"
   ],
   "outputs": [],
   "metadata": {}
  },
  {
   "cell_type": "code",
   "execution_count": 56,
   "source": [
    "t = open(xmlFile).read().splitlines()\n",
    "print(len(t))\n",
    "counter = 0\n",
    "for L in t:\n",
    "    if 'metanetx' in L:\n",
    "        counter += 1\n",
    "        \n",
    "print(counter)"
   ],
   "outputs": [
    {
     "output_type": "stream",
     "name": "stdout",
     "text": [
      "599525\n",
      "7243\n"
     ]
    }
   ],
   "metadata": {}
  },
  {
   "cell_type": "code",
   "execution_count": 59,
   "source": [
    "#\n",
    "# Will check the JSON data in the repo\n",
    "# shuzhao@canyon:~/projects/Azimuth/model_porting$ ls Human-GEM/data/annotation/\n",
    "# humanGEMMetAssoc.JSON  humanGEMRxnAssoc.JSON\n",
    "\n",
    "import json\n",
    "jm = json.load(open('Human-GEM/data/annotation/humanGEMMetAssoc.JSON'))\n",
    "\n",
    "print(jm.keys())"
   ],
   "outputs": [
    {
     "output_type": "stream",
     "name": "stdout",
     "text": [
      "dict_keys(['mets', 'metsNoComp', 'metBiGGID', 'metKEGGID', 'metHMDBID', 'metChEBIID', 'metPubChemID', 'metLipidMapsID', 'metEHMNID', 'metHepatoNET1ID', 'metRecon3DID', 'metMetaNetXID'])\n"
     ]
    }
   ],
   "metadata": {}
  },
  {
   "cell_type": "code",
   "execution_count": 60,
   "source": [
    "for k,v in jm.items(): \n",
    "    print(len(v))"
   ],
   "outputs": [
    {
     "output_type": "stream",
     "name": "stdout",
     "text": [
      "10138\n",
      "10138\n",
      "10138\n",
      "10138\n",
      "10138\n",
      "10138\n",
      "10138\n",
      "10138\n",
      "10138\n",
      "10138\n",
      "10138\n",
      "10138\n"
     ]
    }
   ],
   "metadata": {}
  },
  {
   "cell_type": "code",
   "execution_count": 61,
   "source": [
    "for k,v in jm.items(): \n",
    "    print( v[:5] )"
   ],
   "outputs": [
    {
     "output_type": "stream",
     "name": "stdout",
     "text": [
      "['m00001c', 'm00001s', 'm00002c', 'm00002s', 'm00003c']\n",
      "['m00001', 'm00001', 'm00002', 'm00002', 'm00003']\n",
      "['carveol', 'carveol', 'appnn', 'appnn', '']\n",
      "['C00964', 'C00964', 'C09880', 'C09880', '']\n",
      "['', '', 'HMDB06525', 'HMDB06525', '']\n",
      "['CHEBI:15389', 'CHEBI:15389', 'CHEBI:36740', 'CHEBI:36740', '']\n",
      "['', '', '6654', '6654', '']\n",
      "['', '', '', '', 'LMFA01030283']\n",
      "['', '', '', '', '']\n",
      "['', '', '', '', '']\n",
      "['carveol', 'carveol', 'appnn', 'appnn', 'M00003']\n",
      "['MNXM45735', 'MNXM45735', 'MNXM163755', 'MNXM163755', 'MNXM150165; MNXM27815']\n"
     ]
    }
   ],
   "metadata": {}
  },
  {
   "cell_type": "code",
   "execution_count": 66,
   "source": [
    "# so these appear to be flat lists of identifiers from other sources\n",
    "# Maybe MetaNetX is more complete?\n",
    "\n",
    "print(len(jm['metMetaNetXID']))\n",
    "print(len(set(jm['metMetaNetXID'])))\n",
    "print(len([x for x in jm['metMetaNetXID'] if x]))\n",
    "print(len([x for x in jm['metRecon3DID'] if x]))\n",
    "print(len([x for x in jm['metKEGGID'] if x]))\n"
   ],
   "outputs": [
    {
     "output_type": "stream",
     "name": "stdout",
     "text": [
      "10138\n",
      "2972\n",
      "7326\n",
      "10018\n",
      "4599\n"
     ]
    }
   ],
   "metadata": {}
  },
  {
   "cell_type": "code",
   "execution_count": 65,
   "source": [
    "# How many unique IDs in each?\n",
    "for k,v in jm.items(): \n",
    "    print(k, len(set(v)))"
   ],
   "outputs": [
    {
     "output_type": "stream",
     "name": "stdout",
     "text": [
      "mets 10138\n",
      "metsNoComp 4168\n",
      "metBiGGID 2347\n",
      "metKEGGID 1647\n",
      "metHMDBID 713\n",
      "metChEBIID 1247\n",
      "metPubChemID 1382\n",
      "metLipidMapsID 487\n",
      "metEHMNID 712\n",
      "metHepatoNET1ID 773\n",
      "metRecon3DID 5089\n",
      "metMetaNetXID 2972\n"
     ]
    }
   ],
   "metadata": {}
  },
  {
   "cell_type": "markdown",
   "source": [
    "### Almost all metabolites have Recon3D ID\n",
    "\n",
    "The Recon3D GitHub repo is too bulky to clone as a whole.\n",
    "\n",
    "https://github.com/SBRG/Recon3D/tree/master/Recon3D_GP\n",
    "\n",
    "Downloaded Recon3D_GP.json as individual file."
   ],
   "metadata": {}
  },
  {
   "cell_type": "code",
   "execution_count": 67,
   "source": [
    "r3d = json.load(open('Recon3D/Recon3D_GP.json'))\n",
    "\n",
    "print(r3d.keys())"
   ],
   "outputs": [
    {
     "output_type": "stream",
     "name": "stdout",
     "text": [
      "dict_keys(['__instance_type__', 'attributes'])\n"
     ]
    }
   ],
   "metadata": {}
  },
  {
   "cell_type": "code",
   "execution_count": 71,
   "source": [
    "r3d['__instance_type__']"
   ],
   "outputs": [
    {
     "output_type": "execute_result",
     "data": {
      "text/plain": [
       "['ssbio.pipeline.gempro', 'GEMPRO']"
      ]
     },
     "metadata": {},
     "execution_count": 71
    }
   ],
   "metadata": {}
  },
  {
   "cell_type": "code",
   "execution_count": 73,
   "source": [
    "r3d['attributes'].keys()"
   ],
   "outputs": [
    {
     "output_type": "execute_result",
     "data": {
      "text/plain": [
       "dict_keys(['_root_dir', 'custom_spont_id', 'description', 'genome_path', 'id', 'model', 'notes', 'pdb_file_type'])"
      ]
     },
     "metadata": {},
     "execution_count": 73
    }
   ],
   "metadata": {}
  },
  {
   "cell_type": "code",
   "execution_count": 78,
   "source": [
    "for k,v in r3d['attributes'].items():\n",
    "    try:\n",
    "        print(k, len(v))\n",
    "    except TypeError:\n",
    "        print(k, v)"
   ],
   "outputs": [
    {
     "output_type": "stream",
     "name": "stdout",
     "text": [
      "_root_dir 1\n",
      "custom_spont_id None\n",
      "description None\n",
      "genome_path None\n",
      "id 10\n",
      "model 2\n",
      "notes 0\n",
      "pdb_file_type 4\n"
     ]
    }
   ],
   "metadata": {}
  },
  {
   "cell_type": "code",
   "execution_count": 79,
   "source": [
    "r3d['attributes']['id']"
   ],
   "outputs": [
    {
     "output_type": "execute_result",
     "data": {
      "text/plain": [
       "'Recon3D_GP'"
      ]
     },
     "metadata": {},
     "execution_count": 79
    }
   ],
   "metadata": {}
  },
  {
   "cell_type": "code",
   "execution_count": 80,
   "source": [
    "r3d['attributes']['model'].keys()"
   ],
   "outputs": [
    {
     "output_type": "execute_result",
     "data": {
      "text/plain": [
       "dict_keys(['__instance_type__', 'attributes'])"
      ]
     },
     "metadata": {},
     "execution_count": 80
    }
   ],
   "metadata": {}
  },
  {
   "cell_type": "code",
   "execution_count": 81,
   "source": [
    "r3d['attributes']['model']['attributes'].keys()"
   ],
   "outputs": [
    {
     "output_type": "execute_result",
     "data": {
      "text/plain": [
       "dict_keys(['reactions', 'metabolites', 'genes', 'id', 'name', 'compartments', 'version'])"
      ]
     },
     "metadata": {},
     "execution_count": 81
    }
   ],
   "metadata": {}
  },
  {
   "cell_type": "code",
   "execution_count": 82,
   "source": [
    "len(r3d['attributes']['model']['attributes']['metabolites'])"
   ],
   "outputs": [
    {
     "output_type": "execute_result",
     "data": {
      "text/plain": [
       "8399"
      ]
     },
     "metadata": {},
     "execution_count": 82
    }
   ],
   "metadata": {}
  },
  {
   "cell_type": "code",
   "execution_count": 84,
   "source": [
    "r3d['attributes']['model']['attributes']['metabolites'][200:202]"
   ],
   "outputs": [
    {
     "output_type": "execute_result",
     "data": {
      "text/plain": [
       "[{'id': '5htrp__91__c__93__',\n",
       "  'name': '5-Hydroxy-L-Tryptophan',\n",
       "  'compartment': 'c',\n",
       "  'charge': 0,\n",
       "  'formula': 'C11H12N2O3',\n",
       "  'annotation': {'hmdb': 'HMDB00472',\n",
       "   'inchi': 'InChI=1/C11H12N2O3/c12-9(11(15)16)3-6-5-13-10-2-1-7(14)4-8(6)10/h1-2,4-5,9,13-14H,3,12H2,(H,15,16)',\n",
       "   'kegg.compound': 'C01017',\n",
       "   'pubchem.compound': '144'}},\n",
       " {'id': 'srtn__91__c__93__',\n",
       "  'name': 'Serotonin',\n",
       "  'compartment': 'c',\n",
       "  'charge': 1,\n",
       "  'formula': 'C10H13N2O',\n",
       "  'annotation': {'hmdb': 'HMDB00259',\n",
       "   'inchi': 'InChI=1S/C10H12N2O/c11-4-3-7-6-12-10-2-1-8(13)5-9(7)10/h1-2,5-6,12-13H,3-4,11H2/p+1',\n",
       "   'kegg.compound': 'C00780',\n",
       "   'pubchem.compound': '5202'}}]"
      ]
     },
     "metadata": {},
     "execution_count": 84
    }
   ],
   "metadata": {}
  },
  {
   "cell_type": "code",
   "execution_count": 88,
   "source": [
    "# How many r3d metabolites have pubchem.compound ID?\n",
    "\n",
    "t = []\n",
    "for x in r3d['attributes']['model']['attributes']['metabolites']:\n",
    "    try:\n",
    "        t.append(x['annotation']['pubchem.compound'])\n",
    "    except KeyError:\n",
    "        pass\n",
    "\n",
    "print(len(t), len(set(t)))\n"
   ],
   "outputs": [
    {
     "output_type": "stream",
     "name": "stdout",
     "text": [
      "3638 1368\n"
     ]
    }
   ],
   "metadata": {}
  },
  {
   "cell_type": "code",
   "execution_count": 89,
   "source": [
    "#r3d['attributes']['model']['attributes']['metabolites'][3333]['annotation']['pubchem.compound']\n",
    "\n",
    "def count_r3d(extID):\n",
    "    t = []\n",
    "    for x in r3d['attributes']['model']['attributes']['metabolites']:\n",
    "        try:\n",
    "            t.append(x['annotation'][extID])\n",
    "        except KeyError:\n",
    "            pass\n",
    "\n",
    "    print(len(t), len(set(t)))\n",
    "\n",
    "for x in ['hmdb', 'kegg.compound', 'pubchem.compound']:\n",
    "    print(x, \"---------------\")\n",
    "    count_r3d(x)    \n",
    "    \n"
   ],
   "outputs": [
    {
     "output_type": "stream",
     "name": "stdout",
     "text": [
      "hmdb ---------------\n",
      "2170 699\n",
      "kegg.compound ---------------\n",
      "3592 1541\n",
      "pubchem.compound ---------------\n",
      "3638 1368\n"
     ]
    }
   ],
   "metadata": {}
  },
  {
   "cell_type": "code",
   "execution_count": 92,
   "source": [
    "r3d_metabolites = [x['id'] for x in r3d['attributes']['model']['attributes']['metabolites']]\n",
    "jmr3d = [x for x in jm['metRecon3DID'] if x]\n",
    "jmr3d = list(set(jmr3d))\n",
    "\n",
    "print(r3d_metabolites[:10])\n",
    "print(jmr3d[:10])\n",
    "\n",
    "cleanr3d = [x.split('__')[0] for x in r3d_metabolites]\n",
    "cleanr3d = list(set(cleanr3d))\n",
    "print(len(jmr3d), len(r3d_metabolites), len(cleanr3d))\n",
    "print(cleanr3d[:10])"
   ],
   "outputs": [
    {
     "output_type": "stream",
     "name": "stdout",
     "text": [
      "['10fthf5glu__91__c__93__', '10fthf5glu__91__l__93__', '10fthf5glu__91__m__93__', '10fthf6glu__91__c__93__', '10fthf6glu__91__l__93__', '10fthf6glu__91__m__93__', '10fthf7glu__91__c__93__', '10fthf7glu__91__l__93__', '10fthf7glu__91__m__93__', '10fthf__91__c__93__']\n",
      "['35dsmv_e', '6ahglz_e', 'M00481', 'peamn', 'am19cs_e', 'acgalfucgalacgalfuc12gal14acglcgalgluside_hs', 'CE7110', '3octpencoa_m', 'C14849', 'CE2196']\n",
      "5088 8399 4140\n",
      "['CE5345', 'CE6508', 'emem2gacpail_hs', 'pmtcoa', 'serglyglu', 'cdpdag_hs', 'glumet', 'datp', 'ksi_pre7', 'CE2539']\n"
     ]
    }
   ],
   "metadata": {}
  },
  {
   "cell_type": "code",
   "execution_count": 93,
   "source": [
    "# how many overlap in jmr3d and Recon3D?\n",
    "\n",
    "len(set(jmr3d).intersection(cleanr3d))"
   ],
   "outputs": [
    {
     "output_type": "execute_result",
     "data": {
      "text/plain": [
       "3111"
      ]
     },
     "metadata": {},
     "execution_count": 93
    }
   ],
   "metadata": {}
  },
  {
   "cell_type": "markdown",
   "source": [
    "### But not sure how to link Recon3D ID to other DBs or information yet.\n",
    "\n",
    "This will be updated at a later time to use Recon3D info.\n",
    "\n",
    "See notes at the end of this notebook."
   ],
   "metadata": {}
  },
  {
   "cell_type": "markdown",
   "source": [
    "**compiling the mess**\n",
    "\n",
    "10138\n",
    "dict_keys(['mets', 'metsNoComp', 'metBiGGID', 'metKEGGID', 'metHMDBID', 'metChEBIID', 'metPubChemID', 'metLipidMapsID', 'metEHMNID', 'metHepatoNET1ID', 'metRecon3DID', 'metMetaNetXID'])\n"
   ],
   "metadata": {}
  },
  {
   "cell_type": "code",
   "execution_count": 116,
   "source": [
    "# from Azimuth_metabolomics\n",
    "class Compound:\n",
    "    def __init__(self):\n",
    "        '''\n",
    "        Azimuth ID starts with `az`, \n",
    "        and incorporates HMDB ID (less ambiguous than KEGG) whereas possible.\n",
    "        Ions are precomputed as a dictionary.\n",
    "        '''\n",
    "        self.azimuth_id = ''\n",
    "        self.name = ''          # common name\n",
    "        self.other_ids = {\n",
    "            'PubChem': '',\n",
    "            'KEGG': '',\n",
    "            'HMDB': '',\n",
    "            'ChEBI': '',\n",
    "            'MetaNetX': '',\n",
    "            'metabolicATLAS': '',\n",
    "            'recon3d': '',\n",
    "            }\n",
    "        self.formula = ''       # neutral or charged\n",
    "        self.inchi = ''\n",
    "        self.mw = 0             # mono_mass\n",
    "        self.adducts = {}\n",
    "        self.note = {\n",
    "            'atlas2020': '',\n",
    "        }\n",
    "\n",
    "atlas2020metabolites = []"
   ],
   "outputs": [],
   "metadata": {}
  },
  {
   "cell_type": "code",
   "execution_count": 118,
   "source": [
    "# use az_pcid_ for pubchem\n",
    "# \n",
    "d = {}\n",
    "def get_ii_jm(jm, ii):\n",
    "    # wanted dict items from jm \n",
    "    return {\n",
    "            'PubChem': jm['metPubChemID'][ii],\n",
    "            'KEGG': jm['metKEGGID'][ii],\n",
    "            'HMDB': jm['metHMDBID'][ii],\n",
    "            'ChEBI': jm['metChEBIID'][ii],\n",
    "            'MetaNetX': jm['metMetaNetXID'][ii],\n",
    "            'metabolicATLAS': jm['metsNoComp'][ii],\n",
    "            'recon3d': jm['metRecon3DID'][ii],\n",
    "        }\n",
    "\n",
    "def join_MNXM(d1, d2):\n",
    "    # multiple entries for some cases for MetaNetX ID\n",
    "    if d1['MetaNetX'] and d2['MetaNetX']:\n",
    "        return \"; \".join([d1['MetaNetX'], d2['MetaNetX']])\n",
    "    else:\n",
    "        return d1['MetaNetX'] + d2['MetaNetX']\n",
    "\n",
    "for ii in range(10138):\n",
    "    k,v = jm['metsNoComp'][ii], get_ii_jm(jm, ii)\n",
    "    if k in d:\n",
    "        if d[k] == v:\n",
    "            pass\n",
    "        else:\n",
    "            print(d[k], v)\n",
    "            d[k]['MetaNetX'] = join_MNXM(d[k], v)\n",
    "    else:\n",
    "        d[k] = v\n",
    "     \n",
    "print(\"&&&&&&&&&&&&&&&&&&&&&&&&&&&&&&&&&&&&&&&&&&&&&&&\")\n",
    "print(len(d))\n",
    "print(d['m00003'])"
   ],
   "outputs": [
    {
     "output_type": "stream",
     "name": "stdout",
     "text": [
      "{'PubChem': '', 'KEGG': '', 'HMDB': '', 'ChEBI': '', 'MetaNetX': 'MNXM90540', 'metabolicATLAS': 'galgluside_hs', 'recon3d': 'galgluside_hs_c'} {'PubChem': '', 'KEGG': '', 'HMDB': '', 'ChEBI': '', 'MetaNetX': 'MNXM90540', 'metabolicATLAS': 'galgluside_hs', 'recon3d': 'galgluside_hs_g'}\n",
      "{'PubChem': '', 'KEGG': '', 'HMDB': '', 'ChEBI': '', 'MetaNetX': 'MNXM4098', 'metabolicATLAS': 'Rtotal', 'recon3d': 'Rtotal_x'} {'PubChem': '', 'KEGG': '', 'HMDB': '', 'ChEBI': '', 'MetaNetX': 'MNXM4098', 'metabolicATLAS': 'Rtotal', 'recon3d': 'Rtotal_c'}\n",
      "{'PubChem': '', 'KEGG': '', 'HMDB': '', 'ChEBI': '', 'MetaNetX': 'MNXM2279', 'metabolicATLAS': 'Rtotalcoa', 'recon3d': 'Rtotalcoa_c'} {'PubChem': '', 'KEGG': '', 'HMDB': '', 'ChEBI': '', 'MetaNetX': 'MNXM2279', 'metabolicATLAS': 'Rtotalcoa', 'recon3d': 'Rtotalcoa_m'}\n",
      "{'PubChem': '', 'KEGG': '', 'HMDB': '', 'ChEBI': '', 'MetaNetX': 'MNXM4801', 'metabolicATLAS': 'Rtotal2coa', 'recon3d': 'Rtotal2coa_c'} {'PubChem': '', 'KEGG': '', 'HMDB': '', 'ChEBI': '', 'MetaNetX': 'MNXM4801', 'metabolicATLAS': 'Rtotal2coa', 'recon3d': 'Rtotal2coa_m'}\n",
      "{'PubChem': '', 'KEGG': '', 'HMDB': '', 'ChEBI': '', 'MetaNetX': 'MNXM5287', 'metabolicATLAS': 'Rtotal3coa', 'recon3d': 'Rtotal3coa_c'} {'PubChem': '', 'KEGG': '', 'HMDB': '', 'ChEBI': '', 'MetaNetX': 'MNXM5287', 'metabolicATLAS': 'Rtotal3coa', 'recon3d': 'Rtotal3coa_m'}\n",
      "{'PubChem': '', 'KEGG': '', 'HMDB': '', 'ChEBI': '', 'MetaNetX': 'MNXM4098; MNXM4098', 'metabolicATLAS': 'Rtotal', 'recon3d': 'Rtotal_x'} {'PubChem': '', 'KEGG': '', 'HMDB': '', 'ChEBI': '', 'MetaNetX': 'MNXM4098', 'metabolicATLAS': 'Rtotal', 'recon3d': 'Rtotal_l'}\n",
      "{'PubChem': '', 'KEGG': '', 'HMDB': '', 'ChEBI': '', 'MetaNetX': 'MNXM4488', 'metabolicATLAS': 'bvite', 'recon3d': 'bvite_e'} {'PubChem': '', 'KEGG': '', 'HMDB': '', 'ChEBI': '', 'MetaNetX': 'MNXM4488', 'metabolicATLAS': 'bvite', 'recon3d': 'bvite_c'}\n",
      "{'PubChem': '', 'KEGG': '', 'HMDB': '', 'ChEBI': '', 'MetaNetX': 'MNXM2279; MNXM2279', 'metabolicATLAS': 'Rtotalcoa', 'recon3d': 'Rtotalcoa_c'} {'PubChem': '', 'KEGG': '', 'HMDB': '', 'ChEBI': '', 'MetaNetX': 'MNXM2279', 'metabolicATLAS': 'Rtotalcoa', 'recon3d': 'Rtotalcoa_x'}\n",
      "{'PubChem': '', 'KEGG': '', 'HMDB': '', 'ChEBI': '', 'MetaNetX': 'MNXM6100', 'metabolicATLAS': 'dmnoncoa', 'recon3d': 'dmnoncoa_x'} {'PubChem': '', 'KEGG': '', 'HMDB': '', 'ChEBI': '', 'MetaNetX': 'MNXM6100', 'metabolicATLAS': 'dmnoncoa', 'recon3d': 'dmnoncoa_c'}\n",
      "{'PubChem': '', 'KEGG': '', 'HMDB': '', 'ChEBI': '', 'MetaNetX': 'MNXM6100; MNXM6100', 'metabolicATLAS': 'dmnoncoa', 'recon3d': 'dmnoncoa_x'} {'PubChem': '', 'KEGG': '', 'HMDB': '', 'ChEBI': '', 'MetaNetX': 'MNXM6100', 'metabolicATLAS': 'dmnoncoa', 'recon3d': 'dmnoncoa_m'}\n",
      "{'PubChem': '', 'KEGG': '', 'HMDB': '', 'ChEBI': '', 'MetaNetX': 'MNXM4098; MNXM4098; MNXM4098', 'metabolicATLAS': 'Rtotal', 'recon3d': 'Rtotal_x'} {'PubChem': '', 'KEGG': '', 'HMDB': '', 'ChEBI': '', 'MetaNetX': 'MNXM4098', 'metabolicATLAS': 'Rtotal', 'recon3d': 'Rtotal_e'}\n",
      "{'PubChem': '', 'KEGG': '', 'HMDB': '', 'ChEBI': '', 'MetaNetX': 'MNXM2723', 'metabolicATLAS': 'Rtotal2', 'recon3d': 'Rtotal2_c'} {'PubChem': '', 'KEGG': '', 'HMDB': '', 'ChEBI': '', 'MetaNetX': 'MNXM2723', 'metabolicATLAS': 'Rtotal2', 'recon3d': 'Rtotal2_e'}\n",
      "{'PubChem': '', 'KEGG': '', 'HMDB': '', 'ChEBI': '', 'MetaNetX': 'MNXM9076', 'metabolicATLAS': 'Rtotal3', 'recon3d': 'Rtotal3_c'} {'PubChem': '', 'KEGG': '', 'HMDB': '', 'ChEBI': '', 'MetaNetX': 'MNXM9076', 'metabolicATLAS': 'Rtotal3', 'recon3d': 'Rtotal3_e'}\n",
      "{'PubChem': '26840', 'KEGG': 'C01607', 'HMDB': 'HMDB00801', 'ChEBI': 'CHEBI:16285', 'MetaNetX': 'MNXM91275', 'metabolicATLAS': 'phyt', 'recon3d': 'phyt_e'} {'PubChem': '26840', 'KEGG': 'C01607', 'HMDB': 'HMDB00801', 'ChEBI': 'CHEBI:16285', 'MetaNetX': 'MNXM91275', 'metabolicATLAS': 'phyt', 'recon3d': 'phyt_c'}\n",
      "{'PubChem': '', 'KEGG': '', 'HMDB': '', 'ChEBI': '', 'MetaNetX': '', 'metabolicATLAS': 'octd11ecoa', 'recon3d': 'octd11ecoa_c'} {'PubChem': '', 'KEGG': '', 'HMDB': '', 'ChEBI': '', 'MetaNetX': '', 'metabolicATLAS': 'octd11ecoa', 'recon3d': 'octd11ecoa_m'}\n",
      "{'PubChem': '', 'KEGG': '', 'HMDB': '', 'ChEBI': '', 'MetaNetX': 'MNXM8840', 'metabolicATLAS': 'fucfuc12gal14acglcgalgluside_hs', 'recon3d': 'fucfuc12gal14acglcgalgluside_hs_e'} {'PubChem': '', 'KEGG': '', 'HMDB': '', 'ChEBI': '', 'MetaNetX': 'MNXM8840', 'metabolicATLAS': 'fucfuc12gal14acglcgalgluside_hs', 'recon3d': 'fucfuc12gal14acglcgalgluside_hs_c'}\n",
      "{'PubChem': '', 'KEGG': '', 'HMDB': '', 'ChEBI': '', 'MetaNetX': 'MNXM8840; MNXM8840', 'metabolicATLAS': 'fucfuc12gal14acglcgalgluside_hs', 'recon3d': 'fucfuc12gal14acglcgalgluside_hs_e'} {'PubChem': '', 'KEGG': '', 'HMDB': '', 'ChEBI': '', 'MetaNetX': 'MNXM8840', 'metabolicATLAS': 'fucfuc12gal14acglcgalgluside_hs', 'recon3d': 'fucfuc12gal14acglcgalgluside_hs_g'}\n",
      "{'PubChem': '', 'KEGG': '', 'HMDB': '', 'ChEBI': '', 'MetaNetX': 'MNXM8835', 'metabolicATLAS': 'fucfucgalacglcgalgluside_hs', 'recon3d': 'fucfucgalacglcgalgluside_hs_e'} {'PubChem': '', 'KEGG': '', 'HMDB': '', 'ChEBI': '', 'MetaNetX': 'MNXM8835', 'metabolicATLAS': 'fucfucgalacglcgalgluside_hs', 'recon3d': 'fucfucgalacglcgalgluside_hs_c'}\n",
      "{'PubChem': '', 'KEGG': '', 'HMDB': '', 'ChEBI': '', 'MetaNetX': 'MNXM8835; MNXM8835', 'metabolicATLAS': 'fucfucgalacglcgalgluside_hs', 'recon3d': 'fucfucgalacglcgalgluside_hs_e'} {'PubChem': '', 'KEGG': '', 'HMDB': '', 'ChEBI': '', 'MetaNetX': 'MNXM8835', 'metabolicATLAS': 'fucfucgalacglcgalgluside_hs', 'recon3d': 'fucfucgalacglcgalgluside_hs_g'}\n",
      "{'PubChem': '', 'KEGG': '', 'HMDB': '', 'ChEBI': '', 'MetaNetX': 'MNXM90540; MNXM90540', 'metabolicATLAS': 'galgluside_hs', 'recon3d': 'galgluside_hs_c'} {'PubChem': '', 'KEGG': '', 'HMDB': '', 'ChEBI': '', 'MetaNetX': 'MNXM90540', 'metabolicATLAS': 'galgluside_hs', 'recon3d': 'galgluside_hs_l'}\n",
      "{'PubChem': '', 'KEGG': '', 'HMDB': '', 'ChEBI': '', 'MetaNetX': 'MNXM147296', 'metabolicATLAS': 'Ser_Thr', 'recon3d': 'Ser_Thr_l'} {'PubChem': '', 'KEGG': '', 'HMDB': '', 'ChEBI': '', 'MetaNetX': 'MNXM147296', 'metabolicATLAS': 'Ser_Thr', 'recon3d': 'Ser_Thr_g'}\n",
      "{'PubChem': '', 'KEGG': '', 'HMDB': '', 'ChEBI': '', 'MetaNetX': 'MNXM146651', 'metabolicATLAS': 'Tyr_ggn', 'recon3d': 'Tyr_ggn_e'} {'PubChem': '', 'KEGG': '', 'HMDB': '', 'ChEBI': '', 'MetaNetX': 'MNXM146651', 'metabolicATLAS': 'Tyr_ggn', 'recon3d': 'Tyr_ggn_c'}\n",
      "{'PubChem': '6326776', 'KEGG': '', 'HMDB': '', 'ChEBI': '', 'MetaNetX': '', 'metabolicATLAS': 'glyc_S', 'recon3d': 'glyc_S_e'} {'PubChem': '6326776', 'KEGG': '', 'HMDB': '', 'ChEBI': '', 'MetaNetX': '', 'metabolicATLAS': 'glyc_S', 'recon3d': 'glyc_S_c'}\n",
      "{'PubChem': '', 'KEGG': '', 'HMDB': '', 'ChEBI': '', 'MetaNetX': 'MNXM163842', 'metabolicATLAS': 'alpa_hs', 'recon3d': 'alpa_hs_c'} {'PubChem': '', 'KEGG': '', 'HMDB': '', 'ChEBI': '', 'MetaNetX': 'MNXM163842', 'metabolicATLAS': 'alpa_hs', 'recon3d': 'alpa_hs_m'}\n",
      "{'PubChem': '53477821', 'KEGG': '', 'HMDB': '', 'ChEBI': '', 'MetaNetX': 'MNXM8289', 'metabolicATLAS': 'lnlncacrn', 'recon3d': 'lnlncacrn_c'} {'PubChem': '53477821', 'KEGG': '', 'HMDB': '', 'ChEBI': '', 'MetaNetX': 'MNXM8289', 'metabolicATLAS': 'lnlncacrn', 'recon3d': 'lnlncacrn_m'}\n",
      "{'PubChem': '', 'KEGG': '', 'HMDB': '', 'ChEBI': '', 'MetaNetX': 'MNXM146565', 'metabolicATLAS': '9_cis_retfa', 'recon3d': '9_cis_retfa_e'} {'PubChem': '', 'KEGG': '', 'HMDB': '', 'ChEBI': '', 'MetaNetX': 'MNXM146565', 'metabolicATLAS': '9_cis_retfa', 'recon3d': '9_cis_retfa_c'}\n",
      "{'PubChem': '25137904', 'KEGG': '', 'HMDB': '', 'ChEBI': 'CHEBI:64039', 'MetaNetX': 'MNXM7699', 'metabolicATLAS': 'pristcoa', 'recon3d': 'pristcoa_c'} {'PubChem': '25137904', 'KEGG': '', 'HMDB': '', 'ChEBI': 'CHEBI:64039', 'MetaNetX': 'MNXM7699', 'metabolicATLAS': 'pristcoa', 'recon3d': 'pristcoa_x'}\n",
      "{'PubChem': '26840', 'KEGG': 'C01607', 'HMDB': 'HMDB00801', 'ChEBI': 'CHEBI:16285', 'MetaNetX': 'MNXM91275; MNXM91275', 'metabolicATLAS': 'phyt', 'recon3d': 'phyt_e'} {'PubChem': '26840', 'KEGG': 'C01607', 'HMDB': 'HMDB00801', 'ChEBI': 'CHEBI:16285', 'MetaNetX': 'MNXM91275', 'metabolicATLAS': 'phyt', 'recon3d': 'phyt_x'}\n",
      "{'PubChem': '', 'KEGG': '', 'HMDB': '', 'ChEBI': '', 'MetaNetX': 'MNXM9074', 'metabolicATLAS': 'Rtotal2crn', 'recon3d': 'Rtotal2crn_c'} {'PubChem': '', 'KEGG': '', 'HMDB': '', 'ChEBI': '', 'MetaNetX': 'MNXM9074', 'metabolicATLAS': 'Rtotal2crn', 'recon3d': 'Rtotal2crn_m'}\n",
      "{'PubChem': '', 'KEGG': '', 'HMDB': '', 'ChEBI': '', 'MetaNetX': 'MNXM9075', 'metabolicATLAS': 'Rtotal3crn', 'recon3d': 'Rtotal3crn_c'} {'PubChem': '', 'KEGG': '', 'HMDB': '', 'ChEBI': '', 'MetaNetX': 'MNXM9075', 'metabolicATLAS': 'Rtotal3crn', 'recon3d': 'Rtotal3crn_m'}\n",
      "{'PubChem': '', 'KEGG': '', 'HMDB': '', 'ChEBI': '', 'MetaNetX': 'MNXM9077', 'metabolicATLAS': 'Rtotalcrn', 'recon3d': 'Rtotalcrn_c'} {'PubChem': '', 'KEGG': '', 'HMDB': '', 'ChEBI': '', 'MetaNetX': 'MNXM9077', 'metabolicATLAS': 'Rtotalcrn', 'recon3d': 'Rtotalcrn_m'}\n",
      "{'PubChem': '', 'KEGG': '', 'HMDB': '', 'ChEBI': '', 'MetaNetX': 'MNXM90954', 'metabolicATLAS': 'xolest_hs', 'recon3d': 'xolest_hs_e'} {'PubChem': '', 'KEGG': '', 'HMDB': '', 'ChEBI': '', 'MetaNetX': 'MNXM90954', 'metabolicATLAS': 'xolest_hs', 'recon3d': 'xolest_hs_c'}\n",
      "{'PubChem': '', 'KEGG': '', 'HMDB': '', 'ChEBI': '', 'MetaNetX': 'MNXM5286', 'metabolicATLAS': 'R1coa_hs', 'recon3d': 'R1coa_hs_c'} {'PubChem': '', 'KEGG': '', 'HMDB': '', 'ChEBI': '', 'MetaNetX': 'MNXM5286', 'metabolicATLAS': 'R1coa_hs', 'recon3d': 'R1coa_hs_r'}\n",
      "{'PubChem': '', 'KEGG': '', 'HMDB': '', 'ChEBI': '', 'MetaNetX': 'MNXM90954; MNXM90954', 'metabolicATLAS': 'xolest_hs', 'recon3d': 'xolest_hs_e'} {'PubChem': '', 'KEGG': '', 'HMDB': '', 'ChEBI': '', 'MetaNetX': 'MNXM90954', 'metabolicATLAS': 'xolest_hs', 'recon3d': 'xolest_hs_r'}\n",
      "{'PubChem': '', 'KEGG': '', 'HMDB': '', 'ChEBI': '', 'MetaNetX': 'MNXM2278', 'metabolicATLAS': 'R2coa_hs', 'recon3d': 'R2coa_hs_c'} {'PubChem': '', 'KEGG': '', 'HMDB': '', 'ChEBI': '', 'MetaNetX': 'MNXM2278', 'metabolicATLAS': 'R2coa_hs', 'recon3d': 'R2coa_hs_r'}\n",
      "{'PubChem': '10133', 'KEGG': 'C02528', 'HMDB': 'HMDB00518', 'ChEBI': 'CHEBI:16755', 'MetaNetX': 'MNXM1183', 'metabolicATLAS': 'C02528', 'recon3d': 'C02528_r'} {'PubChem': '10133', 'KEGG': 'C02528', 'HMDB': 'HMDB00518', 'ChEBI': 'CHEBI:16755', 'MetaNetX': 'MNXM1183', 'metabolicATLAS': 'C02528', 'recon3d': 'C02528_c'}\n",
      "{'PubChem': '10133', 'KEGG': 'C02528', 'HMDB': 'HMDB00518', 'ChEBI': 'CHEBI:16755', 'MetaNetX': 'MNXM1183; MNXM1183', 'metabolicATLAS': 'C02528', 'recon3d': 'C02528_r'} {'PubChem': '10133', 'KEGG': 'C02528', 'HMDB': 'HMDB00518', 'ChEBI': 'CHEBI:16755', 'MetaNetX': 'MNXM1183', 'metabolicATLAS': 'C02528', 'recon3d': 'C02528_e'}\n",
      "{'PubChem': '', 'KEGG': '', 'HMDB': '', 'ChEBI': '', 'MetaNetX': 'MNXM164571', 'metabolicATLAS': 'HC02111', 'recon3d': 'HC02111_c'} {'PubChem': '', 'KEGG': '', 'HMDB': '', 'ChEBI': '', 'MetaNetX': 'MNXM164571', 'metabolicATLAS': 'HC02111', 'recon3d': 'HC02111_m'}\n",
      "{'PubChem': '', 'KEGG': '', 'HMDB': '', 'ChEBI': '', 'MetaNetX': 'MNXM163520', 'metabolicATLAS': 'HC02112', 'recon3d': 'HC02112_r'} {'PubChem': '', 'KEGG': '', 'HMDB': '', 'ChEBI': '', 'MetaNetX': 'MNXM163520', 'metabolicATLAS': 'HC02112', 'recon3d': 'HC02112_c'}\n",
      "{'PubChem': '', 'KEGG': '', 'HMDB': '', 'ChEBI': '', 'MetaNetX': 'MNXM163520; MNXM163520', 'metabolicATLAS': 'HC02112', 'recon3d': 'HC02112_r'} {'PubChem': '', 'KEGG': '', 'HMDB': '', 'ChEBI': '', 'MetaNetX': 'MNXM163520', 'metabolicATLAS': 'HC02112', 'recon3d': 'HC02112_m'}\n",
      "{'PubChem': '', 'KEGG': '', 'HMDB': '', 'ChEBI': '', 'MetaNetX': 'MNXM163520; MNXM163520; MNXM163520', 'metabolicATLAS': 'HC02112', 'recon3d': 'HC02112_r'} {'PubChem': '', 'KEGG': '', 'HMDB': '', 'ChEBI': '', 'MetaNetX': 'MNXM163520', 'metabolicATLAS': 'HC02112', 'recon3d': 'HC02112_x'}\n",
      "{'PubChem': '', 'KEGG': '', 'HMDB': '', 'ChEBI': '', 'MetaNetX': 'MNXM163521', 'metabolicATLAS': 'HC02113', 'recon3d': 'HC02113_r'} {'PubChem': '', 'KEGG': '', 'HMDB': '', 'ChEBI': '', 'MetaNetX': 'MNXM163521', 'metabolicATLAS': 'HC02113', 'recon3d': 'HC02113_c'}\n",
      "{'PubChem': '', 'KEGG': '', 'HMDB': '', 'ChEBI': '', 'MetaNetX': 'MNXM163521; MNXM163521', 'metabolicATLAS': 'HC02113', 'recon3d': 'HC02113_r'} {'PubChem': '', 'KEGG': '', 'HMDB': '', 'ChEBI': '', 'MetaNetX': 'MNXM163521', 'metabolicATLAS': 'HC02113', 'recon3d': 'HC02113_m'}\n",
      "{'PubChem': '', 'KEGG': '', 'HMDB': '', 'ChEBI': '', 'MetaNetX': 'MNXM163521; MNXM163521; MNXM163521', 'metabolicATLAS': 'HC02113', 'recon3d': 'HC02113_r'} {'PubChem': '', 'KEGG': '', 'HMDB': '', 'ChEBI': '', 'MetaNetX': 'MNXM163521', 'metabolicATLAS': 'HC02113', 'recon3d': 'HC02113_x'}\n",
      "{'PubChem': '', 'KEGG': '', 'HMDB': '', 'ChEBI': '', 'MetaNetX': '', 'metabolicATLAS': 'HC02115', 'recon3d': 'HC02115_m'} {'PubChem': '', 'KEGG': '', 'HMDB': '', 'ChEBI': '', 'MetaNetX': '', 'metabolicATLAS': 'HC02115', 'recon3d': 'HC02115_c'}\n",
      "{'PubChem': '', 'KEGG': '', 'HMDB': '', 'ChEBI': '', 'MetaNetX': 'MNXM164821', 'metabolicATLAS': 'HC02154', 'recon3d': 'HC02154_c'} {'PubChem': '', 'KEGG': '', 'HMDB': '', 'ChEBI': '', 'MetaNetX': 'MNXM164821', 'metabolicATLAS': 'HC02154', 'recon3d': 'HC02154_e'}\n",
      "{'PubChem': '', 'KEGG': 'C01241', 'HMDB': '', 'ChEBI': 'CHEBI:15958', 'MetaNetX': 'MNXM91270', 'metabolicATLAS': 'C01241', 'recon3d': 'C01241_m'} {'PubChem': '', 'KEGG': 'C01241', 'HMDB': '', 'ChEBI': 'CHEBI:15958', 'MetaNetX': 'MNXM91270', 'metabolicATLAS': 'C01241', 'recon3d': 'C01241_r'}\n",
      "{'PubChem': '', 'KEGG': 'C04308', 'HMDB': '', 'ChEBI': '', 'MetaNetX': 'MNXM75100', 'metabolicATLAS': 'C04308', 'recon3d': 'C04308_m'} {'PubChem': '', 'KEGG': 'C04308', 'HMDB': '', 'ChEBI': '', 'MetaNetX': 'MNXM75100', 'metabolicATLAS': 'C04308', 'recon3d': 'C04308_r'}\n",
      "{'PubChem': '439639', 'KEGG': '', 'HMDB': '', 'ChEBI': '', 'MetaNetX': 'MNXM5663', 'metabolicATLAS': 'maltttr', 'recon3d': 'maltttr_c'} {'PubChem': '439639', 'KEGG': '', 'HMDB': '', 'ChEBI': '', 'MetaNetX': 'MNXM5663', 'metabolicATLAS': 'maltttr', 'recon3d': 'maltttr_e'}\n",
      "{'PubChem': '65552', 'KEGG': '', 'HMDB': '', 'ChEBI': '', 'MetaNetX': '', 'metabolicATLAS': 'CE2881', 'recon3d': 'CE2881_c'} {'PubChem': '65552', 'KEGG': '', 'HMDB': '', 'ChEBI': '', 'MetaNetX': 'MNXM166091', 'metabolicATLAS': 'CE2881', 'recon3d': 'CE2881_r'}\n",
      "{'PubChem': '', 'KEGG': '', 'HMDB': '', 'ChEBI': '', 'MetaNetX': '', 'metabolicATLAS': 'CE2885', 'recon3d': 'CE2885_c'} {'PubChem': '', 'KEGG': '', 'HMDB': '', 'ChEBI': '', 'MetaNetX': 'MNXM166092', 'metabolicATLAS': 'CE2885', 'recon3d': 'CE2885_r'}\n",
      "{'PubChem': '22660069', 'KEGG': '', 'HMDB': '', 'ChEBI': '', 'MetaNetX': '', 'metabolicATLAS': 'CE2882', 'recon3d': 'CE2882_c'} {'PubChem': '22660069', 'KEGG': '', 'HMDB': '', 'ChEBI': '', 'MetaNetX': 'MNXM166074', 'metabolicATLAS': 'CE2882', 'recon3d': 'CE2882_r'}\n",
      "{'PubChem': '', 'KEGG': '', 'HMDB': '', 'ChEBI': '', 'MetaNetX': '', 'metabolicATLAS': 'CE2886', 'recon3d': 'CE2886_c'} {'PubChem': '', 'KEGG': '', 'HMDB': '', 'ChEBI': '', 'MetaNetX': 'MNXM166075', 'metabolicATLAS': 'CE2886', 'recon3d': 'CE2886_r'}\n",
      "{'PubChem': '5803', 'KEGG': '', 'HMDB': '', 'ChEBI': '', 'MetaNetX': '', 'metabolicATLAS': 'CE2883', 'recon3d': 'CE2883_c'} {'PubChem': '5803', 'KEGG': '', 'HMDB': '', 'ChEBI': '', 'MetaNetX': 'MNXM166094', 'metabolicATLAS': 'CE2883', 'recon3d': 'CE2883_r'}\n",
      "{'PubChem': '', 'KEGG': '', 'HMDB': '', 'ChEBI': '', 'MetaNetX': '', 'metabolicATLAS': 'CE2887', 'recon3d': 'CE2887_c'} {'PubChem': '', 'KEGG': '', 'HMDB': '', 'ChEBI': '', 'MetaNetX': 'MNXM166095', 'metabolicATLAS': 'CE2887', 'recon3d': 'CE2887_r'}\n",
      "{'PubChem': '4532725', 'KEGG': '', 'HMDB': '', 'ChEBI': '', 'MetaNetX': '', 'metabolicATLAS': 'CE2884', 'recon3d': 'CE2884_c'} {'PubChem': '4532725', 'KEGG': '', 'HMDB': '', 'ChEBI': '', 'MetaNetX': 'MNXM166036', 'metabolicATLAS': 'CE2884', 'recon3d': 'CE2884_r'}\n",
      "{'PubChem': '', 'KEGG': '', 'HMDB': '', 'ChEBI': '', 'MetaNetX': '', 'metabolicATLAS': 'CE2888', 'recon3d': 'CE2888_c'} {'PubChem': '', 'KEGG': '', 'HMDB': '', 'ChEBI': '', 'MetaNetX': 'MNXM166037', 'metabolicATLAS': 'CE2888', 'recon3d': 'CE2888_r'}\n",
      "{'PubChem': '', 'KEGG': '', 'HMDB': '', 'ChEBI': '', 'MetaNetX': '', 'metabolicATLAS': 'CE1950', 'recon3d': 'CE1950_c'} {'PubChem': '', 'KEGG': '', 'HMDB': '', 'ChEBI': '', 'MetaNetX': '', 'metabolicATLAS': 'CE1950', 'recon3d': 'CE1950_e'}\n",
      "{'PubChem': '540', 'KEGG': '', 'HMDB': '', 'ChEBI': '', 'MetaNetX': 'MNXM1191', 'metabolicATLAS': 'cynt', 'recon3d': 'cynt_c'} {'PubChem': '540', 'KEGG': '', 'HMDB': '', 'ChEBI': '', 'MetaNetX': 'MNXM1191', 'metabolicATLAS': 'cynt', 'recon3d': 'cynt_e'}\n",
      "{'PubChem': '', 'KEGG': '', 'HMDB': '', 'ChEBI': '', 'MetaNetX': '', 'metabolicATLAS': 'CE1950', 'recon3d': 'CE1950_c'} {'PubChem': '', 'KEGG': '', 'HMDB': '', 'ChEBI': '', 'MetaNetX': '', 'metabolicATLAS': 'CE1950', 'recon3d': 'CE1950_l'}\n",
      "{'PubChem': '540', 'KEGG': '', 'HMDB': '', 'ChEBI': '', 'MetaNetX': 'MNXM1191; MNXM1191', 'metabolicATLAS': 'cynt', 'recon3d': 'cynt_c'} {'PubChem': '540', 'KEGG': '', 'HMDB': '', 'ChEBI': '', 'MetaNetX': '', 'metabolicATLAS': 'cynt', 'recon3d': 'cynt_l'}\n",
      "{'PubChem': '', 'KEGG': '', 'HMDB': '', 'ChEBI': '', 'MetaNetX': '', 'metabolicATLAS': 'CE1950', 'recon3d': 'CE1950_c'} {'PubChem': '', 'KEGG': '', 'HMDB': '', 'ChEBI': '', 'MetaNetX': '', 'metabolicATLAS': 'CE1950', 'recon3d': 'CE1950_n'}\n",
      "{'PubChem': '540', 'KEGG': '', 'HMDB': '', 'ChEBI': '', 'MetaNetX': 'MNXM1191; MNXM1191', 'metabolicATLAS': 'cynt', 'recon3d': 'cynt_c'} {'PubChem': '540', 'KEGG': '', 'HMDB': '', 'ChEBI': '', 'MetaNetX': '', 'metabolicATLAS': 'cynt', 'recon3d': 'cynt_n'}\n",
      "{'PubChem': '', 'KEGG': '', 'HMDB': '', 'ChEBI': '', 'MetaNetX': 'MNXM151435', 'metabolicATLAS': 'CE0233', 'recon3d': 'CE0233_c'} {'PubChem': '', 'KEGG': '', 'HMDB': '', 'ChEBI': '', 'MetaNetX': '', 'metabolicATLAS': 'CE0233', 'recon3d': 'CE0233_m'}\n",
      "{'PubChem': '10133', 'KEGG': 'C02528', 'HMDB': 'HMDB00518', 'ChEBI': 'CHEBI:16755', 'MetaNetX': 'MNXM1183; MNXM1183; MNXM1183', 'metabolicATLAS': 'C02528', 'recon3d': 'C02528_r'} {'PubChem': '10133', 'KEGG': 'C02528', 'HMDB': 'HMDB00518', 'ChEBI': 'CHEBI:16755', 'MetaNetX': 'MNXM1183', 'metabolicATLAS': 'C02528', 'recon3d': 'C02528_m'}\n",
      "{'PubChem': '129846', 'KEGG': '', 'HMDB': '', 'ChEBI': '', 'MetaNetX': 'MNXM164395', 'metabolicATLAS': 'CE1297', 'recon3d': 'CE1297_c'} {'PubChem': '129846', 'KEGG': '', 'HMDB': '', 'ChEBI': '', 'MetaNetX': 'MNXM164395', 'metabolicATLAS': 'CE1297', 'recon3d': 'CE1297_m'}\n",
      "{'PubChem': '', 'KEGG': '', 'HMDB': '', 'ChEBI': '', 'MetaNetX': 'MNXM150736', 'metabolicATLAS': 'CE1294', 'recon3d': 'CE1294_c'} {'PubChem': '', 'KEGG': '', 'HMDB': '', 'ChEBI': '', 'MetaNetX': 'MNXM150736', 'metabolicATLAS': 'CE1294', 'recon3d': 'CE1294_m'}\n",
      "{'PubChem': '3016', 'KEGG': 'C06948', 'HMDB': '', 'ChEBI': '', 'MetaNetX': 'MNXM50391', 'metabolicATLAS': 'C06948', 'recon3d': 'C06948_c'} {'PubChem': '3016', 'KEGG': 'C06948', 'HMDB': '', 'ChEBI': '', 'MetaNetX': '', 'metabolicATLAS': 'C06948', 'recon3d': 'C06948_r'}\n",
      "{'PubChem': '2997', 'KEGG': 'C07486', 'HMDB': '', 'ChEBI': '', 'MetaNetX': 'MNXM64920', 'metabolicATLAS': 'C07486', 'recon3d': 'C07486_c'} {'PubChem': '2997', 'KEGG': 'C07486', 'HMDB': '', 'ChEBI': '', 'MetaNetX': '', 'metabolicATLAS': 'C07486', 'recon3d': 'C07486_r'}\n",
      "{'PubChem': '', 'KEGG': '', 'HMDB': '', 'ChEBI': '', 'MetaNetX': '', 'metabolicATLAS': 'CE2615', 'recon3d': 'CE2615_c'} {'PubChem': '', 'KEGG': '', 'HMDB': '', 'ChEBI': '', 'MetaNetX': 'MNXM164138', 'metabolicATLAS': 'CE2615', 'recon3d': 'CE2615_r'}\n",
      "{'PubChem': '', 'KEGG': '', 'HMDB': '', 'ChEBI': '', 'MetaNetX': '', 'metabolicATLAS': 'CE2616', 'recon3d': 'CE2616_c'} {'PubChem': '', 'KEGG': '', 'HMDB': '', 'ChEBI': '', 'MetaNetX': 'MNXM165945', 'metabolicATLAS': 'CE2616', 'recon3d': 'CE2616_r'}\n",
      "{'PubChem': '', 'KEGG': '', 'HMDB': '', 'ChEBI': '', 'MetaNetX': '', 'metabolicATLAS': 'CE0692', 'recon3d': 'CE0692_m'} {'PubChem': '', 'KEGG': '', 'HMDB': '', 'ChEBI': '', 'MetaNetX': 'MNXM166246', 'metabolicATLAS': 'CE0692', 'recon3d': 'CE0692_c'}\n",
      "{'PubChem': '53481515', 'KEGG': '', 'HMDB': '', 'ChEBI': '', 'MetaNetX': 'MNXM166067', 'metabolicATLAS': 'CE2597', 'recon3d': 'CE2597_c'} {'PubChem': '53481515', 'KEGG': '', 'HMDB': '', 'ChEBI': '', 'MetaNetX': '', 'metabolicATLAS': 'CE2597', 'recon3d': 'CE2597_m'}\n",
      "{'PubChem': '53481515', 'KEGG': '', 'HMDB': '', 'ChEBI': '', 'MetaNetX': 'MNXM166067', 'metabolicATLAS': 'CE2597', 'recon3d': 'CE2597_c'} {'PubChem': '53481515', 'KEGG': '', 'HMDB': '', 'ChEBI': '', 'MetaNetX': '', 'metabolicATLAS': 'CE2597', 'recon3d': 'CE2597_x'}\n",
      "{'PubChem': '', 'KEGG': '', 'HMDB': '', 'ChEBI': '', 'MetaNetX': 'MNXM166246', 'metabolicATLAS': 'CE0692', 'recon3d': 'CE0692_m'} {'PubChem': '', 'KEGG': '', 'HMDB': '', 'ChEBI': '', 'MetaNetX': '', 'metabolicATLAS': 'CE0692', 'recon3d': 'CE0692_x'}\n",
      "{'PubChem': '', 'KEGG': '', 'HMDB': '', 'ChEBI': '', 'MetaNetX': '', 'metabolicATLAS': 'CE2596', 'recon3d': 'CE2596_m'} {'PubChem': '', 'KEGG': '', 'HMDB': '', 'ChEBI': '', 'MetaNetX': '', 'metabolicATLAS': 'CE2596', 'recon3d': 'CE2596_x'}\n",
      "{'PubChem': '', 'KEGG': 'C02060', 'HMDB': '', 'ChEBI': 'CHEBI:15538', 'MetaNetX': '', 'metabolicATLAS': 'CE5122', 'recon3d': 'CE5122_x'} {'PubChem': '', 'KEGG': 'C02060', 'HMDB': '', 'ChEBI': 'CHEBI:15538', 'MetaNetX': 'MNXM166069', 'metabolicATLAS': 'CE5122', 'recon3d': 'CE5122_c'}\n",
      "{'PubChem': '', 'KEGG': '', 'HMDB': '', 'ChEBI': '', 'MetaNetX': 'MNXM166287', 'metabolicATLAS': 'CE2313', 'recon3d': 'CE2313_c'} {'PubChem': '', 'KEGG': '', 'HMDB': '', 'ChEBI': '', 'MetaNetX': 'MNXM166287', 'metabolicATLAS': 'CE2313', 'recon3d': 'CE2313_r'}\n",
      "{'PubChem': '', 'KEGG': '', 'HMDB': '', 'ChEBI': '', 'MetaNetX': 'MNXM164173', 'metabolicATLAS': 'CE6027', 'recon3d': 'CE6027_c'} {'PubChem': '', 'KEGG': '', 'HMDB': '', 'ChEBI': '', 'MetaNetX': 'MNXM164173', 'metabolicATLAS': 'CE6027', 'recon3d': 'CE6027_m'}\n",
      "{'PubChem': '53477846', 'KEGG': 'C16171', 'HMDB': 'HMDB06516', 'ChEBI': 'CHEBI:63548', 'MetaNetX': 'MNXM165171', 'metabolicATLAS': 'CE4837', 'recon3d': 'CE4837_c'} {'PubChem': '53477846', 'KEGG': 'C16171', 'HMDB': 'HMDB06516', 'ChEBI': 'CHEBI:63548', 'MetaNetX': 'MNXM165171', 'metabolicATLAS': 'CE4837', 'recon3d': 'CE4837_r'}\n",
      "{'PubChem': '', 'KEGG': '', 'HMDB': '', 'ChEBI': '', 'MetaNetX': 'MNXM163191', 'metabolicATLAS': 'CE5160', 'recon3d': 'CE5160_c'} {'PubChem': '', 'KEGG': '', 'HMDB': '', 'ChEBI': '', 'MetaNetX': 'MNXM163191', 'metabolicATLAS': 'CE5160', 'recon3d': 'CE5160_r'}\n",
      "{'PubChem': '', 'KEGG': '', 'HMDB': '', 'ChEBI': '', 'MetaNetX': 'MNXM163175', 'metabolicATLAS': 'CE5161', 'recon3d': 'CE5161_c'} {'PubChem': '', 'KEGG': '', 'HMDB': '', 'ChEBI': '', 'MetaNetX': 'MNXM163175', 'metabolicATLAS': 'CE5161', 'recon3d': 'CE5161_r'}\n",
      "{'PubChem': '', 'KEGG': '', 'HMDB': '', 'ChEBI': '', 'MetaNetX': 'MNXM163591', 'metabolicATLAS': 'CE5162', 'recon3d': 'CE5162_c'} {'PubChem': '', 'KEGG': '', 'HMDB': '', 'ChEBI': '', 'MetaNetX': 'MNXM163591', 'metabolicATLAS': 'CE5162', 'recon3d': 'CE5162_r'}\n",
      "{'PubChem': '', 'KEGG': '', 'HMDB': '', 'ChEBI': '', 'MetaNetX': '', 'metabolicATLAS': 'CE5168', 'recon3d': 'CE5168_m'} {'PubChem': '', 'KEGG': '', 'HMDB': '', 'ChEBI': '', 'MetaNetX': '', 'metabolicATLAS': 'CE5168', 'recon3d': 'CE5168_x'}\n",
      "{'PubChem': '', 'KEGG': '', 'HMDB': '', 'ChEBI': '', 'MetaNetX': '', 'metabolicATLAS': 'CE5168', 'recon3d': 'CE5168_m'} {'PubChem': '', 'KEGG': '', 'HMDB': '', 'ChEBI': '', 'MetaNetX': 'MNXM166027', 'metabolicATLAS': 'CE5168', 'recon3d': 'CE5168_c'}\n",
      "{'PubChem': '440690', 'KEGG': 'C05467', 'HMDB': 'HMDB06891', 'ChEBI': 'CHEBI:27379', 'MetaNetX': '', 'metabolicATLAS': 'CE5169', 'recon3d': 'CE5169_c'} {'PubChem': '440690', 'KEGG': 'C05467', 'HMDB': 'HMDB06891', 'ChEBI': 'CHEBI:27379', 'MetaNetX': '', 'metabolicATLAS': 'CE5169', 'recon3d': 'CE5169_m'}\n",
      "{'PubChem': '440690', 'KEGG': 'C05467', 'HMDB': 'HMDB06891', 'ChEBI': 'CHEBI:27379', 'MetaNetX': '', 'metabolicATLAS': 'CE5169', 'recon3d': 'CE5169_c'} {'PubChem': '440690', 'KEGG': 'C05467', 'HMDB': 'HMDB06891', 'ChEBI': 'CHEBI:27379', 'MetaNetX': '', 'metabolicATLAS': 'CE5169', 'recon3d': 'CE5169_x'}\n",
      "{'PubChem': '', 'KEGG': '', 'HMDB': '', 'ChEBI': '', 'MetaNetX': 'MNXM4939', 'metabolicATLAS': '12dgr120', 'recon3d': '12dgr120_e'} {'PubChem': '', 'KEGG': '', 'HMDB': '', 'ChEBI': '', 'MetaNetX': '', 'metabolicATLAS': '12dgr120', 'recon3d': '12dgr120_g'}\n",
      "{'PubChem': '', 'KEGG': '', 'HMDB': '', 'ChEBI': '', 'MetaNetX': 'MNXM4939', 'metabolicATLAS': '12dgr120', 'recon3d': '12dgr120_e'} {'PubChem': '', 'KEGG': '', 'HMDB': '', 'ChEBI': '', 'MetaNetX': '', 'metabolicATLAS': '12dgr120', 'recon3d': '12dgr120_m'}\n",
      "{'PubChem': '', 'KEGG': '', 'HMDB': '', 'ChEBI': '', 'MetaNetX': 'MNXM4939', 'metabolicATLAS': '12dgr120', 'recon3d': '12dgr120_e'} {'PubChem': '', 'KEGG': '', 'HMDB': '', 'ChEBI': '', 'MetaNetX': '', 'metabolicATLAS': '12dgr120', 'recon3d': '12dgr120_n'}\n",
      "{'PubChem': '', 'KEGG': '', 'HMDB': '', 'ChEBI': '', 'MetaNetX': 'MNXM4939', 'metabolicATLAS': '12dgr120', 'recon3d': '12dgr120_e'} {'PubChem': '', 'KEGG': '', 'HMDB': '', 'ChEBI': '', 'MetaNetX': '', 'metabolicATLAS': '12dgr120', 'recon3d': '12dgr120_r'}\n",
      "{'PubChem': '', 'KEGG': '', 'HMDB': '', 'ChEBI': '', 'MetaNetX': '', 'metabolicATLAS': 'CE4794', 'recon3d': 'CE4794_m'} {'PubChem': '', 'KEGG': '', 'HMDB': '', 'ChEBI': '', 'MetaNetX': '', 'metabolicATLAS': 'CE4794', 'recon3d': 'CE4794_x'}\n",
      "{'PubChem': '', 'KEGG': '', 'HMDB': '', 'ChEBI': '', 'MetaNetX': 'MNXM162933', 'metabolicATLAS': 'CN0012', 'recon3d': 'CN0012_c'} {'PubChem': '', 'KEGG': '', 'HMDB': '', 'ChEBI': '', 'MetaNetX': 'MNXM162933', 'metabolicATLAS': 'CN0012', 'recon3d': 'CN0012_r'}\n",
      "{'PubChem': '', 'KEGG': '', 'HMDB': '', 'ChEBI': '', 'MetaNetX': 'MNXM163759', 'metabolicATLAS': 'CN0009', 'recon3d': 'CN0009_c'} {'PubChem': '', 'KEGG': '', 'HMDB': '', 'ChEBI': '', 'MetaNetX': 'MNXM163759', 'metabolicATLAS': 'CN0009', 'recon3d': 'CN0009_r'}\n",
      "{'PubChem': '', 'KEGG': '', 'HMDB': '', 'ChEBI': '', 'MetaNetX': 'MNXM162933; MNXM162933', 'metabolicATLAS': 'CN0012', 'recon3d': 'CN0012_c'} {'PubChem': '', 'KEGG': '', 'HMDB': '', 'ChEBI': '', 'MetaNetX': 'MNXM162933', 'metabolicATLAS': 'CN0012', 'recon3d': 'CN0012_x'}\n",
      "{'PubChem': '', 'KEGG': '', 'HMDB': '', 'ChEBI': '', 'MetaNetX': 'MNXM163759; MNXM163759', 'metabolicATLAS': 'CN0009', 'recon3d': 'CN0009_c'} {'PubChem': '', 'KEGG': '', 'HMDB': '', 'ChEBI': '', 'MetaNetX': 'MNXM163759', 'metabolicATLAS': 'CN0009', 'recon3d': 'CN0009_x'}\n",
      "{'PubChem': '', 'KEGG': '', 'HMDB': '', 'ChEBI': '', 'MetaNetX': 'MNXM163760', 'metabolicATLAS': 'CN0010', 'recon3d': 'CN0010_c'} {'PubChem': '', 'KEGG': '', 'HMDB': '', 'ChEBI': '', 'MetaNetX': 'MNXM163760', 'metabolicATLAS': 'CN0010', 'recon3d': 'CN0010_r'}\n",
      "{'PubChem': '', 'KEGG': '', 'HMDB': '', 'ChEBI': '', 'MetaNetX': 'MNXM163760; MNXM163760', 'metabolicATLAS': 'CN0010', 'recon3d': 'CN0010_c'} {'PubChem': '', 'KEGG': '', 'HMDB': '', 'ChEBI': '', 'MetaNetX': 'MNXM163760', 'metabolicATLAS': 'CN0010', 'recon3d': 'CN0010_x'}\n",
      "{'PubChem': '', 'KEGG': '', 'HMDB': '', 'ChEBI': '', 'MetaNetX': 'MNXM163761', 'metabolicATLAS': 'CN0011', 'recon3d': 'CN0011_c'} {'PubChem': '', 'KEGG': '', 'HMDB': '', 'ChEBI': '', 'MetaNetX': 'MNXM163761', 'metabolicATLAS': 'CN0011', 'recon3d': 'CN0011_r'}\n",
      "{'PubChem': '', 'KEGG': '', 'HMDB': '', 'ChEBI': '', 'MetaNetX': 'MNXM163761; MNXM163761', 'metabolicATLAS': 'CN0011', 'recon3d': 'CN0011_c'} {'PubChem': '', 'KEGG': '', 'HMDB': '', 'ChEBI': '', 'MetaNetX': 'MNXM163761', 'metabolicATLAS': 'CN0011', 'recon3d': 'CN0011_x'}\n",
      "{'PubChem': '', 'KEGG': '', 'HMDB': '', 'ChEBI': '', 'MetaNetX': 'MNXM162911', 'metabolicATLAS': 'CN0021', 'recon3d': 'CN0021_c'} {'PubChem': '', 'KEGG': '', 'HMDB': '', 'ChEBI': '', 'MetaNetX': 'MNXM162911', 'metabolicATLAS': 'CN0021', 'recon3d': 'CN0021_r'}\n",
      "{'PubChem': '', 'KEGG': '', 'HMDB': '', 'ChEBI': '', 'MetaNetX': 'MNXM162910', 'metabolicATLAS': 'CN0022', 'recon3d': 'CN0022_c'} {'PubChem': '', 'KEGG': '', 'HMDB': '', 'ChEBI': '', 'MetaNetX': 'MNXM162910', 'metabolicATLAS': 'CN0022', 'recon3d': 'CN0022_r'}\n",
      "{'PubChem': '', 'KEGG': '', 'HMDB': '', 'ChEBI': '', 'MetaNetX': 'MNXM162911; MNXM162911', 'metabolicATLAS': 'CN0021', 'recon3d': 'CN0021_c'} {'PubChem': '', 'KEGG': '', 'HMDB': '', 'ChEBI': '', 'MetaNetX': 'MNXM162911', 'metabolicATLAS': 'CN0021', 'recon3d': 'CN0021_x'}\n",
      "{'PubChem': '', 'KEGG': '', 'HMDB': '', 'ChEBI': '', 'MetaNetX': 'MNXM162910; MNXM162910', 'metabolicATLAS': 'CN0022', 'recon3d': 'CN0022_c'} {'PubChem': '', 'KEGG': '', 'HMDB': '', 'ChEBI': '', 'MetaNetX': 'MNXM162910', 'metabolicATLAS': 'CN0022', 'recon3d': 'CN0022_x'}\n",
      "{'PubChem': '', 'KEGG': '', 'HMDB': '', 'ChEBI': '', 'MetaNetX': 'MNXM164384', 'metabolicATLAS': 'CN0023', 'recon3d': 'CN0023_c'} {'PubChem': '', 'KEGG': '', 'HMDB': '', 'ChEBI': '', 'MetaNetX': 'MNXM164384', 'metabolicATLAS': 'CN0023', 'recon3d': 'CN0023_r'}\n",
      "{'PubChem': '9119', 'KEGG': '', 'HMDB': '', 'ChEBI': '', 'MetaNetX': 'MNXM50427', 'metabolicATLAS': 'CN0016', 'recon3d': 'CN0016_c'} {'PubChem': '9119', 'KEGG': '', 'HMDB': '', 'ChEBI': '', 'MetaNetX': 'MNXM50427', 'metabolicATLAS': 'CN0016', 'recon3d': 'CN0016_r'}\n",
      "{'PubChem': '', 'KEGG': '', 'HMDB': '', 'ChEBI': '', 'MetaNetX': 'MNXM162957', 'metabolicATLAS': 'CN0017', 'recon3d': 'CN0017_c'} {'PubChem': '', 'KEGG': '', 'HMDB': '', 'ChEBI': '', 'MetaNetX': 'MNXM162957', 'metabolicATLAS': 'CN0017', 'recon3d': 'CN0017_r'}\n",
      "{'PubChem': '', 'KEGG': '', 'HMDB': '', 'ChEBI': '', 'MetaNetX': 'MNXM162956', 'metabolicATLAS': 'CN0018', 'recon3d': 'CN0018_c'} {'PubChem': '', 'KEGG': '', 'HMDB': '', 'ChEBI': '', 'MetaNetX': 'MNXM162956', 'metabolicATLAS': 'CN0018', 'recon3d': 'CN0018_r'}\n",
      "{'PubChem': '', 'KEGG': '', 'HMDB': '', 'ChEBI': '', 'MetaNetX': 'MNXM162957; MNXM162957', 'metabolicATLAS': 'CN0017', 'recon3d': 'CN0017_c'} {'PubChem': '', 'KEGG': '', 'HMDB': '', 'ChEBI': '', 'MetaNetX': 'MNXM162957', 'metabolicATLAS': 'CN0017', 'recon3d': 'CN0017_x'}\n",
      "{'PubChem': '', 'KEGG': '', 'HMDB': '', 'ChEBI': '', 'MetaNetX': 'MNXM162956; MNXM162956', 'metabolicATLAS': 'CN0018', 'recon3d': 'CN0018_c'} {'PubChem': '', 'KEGG': '', 'HMDB': '', 'ChEBI': '', 'MetaNetX': 'MNXM162956', 'metabolicATLAS': 'CN0018', 'recon3d': 'CN0018_x'}\n",
      "{'PubChem': '', 'KEGG': '', 'HMDB': '', 'ChEBI': '', 'MetaNetX': 'MNXM164731', 'metabolicATLAS': 'CN0019', 'recon3d': 'CN0019_c'} {'PubChem': '', 'KEGG': '', 'HMDB': '', 'ChEBI': '', 'MetaNetX': 'MNXM164731', 'metabolicATLAS': 'CN0019', 'recon3d': 'CN0019_r'}\n",
      "{'PubChem': '196', 'KEGG': 'C06104', 'HMDB': 'HMDB00448', 'ChEBI': 'CHEBI:30832', 'MetaNetX': 'MNXM163728', 'metabolicATLAS': 'adpac', 'recon3d': 'adpac_c'} {'PubChem': '196', 'KEGG': 'C06104', 'HMDB': 'HMDB00448', 'ChEBI': 'CHEBI:30832', 'MetaNetX': 'MNXM163728', 'metabolicATLAS': 'adpac', 'recon3d': 'adpac_x'}\n",
      "{'PubChem': '9543333', 'KEGG': '', 'HMDB': '', 'ChEBI': '', 'MetaNetX': 'MNXM163269', 'metabolicATLAS': 'adpcoa', 'recon3d': 'adpcoa_c'} {'PubChem': '9543333', 'KEGG': '', 'HMDB': '', 'ChEBI': '', 'MetaNetX': 'MNXM163269', 'metabolicATLAS': 'adpcoa', 'recon3d': 'adpcoa_x'}\n",
      "{'PubChem': '', 'KEGG': '', 'HMDB': '', 'ChEBI': '', 'MetaNetX': 'MNXM163668', 'metabolicATLAS': '3bcrn', 'recon3d': '3bcrn_c'} {'PubChem': '', 'KEGG': '', 'HMDB': '', 'ChEBI': '', 'MetaNetX': 'MNXM163668', 'metabolicATLAS': '3bcrn', 'recon3d': '3bcrn_e'}\n",
      "{'PubChem': '53481651', 'KEGG': '', 'HMDB': '', 'ChEBI': '', 'MetaNetX': '', 'metabolicATLAS': 'c101crn', 'recon3d': 'c101crn_c'} {'PubChem': '53481651', 'KEGG': '', 'HMDB': '', 'ChEBI': '', 'MetaNetX': '', 'metabolicATLAS': 'c101crn', 'recon3d': 'c101crn_e'}\n",
      "{'PubChem': '10245190', 'KEGG': '', 'HMDB': 'HMDB00651', 'ChEBI': '', 'MetaNetX': '', 'metabolicATLAS': 'c10crn', 'recon3d': 'c10crn_c'} {'PubChem': '10245190', 'KEGG': '', 'HMDB': 'HMDB00651', 'ChEBI': '', 'MetaNetX': '', 'metabolicATLAS': 'c10crn', 'recon3d': 'c10crn_e'}\n",
      "{'PubChem': '', 'KEGG': '', 'HMDB': '', 'ChEBI': '', 'MetaNetX': 'MNXM162993', 'metabolicATLAS': 'c10dc', 'recon3d': 'c10dc_x'} {'PubChem': '', 'KEGG': '', 'HMDB': '', 'ChEBI': '', 'MetaNetX': 'MNXM162993', 'metabolicATLAS': 'c10dc', 'recon3d': 'c10dc_c'}\n",
      "{'PubChem': '', 'KEGG': '', 'HMDB': '', 'ChEBI': '', 'MetaNetX': 'MNXM162993; MNXM162993', 'metabolicATLAS': 'c10dc', 'recon3d': 'c10dc_x'} {'PubChem': '', 'KEGG': '', 'HMDB': '', 'ChEBI': '', 'MetaNetX': 'MNXM162993', 'metabolicATLAS': 'c10dc', 'recon3d': 'c10dc_e'}\n",
      "{'PubChem': '', 'KEGG': '', 'HMDB': '', 'ChEBI': '', 'MetaNetX': '', 'metabolicATLAS': 'c12dccoa', 'recon3d': 'c12dccoa_x'} {'PubChem': '', 'KEGG': '', 'HMDB': '', 'ChEBI': '', 'MetaNetX': '', 'metabolicATLAS': 'c12dccoa', 'recon3d': 'c12dccoa_c'}\n",
      "{'PubChem': '12736', 'KEGG': '', 'HMDB': '', 'ChEBI': '', 'MetaNetX': '', 'metabolicATLAS': 'dodecanac', 'recon3d': 'dodecanac_x'} {'PubChem': '12736', 'KEGG': '', 'HMDB': '', 'ChEBI': '', 'MetaNetX': '', 'metabolicATLAS': 'dodecanac', 'recon3d': 'dodecanac_c'}\n",
      "{'PubChem': '', 'KEGG': '', 'HMDB': '', 'ChEBI': '', 'MetaNetX': '', 'metabolicATLAS': 'c12dc', 'recon3d': 'c12dc_c'} {'PubChem': '', 'KEGG': '', 'HMDB': '', 'ChEBI': '', 'MetaNetX': '', 'metabolicATLAS': 'c12dc', 'recon3d': 'c12dc_e'}\n",
      "{'PubChem': '', 'KEGG': '', 'HMDB': '', 'ChEBI': '', 'MetaNetX': '', 'metabolicATLAS': '3tetd7ecoa', 'recon3d': '3tetd7ecoa_m'} {'PubChem': '', 'KEGG': '', 'HMDB': '', 'ChEBI': '', 'MetaNetX': '', 'metabolicATLAS': '3tetd7ecoa', 'recon3d': '3tetd7ecoa_c'}\n",
      "{'PubChem': '', 'KEGG': '', 'HMDB': '', 'ChEBI': '', 'MetaNetX': '', 'metabolicATLAS': '3tetd7ecoacrn', 'recon3d': '3tetd7ecoacrn_c'} {'PubChem': '', 'KEGG': '', 'HMDB': '', 'ChEBI': '', 'MetaNetX': '', 'metabolicATLAS': '3tetd7ecoacrn', 'recon3d': '3tetd7ecoacrn_e'}\n",
      "{'PubChem': '', 'KEGG': '', 'HMDB': '', 'ChEBI': '', 'MetaNetX': '', 'metabolicATLAS': '3ttetddcoa', 'recon3d': '3ttetddcoa_m'} {'PubChem': '', 'KEGG': '', 'HMDB': '', 'ChEBI': '', 'MetaNetX': '', 'metabolicATLAS': '3ttetddcoa', 'recon3d': '3ttetddcoa_c'}\n",
      "{'PubChem': '', 'KEGG': '', 'HMDB': '', 'ChEBI': '', 'MetaNetX': '', 'metabolicATLAS': '3ttetddcoacrn', 'recon3d': '3ttetddcoacrn_c'} {'PubChem': '', 'KEGG': '', 'HMDB': '', 'ChEBI': '', 'MetaNetX': '', 'metabolicATLAS': '3ttetddcoacrn', 'recon3d': '3ttetddcoacrn_e'}\n",
      "{'PubChem': '', 'KEGG': '', 'HMDB': '', 'ChEBI': '', 'MetaNetX': '', 'metabolicATLAS': '3thexddcoa', 'recon3d': '3thexddcoa_m'} {'PubChem': '', 'KEGG': '', 'HMDB': '', 'ChEBI': '', 'MetaNetX': '', 'metabolicATLAS': '3thexddcoa', 'recon3d': '3thexddcoa_c'}\n",
      "{'PubChem': '', 'KEGG': '', 'HMDB': '', 'ChEBI': '', 'MetaNetX': '', 'metabolicATLAS': '3thexddcoacrn', 'recon3d': '3thexddcoacrn_c'} {'PubChem': '', 'KEGG': '', 'HMDB': '', 'ChEBI': '', 'MetaNetX': '', 'metabolicATLAS': '3thexddcoacrn', 'recon3d': '3thexddcoacrn_e'}\n",
      "{'PubChem': '566787', 'KEGG': '', 'HMDB': '', 'ChEBI': '', 'MetaNetX': '', 'metabolicATLAS': 'c16dc', 'recon3d': 'c16dc_c'} {'PubChem': '566787', 'KEGG': '', 'HMDB': '', 'ChEBI': '', 'MetaNetX': '', 'metabolicATLAS': 'c16dc', 'recon3d': 'c16dc_e'}\n",
      "{'PubChem': '22833583', 'KEGG': '', 'HMDB': '', 'ChEBI': '', 'MetaNetX': '', 'metabolicATLAS': 'c3dc', 'recon3d': 'c3dc_c'} {'PubChem': '22833583', 'KEGG': '', 'HMDB': '', 'ChEBI': '', 'MetaNetX': '', 'metabolicATLAS': 'c3dc', 'recon3d': 'c3dc_e'}\n",
      "{'PubChem': '', 'KEGG': '', 'HMDB': '', 'ChEBI': '', 'MetaNetX': 'MNXM158939', 'metabolicATLAS': 'c4dc', 'recon3d': 'c4dc_x'} {'PubChem': '', 'KEGG': '', 'HMDB': '', 'ChEBI': '', 'MetaNetX': 'MNXM158939', 'metabolicATLAS': 'c4dc', 'recon3d': 'c4dc_c'}\n",
      "{'PubChem': '', 'KEGG': '', 'HMDB': '', 'ChEBI': '', 'MetaNetX': 'MNXM158939; MNXM158939', 'metabolicATLAS': 'c4dc', 'recon3d': 'c4dc_x'} {'PubChem': '', 'KEGG': '', 'HMDB': '', 'ChEBI': '', 'MetaNetX': 'MNXM158939', 'metabolicATLAS': 'c4dc', 'recon3d': 'c4dc_e'}\n",
      "{'PubChem': '53481622', 'KEGG': '', 'HMDB': '', 'ChEBI': '', 'MetaNetX': '', 'metabolicATLAS': 'c5dc', 'recon3d': 'c5dc_c'} {'PubChem': '53481622', 'KEGG': '', 'HMDB': '', 'ChEBI': '', 'MetaNetX': '', 'metabolicATLAS': 'c5dc', 'recon3d': 'c5dc_e'}\n",
      "{'PubChem': '6426853', 'KEGG': '', 'HMDB': '', 'ChEBI': '', 'MetaNetX': '', 'metabolicATLAS': 'c6crn', 'recon3d': 'c6crn_c'} {'PubChem': '6426853', 'KEGG': '', 'HMDB': '', 'ChEBI': '', 'MetaNetX': '', 'metabolicATLAS': 'c6crn', 'recon3d': 'c6crn_x'}\n",
      "{'PubChem': '6426853', 'KEGG': '', 'HMDB': '', 'ChEBI': '', 'MetaNetX': '', 'metabolicATLAS': 'c6crn', 'recon3d': 'c6crn_c'} {'PubChem': '6426853', 'KEGG': '', 'HMDB': '', 'ChEBI': '', 'MetaNetX': '', 'metabolicATLAS': 'c6crn', 'recon3d': 'c6crn_e'}\n",
      "{'PubChem': '', 'KEGG': '', 'HMDB': '', 'ChEBI': '', 'MetaNetX': 'MNXM162921', 'metabolicATLAS': 'c6dc', 'recon3d': 'c6dc_x'} {'PubChem': '', 'KEGG': '', 'HMDB': '', 'ChEBI': '', 'MetaNetX': 'MNXM162921', 'metabolicATLAS': 'c6dc', 'recon3d': 'c6dc_c'}\n",
      "{'PubChem': '', 'KEGG': '', 'HMDB': '', 'ChEBI': '', 'MetaNetX': 'MNXM162921; MNXM162921', 'metabolicATLAS': 'c6dc', 'recon3d': 'c6dc_x'} {'PubChem': '', 'KEGG': '', 'HMDB': '', 'ChEBI': '', 'MetaNetX': 'MNXM162921', 'metabolicATLAS': 'c6dc', 'recon3d': 'c6dc_e'}\n",
      "{'PubChem': '53481667', 'KEGG': '', 'HMDB': '', 'ChEBI': '', 'MetaNetX': '', 'metabolicATLAS': 'c81crn', 'recon3d': 'c81crn_c'} {'PubChem': '53481667', 'KEGG': '', 'HMDB': '', 'ChEBI': '', 'MetaNetX': '', 'metabolicATLAS': 'c81crn', 'recon3d': 'c81crn_e'}\n",
      "{'PubChem': '', 'KEGG': '', 'HMDB': '', 'ChEBI': '', 'MetaNetX': 'MNXM162999', 'metabolicATLAS': 'c8dc', 'recon3d': 'c8dc_c'} {'PubChem': '', 'KEGG': '', 'HMDB': '', 'ChEBI': '', 'MetaNetX': 'MNXM162999', 'metabolicATLAS': 'c8dc', 'recon3d': 'c8dc_e'}\n",
      "{'PubChem': '', 'KEGG': '', 'HMDB': '', 'ChEBI': '', 'MetaNetX': 'MNXM150910', 'metabolicATLAS': '3ddcrn', 'recon3d': '3ddcrn_c'} {'PubChem': '', 'KEGG': '', 'HMDB': '', 'ChEBI': '', 'MetaNetX': 'MNXM150910', 'metabolicATLAS': '3ddcrn', 'recon3d': '3ddcrn_e'}\n",
      "{'PubChem': '168381', 'KEGG': '', 'HMDB': '', 'ChEBI': '', 'MetaNetX': '', 'metabolicATLAS': 'ddeccrn', 'recon3d': 'ddeccrn_c'} {'PubChem': '168381', 'KEGG': '', 'HMDB': '', 'ChEBI': '', 'MetaNetX': '', 'metabolicATLAS': 'ddeccrn', 'recon3d': 'ddeccrn_e'}\n",
      "{'PubChem': '', 'KEGG': '', 'HMDB': '', 'ChEBI': '', 'MetaNetX': '', 'metabolicATLAS': 'ddece1crn', 'recon3d': 'ddece1crn_c'} {'PubChem': '', 'KEGG': '', 'HMDB': '', 'ChEBI': '', 'MetaNetX': '', 'metabolicATLAS': 'ddece1crn', 'recon3d': 'ddece1crn_e'}\n",
      "{'PubChem': '', 'KEGG': '', 'HMDB': '', 'ChEBI': '', 'MetaNetX': 'MNXM150909', 'metabolicATLAS': '3deccrn', 'recon3d': '3deccrn_c'} {'PubChem': '', 'KEGG': '', 'HMDB': '', 'ChEBI': '', 'MetaNetX': 'MNXM150909', 'metabolicATLAS': '3deccrn', 'recon3d': '3deccrn_e'}\n",
      "{'PubChem': '53481669', 'KEGG': '', 'HMDB': '', 'ChEBI': '', 'MetaNetX': '', 'metabolicATLAS': 'decdicrn', 'recon3d': 'decdicrn_c'} {'PubChem': '53481669', 'KEGG': '', 'HMDB': '', 'ChEBI': '', 'MetaNetX': '', 'metabolicATLAS': 'decdicrn', 'recon3d': 'decdicrn_e'}\n",
      "{'PubChem': '24892791', 'KEGG': '', 'HMDB': '', 'ChEBI': '', 'MetaNetX': '', 'metabolicATLAS': 'doco13ecoa', 'recon3d': 'doco13ecoa_c'} {'PubChem': '24892791', 'KEGG': '', 'HMDB': '', 'ChEBI': '', 'MetaNetX': '', 'metabolicATLAS': 'doco13ecoa', 'recon3d': 'doco13ecoa_x'}\n",
      "{'PubChem': '244872', 'KEGG': '', 'HMDB': '', 'ChEBI': '', 'MetaNetX': '', 'metabolicATLAS': 'docosdiac', 'recon3d': 'docosdiac_r'} {'PubChem': '244872', 'KEGG': '', 'HMDB': '', 'ChEBI': '', 'MetaNetX': '', 'metabolicATLAS': 'docosdiac', 'recon3d': 'docosdiac_c'}\n",
      "{'PubChem': '244872', 'KEGG': '', 'HMDB': '', 'ChEBI': '', 'MetaNetX': '', 'metabolicATLAS': 'docosdiac', 'recon3d': 'docosdiac_r'} {'PubChem': '244872', 'KEGG': '', 'HMDB': '', 'ChEBI': '', 'MetaNetX': '', 'metabolicATLAS': 'docosdiac', 'recon3d': 'docosdiac_e'}\n",
      "{'PubChem': '', 'KEGG': '', 'HMDB': '', 'ChEBI': '', 'MetaNetX': '', 'metabolicATLAS': '3hdececrn', 'recon3d': '3hdececrn_c'} {'PubChem': '', 'KEGG': '', 'HMDB': '', 'ChEBI': '', 'MetaNetX': '', 'metabolicATLAS': '3hdececrn', 'recon3d': '3hdececrn_e'}\n",
      "{'PubChem': '53481691', 'KEGG': '', 'HMDB': '', 'ChEBI': '', 'MetaNetX': 'MNXM36524', 'metabolicATLAS': '3hexdcrn', 'recon3d': '3hexdcrn_c'} {'PubChem': '53481691', 'KEGG': '', 'HMDB': '', 'ChEBI': '', 'MetaNetX': 'MNXM36524', 'metabolicATLAS': '3hexdcrn', 'recon3d': '3hexdcrn_e'}\n",
      "{'PubChem': '', 'KEGG': '', 'HMDB': '', 'ChEBI': '', 'MetaNetX': '', 'metabolicATLAS': '3octdec2crn', 'recon3d': '3octdec2crn_c'} {'PubChem': '', 'KEGG': '', 'HMDB': '', 'ChEBI': '', 'MetaNetX': '', 'metabolicATLAS': '3octdec2crn', 'recon3d': '3octdec2crn_e'}\n",
      "{'PubChem': '', 'KEGG': '', 'HMDB': '', 'ChEBI': '', 'MetaNetX': '', 'metabolicATLAS': '3octdeccrn', 'recon3d': '3octdeccrn_c'} {'PubChem': '', 'KEGG': '', 'HMDB': '', 'ChEBI': '', 'MetaNetX': '', 'metabolicATLAS': '3octdeccrn', 'recon3d': '3octdeccrn_e'}\n",
      "{'PubChem': '', 'KEGG': '', 'HMDB': '', 'ChEBI': '', 'MetaNetX': '', 'metabolicATLAS': '3octdece1crn', 'recon3d': '3octdece1crn_c'} {'PubChem': '', 'KEGG': '', 'HMDB': '', 'ChEBI': '', 'MetaNetX': '', 'metabolicATLAS': '3octdece1crn', 'recon3d': '3octdece1crn_e'}\n",
      "{'PubChem': '', 'KEGG': '', 'HMDB': '', 'ChEBI': '', 'MetaNetX': 'MNXM150929', 'metabolicATLAS': '3tdcrn', 'recon3d': '3tdcrn_c'} {'PubChem': '', 'KEGG': '', 'HMDB': '', 'ChEBI': '', 'MetaNetX': 'MNXM150929', 'metabolicATLAS': '3tdcrn', 'recon3d': '3tdcrn_e'}\n",
      "{'PubChem': '22833596', 'KEGG': '', 'HMDB': '', 'ChEBI': '', 'MetaNetX': 'MNXM163903', 'metabolicATLAS': 'c51crn', 'recon3d': 'c51crn_c'} {'PubChem': '22833596', 'KEGG': '', 'HMDB': '', 'ChEBI': '', 'MetaNetX': 'MNXM163903', 'metabolicATLAS': 'c51crn', 'recon3d': 'c51crn_e'}\n",
      "{'PubChem': '6426851', 'KEGG': '', 'HMDB': '', 'ChEBI': '', 'MetaNetX': 'MNXM105848', 'metabolicATLAS': 'ivcrn', 'recon3d': 'ivcrn_c'} {'PubChem': '6426851', 'KEGG': '', 'HMDB': '', 'ChEBI': '', 'MetaNetX': 'MNXM105848', 'metabolicATLAS': 'ivcrn', 'recon3d': 'ivcrn_e'}\n",
      "{'PubChem': '', 'KEGG': '', 'HMDB': '', 'ChEBI': '', 'MetaNetX': '', 'metabolicATLAS': 'tetdec2crn', 'recon3d': 'tetdec2crn_c'} {'PubChem': '', 'KEGG': '', 'HMDB': '', 'ChEBI': '', 'MetaNetX': '', 'metabolicATLAS': 'tetdec2crn', 'recon3d': 'tetdec2crn_e'}\n",
      "{'PubChem': '22833575', 'KEGG': '', 'HMDB': '', 'ChEBI': '', 'MetaNetX': '', 'metabolicATLAS': 'tetdece1crn', 'recon3d': 'tetdece1crn_c'} {'PubChem': '22833575', 'KEGG': '', 'HMDB': '', 'ChEBI': '', 'MetaNetX': '', 'metabolicATLAS': 'tetdece1crn', 'recon3d': 'tetdece1crn_e'}\n",
      "{'PubChem': '', 'KEGG': '', 'HMDB': '', 'ChEBI': '', 'MetaNetX': '', 'metabolicATLAS': 'dec47dicoa', 'recon3d': 'dec47dicoa_m'} {'PubChem': '', 'KEGG': '', 'HMDB': '', 'ChEBI': '', 'MetaNetX': '', 'metabolicATLAS': 'dec47dicoa', 'recon3d': 'dec47dicoa_x'}\n",
      "{'PubChem': '', 'KEGG': '', 'HMDB': '', 'ChEBI': '', 'MetaNetX': '', 'metabolicATLAS': 'dectricoa', 'recon3d': 'dectricoa_m'} {'PubChem': '', 'KEGG': '', 'HMDB': '', 'ChEBI': '', 'MetaNetX': '', 'metabolicATLAS': 'dectricoa', 'recon3d': 'dectricoa_x'}\n",
      "{'PubChem': '', 'KEGG': '', 'HMDB': '', 'ChEBI': '', 'MetaNetX': '', 'metabolicATLAS': '2decdicoa', 'recon3d': '2decdicoa_m'} {'PubChem': '', 'KEGG': '', 'HMDB': '', 'ChEBI': '', 'MetaNetX': '', 'metabolicATLAS': '2decdicoa', 'recon3d': '2decdicoa_x'}\n",
      "{'PubChem': '', 'KEGG': '', 'HMDB': '', 'ChEBI': '', 'MetaNetX': '', 'metabolicATLAS': 'octe5coa', 'recon3d': 'octe5coa_m'} {'PubChem': '', 'KEGG': '', 'HMDB': '', 'ChEBI': '', 'MetaNetX': '', 'metabolicATLAS': 'octe5coa', 'recon3d': 'octe5coa_x'}\n",
      "{'PubChem': '', 'KEGG': '', 'HMDB': '', 'ChEBI': '', 'MetaNetX': '', 'metabolicATLAS': '3decdicoa', 'recon3d': '3decdicoa_m'} {'PubChem': '', 'KEGG': '', 'HMDB': '', 'ChEBI': '', 'MetaNetX': '', 'metabolicATLAS': '3decdicoa', 'recon3d': '3decdicoa_x'}\n",
      "{'PubChem': '', 'KEGG': '', 'HMDB': '', 'ChEBI': '', 'MetaNetX': 'MNXM10471', 'metabolicATLAS': 'sebcoa', 'recon3d': 'sebcoa_c'} {'PubChem': '', 'KEGG': '', 'HMDB': '', 'ChEBI': '', 'MetaNetX': 'MNXM10471', 'metabolicATLAS': 'sebcoa', 'recon3d': 'sebcoa_x'}\n",
      "{'PubChem': '', 'KEGG': '', 'HMDB': '', 'ChEBI': '', 'MetaNetX': 'MNXM163582', 'metabolicATLAS': 'sbcoa', 'recon3d': 'sbcoa_c'} {'PubChem': '', 'KEGG': '', 'HMDB': '', 'ChEBI': '', 'MetaNetX': 'MNXM163582', 'metabolicATLAS': 'sbcoa', 'recon3d': 'sbcoa_x'}\n",
      "{'PubChem': '53480665', 'KEGG': '', 'HMDB': '', 'ChEBI': '', 'MetaNetX': '', 'metabolicATLAS': '2ddecdicoa', 'recon3d': '2ddecdicoa_m'} {'PubChem': '53480665', 'KEGG': '', 'HMDB': '', 'ChEBI': '', 'MetaNetX': '', 'metabolicATLAS': '2ddecdicoa', 'recon3d': '2ddecdicoa_x'}\n",
      "{'PubChem': '5280771', 'KEGG': '', 'HMDB': '', 'ChEBI': '', 'MetaNetX': '', 'metabolicATLAS': '3ddecdicoa', 'recon3d': '3ddecdicoa_m'} {'PubChem': '5280771', 'KEGG': '', 'HMDB': '', 'ChEBI': '', 'MetaNetX': '', 'metabolicATLAS': '3ddecdicoa', 'recon3d': '3ddecdicoa_x'}\n",
      "{'PubChem': '', 'KEGG': '', 'HMDB': '', 'ChEBI': '', 'MetaNetX': '', 'metabolicATLAS': '2dodtricoa', 'recon3d': '2dodtricoa_m'} {'PubChem': '', 'KEGG': '', 'HMDB': '', 'ChEBI': '', 'MetaNetX': '', 'metabolicATLAS': '2dodtricoa', 'recon3d': '2dodtricoa_x'}\n",
      "{'PubChem': '', 'KEGG': '', 'HMDB': '', 'ChEBI': '', 'MetaNetX': '', 'metabolicATLAS': '3dodtricoa', 'recon3d': '3dodtricoa_m'} {'PubChem': '', 'KEGG': '', 'HMDB': '', 'ChEBI': '', 'MetaNetX': '', 'metabolicATLAS': '3dodtricoa', 'recon3d': '3dodtricoa_x'}\n",
      "{'PubChem': '', 'KEGG': '', 'HMDB': '', 'ChEBI': '', 'MetaNetX': '', 'metabolicATLAS': 'c12dc', 'recon3d': 'c12dc_c'} {'PubChem': '', 'KEGG': '', 'HMDB': '', 'ChEBI': '', 'MetaNetX': '', 'metabolicATLAS': 'c12dc', 'recon3d': 'c12dc_x'}\n",
      "{'PubChem': '21252281', 'KEGG': '', 'HMDB': '', 'ChEBI': '', 'MetaNetX': '', 'metabolicATLAS': 'tetdecdicoa', 'recon3d': 'tetdecdicoa_m'} {'PubChem': '21252281', 'KEGG': '', 'HMDB': '', 'ChEBI': '', 'MetaNetX': '', 'metabolicATLAS': 'tetdecdicoa', 'recon3d': 'tetdecdicoa_x'}\n",
      "{'PubChem': '', 'KEGG': '', 'HMDB': '', 'ChEBI': '', 'MetaNetX': '', 'metabolicATLAS': '5tedtricoa', 'recon3d': '5tedtricoa_m'} {'PubChem': '', 'KEGG': '', 'HMDB': '', 'ChEBI': '', 'MetaNetX': '', 'metabolicATLAS': '5tedtricoa', 'recon3d': '5tedtricoa_x'}\n",
      "{'PubChem': '', 'KEGG': '', 'HMDB': '', 'ChEBI': '', 'MetaNetX': '', 'metabolicATLAS': '3hdeccoa', 'recon3d': '3hdeccoa_c'} {'PubChem': '', 'KEGG': '', 'HMDB': '', 'ChEBI': '', 'MetaNetX': '', 'metabolicATLAS': '3hdeccoa', 'recon3d': '3hdeccoa_m'}\n",
      "{'PubChem': '', 'KEGG': '', 'HMDB': '', 'ChEBI': '', 'MetaNetX': '', 'metabolicATLAS': '4hexdtricoa', 'recon3d': '4hexdtricoa_m'} {'PubChem': '', 'KEGG': '', 'HMDB': '', 'ChEBI': '', 'MetaNetX': '', 'metabolicATLAS': '4hexdtricoa', 'recon3d': '4hexdtricoa_x'}\n",
      "{'PubChem': '', 'KEGG': '', 'HMDB': '', 'ChEBI': '', 'MetaNetX': '', 'metabolicATLAS': 'hexdectecoa', 'recon3d': 'hexdectecoa_m'} {'PubChem': '', 'KEGG': '', 'HMDB': '', 'ChEBI': '', 'MetaNetX': '', 'metabolicATLAS': 'hexdectecoa', 'recon3d': 'hexdectecoa_x'}\n",
      "{'PubChem': '', 'KEGG': '', 'HMDB': '', 'ChEBI': '', 'MetaNetX': '', 'metabolicATLAS': '2hexdtricoa', 'recon3d': '2hexdtricoa_x'} {'PubChem': '', 'KEGG': '', 'HMDB': '', 'ChEBI': '', 'MetaNetX': '', 'metabolicATLAS': '2hexdtricoa', 'recon3d': '2hexdtricoa_m'}\n",
      "{'PubChem': '', 'KEGG': '', 'HMDB': '', 'ChEBI': '', 'MetaNetX': '', 'metabolicATLAS': '3hexdtricoa', 'recon3d': '3hexdtricoa_m'} {'PubChem': '', 'KEGG': '', 'HMDB': '', 'ChEBI': '', 'MetaNetX': '', 'metabolicATLAS': '3hexdtricoa', 'recon3d': '3hexdtricoa_x'}\n",
      "{'PubChem': '', 'KEGG': '', 'HMDB': '', 'ChEBI': '', 'MetaNetX': '', 'metabolicATLAS': '2hexdtetcoa', 'recon3d': '2hexdtetcoa_m'} {'PubChem': '', 'KEGG': '', 'HMDB': '', 'ChEBI': '', 'MetaNetX': '', 'metabolicATLAS': '2hexdtetcoa', 'recon3d': '2hexdtetcoa_x'}\n",
      "{'PubChem': '', 'KEGG': '', 'HMDB': '', 'ChEBI': '', 'MetaNetX': '', 'metabolicATLAS': '4hexdtetcoa', 'recon3d': '4hexdtetcoa_m'} {'PubChem': '', 'KEGG': '', 'HMDB': '', 'ChEBI': '', 'MetaNetX': '', 'metabolicATLAS': '4hexdtetcoa', 'recon3d': '4hexdtetcoa_x'}\n",
      "{'PubChem': '', 'KEGG': '', 'HMDB': '', 'ChEBI': '', 'MetaNetX': '', 'metabolicATLAS': 'hexdpencoa', 'recon3d': 'hexdpencoa_m'} {'PubChem': '', 'KEGG': '', 'HMDB': '', 'ChEBI': '', 'MetaNetX': '', 'metabolicATLAS': 'hexdpencoa', 'recon3d': 'hexdpencoa_x'}\n",
      "{'PubChem': '', 'KEGG': '', 'HMDB': '', 'ChEBI': '', 'MetaNetX': '', 'metabolicATLAS': '3hexdtetcoa', 'recon3d': '3hexdtetcoa_m'} {'PubChem': '', 'KEGG': '', 'HMDB': '', 'ChEBI': '', 'MetaNetX': '', 'metabolicATLAS': '3hexdtetcoa', 'recon3d': '3hexdtetcoa_x'}\n",
      "{'PubChem': '440600', 'KEGG': '', 'HMDB': '', 'ChEBI': '', 'MetaNetX': 'MNXM163183', 'metabolicATLAS': '3hexdcoa', 'recon3d': '3hexdcoa_c'} {'PubChem': '440600', 'KEGG': '', 'HMDB': '', 'ChEBI': '', 'MetaNetX': 'MNXM163183', 'metabolicATLAS': '3hexdcoa', 'recon3d': '3hexdcoa_m'}\n",
      "{'PubChem': '', 'KEGG': '', 'HMDB': '', 'ChEBI': '', 'MetaNetX': '', 'metabolicATLAS': 'hexdicoa', 'recon3d': 'hexdicoa_c'} {'PubChem': '', 'KEGG': '', 'HMDB': '', 'ChEBI': '', 'MetaNetX': '', 'metabolicATLAS': 'hexdicoa', 'recon3d': 'hexdicoa_x'}\n",
      "{'PubChem': '', 'KEGG': '', 'HMDB': '', 'ChEBI': '', 'MetaNetX': '', 'metabolicATLAS': 'hexdicoa', 'recon3d': 'hexdicoa_c'} {'PubChem': '', 'KEGG': '', 'HMDB': '', 'ChEBI': '', 'MetaNetX': '', 'metabolicATLAS': 'hexdicoa', 'recon3d': 'hexdicoa_r'}\n",
      "{'PubChem': '', 'KEGG': '', 'HMDB': '', 'ChEBI': '', 'MetaNetX': '', 'metabolicATLAS': '3octdece1coa', 'recon3d': '3octdece1coa_c'} {'PubChem': '', 'KEGG': '', 'HMDB': '', 'ChEBI': '', 'MetaNetX': '', 'metabolicATLAS': '3octdece1coa', 'recon3d': '3octdece1coa_m'}\n",
      "{'PubChem': '', 'KEGG': '', 'HMDB': '', 'ChEBI': '', 'MetaNetX': '', 'metabolicATLAS': '3ocddcoa', 'recon3d': '3ocddcoa_c'} {'PubChem': '', 'KEGG': '', 'HMDB': '', 'ChEBI': '', 'MetaNetX': '', 'metabolicATLAS': '3ocddcoa', 'recon3d': '3ocddcoa_m'}\n",
      "{'PubChem': '', 'KEGG': '', 'HMDB': '', 'ChEBI': '', 'MetaNetX': '', 'metabolicATLAS': '2octdectecoa', 'recon3d': '2octdectecoa_m'} {'PubChem': '', 'KEGG': '', 'HMDB': '', 'ChEBI': '', 'MetaNetX': '', 'metabolicATLAS': '2octdectecoa', 'recon3d': '2octdectecoa_x'}\n",
      "{'PubChem': '', 'KEGG': '', 'HMDB': '', 'ChEBI': '', 'MetaNetX': '', 'metabolicATLAS': '3octdectecoa', 'recon3d': '3octdectecoa_m'} {'PubChem': '', 'KEGG': '', 'HMDB': '', 'ChEBI': '', 'MetaNetX': '', 'metabolicATLAS': '3octdectecoa', 'recon3d': '3octdectecoa_x'}\n",
      "{'PubChem': '49859586', 'KEGG': '', 'HMDB': '', 'ChEBI': '', 'MetaNetX': 'MNXM31746', 'metabolicATLAS': '3hodcoa', 'recon3d': '3hodcoa_c'} {'PubChem': '49859586', 'KEGG': '', 'HMDB': '', 'ChEBI': '', 'MetaNetX': 'MNXM31746', 'metabolicATLAS': '3hodcoa', 'recon3d': '3hodcoa_m'}\n",
      "{'PubChem': '', 'KEGG': '', 'HMDB': '', 'ChEBI': '', 'MetaNetX': '', 'metabolicATLAS': 'eitetcoa', 'recon3d': 'eitetcoa_m'} {'PubChem': '', 'KEGG': '', 'HMDB': '', 'ChEBI': '', 'MetaNetX': '', 'metabolicATLAS': 'eitetcoa', 'recon3d': 'eitetcoa_x'}\n",
      "{'PubChem': '', 'KEGG': '', 'HMDB': '', 'ChEBI': '', 'MetaNetX': '', 'metabolicATLAS': '2docopencoa', 'recon3d': '2docopencoa_m'} {'PubChem': '', 'KEGG': '', 'HMDB': '', 'ChEBI': '', 'MetaNetX': '', 'metabolicATLAS': '2docopencoa', 'recon3d': '2docopencoa_x'}\n",
      "{'PubChem': '', 'KEGG': '', 'HMDB': '', 'ChEBI': '', 'MetaNetX': '', 'metabolicATLAS': 'docohexcoa', 'recon3d': 'docohexcoa_m'} {'PubChem': '', 'KEGG': '', 'HMDB': '', 'ChEBI': '', 'MetaNetX': '', 'metabolicATLAS': 'docohexcoa', 'recon3d': 'docohexcoa_x'}\n",
      "{'PubChem': '', 'KEGG': '', 'HMDB': '', 'ChEBI': '', 'MetaNetX': '', 'metabolicATLAS': '3docopencoa', 'recon3d': '3docopencoa_m'} {'PubChem': '', 'KEGG': '', 'HMDB': '', 'ChEBI': '', 'MetaNetX': '', 'metabolicATLAS': '3docopencoa', 'recon3d': '3docopencoa_x'}\n",
      "{'PubChem': '', 'KEGG': '', 'HMDB': '', 'ChEBI': '', 'MetaNetX': '', 'metabolicATLAS': '3ivcrn', 'recon3d': '3ivcrn_e'} {'PubChem': '', 'KEGG': '', 'HMDB': '', 'ChEBI': '', 'MetaNetX': '', 'metabolicATLAS': '3ivcrn', 'recon3d': '3ivcrn_c'}\n",
      "{'PubChem': '11953876', 'KEGG': '', 'HMDB': '', 'ChEBI': '', 'MetaNetX': '', 'metabolicATLAS': '3ivcoa', 'recon3d': '3ivcoa_m'} {'PubChem': '11953876', 'KEGG': '', 'HMDB': '', 'ChEBI': '', 'MetaNetX': '', 'metabolicATLAS': '3ivcoa', 'recon3d': '3ivcoa_c'}\n",
      "{'PubChem': '53477848', 'KEGG': '', 'HMDB': '', 'ChEBI': '', 'MetaNetX': '', 'metabolicATLAS': 'hexe3coa', 'recon3d': 'hexe3coa_m'} {'PubChem': '53477848', 'KEGG': '', 'HMDB': '', 'ChEBI': '', 'MetaNetX': '', 'metabolicATLAS': 'hexe3coa', 'recon3d': 'hexe3coa_x'}\n",
      "{'PubChem': '10459', 'KEGG': '', 'HMDB': '', 'ChEBI': '', 'MetaNetX': '', 'metabolicATLAS': 'hexdiac', 'recon3d': 'hexdiac_r'} {'PubChem': '10459', 'KEGG': '', 'HMDB': '', 'ChEBI': '', 'MetaNetX': '', 'metabolicATLAS': 'hexdiac', 'recon3d': 'hexdiac_c'}\n",
      "{'PubChem': '5282922', 'KEGG': '', 'HMDB': '', 'ChEBI': '', 'MetaNetX': '', 'metabolicATLAS': 'omhdocosac', 'recon3d': 'omhdocosac_r'} {'PubChem': '5282922', 'KEGG': '', 'HMDB': '', 'ChEBI': '', 'MetaNetX': '', 'metabolicATLAS': 'omhdocosac', 'recon3d': 'omhdocosac_c'}\n",
      "{'PubChem': '', 'KEGG': '', 'HMDB': '', 'ChEBI': '', 'MetaNetX': 'MNXM163916', 'metabolicATLAS': 'omhdecacid', 'recon3d': 'omhdecacid_r'} {'PubChem': '', 'KEGG': '', 'HMDB': '', 'ChEBI': '', 'MetaNetX': 'MNXM163916', 'metabolicATLAS': 'omhdecacid', 'recon3d': 'omhdecacid_c'}\n",
      "{'PubChem': '53477830', 'KEGG': '', 'HMDB': '', 'ChEBI': '', 'MetaNetX': 'MNXM163638', 'metabolicATLAS': 'ocdececrn', 'recon3d': 'ocdececrn_c'} {'PubChem': '53477830', 'KEGG': '', 'HMDB': '', 'ChEBI': '', 'MetaNetX': 'MNXM163638', 'metabolicATLAS': 'ocdececrn', 'recon3d': 'ocdececrn_m'}\n",
      "{'PubChem': '', 'KEGG': '', 'HMDB': '', 'ChEBI': '', 'MetaNetX': '', 'metabolicATLAS': 'octdececrn', 'recon3d': 'octdececrn_c'} {'PubChem': '', 'KEGG': '', 'HMDB': '', 'ChEBI': '', 'MetaNetX': '', 'metabolicATLAS': 'octdececrn', 'recon3d': 'octdececrn_m'}\n",
      "{'PubChem': '', 'KEGG': '', 'HMDB': '', 'ChEBI': '', 'MetaNetX': '', 'metabolicATLAS': 'octdececoa', 'recon3d': 'octdececoa_m'} {'PubChem': '', 'KEGG': '', 'HMDB': '', 'ChEBI': '', 'MetaNetX': '', 'metabolicATLAS': 'octdececoa', 'recon3d': 'octdececoa_c'}\n",
      "{'PubChem': '5192', 'KEGG': 'C08277', 'HMDB': 'HMDB00792', 'ChEBI': 'CHEBI:41865', 'MetaNetX': 'MNXM163575', 'metabolicATLAS': 'sebacid', 'recon3d': 'sebacid_c'} {'PubChem': '5192', 'KEGG': 'C08277', 'HMDB': 'HMDB00792', 'ChEBI': 'CHEBI:41865', 'MetaNetX': 'MNXM163575', 'metabolicATLAS': 'sebacid', 'recon3d': 'sebacid_x'}\n",
      "{'PubChem': '10457', 'KEGG': 'C08278', 'HMDB': 'HMDB00893', 'ChEBI': 'CHEBI:9300', 'MetaNetX': 'MNXM12964', 'metabolicATLAS': 'subeac', 'recon3d': 'subeac_x'} {'PubChem': '10457', 'KEGG': 'C08278', 'HMDB': 'HMDB00893', 'ChEBI': 'CHEBI:9300', 'MetaNetX': 'MNXM12964', 'metabolicATLAS': 'subeac', 'recon3d': 'subeac_c'}\n",
      "{'PubChem': '', 'KEGG': '', 'HMDB': '', 'ChEBI': '', 'MetaNetX': 'MNXM162999; MNXM162999', 'metabolicATLAS': 'c8dc', 'recon3d': 'c8dc_c'} {'PubChem': '', 'KEGG': '', 'HMDB': '', 'ChEBI': '', 'MetaNetX': 'MNXM162999', 'metabolicATLAS': 'c8dc', 'recon3d': 'c8dc_x'}\n",
      "{'PubChem': '5460362', 'KEGG': '', 'HMDB': '', 'ChEBI': '', 'MetaNetX': 'MNXM669', 'metabolicATLAS': 'alaala', 'recon3d': 'alaala_c'} {'PubChem': '5460362', 'KEGG': '', 'HMDB': '', 'ChEBI': '', 'MetaNetX': 'MNXM669', 'metabolicATLAS': 'alaala', 'recon3d': 'alaala_e'}\n",
      "{'PubChem': '11163', 'KEGG': '', 'HMDB': '', 'ChEBI': '', 'MetaNetX': 'MNXM4002', 'metabolicATLAS': 'glygly', 'recon3d': 'glygly_c'} {'PubChem': '11163', 'KEGG': '', 'HMDB': '', 'ChEBI': '', 'MetaNetX': 'MNXM4002', 'metabolicATLAS': 'glygly', 'recon3d': 'glygly_e'}\n",
      "{'PubChem': '', 'KEGG': '', 'HMDB': 'HMDB0028848', 'ChEBI': '', 'MetaNetX': 'MNXM8669', 'metabolicATLAS': 'glyphe', 'recon3d': 'glyphe_e'} {'PubChem': '', 'KEGG': '', 'HMDB': 'HMDB0028848', 'ChEBI': '', 'MetaNetX': 'MNXM8669', 'metabolicATLAS': 'glyphe', 'recon3d': 'glyphe_c'}\n",
      "{'PubChem': '79101', 'KEGG': '', 'HMDB': 'HMDB00721', 'ChEBI': 'CHEBI:356660', 'MetaNetX': 'MNXM11725', 'metabolicATLAS': 'glypro', 'recon3d': 'glypro_e'} {'PubChem': '79101', 'KEGG': '', 'HMDB': 'HMDB00721', 'ChEBI': 'CHEBI:356660', 'MetaNetX': 'MNXM11725', 'metabolicATLAS': 'glypro', 'recon3d': 'glypro_c'}\n",
      "{'PubChem': '93131', 'KEGG': '', 'HMDB': '', 'ChEBI': '', 'MetaNetX': 'MNXM55458', 'metabolicATLAS': 'glysar', 'recon3d': 'glysar_c'} {'PubChem': '93131', 'KEGG': '', 'HMDB': '', 'ChEBI': '', 'MetaNetX': 'MNXM55458', 'metabolicATLAS': 'glysar', 'recon3d': 'glysar_e'}\n",
      "{'PubChem': '', 'KEGG': '', 'HMDB': 'HMDB0028929', 'ChEBI': '', 'MetaNetX': 'MNXM127273', 'metabolicATLAS': 'leugly', 'recon3d': 'leugly_e'} {'PubChem': '', 'KEGG': '', 'HMDB': 'HMDB0028929', 'ChEBI': '', 'MetaNetX': 'MNXM127273', 'metabolicATLAS': 'leugly', 'recon3d': 'leugly_c'}\n",
      "{'PubChem': '94244', 'KEGG': '', 'HMDB': '', 'ChEBI': '', 'MetaNetX': 'MNXM157161', 'metabolicATLAS': 'leuleu', 'recon3d': 'leuleu_c'} {'PubChem': '94244', 'KEGG': '', 'HMDB': '', 'ChEBI': '', 'MetaNetX': 'MNXM157161', 'metabolicATLAS': 'leuleu', 'recon3d': 'leuleu_e'}\n",
      "{'PubChem': '6426709', 'KEGG': '', 'HMDB': '', 'ChEBI': '', 'MetaNetX': 'MNXM7481', 'metabolicATLAS': 'progly', 'recon3d': 'progly_e'} {'PubChem': '6426709', 'KEGG': '', 'HMDB': '', 'ChEBI': '', 'MetaNetX': 'MNXM7481', 'metabolicATLAS': 'progly', 'recon3d': 'progly_c'}\n",
      "{'PubChem': '115015', 'KEGG': 'C05824', 'HMDB': 'HMDB00731', 'ChEBI': 'CHEBI:27891', 'MetaNetX': 'MNXM2428', 'metabolicATLAS': 'slfcys', 'recon3d': 'slfcys_e'} {'PubChem': '115015', 'KEGG': 'C05824', 'HMDB': 'HMDB00731', 'ChEBI': 'CHEBI:27891', 'MetaNetX': 'MNXM2428', 'metabolicATLAS': 'slfcys', 'recon3d': 'slfcys_c'}\n",
      "{'PubChem': '', 'KEGG': '', 'HMDB': '', 'ChEBI': '', 'MetaNetX': 'MNXM163842; MNXM163842', 'metabolicATLAS': 'alpa_hs', 'recon3d': 'alpa_hs_c'} {'PubChem': '', 'KEGG': '', 'HMDB': '', 'ChEBI': '', 'MetaNetX': 'MNXM163842', 'metabolicATLAS': 'alpa_hs', 'recon3d': 'alpa_hs_x'}\n",
      "{'PubChem': '', 'KEGG': '', 'HMDB': '', 'ChEBI': '', 'MetaNetX': '', 'metabolicATLAS': 'xolest183_hs', 'recon3d': 'xolest183_hs_e'} {'PubChem': '', 'KEGG': '', 'HMDB': '', 'ChEBI': '', 'MetaNetX': '', 'metabolicATLAS': 'xolest183_hs', 'recon3d': 'xolest183_hs_l'}\n",
      "{'PubChem': '', 'KEGG': '', 'HMDB': '', 'ChEBI': '', 'MetaNetX': '', 'metabolicATLAS': 'xolest181_hs', 'recon3d': 'xolest181_hs_e'} {'PubChem': '', 'KEGG': '', 'HMDB': '', 'ChEBI': '', 'MetaNetX': '', 'metabolicATLAS': 'xolest181_hs', 'recon3d': 'xolest181_hs_l'}\n",
      "{'PubChem': '', 'KEGG': '', 'HMDB': '', 'ChEBI': '', 'MetaNetX': '', 'metabolicATLAS': 'xolest205_hs', 'recon3d': 'xolest205_hs_e'} {'PubChem': '', 'KEGG': '', 'HMDB': '', 'ChEBI': '', 'MetaNetX': '', 'metabolicATLAS': 'xolest205_hs', 'recon3d': 'xolest205_hs_l'}\n",
      "{'PubChem': '', 'KEGG': '', 'HMDB': '', 'ChEBI': '', 'MetaNetX': '', 'metabolicATLAS': 'xolest204_hs', 'recon3d': 'xolest204_hs_e'} {'PubChem': '', 'KEGG': '', 'HMDB': '', 'ChEBI': '', 'MetaNetX': '', 'metabolicATLAS': 'xolest204_hs', 'recon3d': 'xolest204_hs_l'}\n",
      "{'PubChem': '', 'KEGG': '', 'HMDB': '', 'ChEBI': '', 'MetaNetX': '', 'metabolicATLAS': 'xolest226_hs', 'recon3d': 'xolest226_hs_e'} {'PubChem': '', 'KEGG': '', 'HMDB': '', 'ChEBI': '', 'MetaNetX': '', 'metabolicATLAS': 'xolest226_hs', 'recon3d': 'xolest226_hs_l'}\n",
      "{'PubChem': '53480465', 'KEGG': 'C04230', 'HMDB': 'HMDB10385', 'ChEBI': '', 'MetaNetX': '', 'metabolicATLAS': 'pcholmyr_hs', 'recon3d': 'pcholmyr_hs_e'} {'PubChem': '53480465', 'KEGG': 'C04230', 'HMDB': 'HMDB10385', 'ChEBI': '', 'MetaNetX': '', 'metabolicATLAS': 'pcholmyr_hs', 'recon3d': 'pcholmyr_hs_c'}\n",
      "{'PubChem': '16081932', 'KEGG': 'C04230', 'HMDB': 'HMDB02815  ', 'ChEBI': '', 'MetaNetX': '', 'metabolicATLAS': 'pcholole_hs', 'recon3d': 'pcholole_hs_e'} {'PubChem': '16081932', 'KEGG': 'C04230', 'HMDB': 'HMDB02815  ', 'ChEBI': '', 'MetaNetX': '', 'metabolicATLAS': 'pcholole_hs', 'recon3d': 'pcholole_hs_c'}\n",
      "{'PubChem': '', 'KEGG': '', 'HMDB': '', 'ChEBI': '', 'MetaNetX': '', 'metabolicATLAS': 'peole_hs', 'recon3d': 'peole_hs_e'} {'PubChem': '', 'KEGG': '', 'HMDB': '', 'ChEBI': '', 'MetaNetX': '', 'metabolicATLAS': 'peole_hs', 'recon3d': 'peole_hs_c'}\n",
      "{'PubChem': '', 'KEGG': '', 'HMDB': '', 'ChEBI': '', 'MetaNetX': '', 'metabolicATLAS': 'pcholpalme_hs', 'recon3d': 'pcholpalme_hs_e'} {'PubChem': '', 'KEGG': '', 'HMDB': '', 'ChEBI': '', 'MetaNetX': '', 'metabolicATLAS': 'pcholpalme_hs', 'recon3d': 'pcholpalme_hs_c'}\n",
      "{'PubChem': '', 'KEGG': '', 'HMDB': '', 'ChEBI': '', 'MetaNetX': '', 'metabolicATLAS': 'pcholpalm_hs', 'recon3d': 'pcholpalm_hs_e'} {'PubChem': '', 'KEGG': '', 'HMDB': '', 'ChEBI': '', 'MetaNetX': '', 'metabolicATLAS': 'pcholpalm_hs', 'recon3d': 'pcholpalm_hs_c'}\n",
      "{'PubChem': '', 'KEGG': '', 'HMDB': '', 'ChEBI': '', 'MetaNetX': '', 'metabolicATLAS': 'pepalm_hs', 'recon3d': 'pepalm_hs_e'} {'PubChem': '', 'KEGG': '', 'HMDB': '', 'ChEBI': '', 'MetaNetX': '', 'metabolicATLAS': 'pepalm_hs', 'recon3d': 'pepalm_hs_c'}\n",
      "{'PubChem': '', 'KEGG': '', 'HMDB': '', 'ChEBI': '', 'MetaNetX': '', 'metabolicATLAS': 'pailpalm_hs', 'recon3d': 'pailpalm_hs_e'} {'PubChem': '', 'KEGG': '', 'HMDB': '', 'ChEBI': '', 'MetaNetX': '', 'metabolicATLAS': 'pailpalm_hs', 'recon3d': 'pailpalm_hs_c'}\n",
      "{'PubChem': '497299', 'KEGG': 'C04230', 'HMDB': 'HMDB10384 ', 'ChEBI': '', 'MetaNetX': '', 'metabolicATLAS': 'pcholste_hs', 'recon3d': 'pcholste_hs_e'} {'PubChem': '497299', 'KEGG': 'C04230', 'HMDB': 'HMDB10384 ', 'ChEBI': '', 'MetaNetX': '', 'metabolicATLAS': 'pcholste_hs', 'recon3d': 'pcholste_hs_c'}\n",
      "{'PubChem': '', 'KEGG': '', 'HMDB': '', 'ChEBI': '', 'MetaNetX': '', 'metabolicATLAS': 'pchol2linl_hs', 'recon3d': 'pchol2linl_hs_e'} {'PubChem': '', 'KEGG': '', 'HMDB': '', 'ChEBI': '', 'MetaNetX': '', 'metabolicATLAS': 'pchol2linl_hs', 'recon3d': 'pchol2linl_hs_c'}\n",
      "{'PubChem': '', 'KEGG': '', 'HMDB': '', 'ChEBI': '', 'MetaNetX': '', 'metabolicATLAS': 'pe2linl_hs', 'recon3d': 'pe2linl_hs_e'} {'PubChem': '', 'KEGG': '', 'HMDB': '', 'ChEBI': '', 'MetaNetX': '', 'metabolicATLAS': 'pe2linl_hs', 'recon3d': 'pe2linl_hs_c'}\n",
      "{'PubChem': '', 'KEGG': '', 'HMDB': '', 'ChEBI': '', 'MetaNetX': '', 'metabolicATLAS': 'pchol2ole_hs', 'recon3d': 'pchol2ole_hs_e'} {'PubChem': '', 'KEGG': '', 'HMDB': '', 'ChEBI': '', 'MetaNetX': '', 'metabolicATLAS': 'pchol2ole_hs', 'recon3d': 'pchol2ole_hs_c'}\n",
      "{'PubChem': '', 'KEGG': '', 'HMDB': '', 'ChEBI': '', 'MetaNetX': '', 'metabolicATLAS': 'pchol2palm_hs', 'recon3d': 'pchol2palm_hs_e'} {'PubChem': '', 'KEGG': '', 'HMDB': '', 'ChEBI': '', 'MetaNetX': '', 'metabolicATLAS': 'pchol2palm_hs', 'recon3d': 'pchol2palm_hs_c'}\n",
      "{'PubChem': '', 'KEGG': '', 'HMDB': '', 'ChEBI': '', 'MetaNetX': '', 'metabolicATLAS': 'pchol2ste_hs', 'recon3d': 'pchol2ste_hs_e'} {'PubChem': '', 'KEGG': '', 'HMDB': '', 'ChEBI': '', 'MetaNetX': '', 'metabolicATLAS': 'pchol2ste_hs', 'recon3d': 'pchol2ste_hs_c'}\n",
      "{'PubChem': '', 'KEGG': '', 'HMDB': '', 'ChEBI': '', 'MetaNetX': '', 'metabolicATLAS': 'pcholn15_hs', 'recon3d': 'pcholn15_hs_e'} {'PubChem': '', 'KEGG': '', 'HMDB': '', 'ChEBI': '', 'MetaNetX': '', 'metabolicATLAS': 'pcholn15_hs', 'recon3d': 'pcholn15_hs_c'}\n",
      "{'PubChem': '', 'KEGG': '', 'HMDB': '', 'ChEBI': '', 'MetaNetX': '', 'metabolicATLAS': 'pcholar_hs', 'recon3d': 'pcholar_hs_e'} {'PubChem': '', 'KEGG': '', 'HMDB': '', 'ChEBI': '', 'MetaNetX': '', 'metabolicATLAS': 'pcholar_hs', 'recon3d': 'pcholar_hs_c'}\n",
      "{'PubChem': '', 'KEGG': '', 'HMDB': '', 'ChEBI': '', 'MetaNetX': '', 'metabolicATLAS': 'pcholn183_hs', 'recon3d': 'pcholn183_hs_e'} {'PubChem': '', 'KEGG': '', 'HMDB': '', 'ChEBI': '', 'MetaNetX': '', 'metabolicATLAS': 'pcholn183_hs', 'recon3d': 'pcholn183_hs_c'}\n",
      "{'PubChem': '', 'KEGG': '', 'HMDB': '', 'ChEBI': '', 'MetaNetX': '', 'metabolicATLAS': 'pcholn1836_hs', 'recon3d': 'pcholn1836_hs_e'} {'PubChem': '', 'KEGG': '', 'HMDB': '', 'ChEBI': '', 'MetaNetX': '', 'metabolicATLAS': 'pcholn1836_hs', 'recon3d': 'pcholn1836_hs_c'}\n",
      "{'PubChem': '', 'KEGG': '', 'HMDB': '', 'ChEBI': '', 'MetaNetX': '', 'metabolicATLAS': 'pcholn19_hs', 'recon3d': 'pcholn19_hs_e'} {'PubChem': '', 'KEGG': '', 'HMDB': '', 'ChEBI': '', 'MetaNetX': '', 'metabolicATLAS': 'pcholn19_hs', 'recon3d': 'pcholn19_hs_c'}\n",
      "{'PubChem': '', 'KEGG': '', 'HMDB': '', 'ChEBI': '', 'MetaNetX': '', 'metabolicATLAS': 'pcholn201_hs', 'recon3d': 'pcholn201_hs_e'} {'PubChem': '', 'KEGG': '', 'HMDB': '', 'ChEBI': '', 'MetaNetX': '', 'metabolicATLAS': 'pcholn201_hs', 'recon3d': 'pcholn201_hs_c'}\n",
      "{'PubChem': '53480469', 'KEGG': 'C04230', 'HMDB': 'HMDB10396', 'ChEBI': '', 'MetaNetX': '', 'metabolicATLAS': 'pcholn204_hs', 'recon3d': 'pcholn204_hs_e'} {'PubChem': '53480469', 'KEGG': 'C04230', 'HMDB': 'HMDB10396', 'ChEBI': '', 'MetaNetX': '', 'metabolicATLAS': 'pcholn204_hs', 'recon3d': 'pcholn204_hs_c'}\n",
      "{'PubChem': '', 'KEGG': '', 'HMDB': '', 'ChEBI': '', 'MetaNetX': '', 'metabolicATLAS': 'pcholn205_hs', 'recon3d': 'pcholn205_hs_e'} {'PubChem': '', 'KEGG': '', 'HMDB': '', 'ChEBI': '', 'MetaNetX': '', 'metabolicATLAS': 'pcholn205_hs', 'recon3d': 'pcholn205_hs_c'}\n",
      "{'PubChem': '', 'KEGG': '', 'HMDB': '', 'ChEBI': '', 'MetaNetX': '', 'metabolicATLAS': 'pcholn224_hs', 'recon3d': 'pcholn224_hs_e'} {'PubChem': '', 'KEGG': '', 'HMDB': '', 'ChEBI': '', 'MetaNetX': '', 'metabolicATLAS': 'pcholn224_hs', 'recon3d': 'pcholn224_hs_c'}\n",
      "{'PubChem': '', 'KEGG': '', 'HMDB': '', 'ChEBI': '', 'MetaNetX': '', 'metabolicATLAS': 'pcholn225_hs', 'recon3d': 'pcholn225_hs_e'} {'PubChem': '', 'KEGG': '', 'HMDB': '', 'ChEBI': '', 'MetaNetX': '', 'metabolicATLAS': 'pcholn225_hs', 'recon3d': 'pcholn225_hs_c'}\n",
      "{'PubChem': '', 'KEGG': '', 'HMDB': '', 'ChEBI': '', 'MetaNetX': '', 'metabolicATLAS': 'pcholn2254_hs', 'recon3d': 'pcholn2254_hs_e'} {'PubChem': '', 'KEGG': '', 'HMDB': '', 'ChEBI': '', 'MetaNetX': '', 'metabolicATLAS': 'pcholn2254_hs', 'recon3d': 'pcholn2254_hs_c'}\n",
      "{'PubChem': '', 'KEGG': '', 'HMDB': '', 'ChEBI': '', 'MetaNetX': '', 'metabolicATLAS': 'pcholn226_hs', 'recon3d': 'pcholn226_hs_e'} {'PubChem': '', 'KEGG': '', 'HMDB': '', 'ChEBI': '', 'MetaNetX': '', 'metabolicATLAS': 'pcholn226_hs', 'recon3d': 'pcholn226_hs_c'}\n",
      "{'PubChem': '', 'KEGG': '', 'HMDB': '', 'ChEBI': '', 'MetaNetX': '', 'metabolicATLAS': 'pear_hs', 'recon3d': 'pear_hs_e'} {'PubChem': '', 'KEGG': '', 'HMDB': '', 'ChEBI': '', 'MetaNetX': '', 'metabolicATLAS': 'pear_hs', 'recon3d': 'pear_hs_c'}\n",
      "{'PubChem': '', 'KEGG': '', 'HMDB': '', 'ChEBI': '', 'MetaNetX': '', 'metabolicATLAS': 'pe203_hs', 'recon3d': 'pe203_hs_e'} {'PubChem': '', 'KEGG': '', 'HMDB': '', 'ChEBI': '', 'MetaNetX': '', 'metabolicATLAS': 'pe203_hs', 'recon3d': 'pe203_hs_c'}\n",
      "{'PubChem': '', 'KEGG': '', 'HMDB': '', 'ChEBI': '', 'MetaNetX': '', 'metabolicATLAS': 'pe226_hs', 'recon3d': 'pe226_hs_e'} {'PubChem': '', 'KEGG': '', 'HMDB': '', 'ChEBI': '', 'MetaNetX': '', 'metabolicATLAS': 'pe226_hs', 'recon3d': 'pe226_hs_c'}\n",
      "{'PubChem': '', 'KEGG': '', 'HMDB': '', 'ChEBI': '', 'MetaNetX': '', 'metabolicATLAS': 'pe224_hs', 'recon3d': 'pe224_hs_e'} {'PubChem': '', 'KEGG': '', 'HMDB': '', 'ChEBI': '', 'MetaNetX': '', 'metabolicATLAS': 'pe224_hs', 'recon3d': 'pe224_hs_c'}\n",
      "{'PubChem': '', 'KEGG': '', 'HMDB': '', 'ChEBI': '', 'MetaNetX': '', 'metabolicATLAS': 'pedh203_hs', 'recon3d': 'pedh203_hs_e'} {'PubChem': '', 'KEGG': '', 'HMDB': '', 'ChEBI': '', 'MetaNetX': '', 'metabolicATLAS': 'pedh203_hs', 'recon3d': 'pedh203_hs_c'}\n",
      "{'PubChem': '', 'KEGG': '', 'HMDB': '', 'ChEBI': '', 'MetaNetX': '', 'metabolicATLAS': 'pe12_hs', 'recon3d': 'pe12_hs_e'} {'PubChem': '', 'KEGG': '', 'HMDB': '', 'ChEBI': '', 'MetaNetX': '', 'metabolicATLAS': 'pe12_hs', 'recon3d': 'pe12_hs_c'}\n",
      "{'PubChem': '', 'KEGG': '', 'HMDB': '', 'ChEBI': '', 'MetaNetX': '', 'metabolicATLAS': 'pe14_hs', 'recon3d': 'pe14_hs_e'} {'PubChem': '', 'KEGG': '', 'HMDB': '', 'ChEBI': '', 'MetaNetX': '', 'metabolicATLAS': 'pe14_hs', 'recon3d': 'pe14_hs_c'}\n",
      "{'PubChem': '', 'KEGG': '', 'HMDB': '', 'ChEBI': '', 'MetaNetX': '', 'metabolicATLAS': 'pe161_hs', 'recon3d': 'pe161_hs_e'} {'PubChem': '', 'KEGG': '', 'HMDB': '', 'ChEBI': '', 'MetaNetX': '', 'metabolicATLAS': 'pe161_hs', 'recon3d': 'pe161_hs_c'}\n",
      "{'PubChem': '', 'KEGG': '', 'HMDB': '', 'ChEBI': '', 'MetaNetX': '', 'metabolicATLAS': 'pe13_hs', 'recon3d': 'pe13_hs_e'} {'PubChem': '', 'KEGG': '', 'HMDB': '', 'ChEBI': '', 'MetaNetX': '', 'metabolicATLAS': 'pe13_hs', 'recon3d': 'pe13_hs_c'}\n",
      "{'PubChem': '', 'KEGG': '', 'HMDB': '', 'ChEBI': '', 'MetaNetX': '', 'metabolicATLAS': 'pe15_hs', 'recon3d': 'pe15_hs_e'} {'PubChem': '', 'KEGG': '', 'HMDB': '', 'ChEBI': '', 'MetaNetX': '', 'metabolicATLAS': 'pe15_hs', 'recon3d': 'pe15_hs_c'}\n",
      "{'PubChem': '', 'KEGG': '', 'HMDB': '', 'ChEBI': '', 'MetaNetX': '', 'metabolicATLAS': 'pe17_hs', 'recon3d': 'pe17_hs_e'} {'PubChem': '', 'KEGG': '', 'HMDB': '', 'ChEBI': '', 'MetaNetX': '', 'metabolicATLAS': 'pe17_hs', 'recon3d': 'pe17_hs_c'}\n",
      "{'PubChem': '', 'KEGG': '', 'HMDB': '', 'ChEBI': '', 'MetaNetX': '', 'metabolicATLAS': 'pcholn203_hs', 'recon3d': 'pcholn203_hs_e'} {'PubChem': '', 'KEGG': '', 'HMDB': '', 'ChEBI': '', 'MetaNetX': '', 'metabolicATLAS': 'pcholn203_hs', 'recon3d': 'pcholn203_hs_c'}\n",
      "{'PubChem': '', 'KEGG': '', 'HMDB': '', 'ChEBI': '', 'MetaNetX': '', 'metabolicATLAS': 'pailar_hs', 'recon3d': 'pailar_hs_e'} {'PubChem': '', 'KEGG': '', 'HMDB': '', 'ChEBI': '', 'MetaNetX': '', 'metabolicATLAS': 'pailar_hs', 'recon3d': 'pailar_hs_c'}\n",
      "{'PubChem': '24779481', 'KEGG': 'C04230', 'HMDB': 'HMDB10405', 'ChEBI': '', 'MetaNetX': '', 'metabolicATLAS': 'pcholn24_hs', 'recon3d': 'pcholn24_hs_e'} {'PubChem': '24779481', 'KEGG': 'C04230', 'HMDB': 'HMDB10405', 'ChEBI': '', 'MetaNetX': '', 'metabolicATLAS': 'pcholn24_hs', 'recon3d': 'pcholn24_hs_c'}\n",
      "{'PubChem': '', 'KEGG': '', 'HMDB': '', 'ChEBI': '', 'MetaNetX': '', 'metabolicATLAS': 'pcholn261_hs', 'recon3d': 'pcholn261_hs_e'} {'PubChem': '', 'KEGG': '', 'HMDB': '', 'ChEBI': '', 'MetaNetX': '', 'metabolicATLAS': 'pcholn261_hs', 'recon3d': 'pcholn261_hs_c'}\n",
      "{'PubChem': '', 'KEGG': '', 'HMDB': '', 'ChEBI': '', 'MetaNetX': '', 'metabolicATLAS': 'pcholn281_hs', 'recon3d': 'pcholn281_hs_e'} {'PubChem': '', 'KEGG': '', 'HMDB': '', 'ChEBI': '', 'MetaNetX': '', 'metabolicATLAS': 'pcholn281_hs', 'recon3d': 'pcholn281_hs_c'}\n",
      "{'PubChem': '', 'KEGG': '', 'HMDB': '', 'ChEBI': '', 'MetaNetX': '', 'metabolicATLAS': 'pcholn28_hs', 'recon3d': 'pcholn28_hs_e'} {'PubChem': '', 'KEGG': '', 'HMDB': '', 'ChEBI': '', 'MetaNetX': '', 'metabolicATLAS': 'pcholn28_hs', 'recon3d': 'pcholn28_hs_c'}\n",
      "{'PubChem': '', 'KEGG': '', 'HMDB': '', 'ChEBI': '', 'MetaNetX': '', 'metabolicATLAS': 'pcholdoc_hs', 'recon3d': 'pcholdoc_hs_e'} {'PubChem': '', 'KEGG': '', 'HMDB': '', 'ChEBI': '', 'MetaNetX': '', 'metabolicATLAS': 'pcholdoc_hs', 'recon3d': 'pcholdoc_hs_c'}\n",
      "{'PubChem': '', 'KEGG': '', 'HMDB': '', 'ChEBI': '', 'MetaNetX': '', 'metabolicATLAS': 'pcholeic_hs', 'recon3d': 'pcholeic_hs_e'} {'PubChem': '', 'KEGG': '', 'HMDB': '', 'ChEBI': '', 'MetaNetX': '', 'metabolicATLAS': 'pcholeic_hs', 'recon3d': 'pcholeic_hs_c'}\n",
      "{'PubChem': '', 'KEGG': '', 'HMDB': '', 'ChEBI': '', 'MetaNetX': '', 'metabolicATLAS': 'pcholet_hs', 'recon3d': 'pcholet_hs_e'} {'PubChem': '', 'KEGG': '', 'HMDB': '', 'ChEBI': '', 'MetaNetX': '', 'metabolicATLAS': 'pcholet_hs', 'recon3d': 'pcholet_hs_c'}\n",
      "{'PubChem': '24779463', 'KEGG': 'C04230', 'HMDB': 'HMDB12108', 'ChEBI': 'CHEBI:580913', 'MetaNetX': '', 'metabolicATLAS': 'pcholhep_hs', 'recon3d': 'pcholhep_hs_e'} {'PubChem': '24779463', 'KEGG': 'C04230', 'HMDB': 'HMDB12108', 'ChEBI': 'CHEBI:580913', 'MetaNetX': '', 'metabolicATLAS': 'pcholhep_hs', 'recon3d': 'pcholhep_hs_c'}\n",
      "{'PubChem': '', 'KEGG': '', 'HMDB': '', 'ChEBI': '', 'MetaNetX': '', 'metabolicATLAS': 'pchollinl_hs', 'recon3d': 'pchollinl_hs_e'} {'PubChem': '', 'KEGG': '', 'HMDB': '', 'ChEBI': '', 'MetaNetX': '', 'metabolicATLAS': 'pchollinl_hs', 'recon3d': 'pchollinl_hs_c'}\n",
      "{'PubChem': '', 'KEGG': '', 'HMDB': '', 'ChEBI': '', 'MetaNetX': '', 'metabolicATLAS': 'pelinl_hs', 'recon3d': 'pelinl_hs_e'} {'PubChem': '', 'KEGG': '', 'HMDB': '', 'ChEBI': '', 'MetaNetX': '', 'metabolicATLAS': 'pelinl_hs', 'recon3d': 'pelinl_hs_c'}\n",
      "{'PubChem': '', 'KEGG': '', 'HMDB': '', 'ChEBI': '', 'MetaNetX': 'MNXM2782', 'metabolicATLAS': '3mtp', 'recon3d': '3mtp_c'} {'PubChem': '', 'KEGG': '', 'HMDB': '', 'ChEBI': '', 'MetaNetX': 'MNXM2782', 'metabolicATLAS': '3mtp', 'recon3d': '3mtp_e'}\n",
      "{'PubChem': '', 'KEGG': '', 'HMDB': '', 'ChEBI': '', 'MetaNetX': '', 'metabolicATLAS': 'phlac', 'recon3d': 'phlac_c'} {'PubChem': '', 'KEGG': '', 'HMDB': '', 'ChEBI': '', 'MetaNetX': '', 'metabolicATLAS': 'phlac', 'recon3d': 'phlac_e'}\n",
      "{'PubChem': '', 'KEGG': '', 'HMDB': '', 'ChEBI': '', 'MetaNetX': '', 'metabolicATLAS': '15kprostgf2', 'recon3d': '15kprostgf2_c'} {'PubChem': '', 'KEGG': '', 'HMDB': '', 'ChEBI': '', 'MetaNetX': '', 'metabolicATLAS': '15kprostgf2', 'recon3d': '15kprostgf2_e'}\n",
      "{'PubChem': '', 'KEGG': '', 'HMDB': '', 'ChEBI': '', 'MetaNetX': '', 'metabolicATLAS': '21hprgnlone', 'recon3d': '21hprgnlone_c'} {'PubChem': '', 'KEGG': '', 'HMDB': '', 'ChEBI': '', 'MetaNetX': '', 'metabolicATLAS': '21hprgnlone', 'recon3d': '21hprgnlone_e'}\n",
      "{'PubChem': '', 'KEGG': '', 'HMDB': '', 'ChEBI': '', 'MetaNetX': '', 'metabolicATLAS': '3hpppnohgluc', 'recon3d': '3hpppnohgluc_c'} {'PubChem': '', 'KEGG': '', 'HMDB': '', 'ChEBI': '', 'MetaNetX': '', 'metabolicATLAS': '3hpppnohgluc', 'recon3d': '3hpppnohgluc_e'}\n",
      "{'PubChem': '', 'KEGG': '', 'HMDB': '', 'ChEBI': '', 'MetaNetX': '', 'metabolicATLAS': '3mhis', 'recon3d': '3mhis_c'} {'PubChem': '', 'KEGG': '', 'HMDB': '', 'ChEBI': '', 'MetaNetX': '', 'metabolicATLAS': '3mhis', 'recon3d': '3mhis_e'}\n",
      "{'PubChem': '', 'KEGG': '', 'HMDB': '', 'ChEBI': '', 'MetaNetX': 'MNXM1018', 'metabolicATLAS': 'abt_D', 'recon3d': 'abt_D_e'} {'PubChem': '', 'KEGG': '', 'HMDB': '', 'ChEBI': '', 'MetaNetX': 'MNXM1018', 'metabolicATLAS': 'abt_D', 'recon3d': 'abt_D_c'}\n",
      "{'PubChem': '', 'KEGG': '', 'HMDB': '', 'ChEBI': '', 'MetaNetX': '', 'metabolicATLAS': 'acgly', 'recon3d': 'acgly_m'} {'PubChem': '', 'KEGG': '', 'HMDB': '', 'ChEBI': '', 'MetaNetX': '', 'metabolicATLAS': 'acgly', 'recon3d': 'acgly_c'}\n",
      "{'PubChem': '', 'KEGG': '', 'HMDB': '', 'ChEBI': '', 'MetaNetX': '', 'metabolicATLAS': 'acgly', 'recon3d': 'acgly_m'} {'PubChem': '', 'KEGG': '', 'HMDB': '', 'ChEBI': '', 'MetaNetX': '', 'metabolicATLAS': 'acgly', 'recon3d': 'acgly_e'}\n",
      "{'PubChem': '', 'KEGG': '', 'HMDB': '', 'ChEBI': '', 'MetaNetX': '', 'metabolicATLAS': 'aclys', 'recon3d': 'aclys_c'} {'PubChem': '', 'KEGG': '', 'HMDB': '', 'ChEBI': '', 'MetaNetX': '', 'metabolicATLAS': 'aclys', 'recon3d': 'aclys_e'}\n",
      "{'PubChem': '', 'KEGG': '', 'HMDB': '', 'ChEBI': '', 'MetaNetX': '', 'metabolicATLAS': 'aclys', 'recon3d': 'aclys_c'} {'PubChem': '', 'KEGG': '', 'HMDB': '', 'ChEBI': '', 'MetaNetX': '', 'metabolicATLAS': 'aclys', 'recon3d': 'aclys_m'}\n",
      "{'PubChem': '', 'KEGG': '', 'HMDB': '', 'ChEBI': '', 'MetaNetX': '', 'metabolicATLAS': 'acthr_L', 'recon3d': 'acthr_L_m'} {'PubChem': '', 'KEGG': '', 'HMDB': '', 'ChEBI': '', 'MetaNetX': '', 'metabolicATLAS': 'acthr_L', 'recon3d': 'acthr_L_c'}\n",
      "{'PubChem': '', 'KEGG': '', 'HMDB': '', 'ChEBI': '', 'MetaNetX': '', 'metabolicATLAS': 'acthr_L', 'recon3d': 'acthr_L_m'} {'PubChem': '', 'KEGG': '', 'HMDB': '', 'ChEBI': '', 'MetaNetX': '', 'metabolicATLAS': 'acthr_L', 'recon3d': 'acthr_L_e'}\n",
      "{'PubChem': '196', 'KEGG': 'C06104', 'HMDB': 'HMDB00448', 'ChEBI': 'CHEBI:30832', 'MetaNetX': 'MNXM163728; MNXM163728', 'metabolicATLAS': 'adpac', 'recon3d': 'adpac_c'} {'PubChem': '196', 'KEGG': 'C06104', 'HMDB': 'HMDB00448', 'ChEBI': 'CHEBI:30832', 'MetaNetX': 'MNXM163728', 'metabolicATLAS': 'adpac', 'recon3d': 'adpac_e'}\n",
      "{'PubChem': '', 'KEGG': '', 'HMDB': '', 'ChEBI': '', 'MetaNetX': '', 'metabolicATLAS': 'adpoh', 'recon3d': 'adpoh_c'} {'PubChem': '', 'KEGG': '', 'HMDB': '', 'ChEBI': '', 'MetaNetX': '', 'metabolicATLAS': 'adpoh', 'recon3d': 'adpoh_e'}\n",
      "{'PubChem': '', 'KEGG': '', 'HMDB': '', 'ChEBI': '', 'MetaNetX': '', 'metabolicATLAS': 'and19one', 'recon3d': 'and19one_c'} {'PubChem': '', 'KEGG': '', 'HMDB': '', 'ChEBI': '', 'MetaNetX': '', 'metabolicATLAS': 'and19one', 'recon3d': 'and19one_e'}\n",
      "{'PubChem': '129846', 'KEGG': '', 'HMDB': '', 'ChEBI': '', 'MetaNetX': 'MNXM164395; MNXM164395', 'metabolicATLAS': 'CE1297', 'recon3d': 'CE1297_c'} {'PubChem': '129846', 'KEGG': '', 'HMDB': '', 'ChEBI': '', 'MetaNetX': 'MNXM164395', 'metabolicATLAS': 'CE1297', 'recon3d': 'CE1297_e'}\n",
      "{'PubChem': '5280581', 'KEGG': 'C03242', 'HMDB': 'HMDB02925', 'ChEBI': 'CHEBI:53486', 'MetaNetX': 'MNXM5607', 'metabolicATLAS': 'CE2516', 'recon3d': 'CE2516_c'} {'PubChem': '5280581', 'KEGG': 'C03242', 'HMDB': 'HMDB02925', 'ChEBI': 'CHEBI:53486', 'MetaNetX': '', 'metabolicATLAS': 'CE2516', 'recon3d': 'CE2516_e'}\n",
      "{'PubChem': '6439848', 'KEGG': 'C16525', 'HMDB': 'HMDB05060', 'ChEBI': 'CHEBI:603631', 'MetaNetX': '', 'metabolicATLAS': 'eidi1114ac', 'recon3d': 'eidi1114ac_c'} {'PubChem': '6439848', 'KEGG': 'C16525', 'HMDB': 'HMDB05060', 'ChEBI': 'CHEBI:603631', 'MetaNetX': '', 'metabolicATLAS': 'eidi1114ac', 'recon3d': 'eidi1114ac_e'}\n",
      "{'PubChem': '12736', 'KEGG': '', 'HMDB': '', 'ChEBI': '', 'MetaNetX': '', 'metabolicATLAS': 'dodecanac', 'recon3d': 'dodecanac_x'} {'PubChem': '12736', 'KEGG': '', 'HMDB': '', 'ChEBI': '', 'MetaNetX': '', 'metabolicATLAS': 'dodecanac', 'recon3d': 'dodecanac_e'}\n",
      "{'PubChem': '10459', 'KEGG': '', 'HMDB': '', 'ChEBI': '', 'MetaNetX': '', 'metabolicATLAS': 'hexdiac', 'recon3d': 'hexdiac_r'} {'PubChem': '10459', 'KEGG': '', 'HMDB': '', 'ChEBI': '', 'MetaNetX': '', 'metabolicATLAS': 'hexdiac', 'recon3d': 'hexdiac_e'}\n",
      "{'PubChem': '', 'KEGG': '', 'HMDB': '', 'ChEBI': '', 'MetaNetX': '', 'metabolicATLAS': 'hmcarn', 'recon3d': 'hmcarn_c'} {'PubChem': '', 'KEGG': '', 'HMDB': '', 'ChEBI': '', 'MetaNetX': '', 'metabolicATLAS': 'hmcarn', 'recon3d': 'hmcarn_e'}\n",
      "{'PubChem': '', 'KEGG': '', 'HMDB': '', 'ChEBI': '', 'MetaNetX': '', 'metabolicATLAS': 'hmcr', 'recon3d': 'hmcr_c'} {'PubChem': '', 'KEGG': '', 'HMDB': '', 'ChEBI': '', 'MetaNetX': '', 'metabolicATLAS': 'hmcr', 'recon3d': 'hmcr_e'}\n",
      "{'PubChem': '5192', 'KEGG': 'C08277', 'HMDB': 'HMDB00792', 'ChEBI': 'CHEBI:41865', 'MetaNetX': 'MNXM163575; MNXM163575', 'metabolicATLAS': 'sebacid', 'recon3d': 'sebacid_c'} {'PubChem': '5192', 'KEGG': 'C08277', 'HMDB': 'HMDB00792', 'ChEBI': 'CHEBI:41865', 'MetaNetX': 'MNXM163575', 'metabolicATLAS': 'sebacid', 'recon3d': 'sebacid_e'}\n",
      "{'PubChem': '', 'KEGG': '', 'HMDB': '', 'ChEBI': '', 'MetaNetX': '', 'metabolicATLAS': 'sphmyln180241_hs', 'recon3d': 'sphmyln180241_hs_c'} {'PubChem': '', 'KEGG': '', 'HMDB': '', 'ChEBI': '', 'MetaNetX': '', 'metabolicATLAS': 'sphmyln180241_hs', 'recon3d': 'sphmyln180241_hs_e'}\n",
      "{'PubChem': '', 'KEGG': '', 'HMDB': '', 'ChEBI': '', 'MetaNetX': '', 'metabolicATLAS': 'sphmyln18114_hs', 'recon3d': 'sphmyln18114_hs_c'} {'PubChem': '', 'KEGG': '', 'HMDB': '', 'ChEBI': '', 'MetaNetX': '', 'metabolicATLAS': 'sphmyln18114_hs', 'recon3d': 'sphmyln18114_hs_e'}\n",
      "{'PubChem': '', 'KEGG': '', 'HMDB': '', 'ChEBI': '', 'MetaNetX': '', 'metabolicATLAS': 'sphmyln18115_hs', 'recon3d': 'sphmyln18115_hs_c'} {'PubChem': '', 'KEGG': '', 'HMDB': '', 'ChEBI': '', 'MetaNetX': '', 'metabolicATLAS': 'sphmyln18115_hs', 'recon3d': 'sphmyln18115_hs_e'}\n",
      "{'PubChem': '', 'KEGG': '', 'HMDB': '', 'ChEBI': '', 'MetaNetX': '', 'metabolicATLAS': 'sphmyln18116_hs', 'recon3d': 'sphmyln18116_hs_c'} {'PubChem': '', 'KEGG': '', 'HMDB': '', 'ChEBI': '', 'MetaNetX': '', 'metabolicATLAS': 'sphmyln18116_hs', 'recon3d': 'sphmyln18116_hs_e'}\n",
      "{'PubChem': '', 'KEGG': '', 'HMDB': '', 'ChEBI': '', 'MetaNetX': '', 'metabolicATLAS': 'sphmyln181161_hs', 'recon3d': 'sphmyln181161_hs_c'} {'PubChem': '', 'KEGG': '', 'HMDB': '', 'ChEBI': '', 'MetaNetX': '', 'metabolicATLAS': 'sphmyln181161_hs', 'recon3d': 'sphmyln181161_hs_e'}\n",
      "{'PubChem': '', 'KEGG': '', 'HMDB': '', 'ChEBI': '', 'MetaNetX': '', 'metabolicATLAS': 'sphmyln18117_hs', 'recon3d': 'sphmyln18117_hs_c'} {'PubChem': '', 'KEGG': '', 'HMDB': '', 'ChEBI': '', 'MetaNetX': '', 'metabolicATLAS': 'sphmyln18117_hs', 'recon3d': 'sphmyln18117_hs_e'}\n",
      "{'PubChem': '', 'KEGG': '', 'HMDB': '', 'ChEBI': '', 'MetaNetX': '', 'metabolicATLAS': 'sphmyln18118_hs', 'recon3d': 'sphmyln18118_hs_c'} {'PubChem': '', 'KEGG': '', 'HMDB': '', 'ChEBI': '', 'MetaNetX': '', 'metabolicATLAS': 'sphmyln18118_hs', 'recon3d': 'sphmyln18118_hs_e'}\n",
      "{'PubChem': '', 'KEGG': '', 'HMDB': '', 'ChEBI': '', 'MetaNetX': '', 'metabolicATLAS': 'sphmyln181181_hs', 'recon3d': 'sphmyln181181_hs_c'} {'PubChem': '', 'KEGG': '', 'HMDB': '', 'ChEBI': '', 'MetaNetX': '', 'metabolicATLAS': 'sphmyln181181_hs', 'recon3d': 'sphmyln181181_hs_e'}\n",
      "{'PubChem': '', 'KEGG': '', 'HMDB': '', 'ChEBI': '', 'MetaNetX': '', 'metabolicATLAS': 'sphmyln18120_hs', 'recon3d': 'sphmyln18120_hs_c'} {'PubChem': '', 'KEGG': '', 'HMDB': '', 'ChEBI': '', 'MetaNetX': '', 'metabolicATLAS': 'sphmyln18120_hs', 'recon3d': 'sphmyln18120_hs_e'}\n",
      "{'PubChem': '', 'KEGG': '', 'HMDB': '', 'ChEBI': '', 'MetaNetX': '', 'metabolicATLAS': 'sphmyln181201_hs', 'recon3d': 'sphmyln181201_hs_c'} {'PubChem': '', 'KEGG': '', 'HMDB': '', 'ChEBI': '', 'MetaNetX': '', 'metabolicATLAS': 'sphmyln181201_hs', 'recon3d': 'sphmyln181201_hs_e'}\n",
      "{'PubChem': '', 'KEGG': '', 'HMDB': '', 'ChEBI': '', 'MetaNetX': '', 'metabolicATLAS': 'sphmyln18121_hs', 'recon3d': 'sphmyln18121_hs_c'} {'PubChem': '', 'KEGG': '', 'HMDB': '', 'ChEBI': '', 'MetaNetX': '', 'metabolicATLAS': 'sphmyln18121_hs', 'recon3d': 'sphmyln18121_hs_e'}\n",
      "{'PubChem': '', 'KEGG': '', 'HMDB': '', 'ChEBI': '', 'MetaNetX': '', 'metabolicATLAS': 'sphmyln18122_hs', 'recon3d': 'sphmyln18122_hs_c'} {'PubChem': '', 'KEGG': '', 'HMDB': '', 'ChEBI': '', 'MetaNetX': '', 'metabolicATLAS': 'sphmyln18122_hs', 'recon3d': 'sphmyln18122_hs_e'}\n",
      "{'PubChem': '', 'KEGG': '', 'HMDB': '', 'ChEBI': '', 'MetaNetX': '', 'metabolicATLAS': 'sphmyln181221_hs', 'recon3d': 'sphmyln181221_hs_c'} {'PubChem': '', 'KEGG': '', 'HMDB': '', 'ChEBI': '', 'MetaNetX': '', 'metabolicATLAS': 'sphmyln181221_hs', 'recon3d': 'sphmyln181221_hs_e'}\n",
      "{'PubChem': '', 'KEGG': '', 'HMDB': '', 'ChEBI': '', 'MetaNetX': '', 'metabolicATLAS': 'sphmyln18123_hs', 'recon3d': 'sphmyln18123_hs_c'} {'PubChem': '', 'KEGG': '', 'HMDB': '', 'ChEBI': '', 'MetaNetX': '', 'metabolicATLAS': 'sphmyln18123_hs', 'recon3d': 'sphmyln18123_hs_e'}\n",
      "{'PubChem': '', 'KEGG': '', 'HMDB': '', 'ChEBI': '', 'MetaNetX': '', 'metabolicATLAS': 'sphmyln1824_hs', 'recon3d': 'sphmyln1824_hs_c'} {'PubChem': '', 'KEGG': '', 'HMDB': '', 'ChEBI': '', 'MetaNetX': '', 'metabolicATLAS': 'sphmyln1824_hs', 'recon3d': 'sphmyln1824_hs_e'}\n",
      "{'PubChem': '', 'KEGG': '', 'HMDB': '', 'ChEBI': '', 'MetaNetX': '', 'metabolicATLAS': 'sphmyln1825_hs', 'recon3d': 'sphmyln1825_hs_c'} {'PubChem': '', 'KEGG': '', 'HMDB': '', 'ChEBI': '', 'MetaNetX': '', 'metabolicATLAS': 'sphmyln1825_hs', 'recon3d': 'sphmyln1825_hs_e'}\n",
      "{'PubChem': '10457', 'KEGG': 'C08278', 'HMDB': 'HMDB00893', 'ChEBI': 'CHEBI:9300', 'MetaNetX': 'MNXM12964; MNXM12964', 'metabolicATLAS': 'subeac', 'recon3d': 'subeac_x'} {'PubChem': '10457', 'KEGG': 'C08278', 'HMDB': 'HMDB00893', 'ChEBI': 'CHEBI:9300', 'MetaNetX': 'MNXM12964', 'metabolicATLAS': 'subeac', 'recon3d': 'subeac_e'}\n",
      "{'PubChem': '', 'KEGG': '', 'HMDB': '', 'ChEBI': '', 'MetaNetX': '', 'metabolicATLAS': 'tetdeca511ac', 'recon3d': 'tetdeca511ac_c'} {'PubChem': '', 'KEGG': '', 'HMDB': '', 'ChEBI': '', 'MetaNetX': '', 'metabolicATLAS': 'tetdeca511ac', 'recon3d': 'tetdeca511ac_e'}\n",
      "{'PubChem': '', 'KEGG': '', 'HMDB': '', 'ChEBI': '', 'MetaNetX': '', 'metabolicATLAS': 'xolest182_hs', 'recon3d': 'xolest182_hs_l'} {'PubChem': '', 'KEGG': '', 'HMDB': '', 'ChEBI': '', 'MetaNetX': '', 'metabolicATLAS': 'xolest182_hs', 'recon3d': 'xolest182_hs_e'}\n",
      "{'PubChem': '', 'KEGG': '', 'HMDB': '', 'ChEBI': '', 'MetaNetX': 'MNXM2527', 'metabolicATLAS': 'glyc2p', 'recon3d': 'glyc2p_c'} {'PubChem': '', 'KEGG': '', 'HMDB': '', 'ChEBI': '', 'MetaNetX': 'MNXM2527', 'metabolicATLAS': 'glyc2p', 'recon3d': 'glyc2p_e'}\n",
      "{'PubChem': '', 'KEGG': '', 'HMDB': '', 'ChEBI': '', 'MetaNetX': 'MNXM1634', 'metabolicATLAS': '3hpppn', 'recon3d': '3hpppn_c'} {'PubChem': '', 'KEGG': '', 'HMDB': '', 'ChEBI': '', 'MetaNetX': 'MNXM1634', 'metabolicATLAS': '3hpppn', 'recon3d': '3hpppn_e'}\n",
      "{'PubChem': '', 'KEGG': '', 'HMDB': '', 'ChEBI': '', 'MetaNetX': 'MNXM1653', 'metabolicATLAS': 'hxa', 'recon3d': 'hxa_c'} {'PubChem': '', 'KEGG': '', 'HMDB': '', 'ChEBI': '', 'MetaNetX': 'MNXM1653', 'metabolicATLAS': 'hxa', 'recon3d': 'hxa_m'}\n",
      "{'PubChem': '', 'KEGG': '', 'HMDB': '', 'ChEBI': '', 'MetaNetX': 'MNXM1653; MNXM1653', 'metabolicATLAS': 'hxa', 'recon3d': 'hxa_c'} {'PubChem': '', 'KEGG': '', 'HMDB': '', 'ChEBI': '', 'MetaNetX': 'MNXM1653', 'metabolicATLAS': 'hxa', 'recon3d': 'hxa_x'}\n",
      "{'PubChem': '', 'KEGG': '', 'HMDB': '', 'ChEBI': '', 'MetaNetX': 'MNXM148517', 'metabolicATLAS': 'txb2', 'recon3d': 'txb2_e'} {'PubChem': '', 'KEGG': '', 'HMDB': '', 'ChEBI': '', 'MetaNetX': 'MNXM148517', 'metabolicATLAS': 'txb2', 'recon3d': 'txb2_c'}\n",
      "{'PubChem': '', 'KEGG': '', 'HMDB': '', 'ChEBI': '', 'MetaNetX': '', 'metabolicATLAS': 'acile_L', 'recon3d': 'acile_L_m'} {'PubChem': '', 'KEGG': '', 'HMDB': '', 'ChEBI': '', 'MetaNetX': '', 'metabolicATLAS': 'acile_L', 'recon3d': 'acile_L_c'}\n",
      "{'PubChem': '', 'KEGG': '', 'HMDB': '', 'ChEBI': '', 'MetaNetX': '', 'metabolicATLAS': 'acile_L', 'recon3d': 'acile_L_m'} {'PubChem': '', 'KEGG': '', 'HMDB': '', 'ChEBI': '', 'MetaNetX': '', 'metabolicATLAS': 'acile_L', 'recon3d': 'acile_L_e'}\n",
      "{'PubChem': '', 'KEGG': '', 'HMDB': '', 'ChEBI': '', 'MetaNetX': '', 'metabolicATLAS': 'acleu_L', 'recon3d': 'acleu_L_m'} {'PubChem': '', 'KEGG': '', 'HMDB': '', 'ChEBI': '', 'MetaNetX': '', 'metabolicATLAS': 'acleu_L', 'recon3d': 'acleu_L_c'}\n",
      "{'PubChem': '', 'KEGG': '', 'HMDB': '', 'ChEBI': '', 'MetaNetX': '', 'metabolicATLAS': 'acleu_L', 'recon3d': 'acleu_L_m'} {'PubChem': '', 'KEGG': '', 'HMDB': '', 'ChEBI': '', 'MetaNetX': '', 'metabolicATLAS': 'acleu_L', 'recon3d': 'acleu_L_e'}\n",
      "{'PubChem': '', 'KEGG': '', 'HMDB': '', 'ChEBI': '', 'MetaNetX': '', 'metabolicATLAS': 'achom_L', 'recon3d': 'achom_L_m'} {'PubChem': '', 'KEGG': '', 'HMDB': '', 'ChEBI': '', 'MetaNetX': '', 'metabolicATLAS': 'achom_L', 'recon3d': 'achom_L_c'}\n",
      "{'PubChem': '', 'KEGG': '', 'HMDB': '', 'ChEBI': '', 'MetaNetX': '', 'metabolicATLAS': 'achom_L', 'recon3d': 'achom_L_m'} {'PubChem': '', 'KEGG': '', 'HMDB': '', 'ChEBI': '', 'MetaNetX': '', 'metabolicATLAS': 'achom_L', 'recon3d': 'achom_L_e'}\n",
      "{'PubChem': '', 'KEGG': '', 'HMDB': '', 'ChEBI': '', 'MetaNetX': '', 'metabolicATLAS': 'phacgly', 'recon3d': 'phacgly_c'} {'PubChem': '', 'KEGG': '', 'HMDB': '', 'ChEBI': '', 'MetaNetX': '', 'metabolicATLAS': 'phacgly', 'recon3d': 'phacgly_e'}\n",
      "{'PubChem': '', 'KEGG': '', 'HMDB': '', 'ChEBI': '', 'MetaNetX': 'MNXM4775', 'metabolicATLAS': 'pheacgly', 'recon3d': 'pheacgly_m'} {'PubChem': '', 'KEGG': '', 'HMDB': '', 'ChEBI': '', 'MetaNetX': 'MNXM4775', 'metabolicATLAS': 'pheacgly', 'recon3d': 'pheacgly_c'}\n",
      "{'PubChem': '', 'KEGG': '', 'HMDB': '', 'ChEBI': '', 'MetaNetX': 'MNXM4775; MNXM4775', 'metabolicATLAS': 'pheacgly', 'recon3d': 'pheacgly_m'} {'PubChem': '', 'KEGG': '', 'HMDB': '', 'ChEBI': '', 'MetaNetX': 'MNXM4775', 'metabolicATLAS': 'pheacgly', 'recon3d': 'pheacgly_e'}\n",
      "{'PubChem': '', 'KEGG': '', 'HMDB': '', 'ChEBI': '', 'MetaNetX': 'MNXM377', 'metabolicATLAS': 'indole', 'recon3d': 'indole_c'} {'PubChem': '', 'KEGG': '', 'HMDB': '', 'ChEBI': '', 'MetaNetX': 'MNXM377', 'metabolicATLAS': 'indole', 'recon3d': 'indole_e'}\n",
      "{'PubChem': '', 'KEGG': '', 'HMDB': '', 'ChEBI': '', 'MetaNetX': '', 'metabolicATLAS': 'inds', 'recon3d': 'inds_c'} {'PubChem': '', 'KEGG': '', 'HMDB': '', 'ChEBI': '', 'MetaNetX': '', 'metabolicATLAS': 'inds', 'recon3d': 'inds_e'}\n",
      "{'PubChem': '2879', 'KEGG': 'C01468', 'HMDB': 'HMDB01858', 'ChEBI': 'CHEBI:17847', 'MetaNetX': '', 'metabolicATLAS': 'pcresol', 'recon3d': 'pcresol_c'} {'PubChem': '2879', 'KEGG': 'C01468', 'HMDB': 'HMDB01858', 'ChEBI': 'CHEBI:17847', 'MetaNetX': '', 'metabolicATLAS': 'pcresol', 'recon3d': 'pcresol_e'}\n",
      "{'PubChem': '4615423', 'KEGG': '', 'HMDB': 'HMDB11635', 'ChEBI': '', 'MetaNetX': '', 'metabolicATLAS': 'pcs', 'recon3d': 'pcs_c'} {'PubChem': '4615423', 'KEGG': '', 'HMDB': 'HMDB11635', 'ChEBI': '', 'MetaNetX': '', 'metabolicATLAS': 'pcs', 'recon3d': 'pcs_e'}\n",
      "{'PubChem': '', 'KEGG': '', 'HMDB': '', 'ChEBI': '', 'MetaNetX': 'MNXM1799', 'metabolicATLAS': '3hcinnm', 'recon3d': '3hcinnm_e'} {'PubChem': '', 'KEGG': '', 'HMDB': '', 'ChEBI': '', 'MetaNetX': 'MNXM1799', 'metabolicATLAS': '3hcinnm', 'recon3d': '3hcinnm_c'}\n",
      "{'PubChem': '', 'KEGG': '', 'HMDB': '', 'ChEBI': '', 'MetaNetX': '', 'metabolicATLAS': '3hppa', 'recon3d': '3hppa_e'} {'PubChem': '', 'KEGG': '', 'HMDB': '', 'ChEBI': '', 'MetaNetX': '', 'metabolicATLAS': '3hppa', 'recon3d': '3hppa_c'}\n",
      "{'PubChem': '', 'KEGG': '', 'HMDB': '', 'ChEBI': '', 'MetaNetX': '', 'metabolicATLAS': 'alaargcys', 'recon3d': 'alaargcys_e'} {'PubChem': '', 'KEGG': '', 'HMDB': '', 'ChEBI': '', 'MetaNetX': '', 'metabolicATLAS': 'alaargcys', 'recon3d': 'alaargcys_c'}\n",
      "{'PubChem': '', 'KEGG': '', 'HMDB': '', 'ChEBI': '', 'MetaNetX': '', 'metabolicATLAS': 'alaarggly', 'recon3d': 'alaarggly_e'} {'PubChem': '', 'KEGG': '', 'HMDB': '', 'ChEBI': '', 'MetaNetX': '', 'metabolicATLAS': 'alaarggly', 'recon3d': 'alaarggly_c'}\n",
      "{'PubChem': '', 'KEGG': '', 'HMDB': '', 'ChEBI': '', 'MetaNetX': '', 'metabolicATLAS': 'alaasnleu', 'recon3d': 'alaasnleu_e'} {'PubChem': '', 'KEGG': '', 'HMDB': '', 'ChEBI': '', 'MetaNetX': '', 'metabolicATLAS': 'alaasnleu', 'recon3d': 'alaasnleu_c'}\n",
      "{'PubChem': '', 'KEGG': '', 'HMDB': '', 'ChEBI': '', 'MetaNetX': '', 'metabolicATLAS': 'alaglylys', 'recon3d': 'alaglylys_e'} {'PubChem': '', 'KEGG': '', 'HMDB': '', 'ChEBI': '', 'MetaNetX': '', 'metabolicATLAS': 'alaglylys', 'recon3d': 'alaglylys_c'}\n",
      "{'PubChem': '', 'KEGG': '', 'HMDB': '', 'ChEBI': '', 'MetaNetX': '', 'metabolicATLAS': 'alahisala', 'recon3d': 'alahisala_e'} {'PubChem': '', 'KEGG': '', 'HMDB': '', 'ChEBI': '', 'MetaNetX': '', 'metabolicATLAS': 'alahisala', 'recon3d': 'alahisala_c'}\n",
      "{'PubChem': '', 'KEGG': '', 'HMDB': '', 'ChEBI': '', 'MetaNetX': '', 'metabolicATLAS': 'alalysthr', 'recon3d': 'alalysthr_e'} {'PubChem': '', 'KEGG': '', 'HMDB': '', 'ChEBI': '', 'MetaNetX': '', 'metabolicATLAS': 'alalysthr', 'recon3d': 'alalysthr_c'}\n",
      "{'PubChem': '', 'KEGG': '', 'HMDB': '', 'ChEBI': '', 'MetaNetX': '', 'metabolicATLAS': 'argalaala', 'recon3d': 'argalaala_e'} {'PubChem': '', 'KEGG': '', 'HMDB': '', 'ChEBI': '', 'MetaNetX': '', 'metabolicATLAS': 'argalaala', 'recon3d': 'argalaala_c'}\n",
      "{'PubChem': '', 'KEGG': '', 'HMDB': '', 'ChEBI': '', 'MetaNetX': '', 'metabolicATLAS': 'argalaphe', 'recon3d': 'argalaphe_e'} {'PubChem': '', 'KEGG': '', 'HMDB': '', 'ChEBI': '', 'MetaNetX': '', 'metabolicATLAS': 'argalaphe', 'recon3d': 'argalaphe_c'}\n",
      "{'PubChem': '', 'KEGG': '', 'HMDB': '', 'ChEBI': '', 'MetaNetX': '', 'metabolicATLAS': 'argalathr', 'recon3d': 'argalathr_e'} {'PubChem': '', 'KEGG': '', 'HMDB': '', 'ChEBI': '', 'MetaNetX': '', 'metabolicATLAS': 'argalathr', 'recon3d': 'argalathr_c'}\n",
      "{'PubChem': '', 'KEGG': '', 'HMDB': '', 'ChEBI': '', 'MetaNetX': '', 'metabolicATLAS': 'argarg', 'recon3d': 'argarg_e'} {'PubChem': '', 'KEGG': '', 'HMDB': '', 'ChEBI': '', 'MetaNetX': '', 'metabolicATLAS': 'argarg', 'recon3d': 'argarg_c'}\n",
      "{'PubChem': '', 'KEGG': '', 'HMDB': '', 'ChEBI': '', 'MetaNetX': '', 'metabolicATLAS': 'argarglys', 'recon3d': 'argarglys_e'} {'PubChem': '', 'KEGG': '', 'HMDB': '', 'ChEBI': '', 'MetaNetX': '', 'metabolicATLAS': 'argarglys', 'recon3d': 'argarglys_c'}\n",
      "{'PubChem': '', 'KEGG': '', 'HMDB': '', 'ChEBI': '', 'MetaNetX': '', 'metabolicATLAS': 'argargmet', 'recon3d': 'argargmet_e'} {'PubChem': '', 'KEGG': '', 'HMDB': '', 'ChEBI': '', 'MetaNetX': '', 'metabolicATLAS': 'argargmet', 'recon3d': 'argargmet_c'}\n",
      "{'PubChem': '', 'KEGG': '', 'HMDB': '', 'ChEBI': '', 'MetaNetX': '', 'metabolicATLAS': 'argcysgly', 'recon3d': 'argcysgly_e'} {'PubChem': '', 'KEGG': '', 'HMDB': '', 'ChEBI': '', 'MetaNetX': '', 'metabolicATLAS': 'argcysgly', 'recon3d': 'argcysgly_c'}\n",
      "{'PubChem': '', 'KEGG': '', 'HMDB': '', 'ChEBI': '', 'MetaNetX': '', 'metabolicATLAS': 'argcysser', 'recon3d': 'argcysser_e'} {'PubChem': '', 'KEGG': '', 'HMDB': '', 'ChEBI': '', 'MetaNetX': '', 'metabolicATLAS': 'argcysser', 'recon3d': 'argcysser_c'}\n",
      "{'PubChem': '', 'KEGG': '', 'HMDB': '', 'ChEBI': '', 'MetaNetX': '', 'metabolicATLAS': 'arggluglu', 'recon3d': 'arggluglu_e'} {'PubChem': '', 'KEGG': '', 'HMDB': '', 'ChEBI': '', 'MetaNetX': '', 'metabolicATLAS': 'arggluglu', 'recon3d': 'arggluglu_c'}\n",
      "{'PubChem': '', 'KEGG': '', 'HMDB': '', 'ChEBI': '', 'MetaNetX': '', 'metabolicATLAS': 'argglupro', 'recon3d': 'argglupro_e'} {'PubChem': '', 'KEGG': '', 'HMDB': '', 'ChEBI': '', 'MetaNetX': '', 'metabolicATLAS': 'argglupro', 'recon3d': 'argglupro_c'}\n",
      "{'PubChem': '', 'KEGG': '', 'HMDB': '', 'ChEBI': '', 'MetaNetX': '', 'metabolicATLAS': 'argglygly', 'recon3d': 'argglygly_e'} {'PubChem': '', 'KEGG': '', 'HMDB': '', 'ChEBI': '', 'MetaNetX': '', 'metabolicATLAS': 'argglygly', 'recon3d': 'argglygly_c'}\n",
      "{'PubChem': '', 'KEGG': '', 'HMDB': '', 'ChEBI': '', 'MetaNetX': '', 'metabolicATLAS': 'arghisthr', 'recon3d': 'arghisthr_e'} {'PubChem': '', 'KEGG': '', 'HMDB': '', 'ChEBI': '', 'MetaNetX': '', 'metabolicATLAS': 'arghisthr', 'recon3d': 'arghisthr_c'}\n",
      "{'PubChem': '', 'KEGG': '', 'HMDB': '', 'ChEBI': '', 'MetaNetX': '', 'metabolicATLAS': 'argleuphe', 'recon3d': 'argleuphe_e'} {'PubChem': '', 'KEGG': '', 'HMDB': '', 'ChEBI': '', 'MetaNetX': '', 'metabolicATLAS': 'argleuphe', 'recon3d': 'argleuphe_c'}\n",
      "{'PubChem': '', 'KEGG': '', 'HMDB': '', 'ChEBI': '', 'MetaNetX': '', 'metabolicATLAS': 'arglysasp', 'recon3d': 'arglysasp_e'} {'PubChem': '', 'KEGG': '', 'HMDB': '', 'ChEBI': '', 'MetaNetX': '', 'metabolicATLAS': 'arglysasp', 'recon3d': 'arglysasp_c'}\n",
      "{'PubChem': '', 'KEGG': '', 'HMDB': '', 'ChEBI': '', 'MetaNetX': '', 'metabolicATLAS': 'argphearg', 'recon3d': 'argphearg_e'} {'PubChem': '', 'KEGG': '', 'HMDB': '', 'ChEBI': '', 'MetaNetX': '', 'metabolicATLAS': 'argphearg', 'recon3d': 'argphearg_c'}\n",
      "{'PubChem': '', 'KEGG': '', 'HMDB': '', 'ChEBI': '', 'MetaNetX': '', 'metabolicATLAS': 'argpromet', 'recon3d': 'argpromet_e'} {'PubChem': '', 'KEGG': '', 'HMDB': '', 'ChEBI': '', 'MetaNetX': '', 'metabolicATLAS': 'argpromet', 'recon3d': 'argpromet_c'}\n",
      "{'PubChem': '', 'KEGG': '', 'HMDB': '', 'ChEBI': '', 'MetaNetX': '', 'metabolicATLAS': 'argprothr', 'recon3d': 'argprothr_e'} {'PubChem': '', 'KEGG': '', 'HMDB': '', 'ChEBI': '', 'MetaNetX': '', 'metabolicATLAS': 'argprothr', 'recon3d': 'argprothr_c'}\n",
      "{'PubChem': '', 'KEGG': '', 'HMDB': '', 'ChEBI': '', 'MetaNetX': '', 'metabolicATLAS': 'argserser', 'recon3d': 'argserser_e'} {'PubChem': '', 'KEGG': '', 'HMDB': '', 'ChEBI': '', 'MetaNetX': '', 'metabolicATLAS': 'argserser', 'recon3d': 'argserser_c'}\n",
      "{'PubChem': '', 'KEGG': '', 'HMDB': '', 'ChEBI': '', 'MetaNetX': '', 'metabolicATLAS': 'argtyrval', 'recon3d': 'argtyrval_e'} {'PubChem': '', 'KEGG': '', 'HMDB': '', 'ChEBI': '', 'MetaNetX': '', 'metabolicATLAS': 'argtyrval', 'recon3d': 'argtyrval_c'}\n",
      "{'PubChem': '', 'KEGG': '', 'HMDB': '', 'ChEBI': '', 'MetaNetX': '', 'metabolicATLAS': 'argvalcys', 'recon3d': 'argvalcys_e'} {'PubChem': '', 'KEGG': '', 'HMDB': '', 'ChEBI': '', 'MetaNetX': '', 'metabolicATLAS': 'argvalcys', 'recon3d': 'argvalcys_c'}\n",
      "{'PubChem': '', 'KEGG': '', 'HMDB': '', 'ChEBI': '', 'MetaNetX': '', 'metabolicATLAS': 'argvaltrp', 'recon3d': 'argvaltrp_e'} {'PubChem': '', 'KEGG': '', 'HMDB': '', 'ChEBI': '', 'MetaNetX': '', 'metabolicATLAS': 'argvaltrp', 'recon3d': 'argvaltrp_c'}\n",
      "{'PubChem': '', 'KEGG': '', 'HMDB': '', 'ChEBI': '', 'MetaNetX': '', 'metabolicATLAS': 'asnasnarg', 'recon3d': 'asnasnarg_e'} {'PubChem': '', 'KEGG': '', 'HMDB': '', 'ChEBI': '', 'MetaNetX': '', 'metabolicATLAS': 'asnasnarg', 'recon3d': 'asnasnarg_c'}\n",
      "{'PubChem': '', 'KEGG': '', 'HMDB': '', 'ChEBI': '', 'MetaNetX': '', 'metabolicATLAS': 'asncyscys', 'recon3d': 'asncyscys_e'} {'PubChem': '', 'KEGG': '', 'HMDB': '', 'ChEBI': '', 'MetaNetX': '', 'metabolicATLAS': 'asncyscys', 'recon3d': 'asncyscys_c'}\n",
      "{'PubChem': '', 'KEGG': '', 'HMDB': '', 'ChEBI': '', 'MetaNetX': '', 'metabolicATLAS': 'asnmetpro', 'recon3d': 'asnmetpro_e'} {'PubChem': '', 'KEGG': '', 'HMDB': '', 'ChEBI': '', 'MetaNetX': '', 'metabolicATLAS': 'asnmetpro', 'recon3d': 'asnmetpro_c'}\n",
      "{'PubChem': '', 'KEGG': '', 'HMDB': '', 'ChEBI': '', 'MetaNetX': '', 'metabolicATLAS': 'asnpheasp', 'recon3d': 'asnpheasp_e'} {'PubChem': '', 'KEGG': '', 'HMDB': '', 'ChEBI': '', 'MetaNetX': '', 'metabolicATLAS': 'asnpheasp', 'recon3d': 'asnpheasp_c'}\n",
      "{'PubChem': '', 'KEGG': '', 'HMDB': '', 'ChEBI': '', 'MetaNetX': '', 'metabolicATLAS': 'asnphecys', 'recon3d': 'asnphecys_e'} {'PubChem': '', 'KEGG': '', 'HMDB': '', 'ChEBI': '', 'MetaNetX': '', 'metabolicATLAS': 'asnphecys', 'recon3d': 'asnphecys_c'}\n",
      "{'PubChem': '', 'KEGG': '', 'HMDB': '', 'ChEBI': '', 'MetaNetX': '', 'metabolicATLAS': 'asntyrgly', 'recon3d': 'asntyrgly_e'} {'PubChem': '', 'KEGG': '', 'HMDB': '', 'ChEBI': '', 'MetaNetX': '', 'metabolicATLAS': 'asntyrgly', 'recon3d': 'asntyrgly_c'}\n",
      "{'PubChem': '', 'KEGG': '', 'HMDB': '', 'ChEBI': '', 'MetaNetX': '', 'metabolicATLAS': 'asntyrphe', 'recon3d': 'asntyrphe_e'} {'PubChem': '', 'KEGG': '', 'HMDB': '', 'ChEBI': '', 'MetaNetX': '', 'metabolicATLAS': 'asntyrphe', 'recon3d': 'asntyrphe_c'}\n",
      "{'PubChem': '', 'KEGG': '', 'HMDB': '', 'ChEBI': '', 'MetaNetX': '', 'metabolicATLAS': 'asntyrthr', 'recon3d': 'asntyrthr_e'} {'PubChem': '', 'KEGG': '', 'HMDB': '', 'ChEBI': '', 'MetaNetX': '', 'metabolicATLAS': 'asntyrthr', 'recon3d': 'asntyrthr_c'}\n",
      "{'PubChem': '', 'KEGG': '', 'HMDB': '', 'ChEBI': '', 'MetaNetX': '', 'metabolicATLAS': 'aspalaarg', 'recon3d': 'aspalaarg_e'} {'PubChem': '', 'KEGG': '', 'HMDB': '', 'ChEBI': '', 'MetaNetX': '', 'metabolicATLAS': 'aspalaarg', 'recon3d': 'aspalaarg_c'}\n",
      "{'PubChem': '', 'KEGG': '', 'HMDB': '', 'ChEBI': '', 'MetaNetX': '', 'metabolicATLAS': 'aspasnglu', 'recon3d': 'aspasnglu_e'} {'PubChem': '', 'KEGG': '', 'HMDB': '', 'ChEBI': '', 'MetaNetX': '', 'metabolicATLAS': 'aspasnglu', 'recon3d': 'aspasnglu_c'}\n",
      "{'PubChem': '', 'KEGG': '', 'HMDB': '', 'ChEBI': '', 'MetaNetX': '', 'metabolicATLAS': 'aspglu', 'recon3d': 'aspglu_e'} {'PubChem': '', 'KEGG': '', 'HMDB': '', 'ChEBI': '', 'MetaNetX': '', 'metabolicATLAS': 'aspglu', 'recon3d': 'aspglu_c'}\n",
      "{'PubChem': '', 'KEGG': '', 'HMDB': '', 'ChEBI': '', 'MetaNetX': '', 'metabolicATLAS': 'aspglupro', 'recon3d': 'aspglupro_e'} {'PubChem': '', 'KEGG': '', 'HMDB': '', 'ChEBI': '', 'MetaNetX': '', 'metabolicATLAS': 'aspglupro', 'recon3d': 'aspglupro_c'}\n",
      "{'PubChem': '', 'KEGG': '', 'HMDB': '', 'ChEBI': '', 'MetaNetX': '', 'metabolicATLAS': 'aspglutrp', 'recon3d': 'aspglutrp_e'} {'PubChem': '', 'KEGG': '', 'HMDB': '', 'ChEBI': '', 'MetaNetX': '', 'metabolicATLAS': 'aspglutrp', 'recon3d': 'aspglutrp_c'}\n",
      "{'PubChem': '', 'KEGG': '', 'HMDB': '', 'ChEBI': '', 'MetaNetX': '', 'metabolicATLAS': 'asphiscys', 'recon3d': 'asphiscys_e'} {'PubChem': '', 'KEGG': '', 'HMDB': '', 'ChEBI': '', 'MetaNetX': '', 'metabolicATLAS': 'asphiscys', 'recon3d': 'asphiscys_c'}\n",
      "{'PubChem': '', 'KEGG': '', 'HMDB': '', 'ChEBI': '', 'MetaNetX': '', 'metabolicATLAS': 'asphispro', 'recon3d': 'asphispro_e'} {'PubChem': '', 'KEGG': '', 'HMDB': '', 'ChEBI': '', 'MetaNetX': '', 'metabolicATLAS': 'asphispro', 'recon3d': 'asphispro_c'}\n",
      "{'PubChem': '', 'KEGG': '', 'HMDB': '', 'ChEBI': '', 'MetaNetX': '', 'metabolicATLAS': 'asplysglu', 'recon3d': 'asplysglu_e'} {'PubChem': '', 'KEGG': '', 'HMDB': '', 'ChEBI': '', 'MetaNetX': '', 'metabolicATLAS': 'asplysglu', 'recon3d': 'asplysglu_c'}\n",
      "{'PubChem': '', 'KEGG': '', 'HMDB': '', 'ChEBI': '', 'MetaNetX': '', 'metabolicATLAS': 'asplyshis', 'recon3d': 'asplyshis_e'} {'PubChem': '', 'KEGG': '', 'HMDB': '', 'ChEBI': '', 'MetaNetX': '', 'metabolicATLAS': 'asplyshis', 'recon3d': 'asplyshis_c'}\n",
      "{'PubChem': '', 'KEGG': '', 'HMDB': '', 'ChEBI': '', 'MetaNetX': '', 'metabolicATLAS': 'aspmetasp', 'recon3d': 'aspmetasp_e'} {'PubChem': '', 'KEGG': '', 'HMDB': '', 'ChEBI': '', 'MetaNetX': '', 'metabolicATLAS': 'aspmetasp', 'recon3d': 'aspmetasp_c'}\n",
      "{'PubChem': '', 'KEGG': '', 'HMDB': '', 'ChEBI': '', 'MetaNetX': '', 'metabolicATLAS': 'aspprolys', 'recon3d': 'aspprolys_e'} {'PubChem': '', 'KEGG': '', 'HMDB': '', 'ChEBI': '', 'MetaNetX': '', 'metabolicATLAS': 'aspprolys', 'recon3d': 'aspprolys_c'}\n",
      "{'PubChem': '', 'KEGG': '', 'HMDB': '', 'ChEBI': '', 'MetaNetX': '', 'metabolicATLAS': 'aspvalasn', 'recon3d': 'aspvalasn_e'} {'PubChem': '', 'KEGG': '', 'HMDB': '', 'ChEBI': '', 'MetaNetX': '', 'metabolicATLAS': 'aspvalasn', 'recon3d': 'aspvalasn_c'}\n",
      "{'PubChem': '', 'KEGG': '', 'HMDB': '', 'ChEBI': '', 'MetaNetX': '', 'metabolicATLAS': 'cysasnmet', 'recon3d': 'cysasnmet_e'} {'PubChem': '', 'KEGG': '', 'HMDB': '', 'ChEBI': '', 'MetaNetX': '', 'metabolicATLAS': 'cysasnmet', 'recon3d': 'cysasnmet_c'}\n",
      "{'PubChem': '', 'KEGG': '', 'HMDB': '', 'ChEBI': '', 'MetaNetX': '', 'metabolicATLAS': 'cysaspphe', 'recon3d': 'cysaspphe_e'} {'PubChem': '', 'KEGG': '', 'HMDB': '', 'ChEBI': '', 'MetaNetX': '', 'metabolicATLAS': 'cysaspphe', 'recon3d': 'cysaspphe_c'}\n",
      "{'PubChem': '', 'KEGG': '', 'HMDB': '', 'ChEBI': '', 'MetaNetX': '', 'metabolicATLAS': 'cyscys', 'recon3d': 'cyscys_e'} {'PubChem': '', 'KEGG': '', 'HMDB': '', 'ChEBI': '', 'MetaNetX': '', 'metabolicATLAS': 'cyscys', 'recon3d': 'cyscys_c'}\n",
      "{'PubChem': '', 'KEGG': '', 'HMDB': '', 'ChEBI': '', 'MetaNetX': '', 'metabolicATLAS': 'cysglnmet', 'recon3d': 'cysglnmet_e'} {'PubChem': '', 'KEGG': '', 'HMDB': '', 'ChEBI': '', 'MetaNetX': '', 'metabolicATLAS': 'cysglnmet', 'recon3d': 'cysglnmet_c'}\n",
      "{'PubChem': '', 'KEGG': '', 'HMDB': '', 'ChEBI': '', 'MetaNetX': '', 'metabolicATLAS': 'cysgluhis', 'recon3d': 'cysgluhis_e'} {'PubChem': '', 'KEGG': '', 'HMDB': '', 'ChEBI': '', 'MetaNetX': '', 'metabolicATLAS': 'cysgluhis', 'recon3d': 'cysgluhis_c'}\n",
      "{'PubChem': '', 'KEGG': '', 'HMDB': '', 'ChEBI': '', 'MetaNetX': '', 'metabolicATLAS': 'cysglutrp', 'recon3d': 'cysglutrp_e'} {'PubChem': '', 'KEGG': '', 'HMDB': '', 'ChEBI': '', 'MetaNetX': '', 'metabolicATLAS': 'cysglutrp', 'recon3d': 'cysglutrp_c'}\n",
      "{'PubChem': '', 'KEGG': '', 'HMDB': '', 'ChEBI': '', 'MetaNetX': '', 'metabolicATLAS': 'cysleuthr', 'recon3d': 'cysleuthr_e'} {'PubChem': '', 'KEGG': '', 'HMDB': '', 'ChEBI': '', 'MetaNetX': '', 'metabolicATLAS': 'cysleuthr', 'recon3d': 'cysleuthr_c'}\n",
      "{'PubChem': '', 'KEGG': '', 'HMDB': '', 'ChEBI': '', 'MetaNetX': '', 'metabolicATLAS': 'cyssermet', 'recon3d': 'cyssermet_e'} {'PubChem': '', 'KEGG': '', 'HMDB': '', 'ChEBI': '', 'MetaNetX': '', 'metabolicATLAS': 'cyssermet', 'recon3d': 'cyssermet_c'}\n",
      "{'PubChem': '', 'KEGG': '', 'HMDB': '', 'ChEBI': '', 'MetaNetX': '', 'metabolicATLAS': 'cystyrasn', 'recon3d': 'cystyrasn_e'} {'PubChem': '', 'KEGG': '', 'HMDB': '', 'ChEBI': '', 'MetaNetX': '', 'metabolicATLAS': 'cystyrasn', 'recon3d': 'cystyrasn_c'}\n",
      "{'PubChem': '', 'KEGG': '', 'HMDB': '', 'ChEBI': '', 'MetaNetX': '', 'metabolicATLAS': 'glnasngln', 'recon3d': 'glnasngln_e'} {'PubChem': '', 'KEGG': '', 'HMDB': '', 'ChEBI': '', 'MetaNetX': '', 'metabolicATLAS': 'glnasngln', 'recon3d': 'glnasngln_c'}\n",
      "{'PubChem': '', 'KEGG': '', 'HMDB': '', 'ChEBI': '', 'MetaNetX': '', 'metabolicATLAS': 'glnhishis', 'recon3d': 'glnhishis_e'} {'PubChem': '', 'KEGG': '', 'HMDB': '', 'ChEBI': '', 'MetaNetX': '', 'metabolicATLAS': 'glnhishis', 'recon3d': 'glnhishis_c'}\n",
      "{'PubChem': '', 'KEGG': '', 'HMDB': '', 'ChEBI': '', 'MetaNetX': '', 'metabolicATLAS': 'glnhislys', 'recon3d': 'glnhislys_e'} {'PubChem': '', 'KEGG': '', 'HMDB': '', 'ChEBI': '', 'MetaNetX': '', 'metabolicATLAS': 'glnhislys', 'recon3d': 'glnhislys_c'}\n",
      "{'PubChem': '', 'KEGG': '', 'HMDB': '', 'ChEBI': '', 'MetaNetX': '', 'metabolicATLAS': 'glnlyslys', 'recon3d': 'glnlyslys_e'} {'PubChem': '', 'KEGG': '', 'HMDB': '', 'ChEBI': '', 'MetaNetX': '', 'metabolicATLAS': 'glnlyslys', 'recon3d': 'glnlyslys_c'}\n",
      "{'PubChem': '', 'KEGG': '', 'HMDB': '', 'ChEBI': '', 'MetaNetX': '', 'metabolicATLAS': 'glnlystrp', 'recon3d': 'glnlystrp_e'} {'PubChem': '', 'KEGG': '', 'HMDB': '', 'ChEBI': '', 'MetaNetX': '', 'metabolicATLAS': 'glnlystrp', 'recon3d': 'glnlystrp_c'}\n",
      "{'PubChem': '', 'KEGG': '', 'HMDB': '', 'ChEBI': '', 'MetaNetX': '', 'metabolicATLAS': 'glnproglu', 'recon3d': 'glnproglu_e'} {'PubChem': '', 'KEGG': '', 'HMDB': '', 'ChEBI': '', 'MetaNetX': '', 'metabolicATLAS': 'glnproglu', 'recon3d': 'glnproglu_c'}\n",
      "{'PubChem': '', 'KEGG': '', 'HMDB': '', 'ChEBI': '', 'MetaNetX': '', 'metabolicATLAS': 'glntrpglu', 'recon3d': 'glntrpglu_e'} {'PubChem': '', 'KEGG': '', 'HMDB': '', 'ChEBI': '', 'MetaNetX': '', 'metabolicATLAS': 'glntrpglu', 'recon3d': 'glntrpglu_c'}\n",
      "{'PubChem': '', 'KEGG': '', 'HMDB': '', 'ChEBI': '', 'MetaNetX': '', 'metabolicATLAS': 'glntyrleu', 'recon3d': 'glntyrleu_e'} {'PubChem': '', 'KEGG': '', 'HMDB': '', 'ChEBI': '', 'MetaNetX': '', 'metabolicATLAS': 'glntyrleu', 'recon3d': 'glntyrleu_c'}\n",
      "{'PubChem': '', 'KEGG': '', 'HMDB': '', 'ChEBI': '', 'MetaNetX': '', 'metabolicATLAS': 'gluargleu', 'recon3d': 'gluargleu_e'} {'PubChem': '', 'KEGG': '', 'HMDB': '', 'ChEBI': '', 'MetaNetX': '', 'metabolicATLAS': 'gluargleu', 'recon3d': 'gluargleu_c'}\n",
      "{'PubChem': '', 'KEGG': '', 'HMDB': '', 'ChEBI': '', 'MetaNetX': '', 'metabolicATLAS': 'gluasnleu', 'recon3d': 'gluasnleu_e'} {'PubChem': '', 'KEGG': '', 'HMDB': '', 'ChEBI': '', 'MetaNetX': '', 'metabolicATLAS': 'gluasnleu', 'recon3d': 'gluasnleu_c'}\n",
      "{'PubChem': '', 'KEGG': '', 'HMDB': '', 'ChEBI': '', 'MetaNetX': '', 'metabolicATLAS': 'gluglu', 'recon3d': 'gluglu_e'} {'PubChem': '', 'KEGG': '', 'HMDB': '', 'ChEBI': '', 'MetaNetX': '', 'metabolicATLAS': 'gluglu', 'recon3d': 'gluglu_c'}\n",
      "{'PubChem': '', 'KEGG': '', 'HMDB': '', 'ChEBI': '', 'MetaNetX': '', 'metabolicATLAS': 'gluilelys', 'recon3d': 'gluilelys_e'} {'PubChem': '', 'KEGG': '', 'HMDB': '', 'ChEBI': '', 'MetaNetX': '', 'metabolicATLAS': 'gluilelys', 'recon3d': 'gluilelys_c'}\n",
      "{'PubChem': '', 'KEGG': '', 'HMDB': '', 'ChEBI': '', 'MetaNetX': '', 'metabolicATLAS': 'gluleu', 'recon3d': 'gluleu_e'} {'PubChem': '', 'KEGG': '', 'HMDB': '', 'ChEBI': '', 'MetaNetX': '', 'metabolicATLAS': 'gluleu', 'recon3d': 'gluleu_c'}\n",
      "{'PubChem': '', 'KEGG': '', 'HMDB': '', 'ChEBI': '', 'MetaNetX': '', 'metabolicATLAS': 'glumet', 'recon3d': 'glumet_e'} {'PubChem': '', 'KEGG': '', 'HMDB': '', 'ChEBI': '', 'MetaNetX': '', 'metabolicATLAS': 'glumet', 'recon3d': 'glumet_c'}\n",
      "{'PubChem': '', 'KEGG': '', 'HMDB': '', 'ChEBI': '', 'MetaNetX': '', 'metabolicATLAS': 'glumethis', 'recon3d': 'glumethis_e'} {'PubChem': '', 'KEGG': '', 'HMDB': '', 'ChEBI': '', 'MetaNetX': '', 'metabolicATLAS': 'glumethis', 'recon3d': 'glumethis_c'}\n",
      "{'PubChem': '', 'KEGG': '', 'HMDB': '', 'ChEBI': '', 'MetaNetX': '', 'metabolicATLAS': 'gluthr', 'recon3d': 'gluthr_e'} {'PubChem': '', 'KEGG': '', 'HMDB': '', 'ChEBI': '', 'MetaNetX': '', 'metabolicATLAS': 'gluthr', 'recon3d': 'gluthr_c'}\n",
      "{'PubChem': '', 'KEGG': '', 'HMDB': '', 'ChEBI': '', 'MetaNetX': '', 'metabolicATLAS': 'gluthrlys', 'recon3d': 'gluthrlys_e'} {'PubChem': '', 'KEGG': '', 'HMDB': '', 'ChEBI': '', 'MetaNetX': '', 'metabolicATLAS': 'gluthrlys', 'recon3d': 'gluthrlys_c'}\n",
      "{'PubChem': '', 'KEGG': '', 'HMDB': '', 'ChEBI': '', 'MetaNetX': '', 'metabolicATLAS': 'glutrpala', 'recon3d': 'glutrpala_e'} {'PubChem': '', 'KEGG': '', 'HMDB': '', 'ChEBI': '', 'MetaNetX': '', 'metabolicATLAS': 'glutrpala', 'recon3d': 'glutrpala_c'}\n",
      "{'PubChem': '', 'KEGG': '', 'HMDB': '', 'ChEBI': '', 'MetaNetX': '', 'metabolicATLAS': 'glyhisasn', 'recon3d': 'glyhisasn_e'} {'PubChem': '', 'KEGG': '', 'HMDB': '', 'ChEBI': '', 'MetaNetX': '', 'metabolicATLAS': 'glyhisasn', 'recon3d': 'glyhisasn_c'}\n",
      "{'PubChem': '', 'KEGG': '', 'HMDB': '', 'ChEBI': '', 'MetaNetX': '', 'metabolicATLAS': 'glyhislys', 'recon3d': 'glyhislys_e'} {'PubChem': '', 'KEGG': '', 'HMDB': '', 'ChEBI': '', 'MetaNetX': '', 'metabolicATLAS': 'glyhislys', 'recon3d': 'glyhislys_c'}\n",
      "{'PubChem': '', 'KEGG': '', 'HMDB': '', 'ChEBI': '', 'MetaNetX': '', 'metabolicATLAS': 'glylyscys', 'recon3d': 'glylyscys_e'} {'PubChem': '', 'KEGG': '', 'HMDB': '', 'ChEBI': '', 'MetaNetX': '', 'metabolicATLAS': 'glylyscys', 'recon3d': 'glylyscys_c'}\n",
      "{'PubChem': '', 'KEGG': '', 'HMDB': '', 'ChEBI': '', 'MetaNetX': '', 'metabolicATLAS': 'glylysphe', 'recon3d': 'glylysphe_e'} {'PubChem': '', 'KEGG': '', 'HMDB': '', 'ChEBI': '', 'MetaNetX': '', 'metabolicATLAS': 'glylysphe', 'recon3d': 'glylysphe_c'}\n",
      "{'PubChem': '', 'KEGG': '', 'HMDB': '', 'ChEBI': '', 'MetaNetX': '', 'metabolicATLAS': 'glytyrlys', 'recon3d': 'glytyrlys_e'} {'PubChem': '', 'KEGG': '', 'HMDB': '', 'ChEBI': '', 'MetaNetX': '', 'metabolicATLAS': 'glytyrlys', 'recon3d': 'glytyrlys_c'}\n",
      "{'PubChem': '', 'KEGG': '', 'HMDB': '', 'ChEBI': '', 'MetaNetX': '', 'metabolicATLAS': 'glyvalhis', 'recon3d': 'glyvalhis_e'} {'PubChem': '', 'KEGG': '', 'HMDB': '', 'ChEBI': '', 'MetaNetX': '', 'metabolicATLAS': 'glyvalhis', 'recon3d': 'glyvalhis_c'}\n",
      "{'PubChem': '', 'KEGG': '', 'HMDB': '', 'ChEBI': '', 'MetaNetX': '', 'metabolicATLAS': 'hisargcys', 'recon3d': 'hisargcys_e'} {'PubChem': '', 'KEGG': '', 'HMDB': '', 'ChEBI': '', 'MetaNetX': '', 'metabolicATLAS': 'hisargcys', 'recon3d': 'hisargcys_c'}\n",
      "{'PubChem': '', 'KEGG': '', 'HMDB': '', 'ChEBI': '', 'MetaNetX': '', 'metabolicATLAS': 'hisargser', 'recon3d': 'hisargser_e'} {'PubChem': '', 'KEGG': '', 'HMDB': '', 'ChEBI': '', 'MetaNetX': '', 'metabolicATLAS': 'hisargser', 'recon3d': 'hisargser_c'}\n",
      "{'PubChem': '', 'KEGG': '', 'HMDB': '', 'ChEBI': '', 'MetaNetX': '', 'metabolicATLAS': 'hisasp', 'recon3d': 'hisasp_e'} {'PubChem': '', 'KEGG': '', 'HMDB': '', 'ChEBI': '', 'MetaNetX': '', 'metabolicATLAS': 'hisasp', 'recon3d': 'hisasp_c'}\n",
      "{'PubChem': '', 'KEGG': '', 'HMDB': '', 'ChEBI': '', 'MetaNetX': '', 'metabolicATLAS': 'hiscyscys', 'recon3d': 'hiscyscys_e'} {'PubChem': '', 'KEGG': '', 'HMDB': '', 'ChEBI': '', 'MetaNetX': '', 'metabolicATLAS': 'hiscyscys', 'recon3d': 'hiscyscys_c'}\n",
      "{'PubChem': '', 'KEGG': '', 'HMDB': '', 'ChEBI': '', 'MetaNetX': '', 'metabolicATLAS': 'hisglnala', 'recon3d': 'hisglnala_e'} {'PubChem': '', 'KEGG': '', 'HMDB': '', 'ChEBI': '', 'MetaNetX': '', 'metabolicATLAS': 'hisglnala', 'recon3d': 'hisglnala_c'}\n",
      "{'PubChem': '', 'KEGG': '', 'HMDB': '', 'ChEBI': '', 'MetaNetX': '', 'metabolicATLAS': 'hisglu', 'recon3d': 'hisglu_e'} {'PubChem': '', 'KEGG': '', 'HMDB': '', 'ChEBI': '', 'MetaNetX': '', 'metabolicATLAS': 'hisglu', 'recon3d': 'hisglu_c'}\n",
      "{'PubChem': '', 'KEGG': '', 'HMDB': '', 'ChEBI': '', 'MetaNetX': '', 'metabolicATLAS': 'hisglugln', 'recon3d': 'hisglugln_e'} {'PubChem': '', 'KEGG': '', 'HMDB': '', 'ChEBI': '', 'MetaNetX': '', 'metabolicATLAS': 'hisglugln', 'recon3d': 'hisglugln_c'}\n",
      "{'PubChem': '', 'KEGG': '', 'HMDB': '', 'ChEBI': '', 'MetaNetX': '', 'metabolicATLAS': 'hisglylys', 'recon3d': 'hisglylys_e'} {'PubChem': '', 'KEGG': '', 'HMDB': '', 'ChEBI': '', 'MetaNetX': '', 'metabolicATLAS': 'hisglylys', 'recon3d': 'hisglylys_c'}\n",
      "{'PubChem': '', 'KEGG': '', 'HMDB': '', 'ChEBI': '', 'MetaNetX': '', 'metabolicATLAS': 'hishislys', 'recon3d': 'hishislys_e'} {'PubChem': '', 'KEGG': '', 'HMDB': '', 'ChEBI': '', 'MetaNetX': '', 'metabolicATLAS': 'hishislys', 'recon3d': 'hishislys_c'}\n",
      "{'PubChem': '', 'KEGG': '', 'HMDB': '', 'ChEBI': '', 'MetaNetX': '', 'metabolicATLAS': 'hislysala', 'recon3d': 'hislysala_e'} {'PubChem': '', 'KEGG': '', 'HMDB': '', 'ChEBI': '', 'MetaNetX': '', 'metabolicATLAS': 'hislysala', 'recon3d': 'hislysala_c'}\n",
      "{'PubChem': '', 'KEGG': '', 'HMDB': '', 'ChEBI': '', 'MetaNetX': '', 'metabolicATLAS': 'hislysglu', 'recon3d': 'hislysglu_e'} {'PubChem': '', 'KEGG': '', 'HMDB': '', 'ChEBI': '', 'MetaNetX': '', 'metabolicATLAS': 'hislysglu', 'recon3d': 'hislysglu_c'}\n",
      "{'PubChem': '', 'KEGG': '', 'HMDB': '', 'ChEBI': '', 'MetaNetX': '', 'metabolicATLAS': 'hislysile', 'recon3d': 'hislysile_e'} {'PubChem': '', 'KEGG': '', 'HMDB': '', 'ChEBI': '', 'MetaNetX': '', 'metabolicATLAS': 'hislysile', 'recon3d': 'hislysile_c'}\n",
      "{'PubChem': '', 'KEGG': '', 'HMDB': '', 'ChEBI': '', 'MetaNetX': '', 'metabolicATLAS': 'hislysthr', 'recon3d': 'hislysthr_e'} {'PubChem': '', 'KEGG': '', 'HMDB': '', 'ChEBI': '', 'MetaNetX': '', 'metabolicATLAS': 'hislysthr', 'recon3d': 'hislysthr_c'}\n",
      "{'PubChem': '', 'KEGG': '', 'HMDB': '', 'ChEBI': '', 'MetaNetX': '', 'metabolicATLAS': 'hislysval', 'recon3d': 'hislysval_e'} {'PubChem': '', 'KEGG': '', 'HMDB': '', 'ChEBI': '', 'MetaNetX': '', 'metabolicATLAS': 'hislysval', 'recon3d': 'hislysval_c'}\n",
      "{'PubChem': '', 'KEGG': '', 'HMDB': '', 'ChEBI': '', 'MetaNetX': '', 'metabolicATLAS': 'hismet', 'recon3d': 'hismet_e'} {'PubChem': '', 'KEGG': '', 'HMDB': '', 'ChEBI': '', 'MetaNetX': '', 'metabolicATLAS': 'hismet', 'recon3d': 'hismet_c'}\n",
      "{'PubChem': '', 'KEGG': '', 'HMDB': '', 'ChEBI': '', 'MetaNetX': '', 'metabolicATLAS': 'hismetgln', 'recon3d': 'hismetgln_e'} {'PubChem': '', 'KEGG': '', 'HMDB': '', 'ChEBI': '', 'MetaNetX': '', 'metabolicATLAS': 'hismetgln', 'recon3d': 'hismetgln_c'}\n",
      "{'PubChem': '', 'KEGG': '', 'HMDB': '', 'ChEBI': '', 'MetaNetX': '', 'metabolicATLAS': 'hisphearg', 'recon3d': 'hisphearg_e'} {'PubChem': '', 'KEGG': '', 'HMDB': '', 'ChEBI': '', 'MetaNetX': '', 'metabolicATLAS': 'hisphearg', 'recon3d': 'hisphearg_c'}\n",
      "{'PubChem': '', 'KEGG': '', 'HMDB': '', 'ChEBI': '', 'MetaNetX': '', 'metabolicATLAS': 'hisprolys', 'recon3d': 'hisprolys_e'} {'PubChem': '', 'KEGG': '', 'HMDB': '', 'ChEBI': '', 'MetaNetX': '', 'metabolicATLAS': 'hisprolys', 'recon3d': 'hisprolys_c'}\n",
      "{'PubChem': '', 'KEGG': '', 'HMDB': '', 'ChEBI': '', 'MetaNetX': '', 'metabolicATLAS': 'histrphis', 'recon3d': 'histrphis_e'} {'PubChem': '', 'KEGG': '', 'HMDB': '', 'ChEBI': '', 'MetaNetX': '', 'metabolicATLAS': 'histrphis', 'recon3d': 'histrphis_c'}\n",
      "{'PubChem': '', 'KEGG': '', 'HMDB': '', 'ChEBI': '', 'MetaNetX': '', 'metabolicATLAS': 'ileargile', 'recon3d': 'ileargile_e'} {'PubChem': '', 'KEGG': '', 'HMDB': '', 'ChEBI': '', 'MetaNetX': '', 'metabolicATLAS': 'ileargile', 'recon3d': 'ileargile_c'}\n",
      "{'PubChem': '', 'KEGG': '', 'HMDB': '', 'ChEBI': '', 'MetaNetX': '', 'metabolicATLAS': 'ileasnhis', 'recon3d': 'ileasnhis_e'} {'PubChem': '', 'KEGG': '', 'HMDB': '', 'ChEBI': '', 'MetaNetX': '', 'metabolicATLAS': 'ileasnhis', 'recon3d': 'ileasnhis_c'}\n",
      "{'PubChem': '', 'KEGG': '', 'HMDB': '', 'ChEBI': '', 'MetaNetX': '', 'metabolicATLAS': 'ileasp', 'recon3d': 'ileasp_e'} {'PubChem': '', 'KEGG': '', 'HMDB': '', 'ChEBI': '', 'MetaNetX': '', 'metabolicATLAS': 'ileasp', 'recon3d': 'ileasp_c'}\n",
      "{'PubChem': '', 'KEGG': '', 'HMDB': '', 'ChEBI': '', 'MetaNetX': '', 'metabolicATLAS': 'ileglnglu', 'recon3d': 'ileglnglu_e'} {'PubChem': '', 'KEGG': '', 'HMDB': '', 'ChEBI': '', 'MetaNetX': '', 'metabolicATLAS': 'ileglnglu', 'recon3d': 'ileglnglu_c'}\n",
      "{'PubChem': '', 'KEGG': '', 'HMDB': '', 'ChEBI': '', 'MetaNetX': '', 'metabolicATLAS': 'ileglyarg', 'recon3d': 'ileglyarg_e'} {'PubChem': '', 'KEGG': '', 'HMDB': '', 'ChEBI': '', 'MetaNetX': '', 'metabolicATLAS': 'ileglyarg', 'recon3d': 'ileglyarg_c'}\n",
      "{'PubChem': '', 'KEGG': '', 'HMDB': '', 'ChEBI': '', 'MetaNetX': '', 'metabolicATLAS': 'ileprolys', 'recon3d': 'ileprolys_e'} {'PubChem': '', 'KEGG': '', 'HMDB': '', 'ChEBI': '', 'MetaNetX': '', 'metabolicATLAS': 'ileprolys', 'recon3d': 'ileprolys_c'}\n",
      "{'PubChem': '', 'KEGG': '', 'HMDB': '', 'ChEBI': '', 'MetaNetX': '', 'metabolicATLAS': 'ileserarg', 'recon3d': 'ileserarg_e'} {'PubChem': '', 'KEGG': '', 'HMDB': '', 'ChEBI': '', 'MetaNetX': '', 'metabolicATLAS': 'ileserarg', 'recon3d': 'ileserarg_c'}\n",
      "{'PubChem': '', 'KEGG': '', 'HMDB': '', 'ChEBI': '', 'MetaNetX': '', 'metabolicATLAS': 'iletrptyr', 'recon3d': 'iletrptyr_e'} {'PubChem': '', 'KEGG': '', 'HMDB': '', 'ChEBI': '', 'MetaNetX': '', 'metabolicATLAS': 'iletrptyr', 'recon3d': 'iletrptyr_c'}\n",
      "{'PubChem': '', 'KEGG': '', 'HMDB': '', 'ChEBI': '', 'MetaNetX': '', 'metabolicATLAS': 'leualaarg', 'recon3d': 'leualaarg_e'} {'PubChem': '', 'KEGG': '', 'HMDB': '', 'ChEBI': '', 'MetaNetX': '', 'metabolicATLAS': 'leualaarg', 'recon3d': 'leualaarg_c'}\n",
      "{'PubChem': '', 'KEGG': '', 'HMDB': '', 'ChEBI': '', 'MetaNetX': '', 'metabolicATLAS': 'leuasnasp', 'recon3d': 'leuasnasp_e'} {'PubChem': '', 'KEGG': '', 'HMDB': '', 'ChEBI': '', 'MetaNetX': '', 'metabolicATLAS': 'leuasnasp', 'recon3d': 'leuasnasp_c'}\n",
      "{'PubChem': '', 'KEGG': '', 'HMDB': '', 'ChEBI': '', 'MetaNetX': '', 'metabolicATLAS': 'leuasplys', 'recon3d': 'leuasplys_e'} {'PubChem': '', 'KEGG': '', 'HMDB': '', 'ChEBI': '', 'MetaNetX': '', 'metabolicATLAS': 'leuasplys', 'recon3d': 'leuasplys_c'}\n",
      "{'PubChem': '', 'KEGG': '', 'HMDB': '', 'ChEBI': '', 'MetaNetX': '', 'metabolicATLAS': 'leuleutrp', 'recon3d': 'leuleutrp_e'} {'PubChem': '', 'KEGG': '', 'HMDB': '', 'ChEBI': '', 'MetaNetX': '', 'metabolicATLAS': 'leuleutrp', 'recon3d': 'leuleutrp_c'}\n",
      "{'PubChem': '', 'KEGG': '', 'HMDB': '', 'ChEBI': '', 'MetaNetX': '', 'metabolicATLAS': 'leupro', 'recon3d': 'leupro_e'} {'PubChem': '', 'KEGG': '', 'HMDB': '', 'ChEBI': '', 'MetaNetX': '', 'metabolicATLAS': 'leupro', 'recon3d': 'leupro_c'}\n",
      "{'PubChem': '', 'KEGG': '', 'HMDB': '', 'ChEBI': '', 'MetaNetX': '', 'metabolicATLAS': 'leuproarg', 'recon3d': 'leuproarg_e'} {'PubChem': '', 'KEGG': '', 'HMDB': '', 'ChEBI': '', 'MetaNetX': '', 'metabolicATLAS': 'leuproarg', 'recon3d': 'leuproarg_c'}\n",
      "{'PubChem': '', 'KEGG': '', 'HMDB': '', 'ChEBI': '', 'MetaNetX': '', 'metabolicATLAS': 'leusertrp', 'recon3d': 'leusertrp_e'} {'PubChem': '', 'KEGG': '', 'HMDB': '', 'ChEBI': '', 'MetaNetX': '', 'metabolicATLAS': 'leusertrp', 'recon3d': 'leusertrp_c'}\n",
      "{'PubChem': '', 'KEGG': '', 'HMDB': '', 'ChEBI': '', 'MetaNetX': '', 'metabolicATLAS': 'leutrp', 'recon3d': 'leutrp_e'} {'PubChem': '', 'KEGG': '', 'HMDB': '', 'ChEBI': '', 'MetaNetX': '', 'metabolicATLAS': 'leutrp', 'recon3d': 'leutrp_c'}\n",
      "{'PubChem': '', 'KEGG': '', 'HMDB': '', 'ChEBI': '', 'MetaNetX': '', 'metabolicATLAS': 'leutrparg', 'recon3d': 'leutrparg_e'} {'PubChem': '', 'KEGG': '', 'HMDB': '', 'ChEBI': '', 'MetaNetX': '', 'metabolicATLAS': 'leutrparg', 'recon3d': 'leutrparg_c'}\n",
      "{'PubChem': '', 'KEGG': '', 'HMDB': '', 'ChEBI': '', 'MetaNetX': '', 'metabolicATLAS': 'leutyrtyr', 'recon3d': 'leutyrtyr_e'} {'PubChem': '', 'KEGG': '', 'HMDB': '', 'ChEBI': '', 'MetaNetX': '', 'metabolicATLAS': 'leutyrtyr', 'recon3d': 'leutyrtyr_c'}\n",
      "{'PubChem': '', 'KEGG': '', 'HMDB': '', 'ChEBI': '', 'MetaNetX': '', 'metabolicATLAS': 'leuval', 'recon3d': 'leuval_e'} {'PubChem': '', 'KEGG': '', 'HMDB': '', 'ChEBI': '', 'MetaNetX': '', 'metabolicATLAS': 'leuval', 'recon3d': 'leuval_c'}\n",
      "{'PubChem': '', 'KEGG': '', 'HMDB': '', 'ChEBI': '', 'MetaNetX': '', 'metabolicATLAS': 'lysargleu', 'recon3d': 'lysargleu_e'} {'PubChem': '', 'KEGG': '', 'HMDB': '', 'ChEBI': '', 'MetaNetX': '', 'metabolicATLAS': 'lysargleu', 'recon3d': 'lysargleu_c'}\n",
      "{'PubChem': '', 'KEGG': '', 'HMDB': '', 'ChEBI': '', 'MetaNetX': '', 'metabolicATLAS': 'lyscyshis', 'recon3d': 'lyscyshis_e'} {'PubChem': '', 'KEGG': '', 'HMDB': '', 'ChEBI': '', 'MetaNetX': '', 'metabolicATLAS': 'lyscyshis', 'recon3d': 'lyscyshis_c'}\n",
      "{'PubChem': '', 'KEGG': '', 'HMDB': '', 'ChEBI': '', 'MetaNetX': '', 'metabolicATLAS': 'lysglnphe', 'recon3d': 'lysglnphe_e'} {'PubChem': '', 'KEGG': '', 'HMDB': '', 'ChEBI': '', 'MetaNetX': '', 'metabolicATLAS': 'lysglnphe', 'recon3d': 'lysglnphe_c'}\n",
      "{'PubChem': '', 'KEGG': '', 'HMDB': '', 'ChEBI': '', 'MetaNetX': '', 'metabolicATLAS': 'lysgluglu', 'recon3d': 'lysgluglu_e'} {'PubChem': '', 'KEGG': '', 'HMDB': '', 'ChEBI': '', 'MetaNetX': '', 'metabolicATLAS': 'lysgluglu', 'recon3d': 'lysgluglu_c'}\n",
      "{'PubChem': '', 'KEGG': '', 'HMDB': '', 'ChEBI': '', 'MetaNetX': '', 'metabolicATLAS': 'lyslyslys', 'recon3d': 'lyslyslys_e'} {'PubChem': '', 'KEGG': '', 'HMDB': '', 'ChEBI': '', 'MetaNetX': '', 'metabolicATLAS': 'lyslyslys', 'recon3d': 'lyslyslys_c'}\n",
      "{'PubChem': '', 'KEGG': '', 'HMDB': '', 'ChEBI': '', 'MetaNetX': '', 'metabolicATLAS': 'lyspheile', 'recon3d': 'lyspheile_e'} {'PubChem': '', 'KEGG': '', 'HMDB': '', 'ChEBI': '', 'MetaNetX': '', 'metabolicATLAS': 'lyspheile', 'recon3d': 'lyspheile_c'}\n",
      "{'PubChem': '', 'KEGG': '', 'HMDB': '', 'ChEBI': '', 'MetaNetX': '', 'metabolicATLAS': 'lystrparg', 'recon3d': 'lystrparg_e'} {'PubChem': '', 'KEGG': '', 'HMDB': '', 'ChEBI': '', 'MetaNetX': '', 'metabolicATLAS': 'lystrparg', 'recon3d': 'lystrparg_c'}\n",
      "{'PubChem': '', 'KEGG': '', 'HMDB': '', 'ChEBI': '', 'MetaNetX': '', 'metabolicATLAS': 'lystyrile', 'recon3d': 'lystyrile_e'} {'PubChem': '', 'KEGG': '', 'HMDB': '', 'ChEBI': '', 'MetaNetX': '', 'metabolicATLAS': 'lystyrile', 'recon3d': 'lystyrile_c'}\n",
      "{'PubChem': '', 'KEGG': '', 'HMDB': '', 'ChEBI': '', 'MetaNetX': '', 'metabolicATLAS': 'lysvalphe', 'recon3d': 'lysvalphe_e'} {'PubChem': '', 'KEGG': '', 'HMDB': '', 'ChEBI': '', 'MetaNetX': '', 'metabolicATLAS': 'lysvalphe', 'recon3d': 'lysvalphe_c'}\n",
      "{'PubChem': '', 'KEGG': '', 'HMDB': '', 'ChEBI': '', 'MetaNetX': '', 'metabolicATLAS': 'lysvaltrp', 'recon3d': 'lysvaltrp_e'} {'PubChem': '', 'KEGG': '', 'HMDB': '', 'ChEBI': '', 'MetaNetX': '', 'metabolicATLAS': 'lysvaltrp', 'recon3d': 'lysvaltrp_c'}\n",
      "{'PubChem': '', 'KEGG': '', 'HMDB': '', 'ChEBI': '', 'MetaNetX': '', 'metabolicATLAS': 'metargleu', 'recon3d': 'metargleu_e'} {'PubChem': '', 'KEGG': '', 'HMDB': '', 'ChEBI': '', 'MetaNetX': '', 'metabolicATLAS': 'metargleu', 'recon3d': 'metargleu_c'}\n",
      "{'PubChem': '', 'KEGG': '', 'HMDB': '', 'ChEBI': '', 'MetaNetX': '', 'metabolicATLAS': 'metasntyr', 'recon3d': 'metasntyr_e'} {'PubChem': '', 'KEGG': '', 'HMDB': '', 'ChEBI': '', 'MetaNetX': '', 'metabolicATLAS': 'metasntyr', 'recon3d': 'metasntyr_c'}\n",
      "{'PubChem': '', 'KEGG': '', 'HMDB': '', 'ChEBI': '', 'MetaNetX': '', 'metabolicATLAS': 'metglntyr', 'recon3d': 'metglntyr_e'} {'PubChem': '', 'KEGG': '', 'HMDB': '', 'ChEBI': '', 'MetaNetX': '', 'metabolicATLAS': 'metglntyr', 'recon3d': 'metglntyr_c'}\n",
      "{'PubChem': '', 'KEGG': '', 'HMDB': '', 'ChEBI': '', 'MetaNetX': '', 'metabolicATLAS': 'metglyarg', 'recon3d': 'metglyarg_e'} {'PubChem': '', 'KEGG': '', 'HMDB': '', 'ChEBI': '', 'MetaNetX': '', 'metabolicATLAS': 'metglyarg', 'recon3d': 'metglyarg_c'}\n",
      "{'PubChem': '', 'KEGG': '', 'HMDB': '', 'ChEBI': '', 'MetaNetX': '', 'metabolicATLAS': 'methislys', 'recon3d': 'methislys_e'} {'PubChem': '', 'KEGG': '', 'HMDB': '', 'ChEBI': '', 'MetaNetX': '', 'metabolicATLAS': 'methislys', 'recon3d': 'methislys_c'}\n",
      "{'PubChem': '', 'KEGG': '', 'HMDB': '', 'ChEBI': '', 'MetaNetX': '', 'metabolicATLAS': 'metmetile', 'recon3d': 'metmetile_e'} {'PubChem': '', 'KEGG': '', 'HMDB': '', 'ChEBI': '', 'MetaNetX': '', 'metabolicATLAS': 'metmetile', 'recon3d': 'metmetile_c'}\n",
      "{'PubChem': '', 'KEGG': '', 'HMDB': '', 'ChEBI': '', 'MetaNetX': '', 'metabolicATLAS': 'metphearg', 'recon3d': 'metphearg_e'} {'PubChem': '', 'KEGG': '', 'HMDB': '', 'ChEBI': '', 'MetaNetX': '', 'metabolicATLAS': 'metphearg', 'recon3d': 'metphearg_c'}\n",
      "{'PubChem': '', 'KEGG': '', 'HMDB': '', 'ChEBI': '', 'MetaNetX': '', 'metabolicATLAS': 'mettrpphe', 'recon3d': 'mettrpphe_e'} {'PubChem': '', 'KEGG': '', 'HMDB': '', 'ChEBI': '', 'MetaNetX': '', 'metabolicATLAS': 'mettrpphe', 'recon3d': 'mettrpphe_c'}\n",
      "{'PubChem': '', 'KEGG': '', 'HMDB': '', 'ChEBI': '', 'MetaNetX': '', 'metabolicATLAS': 'pheasnmet', 'recon3d': 'pheasnmet_e'} {'PubChem': '', 'KEGG': '', 'HMDB': '', 'ChEBI': '', 'MetaNetX': '', 'metabolicATLAS': 'pheasnmet', 'recon3d': 'pheasnmet_c'}\n",
      "{'PubChem': '', 'KEGG': '', 'HMDB': '', 'ChEBI': '', 'MetaNetX': '', 'metabolicATLAS': 'pheasp', 'recon3d': 'pheasp_e'} {'PubChem': '', 'KEGG': '', 'HMDB': '', 'ChEBI': '', 'MetaNetX': '', 'metabolicATLAS': 'pheasp', 'recon3d': 'pheasp_c'}\n",
      "{'PubChem': '', 'KEGG': '', 'HMDB': '', 'ChEBI': '', 'MetaNetX': '', 'metabolicATLAS': 'pheglnphe', 'recon3d': 'pheglnphe_e'} {'PubChem': '', 'KEGG': '', 'HMDB': '', 'ChEBI': '', 'MetaNetX': '', 'metabolicATLAS': 'pheglnphe', 'recon3d': 'pheglnphe_c'}\n",
      "{'PubChem': '', 'KEGG': '', 'HMDB': '', 'ChEBI': '', 'MetaNetX': '', 'metabolicATLAS': 'pheleu', 'recon3d': 'pheleu_e'} {'PubChem': '', 'KEGG': '', 'HMDB': '', 'ChEBI': '', 'MetaNetX': '', 'metabolicATLAS': 'pheleu', 'recon3d': 'pheleu_c'}\n",
      "{'PubChem': '', 'KEGG': '', 'HMDB': '', 'ChEBI': '', 'MetaNetX': '', 'metabolicATLAS': 'pheleuasp', 'recon3d': 'pheleuasp_e'} {'PubChem': '', 'KEGG': '', 'HMDB': '', 'ChEBI': '', 'MetaNetX': '', 'metabolicATLAS': 'pheleuasp', 'recon3d': 'pheleuasp_c'}\n",
      "{'PubChem': '', 'KEGG': '', 'HMDB': '', 'ChEBI': '', 'MetaNetX': '', 'metabolicATLAS': 'pheleuhis', 'recon3d': 'pheleuhis_e'} {'PubChem': '', 'KEGG': '', 'HMDB': '', 'ChEBI': '', 'MetaNetX': '', 'metabolicATLAS': 'pheleuhis', 'recon3d': 'pheleuhis_c'}\n",
      "{'PubChem': '', 'KEGG': '', 'HMDB': '', 'ChEBI': '', 'MetaNetX': '', 'metabolicATLAS': 'phelysala', 'recon3d': 'phelysala_e'} {'PubChem': '', 'KEGG': '', 'HMDB': '', 'ChEBI': '', 'MetaNetX': '', 'metabolicATLAS': 'phelysala', 'recon3d': 'phelysala_c'}\n",
      "{'PubChem': '', 'KEGG': '', 'HMDB': '', 'ChEBI': '', 'MetaNetX': '', 'metabolicATLAS': 'phelyspro', 'recon3d': 'phelyspro_e'} {'PubChem': '', 'KEGG': '', 'HMDB': '', 'ChEBI': '', 'MetaNetX': '', 'metabolicATLAS': 'phelyspro', 'recon3d': 'phelyspro_c'}\n",
      "{'PubChem': '', 'KEGG': '', 'HMDB': '', 'ChEBI': '', 'MetaNetX': '', 'metabolicATLAS': 'phephe', 'recon3d': 'phephe_e'} {'PubChem': '', 'KEGG': '', 'HMDB': '', 'ChEBI': '', 'MetaNetX': '', 'metabolicATLAS': 'phephe', 'recon3d': 'phephe_c'}\n",
      "{'PubChem': '', 'KEGG': '', 'HMDB': '', 'ChEBI': '', 'MetaNetX': '', 'metabolicATLAS': 'phepheasn', 'recon3d': 'phepheasn_e'} {'PubChem': '', 'KEGG': '', 'HMDB': '', 'ChEBI': '', 'MetaNetX': '', 'metabolicATLAS': 'phepheasn', 'recon3d': 'phepheasn_c'}\n",
      "{'PubChem': '', 'KEGG': '', 'HMDB': '', 'ChEBI': '', 'MetaNetX': '', 'metabolicATLAS': 'phephethr', 'recon3d': 'phephethr_e'} {'PubChem': '', 'KEGG': '', 'HMDB': '', 'ChEBI': '', 'MetaNetX': '', 'metabolicATLAS': 'phephethr', 'recon3d': 'phephethr_c'}\n",
      "{'PubChem': '', 'KEGG': '', 'HMDB': '', 'ChEBI': '', 'MetaNetX': '', 'metabolicATLAS': 'pheproarg', 'recon3d': 'pheproarg_e'} {'PubChem': '', 'KEGG': '', 'HMDB': '', 'ChEBI': '', 'MetaNetX': '', 'metabolicATLAS': 'pheproarg', 'recon3d': 'pheproarg_c'}\n",
      "{'PubChem': '', 'KEGG': '', 'HMDB': '', 'ChEBI': '', 'MetaNetX': '', 'metabolicATLAS': 'phesertrp', 'recon3d': 'phesertrp_e'} {'PubChem': '', 'KEGG': '', 'HMDB': '', 'ChEBI': '', 'MetaNetX': '', 'metabolicATLAS': 'phesertrp', 'recon3d': 'phesertrp_c'}\n",
      "{'PubChem': '', 'KEGG': '', 'HMDB': '', 'ChEBI': '', 'MetaNetX': '', 'metabolicATLAS': 'phethrlys', 'recon3d': 'phethrlys_e'} {'PubChem': '', 'KEGG': '', 'HMDB': '', 'ChEBI': '', 'MetaNetX': '', 'metabolicATLAS': 'phethrlys', 'recon3d': 'phethrlys_c'}\n",
      "{'PubChem': '', 'KEGG': '', 'HMDB': '', 'ChEBI': '', 'MetaNetX': '', 'metabolicATLAS': 'phetrpleu', 'recon3d': 'phetrpleu_e'} {'PubChem': '', 'KEGG': '', 'HMDB': '', 'ChEBI': '', 'MetaNetX': '', 'metabolicATLAS': 'phetrpleu', 'recon3d': 'phetrpleu_c'}\n",
      "{'PubChem': '', 'KEGG': '', 'HMDB': '', 'ChEBI': '', 'MetaNetX': '', 'metabolicATLAS': 'phetyr', 'recon3d': 'phetyr_e'} {'PubChem': '', 'KEGG': '', 'HMDB': '', 'ChEBI': '', 'MetaNetX': '', 'metabolicATLAS': 'phetyr', 'recon3d': 'phetyr_c'}\n",
      "{'PubChem': '', 'KEGG': '', 'HMDB': '', 'ChEBI': '', 'MetaNetX': '', 'metabolicATLAS': 'phetyrgln', 'recon3d': 'phetyrgln_e'} {'PubChem': '', 'KEGG': '', 'HMDB': '', 'ChEBI': '', 'MetaNetX': '', 'metabolicATLAS': 'phetyrgln', 'recon3d': 'phetyrgln_c'}\n",
      "{'PubChem': '', 'KEGG': '', 'HMDB': '', 'ChEBI': '', 'MetaNetX': '', 'metabolicATLAS': 'phetyrlys', 'recon3d': 'phetyrlys_e'} {'PubChem': '', 'KEGG': '', 'HMDB': '', 'ChEBI': '', 'MetaNetX': '', 'metabolicATLAS': 'phetyrlys', 'recon3d': 'phetyrlys_c'}\n",
      "{'PubChem': '', 'KEGG': '', 'HMDB': '', 'ChEBI': '', 'MetaNetX': '', 'metabolicATLAS': 'proargasp', 'recon3d': 'proargasp_e'} {'PubChem': '', 'KEGG': '', 'HMDB': '', 'ChEBI': '', 'MetaNetX': '', 'metabolicATLAS': 'proargasp', 'recon3d': 'proargasp_c'}\n",
      "{'PubChem': '', 'KEGG': '', 'HMDB': '', 'ChEBI': '', 'MetaNetX': '', 'metabolicATLAS': 'proargcys', 'recon3d': 'proargcys_e'} {'PubChem': '', 'KEGG': '', 'HMDB': '', 'ChEBI': '', 'MetaNetX': '', 'metabolicATLAS': 'proargcys', 'recon3d': 'proargcys_c'}\n",
      "{'PubChem': '', 'KEGG': '', 'HMDB': '', 'ChEBI': '', 'MetaNetX': '', 'metabolicATLAS': 'proasncys', 'recon3d': 'proasncys_e'} {'PubChem': '', 'KEGG': '', 'HMDB': '', 'ChEBI': '', 'MetaNetX': '', 'metabolicATLAS': 'proasncys', 'recon3d': 'proasncys_c'}\n",
      "{'PubChem': '', 'KEGG': '', 'HMDB': '', 'ChEBI': '', 'MetaNetX': '', 'metabolicATLAS': 'procys', 'recon3d': 'procys_e'} {'PubChem': '', 'KEGG': '', 'HMDB': '', 'ChEBI': '', 'MetaNetX': '', 'metabolicATLAS': 'procys', 'recon3d': 'procys_c'}\n",
      "{'PubChem': '', 'KEGG': '', 'HMDB': '', 'ChEBI': '', 'MetaNetX': '', 'metabolicATLAS': 'proglnpro', 'recon3d': 'proglnpro_e'} {'PubChem': '', 'KEGG': '', 'HMDB': '', 'ChEBI': '', 'MetaNetX': '', 'metabolicATLAS': 'proglnpro', 'recon3d': 'proglnpro_c'}\n",
      "{'PubChem': '', 'KEGG': '', 'HMDB': '', 'ChEBI': '', 'MetaNetX': '', 'metabolicATLAS': 'proglulys', 'recon3d': 'proglulys_e'} {'PubChem': '', 'KEGG': '', 'HMDB': '', 'ChEBI': '', 'MetaNetX': '', 'metabolicATLAS': 'proglulys', 'recon3d': 'proglulys_c'}\n",
      "{'PubChem': '', 'KEGG': '', 'HMDB': '', 'ChEBI': '', 'MetaNetX': '', 'metabolicATLAS': 'prohis', 'recon3d': 'prohis_e'} {'PubChem': '', 'KEGG': '', 'HMDB': '', 'ChEBI': '', 'MetaNetX': '', 'metabolicATLAS': 'prohis', 'recon3d': 'prohis_c'}\n",
      "{'PubChem': '', 'KEGG': '', 'HMDB': '', 'ChEBI': '', 'MetaNetX': '', 'metabolicATLAS': 'prohistyr', 'recon3d': 'prohistyr_e'} {'PubChem': '', 'KEGG': '', 'HMDB': '', 'ChEBI': '', 'MetaNetX': '', 'metabolicATLAS': 'prohistyr', 'recon3d': 'prohistyr_c'}\n",
      "{'PubChem': '', 'KEGG': '', 'HMDB': '', 'ChEBI': '', 'MetaNetX': '', 'metabolicATLAS': 'proleuarg', 'recon3d': 'proleuarg_e'} {'PubChem': '', 'KEGG': '', 'HMDB': '', 'ChEBI': '', 'MetaNetX': '', 'metabolicATLAS': 'proleuarg', 'recon3d': 'proleuarg_c'}\n",
      "{'PubChem': '', 'KEGG': '', 'HMDB': '', 'ChEBI': '', 'MetaNetX': '', 'metabolicATLAS': 'prolyspro', 'recon3d': 'prolyspro_e'} {'PubChem': '', 'KEGG': '', 'HMDB': '', 'ChEBI': '', 'MetaNetX': '', 'metabolicATLAS': 'prolyspro', 'recon3d': 'prolyspro_c'}\n",
      "{'PubChem': '', 'KEGG': '', 'HMDB': '', 'ChEBI': '', 'MetaNetX': '', 'metabolicATLAS': 'prophe', 'recon3d': 'prophe_e'} {'PubChem': '', 'KEGG': '', 'HMDB': '', 'ChEBI': '', 'MetaNetX': '', 'metabolicATLAS': 'prophe', 'recon3d': 'prophe_c'}\n",
      "{'PubChem': '', 'KEGG': '', 'HMDB': '', 'ChEBI': '', 'MetaNetX': '', 'metabolicATLAS': 'proproarg', 'recon3d': 'proproarg_e'} {'PubChem': '', 'KEGG': '', 'HMDB': '', 'ChEBI': '', 'MetaNetX': '', 'metabolicATLAS': 'proproarg', 'recon3d': 'proproarg_c'}\n",
      "{'PubChem': '', 'KEGG': '', 'HMDB': '', 'ChEBI': '', 'MetaNetX': '', 'metabolicATLAS': 'propropro', 'recon3d': 'propropro_e'} {'PubChem': '', 'KEGG': '', 'HMDB': '', 'ChEBI': '', 'MetaNetX': '', 'metabolicATLAS': 'propropro', 'recon3d': 'propropro_c'}\n",
      "{'PubChem': '', 'KEGG': '', 'HMDB': '', 'ChEBI': '', 'MetaNetX': '', 'metabolicATLAS': 'protrplys', 'recon3d': 'protrplys_e'} {'PubChem': '', 'KEGG': '', 'HMDB': '', 'ChEBI': '', 'MetaNetX': '', 'metabolicATLAS': 'protrplys', 'recon3d': 'protrplys_c'}\n",
      "{'PubChem': '', 'KEGG': '', 'HMDB': '', 'ChEBI': '', 'MetaNetX': '', 'metabolicATLAS': 'protrpthr', 'recon3d': 'protrpthr_e'} {'PubChem': '', 'KEGG': '', 'HMDB': '', 'ChEBI': '', 'MetaNetX': '', 'metabolicATLAS': 'protrpthr', 'recon3d': 'protrpthr_c'}\n",
      "{'PubChem': '', 'KEGG': '', 'HMDB': '', 'ChEBI': '', 'MetaNetX': '', 'metabolicATLAS': 'provalgln', 'recon3d': 'provalgln_e'} {'PubChem': '', 'KEGG': '', 'HMDB': '', 'ChEBI': '', 'MetaNetX': '', 'metabolicATLAS': 'provalgln', 'recon3d': 'provalgln_c'}\n",
      "{'PubChem': '', 'KEGG': '', 'HMDB': '', 'ChEBI': '', 'MetaNetX': '', 'metabolicATLAS': 'serargala', 'recon3d': 'serargala_e'} {'PubChem': '', 'KEGG': '', 'HMDB': '', 'ChEBI': '', 'MetaNetX': '', 'metabolicATLAS': 'serargala', 'recon3d': 'serargala_c'}\n",
      "{'PubChem': '', 'KEGG': '', 'HMDB': '', 'ChEBI': '', 'MetaNetX': '', 'metabolicATLAS': 'serargtrp', 'recon3d': 'serargtrp_e'} {'PubChem': '', 'KEGG': '', 'HMDB': '', 'ChEBI': '', 'MetaNetX': '', 'metabolicATLAS': 'serargtrp', 'recon3d': 'serargtrp_c'}\n",
      "{'PubChem': '', 'KEGG': '', 'HMDB': '', 'ChEBI': '', 'MetaNetX': '', 'metabolicATLAS': 'sercysarg', 'recon3d': 'sercysarg_e'} {'PubChem': '', 'KEGG': '', 'HMDB': '', 'ChEBI': '', 'MetaNetX': '', 'metabolicATLAS': 'sercysarg', 'recon3d': 'sercysarg_c'}\n",
      "{'PubChem': '', 'KEGG': '', 'HMDB': '', 'ChEBI': '', 'MetaNetX': '', 'metabolicATLAS': 'serglyglu', 'recon3d': 'serglyglu_e'} {'PubChem': '', 'KEGG': '', 'HMDB': '', 'ChEBI': '', 'MetaNetX': '', 'metabolicATLAS': 'serglyglu', 'recon3d': 'serglyglu_c'}\n",
      "{'PubChem': '', 'KEGG': '', 'HMDB': '', 'ChEBI': '', 'MetaNetX': '', 'metabolicATLAS': 'serlyshis', 'recon3d': 'serlyshis_e'} {'PubChem': '', 'KEGG': '', 'HMDB': '', 'ChEBI': '', 'MetaNetX': '', 'metabolicATLAS': 'serlyshis', 'recon3d': 'serlyshis_c'}\n",
      "{'PubChem': '', 'KEGG': '', 'HMDB': '', 'ChEBI': '', 'MetaNetX': '', 'metabolicATLAS': 'serphelys', 'recon3d': 'serphelys_e'} {'PubChem': '', 'KEGG': '', 'HMDB': '', 'ChEBI': '', 'MetaNetX': '', 'metabolicATLAS': 'serphelys', 'recon3d': 'serphelys_c'}\n",
      "{'PubChem': '', 'KEGG': '', 'HMDB': '', 'ChEBI': '', 'MetaNetX': '', 'metabolicATLAS': 'sertrphis', 'recon3d': 'sertrphis_e'} {'PubChem': '', 'KEGG': '', 'HMDB': '', 'ChEBI': '', 'MetaNetX': '', 'metabolicATLAS': 'sertrphis', 'recon3d': 'sertrphis_c'}\n",
      "{'PubChem': '', 'KEGG': '', 'HMDB': '', 'ChEBI': '', 'MetaNetX': '', 'metabolicATLAS': 'thrargtyr', 'recon3d': 'thrargtyr_e'} {'PubChem': '', 'KEGG': '', 'HMDB': '', 'ChEBI': '', 'MetaNetX': '', 'metabolicATLAS': 'thrargtyr', 'recon3d': 'thrargtyr_c'}\n",
      "{'PubChem': '', 'KEGG': '', 'HMDB': '', 'ChEBI': '', 'MetaNetX': '', 'metabolicATLAS': 'thrasntyr', 'recon3d': 'thrasntyr_e'} {'PubChem': '', 'KEGG': '', 'HMDB': '', 'ChEBI': '', 'MetaNetX': '', 'metabolicATLAS': 'thrasntyr', 'recon3d': 'thrasntyr_c'}\n",
      "{'PubChem': '', 'KEGG': '', 'HMDB': '', 'ChEBI': '', 'MetaNetX': '', 'metabolicATLAS': 'thrglnglu', 'recon3d': 'thrglnglu_e'} {'PubChem': '', 'KEGG': '', 'HMDB': '', 'ChEBI': '', 'MetaNetX': '', 'metabolicATLAS': 'thrglnglu', 'recon3d': 'thrglnglu_c'}\n",
      "{'PubChem': '', 'KEGG': '', 'HMDB': '', 'ChEBI': '', 'MetaNetX': '', 'metabolicATLAS': 'thrglntyr', 'recon3d': 'thrglntyr_e'} {'PubChem': '', 'KEGG': '', 'HMDB': '', 'ChEBI': '', 'MetaNetX': '', 'metabolicATLAS': 'thrglntyr', 'recon3d': 'thrglntyr_c'}\n",
      "{'PubChem': '', 'KEGG': '', 'HMDB': '', 'ChEBI': '', 'MetaNetX': '', 'metabolicATLAS': 'thrhishis', 'recon3d': 'thrhishis_e'} {'PubChem': '', 'KEGG': '', 'HMDB': '', 'ChEBI': '', 'MetaNetX': '', 'metabolicATLAS': 'thrhishis', 'recon3d': 'thrhishis_c'}\n",
      "{'PubChem': '', 'KEGG': '', 'HMDB': '', 'ChEBI': '', 'MetaNetX': '', 'metabolicATLAS': 'thrilearg', 'recon3d': 'thrilearg_e'} {'PubChem': '', 'KEGG': '', 'HMDB': '', 'ChEBI': '', 'MetaNetX': '', 'metabolicATLAS': 'thrilearg', 'recon3d': 'thrilearg_c'}\n",
      "{'PubChem': '', 'KEGG': '', 'HMDB': '', 'ChEBI': '', 'MetaNetX': '', 'metabolicATLAS': 'thrmetarg', 'recon3d': 'thrmetarg_e'} {'PubChem': '', 'KEGG': '', 'HMDB': '', 'ChEBI': '', 'MetaNetX': '', 'metabolicATLAS': 'thrmetarg', 'recon3d': 'thrmetarg_c'}\n",
      "{'PubChem': '', 'KEGG': '', 'HMDB': '', 'ChEBI': '', 'MetaNetX': '', 'metabolicATLAS': 'thrphearg', 'recon3d': 'thrphearg_e'} {'PubChem': '', 'KEGG': '', 'HMDB': '', 'ChEBI': '', 'MetaNetX': '', 'metabolicATLAS': 'thrphearg', 'recon3d': 'thrphearg_c'}\n",
      "{'PubChem': '', 'KEGG': '', 'HMDB': '', 'ChEBI': '', 'MetaNetX': '', 'metabolicATLAS': 'thrserarg', 'recon3d': 'thrserarg_e'} {'PubChem': '', 'KEGG': '', 'HMDB': '', 'ChEBI': '', 'MetaNetX': '', 'metabolicATLAS': 'thrserarg', 'recon3d': 'thrserarg_c'}\n",
      "{'PubChem': '', 'KEGG': '', 'HMDB': '', 'ChEBI': '', 'MetaNetX': '', 'metabolicATLAS': 'thrthrarg', 'recon3d': 'thrthrarg_e'} {'PubChem': '', 'KEGG': '', 'HMDB': '', 'ChEBI': '', 'MetaNetX': '', 'metabolicATLAS': 'thrthrarg', 'recon3d': 'thrthrarg_c'}\n",
      "{'PubChem': '', 'KEGG': '', 'HMDB': '', 'ChEBI': '', 'MetaNetX': '', 'metabolicATLAS': 'thrtyrmet', 'recon3d': 'thrtyrmet_e'} {'PubChem': '', 'KEGG': '', 'HMDB': '', 'ChEBI': '', 'MetaNetX': '', 'metabolicATLAS': 'thrtyrmet', 'recon3d': 'thrtyrmet_c'}\n",
      "{'PubChem': '', 'KEGG': '', 'HMDB': '', 'ChEBI': '', 'MetaNetX': '', 'metabolicATLAS': 'trpalapro', 'recon3d': 'trpalapro_e'} {'PubChem': '', 'KEGG': '', 'HMDB': '', 'ChEBI': '', 'MetaNetX': '', 'metabolicATLAS': 'trpalapro', 'recon3d': 'trpalapro_c'}\n",
      "{'PubChem': '', 'KEGG': '', 'HMDB': '', 'ChEBI': '', 'MetaNetX': '', 'metabolicATLAS': 'trpargala', 'recon3d': 'trpargala_e'} {'PubChem': '', 'KEGG': '', 'HMDB': '', 'ChEBI': '', 'MetaNetX': '', 'metabolicATLAS': 'trpargala', 'recon3d': 'trpargala_c'}\n",
      "{'PubChem': '', 'KEGG': '', 'HMDB': '', 'ChEBI': '', 'MetaNetX': '', 'metabolicATLAS': 'trpaspasp', 'recon3d': 'trpaspasp_e'} {'PubChem': '', 'KEGG': '', 'HMDB': '', 'ChEBI': '', 'MetaNetX': '', 'metabolicATLAS': 'trpaspasp', 'recon3d': 'trpaspasp_c'}\n",
      "{'PubChem': '', 'KEGG': '', 'HMDB': '', 'ChEBI': '', 'MetaNetX': '', 'metabolicATLAS': 'trpglngln', 'recon3d': 'trpglngln_e'} {'PubChem': '', 'KEGG': '', 'HMDB': '', 'ChEBI': '', 'MetaNetX': '', 'metabolicATLAS': 'trpglngln', 'recon3d': 'trpglngln_c'}\n",
      "{'PubChem': '', 'KEGG': '', 'HMDB': '', 'ChEBI': '', 'MetaNetX': '', 'metabolicATLAS': 'trpglugly', 'recon3d': 'trpglugly_e'} {'PubChem': '', 'KEGG': '', 'HMDB': '', 'ChEBI': '', 'MetaNetX': '', 'metabolicATLAS': 'trpglugly', 'recon3d': 'trpglugly_c'}\n",
      "{'PubChem': '', 'KEGG': '', 'HMDB': '', 'ChEBI': '', 'MetaNetX': '', 'metabolicATLAS': 'trpgluleu', 'recon3d': 'trpgluleu_e'} {'PubChem': '', 'KEGG': '', 'HMDB': '', 'ChEBI': '', 'MetaNetX': '', 'metabolicATLAS': 'trpgluleu', 'recon3d': 'trpgluleu_c'}\n",
      "{'PubChem': '', 'KEGG': '', 'HMDB': '', 'ChEBI': '', 'MetaNetX': '', 'metabolicATLAS': 'trpglupro', 'recon3d': 'trpglupro_e'} {'PubChem': '', 'KEGG': '', 'HMDB': '', 'ChEBI': '', 'MetaNetX': '', 'metabolicATLAS': 'trpglupro', 'recon3d': 'trpglupro_c'}\n",
      "{'PubChem': '', 'KEGG': '', 'HMDB': '', 'ChEBI': '', 'MetaNetX': '', 'metabolicATLAS': 'trpglutyr', 'recon3d': 'trpglutyr_e'} {'PubChem': '', 'KEGG': '', 'HMDB': '', 'ChEBI': '', 'MetaNetX': '', 'metabolicATLAS': 'trpglutyr', 'recon3d': 'trpglutyr_c'}\n",
      "{'PubChem': '', 'KEGG': '', 'HMDB': '', 'ChEBI': '', 'MetaNetX': '', 'metabolicATLAS': 'trpglyleu', 'recon3d': 'trpglyleu_e'} {'PubChem': '', 'KEGG': '', 'HMDB': '', 'ChEBI': '', 'MetaNetX': '', 'metabolicATLAS': 'trpglyleu', 'recon3d': 'trpglyleu_c'}\n",
      "{'PubChem': '', 'KEGG': '', 'HMDB': '', 'ChEBI': '', 'MetaNetX': '', 'metabolicATLAS': 'trpglyphe', 'recon3d': 'trpglyphe_e'} {'PubChem': '', 'KEGG': '', 'HMDB': '', 'ChEBI': '', 'MetaNetX': '', 'metabolicATLAS': 'trpglyphe', 'recon3d': 'trpglyphe_c'}\n",
      "{'PubChem': '', 'KEGG': '', 'HMDB': '', 'ChEBI': '', 'MetaNetX': '', 'metabolicATLAS': 'trpglyval', 'recon3d': 'trpglyval_e'} {'PubChem': '', 'KEGG': '', 'HMDB': '', 'ChEBI': '', 'MetaNetX': '', 'metabolicATLAS': 'trpglyval', 'recon3d': 'trpglyval_c'}\n",
      "{'PubChem': '', 'KEGG': '', 'HMDB': '', 'ChEBI': '', 'MetaNetX': '', 'metabolicATLAS': 'trphismet', 'recon3d': 'trphismet_e'} {'PubChem': '', 'KEGG': '', 'HMDB': '', 'ChEBI': '', 'MetaNetX': '', 'metabolicATLAS': 'trphismet', 'recon3d': 'trphismet_c'}\n",
      "{'PubChem': '', 'KEGG': '', 'HMDB': '', 'ChEBI': '', 'MetaNetX': '', 'metabolicATLAS': 'trpilelys', 'recon3d': 'trpilelys_e'} {'PubChem': '', 'KEGG': '', 'HMDB': '', 'ChEBI': '', 'MetaNetX': '', 'metabolicATLAS': 'trpilelys', 'recon3d': 'trpilelys_c'}\n",
      "{'PubChem': '', 'KEGG': '', 'HMDB': '', 'ChEBI': '', 'MetaNetX': '', 'metabolicATLAS': 'trpiletrp', 'recon3d': 'trpiletrp_e'} {'PubChem': '', 'KEGG': '', 'HMDB': '', 'ChEBI': '', 'MetaNetX': '', 'metabolicATLAS': 'trpiletrp', 'recon3d': 'trpiletrp_c'}\n",
      "{'PubChem': '', 'KEGG': '', 'HMDB': '', 'ChEBI': '', 'MetaNetX': '', 'metabolicATLAS': 'trpleuval', 'recon3d': 'trpleuval_e'} {'PubChem': '', 'KEGG': '', 'HMDB': '', 'ChEBI': '', 'MetaNetX': '', 'metabolicATLAS': 'trpleuval', 'recon3d': 'trpleuval_c'}\n",
      "{'PubChem': '', 'KEGG': '', 'HMDB': '', 'ChEBI': '', 'MetaNetX': '', 'metabolicATLAS': 'trplys', 'recon3d': 'trplys_e'} {'PubChem': '', 'KEGG': '', 'HMDB': '', 'ChEBI': '', 'MetaNetX': '', 'metabolicATLAS': 'trplys', 'recon3d': 'trplys_c'}\n",
      "{'PubChem': '', 'KEGG': '', 'HMDB': '', 'ChEBI': '', 'MetaNetX': '', 'metabolicATLAS': 'trpmetarg', 'recon3d': 'trpmetarg_e'} {'PubChem': '', 'KEGG': '', 'HMDB': '', 'ChEBI': '', 'MetaNetX': '', 'metabolicATLAS': 'trpmetarg', 'recon3d': 'trpmetarg_c'}\n",
      "{'PubChem': '', 'KEGG': '', 'HMDB': '', 'ChEBI': '', 'MetaNetX': '', 'metabolicATLAS': 'trpmetval', 'recon3d': 'trpmetval_e'} {'PubChem': '', 'KEGG': '', 'HMDB': '', 'ChEBI': '', 'MetaNetX': '', 'metabolicATLAS': 'trpmetval', 'recon3d': 'trpmetval_c'}\n",
      "{'PubChem': '', 'KEGG': '', 'HMDB': '', 'ChEBI': '', 'MetaNetX': '', 'metabolicATLAS': 'trpphe', 'recon3d': 'trpphe_e'} {'PubChem': '', 'KEGG': '', 'HMDB': '', 'ChEBI': '', 'MetaNetX': '', 'metabolicATLAS': 'trpphe', 'recon3d': 'trpphe_c'}\n",
      "{'PubChem': '', 'KEGG': '', 'HMDB': '', 'ChEBI': '', 'MetaNetX': '', 'metabolicATLAS': 'trpprogly', 'recon3d': 'trpprogly_e'} {'PubChem': '', 'KEGG': '', 'HMDB': '', 'ChEBI': '', 'MetaNetX': '', 'metabolicATLAS': 'trpprogly', 'recon3d': 'trpprogly_c'}\n",
      "{'PubChem': '', 'KEGG': '', 'HMDB': '', 'ChEBI': '', 'MetaNetX': '', 'metabolicATLAS': 'trpproleu', 'recon3d': 'trpproleu_e'} {'PubChem': '', 'KEGG': '', 'HMDB': '', 'ChEBI': '', 'MetaNetX': '', 'metabolicATLAS': 'trpproleu', 'recon3d': 'trpproleu_c'}\n",
      "{'PubChem': '', 'KEGG': '', 'HMDB': '', 'ChEBI': '', 'MetaNetX': '', 'metabolicATLAS': 'trpproval', 'recon3d': 'trpproval_e'} {'PubChem': '', 'KEGG': '', 'HMDB': '', 'ChEBI': '', 'MetaNetX': '', 'metabolicATLAS': 'trpproval', 'recon3d': 'trpproval_c'}\n",
      "{'PubChem': '', 'KEGG': '', 'HMDB': '', 'ChEBI': '', 'MetaNetX': '', 'metabolicATLAS': 'trpsertyr', 'recon3d': 'trpsertyr_e'} {'PubChem': '', 'KEGG': '', 'HMDB': '', 'ChEBI': '', 'MetaNetX': '', 'metabolicATLAS': 'trpsertyr', 'recon3d': 'trpsertyr_c'}\n",
      "{'PubChem': '', 'KEGG': '', 'HMDB': '', 'ChEBI': '', 'MetaNetX': '', 'metabolicATLAS': 'trpthrglu', 'recon3d': 'trpthrglu_e'} {'PubChem': '', 'KEGG': '', 'HMDB': '', 'ChEBI': '', 'MetaNetX': '', 'metabolicATLAS': 'trpthrglu', 'recon3d': 'trpthrglu_c'}\n",
      "{'PubChem': '', 'KEGG': '', 'HMDB': '', 'ChEBI': '', 'MetaNetX': '', 'metabolicATLAS': 'trpthrile', 'recon3d': 'trpthrile_e'} {'PubChem': '', 'KEGG': '', 'HMDB': '', 'ChEBI': '', 'MetaNetX': '', 'metabolicATLAS': 'trpthrile', 'recon3d': 'trpthrile_c'}\n",
      "{'PubChem': '', 'KEGG': '', 'HMDB': '', 'ChEBI': '', 'MetaNetX': '', 'metabolicATLAS': 'trpthrtyr', 'recon3d': 'trpthrtyr_e'} {'PubChem': '', 'KEGG': '', 'HMDB': '', 'ChEBI': '', 'MetaNetX': '', 'metabolicATLAS': 'trpthrtyr', 'recon3d': 'trpthrtyr_c'}\n",
      "{'PubChem': '', 'KEGG': '', 'HMDB': '', 'ChEBI': '', 'MetaNetX': '', 'metabolicATLAS': 'trptyrgln', 'recon3d': 'trptyrgln_e'} {'PubChem': '', 'KEGG': '', 'HMDB': '', 'ChEBI': '', 'MetaNetX': '', 'metabolicATLAS': 'trptyrgln', 'recon3d': 'trptyrgln_c'}\n",
      "{'PubChem': '', 'KEGG': '', 'HMDB': '', 'ChEBI': '', 'MetaNetX': '', 'metabolicATLAS': 'trptyrtyr', 'recon3d': 'trptyrtyr_e'} {'PubChem': '', 'KEGG': '', 'HMDB': '', 'ChEBI': '', 'MetaNetX': '', 'metabolicATLAS': 'trptyrtyr', 'recon3d': 'trptyrtyr_c'}\n",
      "{'PubChem': '', 'KEGG': '', 'HMDB': '', 'ChEBI': '', 'MetaNetX': '', 'metabolicATLAS': 'trpvalasp', 'recon3d': 'trpvalasp_e'} {'PubChem': '', 'KEGG': '', 'HMDB': '', 'ChEBI': '', 'MetaNetX': '', 'metabolicATLAS': 'trpvalasp', 'recon3d': 'trpvalasp_c'}\n",
      "{'PubChem': '', 'KEGG': '', 'HMDB': '', 'ChEBI': '', 'MetaNetX': '', 'metabolicATLAS': 'tyrala', 'recon3d': 'tyrala_e'} {'PubChem': '', 'KEGG': '', 'HMDB': '', 'ChEBI': '', 'MetaNetX': '', 'metabolicATLAS': 'tyrala', 'recon3d': 'tyrala_c'}\n",
      "{'PubChem': '', 'KEGG': '', 'HMDB': '', 'ChEBI': '', 'MetaNetX': '', 'metabolicATLAS': 'tyralaphe', 'recon3d': 'tyralaphe_e'} {'PubChem': '', 'KEGG': '', 'HMDB': '', 'ChEBI': '', 'MetaNetX': '', 'metabolicATLAS': 'tyralaphe', 'recon3d': 'tyralaphe_c'}\n",
      "{'PubChem': '', 'KEGG': '', 'HMDB': '', 'ChEBI': '', 'MetaNetX': '', 'metabolicATLAS': 'tyrargglu', 'recon3d': 'tyrargglu_e'} {'PubChem': '', 'KEGG': '', 'HMDB': '', 'ChEBI': '', 'MetaNetX': '', 'metabolicATLAS': 'tyrargglu', 'recon3d': 'tyrargglu_c'}\n",
      "{'PubChem': '', 'KEGG': '', 'HMDB': '', 'ChEBI': '', 'MetaNetX': '', 'metabolicATLAS': 'tyrargser', 'recon3d': 'tyrargser_e'} {'PubChem': '', 'KEGG': '', 'HMDB': '', 'ChEBI': '', 'MetaNetX': '', 'metabolicATLAS': 'tyrargser', 'recon3d': 'tyrargser_c'}\n",
      "{'PubChem': '', 'KEGG': '', 'HMDB': '', 'ChEBI': '', 'MetaNetX': '', 'metabolicATLAS': 'tyrasparg', 'recon3d': 'tyrasparg_e'} {'PubChem': '', 'KEGG': '', 'HMDB': '', 'ChEBI': '', 'MetaNetX': '', 'metabolicATLAS': 'tyrasparg', 'recon3d': 'tyrasparg_c'}\n",
      "{'PubChem': '', 'KEGG': '', 'HMDB': '', 'ChEBI': '', 'MetaNetX': '', 'metabolicATLAS': 'tyrcysgly', 'recon3d': 'tyrcysgly_e'} {'PubChem': '', 'KEGG': '', 'HMDB': '', 'ChEBI': '', 'MetaNetX': '', 'metabolicATLAS': 'tyrcysgly', 'recon3d': 'tyrcysgly_c'}\n",
      "{'PubChem': '', 'KEGG': '', 'HMDB': '', 'ChEBI': '', 'MetaNetX': '', 'metabolicATLAS': 'tyrcysthr', 'recon3d': 'tyrcysthr_e'} {'PubChem': '', 'KEGG': '', 'HMDB': '', 'ChEBI': '', 'MetaNetX': '', 'metabolicATLAS': 'tyrcysthr', 'recon3d': 'tyrcysthr_c'}\n",
      "{'PubChem': '', 'KEGG': '', 'HMDB': '', 'ChEBI': '', 'MetaNetX': '', 'metabolicATLAS': 'tyrglu', 'recon3d': 'tyrglu_e'} {'PubChem': '', 'KEGG': '', 'HMDB': '', 'ChEBI': '', 'MetaNetX': '', 'metabolicATLAS': 'tyrglu', 'recon3d': 'tyrglu_c'}\n",
      "{'PubChem': '', 'KEGG': '', 'HMDB': '', 'ChEBI': '', 'MetaNetX': '', 'metabolicATLAS': 'tyrleuarg', 'recon3d': 'tyrleuarg_e'} {'PubChem': '', 'KEGG': '', 'HMDB': '', 'ChEBI': '', 'MetaNetX': '', 'metabolicATLAS': 'tyrleuarg', 'recon3d': 'tyrleuarg_c'}\n",
      "{'PubChem': '', 'KEGG': '', 'HMDB': '', 'ChEBI': '', 'MetaNetX': '', 'metabolicATLAS': 'tyrphetyr', 'recon3d': 'tyrphetyr_e'} {'PubChem': '', 'KEGG': '', 'HMDB': '', 'ChEBI': '', 'MetaNetX': '', 'metabolicATLAS': 'tyrphetyr', 'recon3d': 'tyrphetyr_c'}\n",
      "{'PubChem': '', 'KEGG': '', 'HMDB': '', 'ChEBI': '', 'MetaNetX': '', 'metabolicATLAS': 'tyrthr', 'recon3d': 'tyrthr_e'} {'PubChem': '', 'KEGG': '', 'HMDB': '', 'ChEBI': '', 'MetaNetX': '', 'metabolicATLAS': 'tyrthr', 'recon3d': 'tyrthr_c'}\n",
      "{'PubChem': '', 'KEGG': '', 'HMDB': '', 'ChEBI': '', 'MetaNetX': '', 'metabolicATLAS': 'tyrtrpphe', 'recon3d': 'tyrtrpphe_e'} {'PubChem': '', 'KEGG': '', 'HMDB': '', 'ChEBI': '', 'MetaNetX': '', 'metabolicATLAS': 'tyrtrpphe', 'recon3d': 'tyrtrpphe_c'}\n",
      "{'PubChem': '', 'KEGG': '', 'HMDB': '', 'ChEBI': '', 'MetaNetX': '', 'metabolicATLAS': 'tyrtyr', 'recon3d': 'tyrtyr_e'} {'PubChem': '', 'KEGG': '', 'HMDB': '', 'ChEBI': '', 'MetaNetX': '', 'metabolicATLAS': 'tyrtyr', 'recon3d': 'tyrtyr_c'}\n",
      "{'PubChem': '', 'KEGG': '', 'HMDB': '', 'ChEBI': '', 'MetaNetX': '', 'metabolicATLAS': 'tyrvalmet', 'recon3d': 'tyrvalmet_e'} {'PubChem': '', 'KEGG': '', 'HMDB': '', 'ChEBI': '', 'MetaNetX': '', 'metabolicATLAS': 'tyrvalmet', 'recon3d': 'tyrvalmet_c'}\n",
      "{'PubChem': '', 'KEGG': '', 'HMDB': '', 'ChEBI': '', 'MetaNetX': '', 'metabolicATLAS': 'valarggly', 'recon3d': 'valarggly_e'} {'PubChem': '', 'KEGG': '', 'HMDB': '', 'ChEBI': '', 'MetaNetX': '', 'metabolicATLAS': 'valarggly', 'recon3d': 'valarggly_c'}\n",
      "{'PubChem': '', 'KEGG': '', 'HMDB': '', 'ChEBI': '', 'MetaNetX': '', 'metabolicATLAS': 'valhisasn', 'recon3d': 'valhisasn_e'} {'PubChem': '', 'KEGG': '', 'HMDB': '', 'ChEBI': '', 'MetaNetX': '', 'metabolicATLAS': 'valhisasn', 'recon3d': 'valhisasn_c'}\n",
      "{'PubChem': '', 'KEGG': '', 'HMDB': '', 'ChEBI': '', 'MetaNetX': '', 'metabolicATLAS': 'valleuphe', 'recon3d': 'valleuphe_e'} {'PubChem': '', 'KEGG': '', 'HMDB': '', 'ChEBI': '', 'MetaNetX': '', 'metabolicATLAS': 'valleuphe', 'recon3d': 'valleuphe_c'}\n",
      "{'PubChem': '', 'KEGG': '', 'HMDB': '', 'ChEBI': '', 'MetaNetX': '', 'metabolicATLAS': 'vallystyr', 'recon3d': 'vallystyr_e'} {'PubChem': '', 'KEGG': '', 'HMDB': '', 'ChEBI': '', 'MetaNetX': '', 'metabolicATLAS': 'vallystyr', 'recon3d': 'vallystyr_c'}\n",
      "{'PubChem': '', 'KEGG': '', 'HMDB': '', 'ChEBI': '', 'MetaNetX': '', 'metabolicATLAS': 'valphearg', 'recon3d': 'valphearg_e'} {'PubChem': '', 'KEGG': '', 'HMDB': '', 'ChEBI': '', 'MetaNetX': '', 'metabolicATLAS': 'valphearg', 'recon3d': 'valphearg_c'}\n",
      "{'PubChem': '', 'KEGG': '', 'HMDB': '', 'ChEBI': '', 'MetaNetX': '', 'metabolicATLAS': 'valprotrp', 'recon3d': 'valprotrp_e'} {'PubChem': '', 'KEGG': '', 'HMDB': '', 'ChEBI': '', 'MetaNetX': '', 'metabolicATLAS': 'valprotrp', 'recon3d': 'valprotrp_c'}\n",
      "{'PubChem': '', 'KEGG': '', 'HMDB': '', 'ChEBI': '', 'MetaNetX': '', 'metabolicATLAS': 'valserarg', 'recon3d': 'valserarg_e'} {'PubChem': '', 'KEGG': '', 'HMDB': '', 'ChEBI': '', 'MetaNetX': '', 'metabolicATLAS': 'valserarg', 'recon3d': 'valserarg_c'}\n",
      "{'PubChem': '', 'KEGG': '', 'HMDB': '', 'ChEBI': '', 'MetaNetX': '', 'metabolicATLAS': 'valtrpphe', 'recon3d': 'valtrpphe_e'} {'PubChem': '', 'KEGG': '', 'HMDB': '', 'ChEBI': '', 'MetaNetX': '', 'metabolicATLAS': 'valtrpphe', 'recon3d': 'valtrpphe_c'}\n",
      "{'PubChem': '', 'KEGG': '', 'HMDB': '', 'ChEBI': '', 'MetaNetX': '', 'metabolicATLAS': 'valtrpval', 'recon3d': 'valtrpval_e'} {'PubChem': '', 'KEGG': '', 'HMDB': '', 'ChEBI': '', 'MetaNetX': '', 'metabolicATLAS': 'valtrpval', 'recon3d': 'valtrpval_c'}\n",
      "{'PubChem': '', 'KEGG': '', 'HMDB': '', 'ChEBI': '', 'MetaNetX': '', 'metabolicATLAS': 'valval', 'recon3d': 'valval_e'} {'PubChem': '', 'KEGG': '', 'HMDB': '', 'ChEBI': '', 'MetaNetX': '', 'metabolicATLAS': 'valval', 'recon3d': 'valval_c'}\n",
      "{'PubChem': '', 'KEGG': '', 'HMDB': '', 'ChEBI': '', 'MetaNetX': '', 'metabolicATLAS': 'trpglyasp', 'recon3d': 'trpglyasp_e'} {'PubChem': '', 'KEGG': '', 'HMDB': '', 'ChEBI': '', 'MetaNetX': '', 'metabolicATLAS': 'trpglyasp', 'recon3d': 'trpglyasp_c'}\n",
      "{'PubChem': '', 'KEGG': '', 'HMDB': '', 'ChEBI': '', 'MetaNetX': '', 'metabolicATLAS': 'xolest183_hs', 'recon3d': 'xolest183_hs_e'} {'PubChem': '', 'KEGG': '', 'HMDB': '', 'ChEBI': '', 'MetaNetX': '', 'metabolicATLAS': 'xolest183_hs', 'recon3d': 'xolest183_hs_c'}\n",
      "{'PubChem': '', 'KEGG': '', 'HMDB': '', 'ChEBI': '', 'MetaNetX': '', 'metabolicATLAS': 'xolest182_hs', 'recon3d': 'xolest182_hs_l'} {'PubChem': '', 'KEGG': '', 'HMDB': '', 'ChEBI': '', 'MetaNetX': '', 'metabolicATLAS': 'xolest182_hs', 'recon3d': 'xolest182_hs_c'}\n",
      "{'PubChem': '', 'KEGG': '', 'HMDB': '', 'ChEBI': '', 'MetaNetX': '', 'metabolicATLAS': 'xolest181_hs', 'recon3d': 'xolest181_hs_e'} {'PubChem': '', 'KEGG': '', 'HMDB': '', 'ChEBI': '', 'MetaNetX': '', 'metabolicATLAS': 'xolest181_hs', 'recon3d': 'xolest181_hs_c'}\n",
      "{'PubChem': '', 'KEGG': '', 'HMDB': '', 'ChEBI': '', 'MetaNetX': '', 'metabolicATLAS': 'xolest205_hs', 'recon3d': 'xolest205_hs_e'} {'PubChem': '', 'KEGG': '', 'HMDB': '', 'ChEBI': '', 'MetaNetX': '', 'metabolicATLAS': 'xolest205_hs', 'recon3d': 'xolest205_hs_c'}\n",
      "{'PubChem': '', 'KEGG': '', 'HMDB': '', 'ChEBI': '', 'MetaNetX': '', 'metabolicATLAS': 'xolest204_hs', 'recon3d': 'xolest204_hs_e'} {'PubChem': '', 'KEGG': '', 'HMDB': '', 'ChEBI': '', 'MetaNetX': '', 'metabolicATLAS': 'xolest204_hs', 'recon3d': 'xolest204_hs_c'}\n",
      "{'PubChem': '', 'KEGG': '', 'HMDB': '', 'ChEBI': '', 'MetaNetX': '', 'metabolicATLAS': 'xolest226_hs', 'recon3d': 'xolest226_hs_e'} {'PubChem': '', 'KEGG': '', 'HMDB': '', 'ChEBI': '', 'MetaNetX': '', 'metabolicATLAS': 'xolest226_hs', 'recon3d': 'xolest226_hs_c'}\n",
      "{'PubChem': '', 'KEGG': '', 'HMDB': '', 'ChEBI': '', 'MetaNetX': 'MNXM1653; MNXM1653; MNXM1653', 'metabolicATLAS': 'hxa', 'recon3d': 'hxa_c'} {'PubChem': '', 'KEGG': '', 'HMDB': '', 'ChEBI': '', 'MetaNetX': 'MNXM1653', 'metabolicATLAS': 'hxa', 'recon3d': 'hxa_e'}\n",
      "{'PubChem': '', 'KEGG': '', 'HMDB': '', 'ChEBI': '', 'MetaNetX': '', 'metabolicATLAS': 'Lhcystin', 'recon3d': 'Lhcystin_c'} {'PubChem': '', 'KEGG': '', 'HMDB': '', 'ChEBI': '', 'MetaNetX': '', 'metabolicATLAS': 'Lhcystin', 'recon3d': 'Lhcystin_e'}\n",
      "{'PubChem': '', 'KEGG': 'C06377', 'HMDB': '', 'ChEBI': 'CHEBI:18232', 'MetaNetX': 'MNXM147460', 'metabolicATLAS': 'galam', 'recon3d': 'galam_e'} {'PubChem': '', 'KEGG': 'C06377', 'HMDB': '', 'ChEBI': 'CHEBI:18232', 'MetaNetX': 'MNXM147460', 'metabolicATLAS': 'galam', 'recon3d': 'galam_c'}\n",
      "{'PubChem': '9988135', 'KEGG': '', 'HMDB': '', 'ChEBI': '', 'MetaNetX': '', 'metabolicATLAS': 'mqn10', 'recon3d': 'mqn10_c'} {'PubChem': '9988135', 'KEGG': '', 'HMDB': '', 'ChEBI': '', 'MetaNetX': '', 'metabolicATLAS': 'mqn10', 'recon3d': 'mqn10_e'}\n",
      "{'PubChem': '6442190', 'KEGG': '', 'HMDB': '', 'ChEBI': '', 'MetaNetX': '', 'metabolicATLAS': 'mqn11', 'recon3d': 'mqn11_c'} {'PubChem': '6442190', 'KEGG': '', 'HMDB': '', 'ChEBI': '', 'MetaNetX': '', 'metabolicATLAS': 'mqn11', 'recon3d': 'mqn11_e'}\n",
      "{'PubChem': '5287554', 'KEGG': '', 'HMDB': '', 'ChEBI': '', 'MetaNetX': 'MNXM12236', 'metabolicATLAS': 'mqn7', 'recon3d': 'mqn7_c'} {'PubChem': '5287554', 'KEGG': '', 'HMDB': '', 'ChEBI': '', 'MetaNetX': 'MNXM12236', 'metabolicATLAS': 'mqn7', 'recon3d': 'mqn7_e'}\n",
      "{'PubChem': '6289935', 'KEGG': '', 'HMDB': '', 'ChEBI': '', 'MetaNetX': '', 'metabolicATLAS': 'mqn9', 'recon3d': 'mqn9_c'} {'PubChem': '6289935', 'KEGG': '', 'HMDB': '', 'ChEBI': '', 'MetaNetX': '', 'metabolicATLAS': 'mqn9', 'recon3d': 'mqn9_e'}\n",
      "{'PubChem': '', 'KEGG': '', 'HMDB': '', 'ChEBI': '', 'MetaNetX': '', 'metabolicATLAS': '7klitchol', 'recon3d': '7klitchol_c'} {'PubChem': '', 'KEGG': '', 'HMDB': '', 'ChEBI': '', 'MetaNetX': '', 'metabolicATLAS': '7klitchol', 'recon3d': '7klitchol_e'}\n",
      "{'PubChem': '92843', 'KEGG': 'C02155', 'HMDB': 'HMDB00759', 'ChEBI': 'CHEBI:185298', 'MetaNetX': 'MNXM126241', 'metabolicATLAS': 'glyleu', 'recon3d': 'glyleu_c'} {'PubChem': '92843', 'KEGG': 'C02155', 'HMDB': 'HMDB00759', 'ChEBI': 'CHEBI:185298', 'MetaNetX': 'MNXM126241', 'metabolicATLAS': 'glyleu', 'recon3d': 'glyleu_e'}\n",
      "{'PubChem': '5376507', 'KEGG': '', 'HMDB': '', 'ChEBI': '', 'MetaNetX': 'MNXM509', 'metabolicATLAS': 'mqn8', 'recon3d': 'mqn8_c'} {'PubChem': '5376507', 'KEGG': '', 'HMDB': '', 'ChEBI': '', 'MetaNetX': 'MNXM509', 'metabolicATLAS': 'mqn8', 'recon3d': 'mqn8_e'}\n",
      "{'PubChem': '878', 'KEGG': '', 'HMDB': '', 'ChEBI': '', 'MetaNetX': 'MNXM652', 'metabolicATLAS': 'ch4s', 'recon3d': 'ch4s_c'} {'PubChem': '878', 'KEGG': '', 'HMDB': '', 'ChEBI': '', 'MetaNetX': 'MNXM652', 'metabolicATLAS': 'ch4s', 'recon3d': 'ch4s_e'}\n",
      "{'PubChem': '', 'KEGG': '', 'HMDB': '', 'ChEBI': '', 'MetaNetX': '', 'metabolicATLAS': 'actyr', 'recon3d': 'actyr_m'} {'PubChem': '', 'KEGG': '', 'HMDB': '', 'ChEBI': '', 'MetaNetX': '', 'metabolicATLAS': 'actyr', 'recon3d': 'actyr_c'}\n",
      "{'PubChem': '', 'KEGG': '', 'HMDB': '', 'ChEBI': '', 'MetaNetX': '', 'metabolicATLAS': 'actyr', 'recon3d': 'actyr_m'} {'PubChem': '', 'KEGG': '', 'HMDB': '', 'ChEBI': '', 'MetaNetX': '', 'metabolicATLAS': 'actyr', 'recon3d': 'actyr_e'}\n",
      "{'PubChem': '', 'KEGG': '', 'HMDB': '', 'ChEBI': '', 'MetaNetX': '', 'metabolicATLAS': 'sucaceto', 'recon3d': 'sucaceto_c'} {'PubChem': '', 'KEGG': '', 'HMDB': '', 'ChEBI': '', 'MetaNetX': '', 'metabolicATLAS': 'sucaceto', 'recon3d': 'sucaceto_e'}\n",
      "{'PubChem': '', 'KEGG': '', 'HMDB': '', 'ChEBI': '', 'MetaNetX': '', 'metabolicATLAS': 'nacvanala', 'recon3d': 'nacvanala_m'} {'PubChem': '', 'KEGG': '', 'HMDB': '', 'ChEBI': '', 'MetaNetX': '', 'metabolicATLAS': 'nacvanala', 'recon3d': 'nacvanala_c'}\n",
      "{'PubChem': '', 'KEGG': '', 'HMDB': '', 'ChEBI': '', 'MetaNetX': '', 'metabolicATLAS': 'nacvanala', 'recon3d': 'nacvanala_m'} {'PubChem': '', 'KEGG': '', 'HMDB': '', 'ChEBI': '', 'MetaNetX': '', 'metabolicATLAS': 'nacvanala', 'recon3d': 'nacvanala_e'}\n",
      "{'PubChem': '', 'KEGG': '', 'HMDB': '', 'ChEBI': '', 'MetaNetX': '', 'metabolicATLAS': 'vanillac', 'recon3d': 'vanillac_c'} {'PubChem': '', 'KEGG': '', 'HMDB': '', 'ChEBI': '', 'MetaNetX': '', 'metabolicATLAS': 'vanillac', 'recon3d': 'vanillac_e'}\n",
      "{'PubChem': '', 'KEGG': '', 'HMDB': '', 'ChEBI': '', 'MetaNetX': '', 'metabolicATLAS': '2h3mv', 'recon3d': '2h3mv_c'} {'PubChem': '', 'KEGG': '', 'HMDB': '', 'ChEBI': '', 'MetaNetX': '', 'metabolicATLAS': '2h3mv', 'recon3d': '2h3mv_e'}\n",
      "{'PubChem': '', 'KEGG': '', 'HMDB': '', 'ChEBI': '', 'MetaNetX': '', 'metabolicATLAS': '2hiv', 'recon3d': '2hiv_c'} {'PubChem': '', 'KEGG': '', 'HMDB': '', 'ChEBI': '', 'MetaNetX': '', 'metabolicATLAS': '2hiv', 'recon3d': '2hiv_e'}\n",
      "{'PubChem': '', 'KEGG': '', 'HMDB': '', 'ChEBI': '', 'MetaNetX': '', 'metabolicATLAS': '2m3hbu', 'recon3d': '2m3hbu_m'} {'PubChem': '', 'KEGG': '', 'HMDB': '', 'ChEBI': '', 'MetaNetX': '', 'metabolicATLAS': '2m3hbu', 'recon3d': '2m3hbu_c'}\n",
      "{'PubChem': '', 'KEGG': '', 'HMDB': '', 'ChEBI': '', 'MetaNetX': '', 'metabolicATLAS': '2m3hbu', 'recon3d': '2m3hbu_m'} {'PubChem': '', 'KEGG': '', 'HMDB': '', 'ChEBI': '', 'MetaNetX': '', 'metabolicATLAS': '2m3hbu', 'recon3d': '2m3hbu_e'}\n",
      "{'PubChem': '', 'KEGG': '', 'HMDB': '', 'ChEBI': '', 'MetaNetX': '', 'metabolicATLAS': '2m3ovac', 'recon3d': '2m3ovac_m'} {'PubChem': '', 'KEGG': '', 'HMDB': '', 'ChEBI': '', 'MetaNetX': '', 'metabolicATLAS': '2m3ovac', 'recon3d': '2m3ovac_c'}\n",
      "{'PubChem': '', 'KEGG': '', 'HMDB': '', 'ChEBI': '', 'MetaNetX': '', 'metabolicATLAS': '2m3hvac', 'recon3d': '2m3hvac_c'} {'PubChem': '', 'KEGG': '', 'HMDB': '', 'ChEBI': '', 'MetaNetX': '', 'metabolicATLAS': '2m3hvac', 'recon3d': '2m3hvac_e'}\n",
      "{'PubChem': '', 'KEGG': '', 'HMDB': '', 'ChEBI': '', 'MetaNetX': '', 'metabolicATLAS': '3h3mglt', 'recon3d': '3h3mglt_c'} {'PubChem': '', 'KEGG': '', 'HMDB': '', 'ChEBI': '', 'MetaNetX': '', 'metabolicATLAS': '3h3mglt', 'recon3d': '3h3mglt_e'}\n",
      "{'PubChem': '', 'KEGG': '', 'HMDB': '', 'ChEBI': '', 'MetaNetX': '', 'metabolicATLAS': '3mglutac', 'recon3d': '3mglutac_m'} {'PubChem': '', 'KEGG': '', 'HMDB': '', 'ChEBI': '', 'MetaNetX': '', 'metabolicATLAS': '3mglutac', 'recon3d': '3mglutac_c'}\n",
      "{'PubChem': '', 'KEGG': '', 'HMDB': '', 'ChEBI': '', 'MetaNetX': '', 'metabolicATLAS': '3mglutac', 'recon3d': '3mglutac_m'} {'PubChem': '', 'KEGG': '', 'HMDB': '', 'ChEBI': '', 'MetaNetX': '', 'metabolicATLAS': '3mglutac', 'recon3d': '3mglutac_e'}\n",
      "{'PubChem': '', 'KEGG': '', 'HMDB': '', 'ChEBI': '', 'MetaNetX': '', 'metabolicATLAS': '3mglutr', 'recon3d': '3mglutr_c'} {'PubChem': '', 'KEGG': '', 'HMDB': '', 'ChEBI': '', 'MetaNetX': '', 'metabolicATLAS': '3mglutr', 'recon3d': '3mglutr_e'}\n",
      "{'PubChem': '', 'KEGG': '', 'HMDB': '', 'ChEBI': '', 'MetaNetX': '', 'metabolicATLAS': 'ppiogly', 'recon3d': 'ppiogly_m'} {'PubChem': '', 'KEGG': '', 'HMDB': '', 'ChEBI': '', 'MetaNetX': '', 'metabolicATLAS': 'ppiogly', 'recon3d': 'ppiogly_c'}\n",
      "{'PubChem': '', 'KEGG': '', 'HMDB': '', 'ChEBI': '', 'MetaNetX': '', 'metabolicATLAS': 'ppiogly', 'recon3d': 'ppiogly_m'} {'PubChem': '', 'KEGG': '', 'HMDB': '', 'ChEBI': '', 'MetaNetX': '', 'metabolicATLAS': 'ppiogly', 'recon3d': 'ppiogly_e'}\n",
      "{'PubChem': '', 'KEGG': '', 'HMDB': '', 'ChEBI': '', 'MetaNetX': '', 'metabolicATLAS': 'mvlac', 'recon3d': 'mvlac_c'} {'PubChem': '', 'KEGG': '', 'HMDB': '', 'ChEBI': '', 'MetaNetX': '', 'metabolicATLAS': 'mvlac', 'recon3d': 'mvlac_e'}\n",
      "{'PubChem': '', 'KEGG': '', 'HMDB': '', 'ChEBI': '', 'MetaNetX': '', 'metabolicATLAS': 'tiggly', 'recon3d': 'tiggly_m'} {'PubChem': '', 'KEGG': '', 'HMDB': '', 'ChEBI': '', 'MetaNetX': '', 'metabolicATLAS': 'tiggly', 'recon3d': 'tiggly_c'}\n",
      "{'PubChem': '', 'KEGG': '', 'HMDB': '', 'ChEBI': '', 'MetaNetX': '', 'metabolicATLAS': 'tiggly', 'recon3d': 'tiggly_m'} {'PubChem': '', 'KEGG': '', 'HMDB': '', 'ChEBI': '', 'MetaNetX': '', 'metabolicATLAS': 'tiggly', 'recon3d': 'tiggly_e'}\n",
      "{'PubChem': '', 'KEGG': '', 'HMDB': '', 'ChEBI': '', 'MetaNetX': '', 'metabolicATLAS': '3ohglutac', 'recon3d': '3ohglutac_m'} {'PubChem': '', 'KEGG': '', 'HMDB': '', 'ChEBI': '', 'MetaNetX': '', 'metabolicATLAS': '3ohglutac', 'recon3d': '3ohglutac_c'}\n",
      "{'PubChem': '', 'KEGG': '', 'HMDB': '', 'ChEBI': '', 'MetaNetX': '', 'metabolicATLAS': '3ohglutac', 'recon3d': '3ohglutac_m'} {'PubChem': '', 'KEGG': '', 'HMDB': '', 'ChEBI': '', 'MetaNetX': '', 'metabolicATLAS': '3ohglutac', 'recon3d': '3ohglutac_e'}\n",
      "{'PubChem': '', 'KEGG': '', 'HMDB': '', 'ChEBI': '', 'MetaNetX': '', 'metabolicATLAS': 'glutcon', 'recon3d': 'glutcon_m'} {'PubChem': '', 'KEGG': '', 'HMDB': '', 'ChEBI': '', 'MetaNetX': '', 'metabolicATLAS': 'glutcon', 'recon3d': 'glutcon_c'}\n",
      "{'PubChem': '', 'KEGG': '', 'HMDB': '', 'ChEBI': '', 'MetaNetX': '', 'metabolicATLAS': 'glutcon', 'recon3d': 'glutcon_m'} {'PubChem': '', 'KEGG': '', 'HMDB': '', 'ChEBI': '', 'MetaNetX': '', 'metabolicATLAS': 'glutcon', 'recon3d': 'glutcon_e'}\n",
      "{'PubChem': '', 'KEGG': '', 'HMDB': '', 'ChEBI': '', 'MetaNetX': '', 'metabolicATLAS': '3hivac', 'recon3d': '3hivac_m'} {'PubChem': '', 'KEGG': '', 'HMDB': '', 'ChEBI': '', 'MetaNetX': '', 'metabolicATLAS': '3hivac', 'recon3d': '3hivac_c'}\n",
      "{'PubChem': '', 'KEGG': '', 'HMDB': '', 'ChEBI': '', 'MetaNetX': '', 'metabolicATLAS': '3hivac', 'recon3d': '3hivac_m'} {'PubChem': '', 'KEGG': '', 'HMDB': '', 'ChEBI': '', 'MetaNetX': '', 'metabolicATLAS': '3hivac', 'recon3d': '3hivac_e'}\n",
      "{'PubChem': '', 'KEGG': '', 'HMDB': '', 'ChEBI': '', 'MetaNetX': '', 'metabolicATLAS': '3hadpac', 'recon3d': '3hadpac_x'} {'PubChem': '', 'KEGG': '', 'HMDB': '', 'ChEBI': '', 'MetaNetX': '', 'metabolicATLAS': '3hadpac', 'recon3d': '3hadpac_c'}\n",
      "{'PubChem': '', 'KEGG': '', 'HMDB': '', 'ChEBI': '', 'MetaNetX': '', 'metabolicATLAS': '3hadpac', 'recon3d': '3hadpac_x'} {'PubChem': '', 'KEGG': '', 'HMDB': '', 'ChEBI': '', 'MetaNetX': '', 'metabolicATLAS': '3hadpac', 'recon3d': '3hadpac_e'}\n",
      "{'PubChem': '', 'KEGG': '', 'HMDB': '', 'ChEBI': '', 'MetaNetX': '', 'metabolicATLAS': '3ohsebac', 'recon3d': '3ohsebac_x'} {'PubChem': '', 'KEGG': '', 'HMDB': '', 'ChEBI': '', 'MetaNetX': '', 'metabolicATLAS': '3ohsebac', 'recon3d': '3ohsebac_c'}\n",
      "{'PubChem': '', 'KEGG': '', 'HMDB': '', 'ChEBI': '', 'MetaNetX': '', 'metabolicATLAS': '3ohsebac', 'recon3d': '3ohsebac_x'} {'PubChem': '', 'KEGG': '', 'HMDB': '', 'ChEBI': '', 'MetaNetX': '', 'metabolicATLAS': '3ohsebac', 'recon3d': '3ohsebac_e'}\n",
      "{'PubChem': '', 'KEGG': '', 'HMDB': '', 'ChEBI': '', 'MetaNetX': '', 'metabolicATLAS': '3ohsubac', 'recon3d': '3ohsubac_x'} {'PubChem': '', 'KEGG': '', 'HMDB': '', 'ChEBI': '', 'MetaNetX': '', 'metabolicATLAS': '3ohsubac', 'recon3d': '3ohsubac_c'}\n",
      "{'PubChem': '', 'KEGG': '', 'HMDB': '', 'ChEBI': '', 'MetaNetX': '', 'metabolicATLAS': '3ohsubac', 'recon3d': '3ohsubac_x'} {'PubChem': '', 'KEGG': '', 'HMDB': '', 'ChEBI': '', 'MetaNetX': '', 'metabolicATLAS': '3ohsubac', 'recon3d': '3ohsubac_e'}\n",
      "{'PubChem': '', 'KEGG': '', 'HMDB': '', 'ChEBI': '', 'MetaNetX': '', 'metabolicATLAS': '5ohhexa', 'recon3d': '5ohhexa_c'} {'PubChem': '', 'KEGG': '', 'HMDB': '', 'ChEBI': '', 'MetaNetX': '', 'metabolicATLAS': '5ohhexa', 'recon3d': '5ohhexa_e'}\n",
      "{'PubChem': '', 'KEGG': '', 'HMDB': '', 'ChEBI': '', 'MetaNetX': '', 'metabolicATLAS': '7ohocata', 'recon3d': '7ohocata_c'} {'PubChem': '', 'KEGG': '', 'HMDB': '', 'ChEBI': '', 'MetaNetX': '', 'metabolicATLAS': '7ohocata', 'recon3d': '7ohocata_e'}\n",
      "{'PubChem': '', 'KEGG': '', 'HMDB': '', 'ChEBI': '', 'MetaNetX': '', 'metabolicATLAS': 'ethmalac', 'recon3d': 'ethmalac_c'} {'PubChem': '', 'KEGG': '', 'HMDB': '', 'ChEBI': '', 'MetaNetX': '', 'metabolicATLAS': 'ethmalac', 'recon3d': 'ethmalac_e'}\n",
      "{'PubChem': '', 'KEGG': '', 'HMDB': '', 'ChEBI': '', 'MetaNetX': '', 'metabolicATLAS': 'hexgly', 'recon3d': 'hexgly_c'} {'PubChem': '', 'KEGG': '', 'HMDB': '', 'ChEBI': '', 'MetaNetX': '', 'metabolicATLAS': 'hexgly', 'recon3d': 'hexgly_e'}\n",
      "{'PubChem': '', 'KEGG': '', 'HMDB': '', 'ChEBI': '', 'MetaNetX': '', 'metabolicATLAS': 'methsucc', 'recon3d': 'methsucc_c'} {'PubChem': '', 'KEGG': '', 'HMDB': '', 'ChEBI': '', 'MetaNetX': '', 'metabolicATLAS': 'methsucc', 'recon3d': 'methsucc_e'}\n",
      "{'PubChem': '', 'KEGG': '', 'HMDB': '', 'ChEBI': '', 'MetaNetX': '', 'metabolicATLAS': 'subgly', 'recon3d': 'subgly_c'} {'PubChem': '', 'KEGG': '', 'HMDB': '', 'ChEBI': '', 'MetaNetX': '', 'metabolicATLAS': 'subgly', 'recon3d': 'subgly_e'}\n",
      "{'PubChem': '', 'KEGG': '', 'HMDB': '', 'ChEBI': '', 'MetaNetX': '', 'metabolicATLAS': '4ohbut', 'recon3d': '4ohbut_m'} {'PubChem': '', 'KEGG': '', 'HMDB': '', 'ChEBI': '', 'MetaNetX': '', 'metabolicATLAS': '4ohbut', 'recon3d': '4ohbut_c'}\n",
      "{'PubChem': '', 'KEGG': '', 'HMDB': '', 'ChEBI': '', 'MetaNetX': '', 'metabolicATLAS': '4ohbut', 'recon3d': '4ohbut_m'} {'PubChem': '', 'KEGG': '', 'HMDB': '', 'ChEBI': '', 'MetaNetX': '', 'metabolicATLAS': '4ohbut', 'recon3d': '4ohbut_e'}\n",
      "{'PubChem': '', 'KEGG': '', 'HMDB': '', 'ChEBI': '', 'MetaNetX': '', 'metabolicATLAS': 'pailste_hs', 'recon3d': 'pailste_hs_e'} {'PubChem': '', 'KEGG': '', 'HMDB': '', 'ChEBI': '', 'MetaNetX': '', 'metabolicATLAS': 'pailste_hs', 'recon3d': 'pailste_hs_c'}\n",
      "{'PubChem': '', 'KEGG': '', 'HMDB': '', 'ChEBI': '', 'MetaNetX': '', 'metabolicATLAS': 'peste_hs', 'recon3d': 'peste_hs_e'} {'PubChem': '', 'KEGG': '', 'HMDB': '', 'ChEBI': '', 'MetaNetX': '', 'metabolicATLAS': 'peste_hs', 'recon3d': 'peste_hs_c'}\n",
      "{'PubChem': '', 'KEGG': '', 'HMDB': '', 'ChEBI': '', 'MetaNetX': '', 'metabolicATLAS': '2hxic_L', 'recon3d': '2hxic_L_e'} {'PubChem': '', 'KEGG': '', 'HMDB': '', 'ChEBI': '', 'MetaNetX': '', 'metabolicATLAS': '2hxic_L', 'recon3d': '2hxic_L_c'}\n",
      "{'PubChem': '', 'KEGG': '', 'HMDB': '', 'ChEBI': '', 'MetaNetX': '', 'metabolicATLAS': '2hydog', 'recon3d': '2hydog_c'} {'PubChem': '', 'KEGG': '', 'HMDB': '', 'ChEBI': '', 'MetaNetX': '', 'metabolicATLAS': '2hydog', 'recon3d': '2hydog_e'}\n",
      "{'PubChem': '743', 'KEGG': 'C00489', 'HMDB': '', 'ChEBI': 'CHEBI:17859', 'MetaNetX': 'MNXM1021', 'metabolicATLAS': 'glutar', 'recon3d': 'glutar_e'} {'PubChem': '743', 'KEGG': 'C00489', 'HMDB': '', 'ChEBI': 'CHEBI:17859', 'MetaNetX': 'MNXM1021', 'metabolicATLAS': 'glutar', 'recon3d': 'glutar_c'}\n",
      "{'PubChem': '', 'KEGG': '', 'HMDB': '', 'ChEBI': '', 'MetaNetX': '', 'metabolicATLAS': 'thexdd', 'recon3d': 'thexdd_m'} {'PubChem': '', 'KEGG': '', 'HMDB': '', 'ChEBI': '', 'MetaNetX': '', 'metabolicATLAS': 'thexdd', 'recon3d': 'thexdd_c'}\n",
      "{'PubChem': '', 'KEGG': '', 'HMDB': '', 'ChEBI': '', 'MetaNetX': '', 'metabolicATLAS': 'thexdd', 'recon3d': 'thexdd_m'} {'PubChem': '', 'KEGG': '', 'HMDB': '', 'ChEBI': '', 'MetaNetX': '', 'metabolicATLAS': 'thexdd', 'recon3d': 'thexdd_e'}\n",
      "{'PubChem': '', 'KEGG': '', 'HMDB': '', 'ChEBI': '', 'MetaNetX': '', 'metabolicATLAS': 'hexdtr', 'recon3d': 'hexdtr_m'} {'PubChem': '', 'KEGG': '', 'HMDB': '', 'ChEBI': '', 'MetaNetX': '', 'metabolicATLAS': 'hexdtr', 'recon3d': 'hexdtr_c'}\n",
      "{'PubChem': '', 'KEGG': '', 'HMDB': '', 'ChEBI': '', 'MetaNetX': '', 'metabolicATLAS': 'hexdtr', 'recon3d': 'hexdtr_m'} {'PubChem': '', 'KEGG': '', 'HMDB': '', 'ChEBI': '', 'MetaNetX': '', 'metabolicATLAS': 'hexdtr', 'recon3d': 'hexdtr_e'}\n",
      "{'PubChem': '', 'KEGG': '', 'HMDB': '', 'ChEBI': '', 'MetaNetX': '', 'metabolicATLAS': 'hpdece', 'recon3d': 'hpdece_m'} {'PubChem': '', 'KEGG': '', 'HMDB': '', 'ChEBI': '', 'MetaNetX': '', 'metabolicATLAS': 'hpdece', 'recon3d': 'hpdece_c'}\n",
      "{'PubChem': '', 'KEGG': '', 'HMDB': '', 'ChEBI': '', 'MetaNetX': '', 'metabolicATLAS': 'hpdece', 'recon3d': 'hpdece_m'} {'PubChem': '', 'KEGG': '', 'HMDB': '', 'ChEBI': '', 'MetaNetX': '', 'metabolicATLAS': 'hpdece', 'recon3d': 'hpdece_e'}\n",
      "{'PubChem': '', 'KEGG': '', 'HMDB': '', 'ChEBI': '', 'MetaNetX': '', 'metabolicATLAS': 'eic21114tr', 'recon3d': 'eic21114tr_c'} {'PubChem': '', 'KEGG': '', 'HMDB': '', 'ChEBI': '', 'MetaNetX': '', 'metabolicATLAS': 'eic21114tr', 'recon3d': 'eic21114tr_e'}\n",
      "{'PubChem': '', 'KEGG': '', 'HMDB': '', 'ChEBI': '', 'MetaNetX': '', 'metabolicATLAS': '5eipenc', 'recon3d': '5eipenc_m'} {'PubChem': '', 'KEGG': '', 'HMDB': '', 'ChEBI': '', 'MetaNetX': '', 'metabolicATLAS': '5eipenc', 'recon3d': '5eipenc_c'}\n",
      "{'PubChem': '', 'KEGG': '', 'HMDB': '', 'ChEBI': '', 'MetaNetX': '', 'metabolicATLAS': '5eipenc', 'recon3d': '5eipenc_m'} {'PubChem': '', 'KEGG': '', 'HMDB': '', 'ChEBI': '', 'MetaNetX': '', 'metabolicATLAS': '5eipenc', 'recon3d': '5eipenc_e'}\n",
      "{'PubChem': '', 'KEGG': '', 'HMDB': '', 'ChEBI': '', 'MetaNetX': '', 'metabolicATLAS': 'vldl_hs', 'recon3d': 'vldl_hs_c'} {'PubChem': '', 'KEGG': '', 'HMDB': '', 'ChEBI': '', 'MetaNetX': '', 'metabolicATLAS': 'vldl_hs', 'recon3d': 'vldl_hs_e'}\n",
      "{'PubChem': '', 'KEGG': '', 'HMDB': '', 'ChEBI': '', 'MetaNetX': '', 'metabolicATLAS': 'chylo_hs', 'recon3d': 'chylo_hs_c'} {'PubChem': '', 'KEGG': '', 'HMDB': '', 'ChEBI': '', 'MetaNetX': '', 'metabolicATLAS': 'chylo_hs', 'recon3d': 'chylo_hs_e'}\n",
      "{'PubChem': '', 'KEGG': '', 'HMDB': '', 'ChEBI': '', 'MetaNetX': '', 'metabolicATLAS': 'dopa4sf', 'recon3d': 'dopa4sf_c'} {'PubChem': '', 'KEGG': '', 'HMDB': '', 'ChEBI': '', 'MetaNetX': '', 'metabolicATLAS': 'dopa4sf', 'recon3d': 'dopa4sf_e'}\n",
      "{'PubChem': '', 'KEGG': '', 'HMDB': '', 'ChEBI': '', 'MetaNetX': '', 'metabolicATLAS': 'dopa4glcur', 'recon3d': 'dopa4glcur_c'} {'PubChem': '', 'KEGG': '', 'HMDB': '', 'ChEBI': '', 'MetaNetX': '', 'metabolicATLAS': 'dopa4glcur', 'recon3d': 'dopa4glcur_e'}\n",
      "{'PubChem': '', 'KEGG': '', 'HMDB': '', 'ChEBI': '', 'MetaNetX': '', 'metabolicATLAS': 'dopa3glcur', 'recon3d': 'dopa3glcur_c'} {'PubChem': '', 'KEGG': '', 'HMDB': '', 'ChEBI': '', 'MetaNetX': '', 'metabolicATLAS': 'dopa3glcur', 'recon3d': 'dopa3glcur_e'}\n",
      "{'PubChem': '', 'KEGG': '', 'HMDB': '', 'ChEBI': '', 'MetaNetX': '', 'metabolicATLAS': '4glu56dihdind', 'recon3d': '4glu56dihdind_c'} {'PubChem': '', 'KEGG': '', 'HMDB': '', 'ChEBI': '', 'MetaNetX': '', 'metabolicATLAS': '4glu56dihdind', 'recon3d': '4glu56dihdind_e'}\n",
      "{'PubChem': '', 'KEGG': '', 'HMDB': '', 'ChEBI': '', 'MetaNetX': '', 'metabolicATLAS': '5cysdopa', 'recon3d': '5cysdopa_c'} {'PubChem': '', 'KEGG': '', 'HMDB': '', 'ChEBI': '', 'MetaNetX': '', 'metabolicATLAS': '5cysdopa', 'recon3d': '5cysdopa_e'}\n",
      "{'PubChem': '', 'KEGG': '', 'HMDB': '', 'ChEBI': '', 'MetaNetX': 'MNXM4098; MNXM4098; MNXM4098; MNXM4098', 'metabolicATLAS': 'Rtotal', 'recon3d': 'Rtotal_x'} {'PubChem': '', 'KEGG': '', 'HMDB': '', 'ChEBI': '', 'MetaNetX': 'MNXM4098', 'metabolicATLAS': 'Rtotal', 'recon3d': 'Rtotal_r'}\n",
      "{'PubChem': '', 'KEGG': '', 'HMDB': '', 'ChEBI': '', 'MetaNetX': 'MNXM4098; MNXM4098; MNXM4098; MNXM4098; MNXM4098', 'metabolicATLAS': 'Rtotal', 'recon3d': 'Rtotal_x'} {'PubChem': '', 'KEGG': '', 'HMDB': '', 'ChEBI': '', 'MetaNetX': 'MNXM4098', 'metabolicATLAS': 'Rtotal', 'recon3d': 'Rtotal_g'}\n",
      "{'PubChem': '', 'KEGG': '', 'HMDB': '', 'ChEBI': '', 'MetaNetX': '', 'metabolicATLAS': 'phcrm_hs', 'recon3d': 'phcrm_hs_g'} {'PubChem': '', 'KEGG': '', 'HMDB': '', 'ChEBI': '', 'MetaNetX': '', 'metabolicATLAS': 'phcrm_hs', 'recon3d': 'phcrm_hs_r'}\n",
      "{'PubChem': '', 'KEGG': '', 'HMDB': '', 'ChEBI': '', 'MetaNetX': '', 'metabolicATLAS': 'phsphings', 'recon3d': 'phsphings_g'} {'PubChem': '', 'KEGG': '', 'HMDB': '', 'ChEBI': '', 'MetaNetX': '', 'metabolicATLAS': 'phsphings', 'recon3d': 'phsphings_r'}\n",
      "{'PubChem': '', 'KEGG': '', 'HMDB': '', 'ChEBI': '', 'MetaNetX': 'MNXM90540; MNXM90540; MNXM90540', 'metabolicATLAS': 'galgluside_hs', 'recon3d': 'galgluside_hs_c'} {'PubChem': '', 'KEGG': '', 'HMDB': '', 'ChEBI': '', 'MetaNetX': 'MNXM90540', 'metabolicATLAS': 'galgluside_hs', 'recon3d': 'galgluside_hs_e'}\n",
      "{'PubChem': '', 'KEGG': 'C04911', 'HMDB': 'HMDB00117', 'ChEBI': 'CHEBI:18216', 'MetaNetX': 'MNXM11641', 'metabolicATLAS': 'gm1_hs', 'recon3d': 'gm1_hs_g'} {'PubChem': '', 'KEGG': 'C04911', 'HMDB': 'HMDB00117', 'ChEBI': 'CHEBI:18216', 'MetaNetX': 'MNXM11641', 'metabolicATLAS': 'gm1_hs', 'recon3d': 'gm1_hs_l'}\n",
      "{'PubChem': '', 'KEGG': '', 'HMDB': '', 'ChEBI': '', 'MetaNetX': '', 'metabolicATLAS': 'phcrm_hs', 'recon3d': 'phcrm_hs_g'} {'PubChem': '', 'KEGG': '', 'HMDB': '', 'ChEBI': '', 'MetaNetX': '', 'metabolicATLAS': 'phcrm_hs', 'recon3d': 'phcrm_hs_c'}\n",
      "{'PubChem': '', 'KEGG': 'C04911', 'HMDB': 'HMDB00117', 'ChEBI': 'CHEBI:18216', 'MetaNetX': 'MNXM11641; MNXM11641', 'metabolicATLAS': 'gm1_hs', 'recon3d': 'gm1_hs_g'} {'PubChem': '', 'KEGG': 'C04911', 'HMDB': 'HMDB00117', 'ChEBI': 'CHEBI:18216', 'MetaNetX': 'MNXM11641', 'metabolicATLAS': 'gm1_hs', 'recon3d': 'gm1_hs_e'}\n",
      "{'PubChem': '', 'KEGG': 'C04911', 'HMDB': 'HMDB00117', 'ChEBI': 'CHEBI:18216', 'MetaNetX': 'MNXM11641; MNXM11641; MNXM11641', 'metabolicATLAS': 'gm1_hs', 'recon3d': 'gm1_hs_g'} {'PubChem': '', 'KEGG': 'C04911', 'HMDB': 'HMDB00117', 'ChEBI': 'CHEBI:18216', 'MetaNetX': 'MNXM11641', 'metabolicATLAS': 'gm1_hs', 'recon3d': 'gm1_hs_c'}\n",
      "{'PubChem': '', 'KEGG': 'C04911', 'HMDB': 'HMDB00117', 'ChEBI': 'CHEBI:18216', 'MetaNetX': 'MNXM11641; MNXM11641; MNXM11641; MNXM11641', 'metabolicATLAS': 'gm1_hs', 'recon3d': 'gm1_hs_g'} {'PubChem': '', 'KEGG': 'C04911', 'HMDB': 'HMDB00117', 'ChEBI': 'CHEBI:18216', 'MetaNetX': 'MNXM11641', 'metabolicATLAS': 'gm1_hs', 'recon3d': 'gm1_hs_n'}\n",
      "{'PubChem': '', 'KEGG': '', 'HMDB': '', 'ChEBI': '', 'MetaNetX': '', 'metabolicATLAS': 'phsphings', 'recon3d': 'phsphings_g'} {'PubChem': '', 'KEGG': '', 'HMDB': '', 'ChEBI': '', 'MetaNetX': '', 'metabolicATLAS': 'phsphings', 'recon3d': 'phsphings_c'}\n",
      "{'PubChem': '', 'KEGG': '', 'HMDB': '', 'ChEBI': '', 'MetaNetX': '', 'metabolicATLAS': '34dhpe', 'recon3d': '34dhpe_c'} {'PubChem': '', 'KEGG': '', 'HMDB': '', 'ChEBI': '', 'MetaNetX': '', 'metabolicATLAS': '34dhpe', 'recon3d': '34dhpe_e'}\n",
      "{'PubChem': '', 'KEGG': '', 'HMDB': '', 'ChEBI': '', 'MetaNetX': '', 'metabolicATLAS': '12dhchol', 'recon3d': '12dhchol_c'} {'PubChem': '', 'KEGG': '', 'HMDB': '', 'ChEBI': '', 'MetaNetX': '', 'metabolicATLAS': '12dhchol', 'recon3d': '12dhchol_e'}\n",
      "{'PubChem': '', 'KEGG': '', 'HMDB': '', 'ChEBI': '', 'MetaNetX': '', 'metabolicATLAS': '3dhcdchol', 'recon3d': '3dhcdchol_c'} {'PubChem': '', 'KEGG': '', 'HMDB': '', 'ChEBI': '', 'MetaNetX': '', 'metabolicATLAS': '3dhcdchol', 'recon3d': '3dhcdchol_e'}\n",
      "{'PubChem': '', 'KEGG': '', 'HMDB': '', 'ChEBI': '', 'MetaNetX': '', 'metabolicATLAS': '3dhchol', 'recon3d': '3dhchol_c'} {'PubChem': '', 'KEGG': '', 'HMDB': '', 'ChEBI': '', 'MetaNetX': '', 'metabolicATLAS': '3dhchol', 'recon3d': '3dhchol_e'}\n",
      "{'PubChem': '', 'KEGG': '', 'HMDB': '', 'ChEBI': '', 'MetaNetX': '', 'metabolicATLAS': '3dhdchol', 'recon3d': '3dhdchol_c'} {'PubChem': '', 'KEGG': '', 'HMDB': '', 'ChEBI': '', 'MetaNetX': '', 'metabolicATLAS': '3dhdchol', 'recon3d': '3dhdchol_e'}\n",
      "{'PubChem': '', 'KEGG': '', 'HMDB': '', 'ChEBI': '', 'MetaNetX': '', 'metabolicATLAS': '3dhlchol', 'recon3d': '3dhlchol_c'} {'PubChem': '', 'KEGG': '', 'HMDB': '', 'ChEBI': '', 'MetaNetX': '', 'metabolicATLAS': '3dhlchol', 'recon3d': '3dhlchol_e'}\n",
      "{'PubChem': '', 'KEGG': '', 'HMDB': '', 'ChEBI': '', 'MetaNetX': '', 'metabolicATLAS': '7dhcdchol', 'recon3d': '7dhcdchol_c'} {'PubChem': '', 'KEGG': '', 'HMDB': '', 'ChEBI': '', 'MetaNetX': '', 'metabolicATLAS': '7dhcdchol', 'recon3d': '7dhcdchol_e'}\n",
      "{'PubChem': '', 'KEGG': '', 'HMDB': '', 'ChEBI': '', 'MetaNetX': '', 'metabolicATLAS': '7dhchol', 'recon3d': '7dhchol_c'} {'PubChem': '', 'KEGG': '', 'HMDB': '', 'ChEBI': '', 'MetaNetX': '', 'metabolicATLAS': '7dhchol', 'recon3d': '7dhchol_e'}\n",
      "{'PubChem': '', 'KEGG': '', 'HMDB': '', 'ChEBI': '', 'MetaNetX': '', 'metabolicATLAS': 'ca24g', 'recon3d': 'ca24g_c'} {'PubChem': '', 'KEGG': '', 'HMDB': '', 'ChEBI': '', 'MetaNetX': '', 'metabolicATLAS': 'ca24g', 'recon3d': 'ca24g_r'}\n",
      "{'PubChem': '', 'KEGG': '', 'HMDB': '', 'ChEBI': '', 'MetaNetX': '', 'metabolicATLAS': 'ca24g', 'recon3d': 'ca24g_c'} {'PubChem': '', 'KEGG': '', 'HMDB': '', 'ChEBI': '', 'MetaNetX': '', 'metabolicATLAS': 'ca24g', 'recon3d': 'ca24g_e'}\n",
      "{'PubChem': '', 'KEGG': '', 'HMDB': '', 'ChEBI': '', 'MetaNetX': '', 'metabolicATLAS': 'ca3s', 'recon3d': 'ca3s_c'} {'PubChem': '', 'KEGG': '', 'HMDB': '', 'ChEBI': '', 'MetaNetX': '', 'metabolicATLAS': 'ca3s', 'recon3d': 'ca3s_e'}\n",
      "{'PubChem': '', 'KEGG': '', 'HMDB': '', 'ChEBI': '', 'MetaNetX': '', 'metabolicATLAS': 'cdca24g', 'recon3d': 'cdca24g_c'} {'PubChem': '', 'KEGG': '', 'HMDB': '', 'ChEBI': '', 'MetaNetX': '', 'metabolicATLAS': 'cdca24g', 'recon3d': 'cdca24g_r'}\n",
      "{'PubChem': '', 'KEGG': '', 'HMDB': '', 'ChEBI': '', 'MetaNetX': '', 'metabolicATLAS': 'cdca24g', 'recon3d': 'cdca24g_c'} {'PubChem': '', 'KEGG': '', 'HMDB': '', 'ChEBI': '', 'MetaNetX': '', 'metabolicATLAS': 'cdca24g', 'recon3d': 'cdca24g_e'}\n",
      "{'PubChem': '', 'KEGG': '', 'HMDB': '', 'ChEBI': '', 'MetaNetX': '', 'metabolicATLAS': 'cdca3g', 'recon3d': 'cdca3g_c'} {'PubChem': '', 'KEGG': '', 'HMDB': '', 'ChEBI': '', 'MetaNetX': '', 'metabolicATLAS': 'cdca3g', 'recon3d': 'cdca3g_r'}\n",
      "{'PubChem': '', 'KEGG': '', 'HMDB': '', 'ChEBI': '', 'MetaNetX': '', 'metabolicATLAS': 'cdca3g', 'recon3d': 'cdca3g_c'} {'PubChem': '', 'KEGG': '', 'HMDB': '', 'ChEBI': '', 'MetaNetX': '', 'metabolicATLAS': 'cdca3g', 'recon3d': 'cdca3g_e'}\n",
      "{'PubChem': '', 'KEGG': '', 'HMDB': '', 'ChEBI': '', 'MetaNetX': '', 'metabolicATLAS': 'coprost', 'recon3d': 'coprost_c'} {'PubChem': '', 'KEGG': '', 'HMDB': '', 'ChEBI': '', 'MetaNetX': '', 'metabolicATLAS': 'coprost', 'recon3d': 'coprost_e'}\n",
      "{'PubChem': '', 'KEGG': '', 'HMDB': '', 'ChEBI': '', 'MetaNetX': '', 'metabolicATLAS': 'dca24g', 'recon3d': 'dca24g_c'} {'PubChem': '', 'KEGG': '', 'HMDB': '', 'ChEBI': '', 'MetaNetX': '', 'metabolicATLAS': 'dca24g', 'recon3d': 'dca24g_r'}\n",
      "{'PubChem': '', 'KEGG': '', 'HMDB': '', 'ChEBI': '', 'MetaNetX': '', 'metabolicATLAS': 'dca24g', 'recon3d': 'dca24g_c'} {'PubChem': '', 'KEGG': '', 'HMDB': '', 'ChEBI': '', 'MetaNetX': '', 'metabolicATLAS': 'dca24g', 'recon3d': 'dca24g_e'}\n",
      "{'PubChem': '', 'KEGG': '', 'HMDB': 'HMDB02596', 'ChEBI': '', 'MetaNetX': '', 'metabolicATLAS': 'dca3g', 'recon3d': 'dca3g_c'} {'PubChem': '', 'KEGG': '', 'HMDB': 'HMDB02596', 'ChEBI': '', 'MetaNetX': '', 'metabolicATLAS': 'dca3g', 'recon3d': 'dca3g_r'}\n",
      "{'PubChem': '', 'KEGG': '', 'HMDB': 'HMDB02596', 'ChEBI': '', 'MetaNetX': '', 'metabolicATLAS': 'dca3g', 'recon3d': 'dca3g_c'} {'PubChem': '', 'KEGG': '', 'HMDB': 'HMDB02596', 'ChEBI': '', 'MetaNetX': '', 'metabolicATLAS': 'dca3g', 'recon3d': 'dca3g_e'}\n",
      "{'PubChem': '', 'KEGG': '', 'HMDB': '', 'ChEBI': '', 'MetaNetX': '', 'metabolicATLAS': 'dca3s', 'recon3d': 'dca3s_c'} {'PubChem': '', 'KEGG': '', 'HMDB': '', 'ChEBI': '', 'MetaNetX': '', 'metabolicATLAS': 'dca3s', 'recon3d': 'dca3s_e'}\n",
      "{'PubChem': '', 'KEGG': '', 'HMDB': '', 'ChEBI': '', 'MetaNetX': '', 'metabolicATLAS': 'gca3s', 'recon3d': 'gca3s_c'} {'PubChem': '', 'KEGG': '', 'HMDB': '', 'ChEBI': '', 'MetaNetX': '', 'metabolicATLAS': 'gca3s', 'recon3d': 'gca3s_e'}\n",
      "{'PubChem': '', 'KEGG': '', 'HMDB': '', 'ChEBI': '', 'MetaNetX': '', 'metabolicATLAS': 'gcdca3s', 'recon3d': 'gcdca3s_c'} {'PubChem': '', 'KEGG': '', 'HMDB': '', 'ChEBI': '', 'MetaNetX': '', 'metabolicATLAS': 'gcdca3s', 'recon3d': 'gcdca3s_e'}\n",
      "{'PubChem': '', 'KEGG': '', 'HMDB': '', 'ChEBI': '', 'MetaNetX': '', 'metabolicATLAS': 'gdca3s', 'recon3d': 'gdca3s_c'} {'PubChem': '', 'KEGG': '', 'HMDB': '', 'ChEBI': '', 'MetaNetX': '', 'metabolicATLAS': 'gdca3s', 'recon3d': 'gdca3s_e'}\n",
      "{'PubChem': '', 'KEGG': '', 'HMDB': '', 'ChEBI': '', 'MetaNetX': '', 'metabolicATLAS': 'gudca3s', 'recon3d': 'gudca3s_c'} {'PubChem': '', 'KEGG': '', 'HMDB': '', 'ChEBI': '', 'MetaNetX': '', 'metabolicATLAS': 'gudca3s', 'recon3d': 'gudca3s_e'}\n",
      "{'PubChem': '', 'KEGG': '', 'HMDB': '', 'ChEBI': '', 'MetaNetX': '', 'metabolicATLAS': 'hca24g', 'recon3d': 'hca24g_c'} {'PubChem': '', 'KEGG': '', 'HMDB': '', 'ChEBI': '', 'MetaNetX': '', 'metabolicATLAS': 'hca24g', 'recon3d': 'hca24g_e'}\n",
      "{'PubChem': '', 'KEGG': '', 'HMDB': '', 'ChEBI': '', 'MetaNetX': '', 'metabolicATLAS': 'hca6g', 'recon3d': 'hca6g_c'} {'PubChem': '', 'KEGG': '', 'HMDB': '', 'ChEBI': '', 'MetaNetX': '', 'metabolicATLAS': 'hca6g', 'recon3d': 'hca6g_e'}\n",
      "{'PubChem': '', 'KEGG': '', 'HMDB': '', 'ChEBI': '', 'MetaNetX': '', 'metabolicATLAS': 'hdca24g', 'recon3d': 'hdca24g_c'} {'PubChem': '', 'KEGG': '', 'HMDB': '', 'ChEBI': '', 'MetaNetX': '', 'metabolicATLAS': 'hdca24g', 'recon3d': 'hdca24g_e'}\n",
      "{'PubChem': '', 'KEGG': '', 'HMDB': '', 'ChEBI': '', 'MetaNetX': '', 'metabolicATLAS': 'hdca6g', 'recon3d': 'hdca6g_c'} {'PubChem': '', 'KEGG': '', 'HMDB': '', 'ChEBI': '', 'MetaNetX': '', 'metabolicATLAS': 'hdca6g', 'recon3d': 'hdca6g_e'}\n",
      "{'PubChem': '96023992', 'KEGG': 'C17649', 'HMDB': 'HMDB00760', 'ChEBI': 'CHEBI:81244', 'MetaNetX': '', 'metabolicATLAS': 'hyochol', 'recon3d': 'hyochol_c'} {'PubChem': '96023992', 'KEGG': 'C17649', 'HMDB': 'HMDB00760', 'ChEBI': 'CHEBI:81244', 'MetaNetX': '', 'metabolicATLAS': 'hyochol', 'recon3d': 'hyochol_e'}\n",
      "{'PubChem': '', 'KEGG': '', 'HMDB': '', 'ChEBI': '', 'MetaNetX': '', 'metabolicATLAS': 'icdchol', 'recon3d': 'icdchol_c'} {'PubChem': '', 'KEGG': '', 'HMDB': '', 'ChEBI': '', 'MetaNetX': '', 'metabolicATLAS': 'icdchol', 'recon3d': 'icdchol_e'}\n",
      "{'PubChem': '', 'KEGG': '', 'HMDB': '', 'ChEBI': '', 'MetaNetX': '', 'metabolicATLAS': 'isochol', 'recon3d': 'isochol_c'} {'PubChem': '', 'KEGG': '', 'HMDB': '', 'ChEBI': '', 'MetaNetX': '', 'metabolicATLAS': 'isochol', 'recon3d': 'isochol_e'}\n",
      "{'PubChem': '', 'KEGG': '', 'HMDB': '', 'ChEBI': '', 'MetaNetX': '', 'metabolicATLAS': 'lca24g', 'recon3d': 'lca24g_c'} {'PubChem': '', 'KEGG': '', 'HMDB': '', 'ChEBI': '', 'MetaNetX': '', 'metabolicATLAS': 'lca24g', 'recon3d': 'lca24g_e'}\n",
      "{'PubChem': '', 'KEGG': '', 'HMDB': '', 'ChEBI': '', 'MetaNetX': '', 'metabolicATLAS': 'lca3g', 'recon3d': 'lca3g_c'} {'PubChem': '', 'KEGG': '', 'HMDB': '', 'ChEBI': '', 'MetaNetX': '', 'metabolicATLAS': 'lca3g', 'recon3d': 'lca3g_e'}\n",
      "{'PubChem': '', 'KEGG': '', 'HMDB': '', 'ChEBI': '', 'MetaNetX': '', 'metabolicATLAS': 'lca3s', 'recon3d': 'lca3s_c'} {'PubChem': '', 'KEGG': '', 'HMDB': '', 'ChEBI': '', 'MetaNetX': '', 'metabolicATLAS': 'lca3s', 'recon3d': 'lca3s_e'}\n",
      "{'PubChem': '', 'KEGG': '', 'HMDB': '', 'ChEBI': '', 'MetaNetX': '', 'metabolicATLAS': 'tca3s', 'recon3d': 'tca3s_c'} {'PubChem': '', 'KEGG': '', 'HMDB': '', 'ChEBI': '', 'MetaNetX': '', 'metabolicATLAS': 'tca3s', 'recon3d': 'tca3s_e'}\n",
      "{'PubChem': '', 'KEGG': '', 'HMDB': '', 'ChEBI': '', 'MetaNetX': '', 'metabolicATLAS': 'tcdca3s', 'recon3d': 'tcdca3s_c'} {'PubChem': '', 'KEGG': '', 'HMDB': '', 'ChEBI': '', 'MetaNetX': '', 'metabolicATLAS': 'tcdca3s', 'recon3d': 'tcdca3s_e'}\n",
      "{'PubChem': '', 'KEGG': '', 'HMDB': '', 'ChEBI': '', 'MetaNetX': '', 'metabolicATLAS': 'tdca3s', 'recon3d': 'tdca3s_c'} {'PubChem': '', 'KEGG': '', 'HMDB': '', 'ChEBI': '', 'MetaNetX': '', 'metabolicATLAS': 'tdca3s', 'recon3d': 'tdca3s_e'}\n",
      "{'PubChem': '17396508', 'KEGG': 'C15516', 'HMDB': 'HMDB11637', 'ChEBI': 'CHEBI:52022', 'MetaNetX': '', 'metabolicATLAS': 'thyochol', 'recon3d': 'thyochol_c'} {'PubChem': '17396508', 'KEGG': 'C15516', 'HMDB': 'HMDB11637', 'ChEBI': 'CHEBI:52022', 'MetaNetX': '', 'metabolicATLAS': 'thyochol', 'recon3d': 'thyochol_e'}\n",
      "{'PubChem': '', 'KEGG': '', 'HMDB': '', 'ChEBI': '', 'MetaNetX': '', 'metabolicATLAS': 'tudca3s', 'recon3d': 'tudca3s_c'} {'PubChem': '', 'KEGG': '', 'HMDB': '', 'ChEBI': '', 'MetaNetX': '', 'metabolicATLAS': 'tudca3s', 'recon3d': 'tudca3s_e'}\n",
      "{'PubChem': '', 'KEGG': '', 'HMDB': '', 'ChEBI': '', 'MetaNetX': '', 'metabolicATLAS': 'uchol', 'recon3d': 'uchol_c'} {'PubChem': '', 'KEGG': '', 'HMDB': '', 'ChEBI': '', 'MetaNetX': '', 'metabolicATLAS': 'uchol', 'recon3d': 'uchol_e'}\n",
      "{'PubChem': '', 'KEGG': '', 'HMDB': '', 'ChEBI': '', 'MetaNetX': '', 'metabolicATLAS': 'udca3s', 'recon3d': 'udca3s_c'} {'PubChem': '', 'KEGG': '', 'HMDB': '', 'ChEBI': '', 'MetaNetX': '', 'metabolicATLAS': 'udca3s', 'recon3d': 'udca3s_e'}\n",
      "{'PubChem': '96023992', 'KEGG': 'C17649', 'HMDB': 'HMDB00760', 'ChEBI': 'CHEBI:81244', 'MetaNetX': '', 'metabolicATLAS': 'hyochol', 'recon3d': 'hyochol_c'} {'PubChem': '96023992', 'KEGG': 'C17649', 'HMDB': 'HMDB00760', 'ChEBI': 'CHEBI:81244', 'MetaNetX': '', 'metabolicATLAS': 'hyochol', 'recon3d': 'hyochol_r'}\n",
      "{'PubChem': '', 'KEGG': '', 'HMDB': '', 'ChEBI': '', 'MetaNetX': '', 'metabolicATLAS': 'hca24g', 'recon3d': 'hca24g_c'} {'PubChem': '', 'KEGG': '', 'HMDB': '', 'ChEBI': '', 'MetaNetX': '', 'metabolicATLAS': 'hca24g', 'recon3d': 'hca24g_r'}\n",
      "{'PubChem': '', 'KEGG': '', 'HMDB': '', 'ChEBI': '', 'MetaNetX': '', 'metabolicATLAS': 'hca6g', 'recon3d': 'hca6g_c'} {'PubChem': '', 'KEGG': '', 'HMDB': '', 'ChEBI': '', 'MetaNetX': '', 'metabolicATLAS': 'hca6g', 'recon3d': 'hca6g_r'}\n",
      "{'PubChem': '', 'KEGG': '', 'HMDB': '', 'ChEBI': '', 'MetaNetX': '', 'metabolicATLAS': 'hdca24g', 'recon3d': 'hdca24g_c'} {'PubChem': '', 'KEGG': '', 'HMDB': '', 'ChEBI': '', 'MetaNetX': '', 'metabolicATLAS': 'hdca24g', 'recon3d': 'hdca24g_r'}\n",
      "{'PubChem': '', 'KEGG': '', 'HMDB': '', 'ChEBI': '', 'MetaNetX': '', 'metabolicATLAS': 'hdca6g', 'recon3d': 'hdca6g_c'} {'PubChem': '', 'KEGG': '', 'HMDB': '', 'ChEBI': '', 'MetaNetX': '', 'metabolicATLAS': 'hdca6g', 'recon3d': 'hdca6g_r'}\n",
      "{'PubChem': '', 'KEGG': '', 'HMDB': '', 'ChEBI': '', 'MetaNetX': '', 'metabolicATLAS': 'lca24g', 'recon3d': 'lca24g_c'} {'PubChem': '', 'KEGG': '', 'HMDB': '', 'ChEBI': '', 'MetaNetX': '', 'metabolicATLAS': 'lca24g', 'recon3d': 'lca24g_r'}\n",
      "{'PubChem': '', 'KEGG': '', 'HMDB': '', 'ChEBI': '', 'MetaNetX': '', 'metabolicATLAS': 'lca3g', 'recon3d': 'lca3g_c'} {'PubChem': '', 'KEGG': '', 'HMDB': '', 'ChEBI': '', 'MetaNetX': '', 'metabolicATLAS': 'lca3g', 'recon3d': 'lca3g_r'}\n",
      "{'PubChem': '', 'KEGG': '', 'HMDB': '', 'ChEBI': '', 'MetaNetX': '', 'metabolicATLAS': '12htacr', 'recon3d': '12htacr_r'} {'PubChem': '', 'KEGG': '', 'HMDB': '', 'ChEBI': '', 'MetaNetX': '', 'metabolicATLAS': '12htacr', 'recon3d': '12htacr_c'}\n",
      "{'PubChem': '', 'KEGG': '', 'HMDB': '', 'ChEBI': '', 'MetaNetX': '', 'metabolicATLAS': '12htacr', 'recon3d': '12htacr_r'} {'PubChem': '', 'KEGG': '', 'HMDB': '', 'ChEBI': '', 'MetaNetX': '', 'metabolicATLAS': '12htacr', 'recon3d': '12htacr_e'}\n",
      "{'PubChem': '', 'KEGG': '', 'HMDB': '', 'ChEBI': '', 'MetaNetX': '', 'metabolicATLAS': '1331tacr', 'recon3d': '1331tacr_r'} {'PubChem': '', 'KEGG': '', 'HMDB': '', 'ChEBI': '', 'MetaNetX': '', 'metabolicATLAS': '1331tacr', 'recon3d': '1331tacr_c'}\n",
      "{'PubChem': '', 'KEGG': '', 'HMDB': '', 'ChEBI': '', 'MetaNetX': '', 'metabolicATLAS': '1331tacr', 'recon3d': '1331tacr_r'} {'PubChem': '', 'KEGG': '', 'HMDB': '', 'ChEBI': '', 'MetaNetX': '', 'metabolicATLAS': '1331tacr', 'recon3d': '1331tacr_e'}\n",
      "{'PubChem': '', 'KEGG': '', 'HMDB': '', 'ChEBI': '', 'MetaNetX': '', 'metabolicATLAS': '13dmt', 'recon3d': '13dmt_r'} {'PubChem': '', 'KEGG': '', 'HMDB': '', 'ChEBI': '', 'MetaNetX': '', 'metabolicATLAS': '13dmt', 'recon3d': '13dmt_c'}\n",
      "{'PubChem': '', 'KEGG': '', 'HMDB': '', 'ChEBI': '', 'MetaNetX': '', 'metabolicATLAS': '13dmt', 'recon3d': '13dmt_r'} {'PubChem': '', 'KEGG': '', 'HMDB': '', 'ChEBI': '', 'MetaNetX': '', 'metabolicATLAS': '13dmt', 'recon3d': '13dmt_e'}\n",
      "{'PubChem': '', 'KEGG': '', 'HMDB': '', 'ChEBI': '', 'MetaNetX': '', 'metabolicATLAS': '14hmdz', 'recon3d': '14hmdz_r'} {'PubChem': '', 'KEGG': '', 'HMDB': '', 'ChEBI': '', 'MetaNetX': '', 'metabolicATLAS': '14hmdz', 'recon3d': '14hmdz_c'}\n",
      "{'PubChem': '', 'KEGG': '', 'HMDB': '', 'ChEBI': '', 'MetaNetX': '', 'metabolicATLAS': '14hmdz', 'recon3d': '14hmdz_r'} {'PubChem': '', 'KEGG': '', 'HMDB': '', 'ChEBI': '', 'MetaNetX': '', 'metabolicATLAS': '14hmdz', 'recon3d': '14hmdz_e'}\n",
      "{'PubChem': '', 'KEGG': '', 'HMDB': '', 'ChEBI': '', 'MetaNetX': '', 'metabolicATLAS': '1513tacr', 'recon3d': '1513tacr_r'} {'PubChem': '', 'KEGG': '', 'HMDB': '', 'ChEBI': '', 'MetaNetX': '', 'metabolicATLAS': '1513tacr', 'recon3d': '1513tacr_c'}\n",
      "{'PubChem': '', 'KEGG': '', 'HMDB': '', 'ChEBI': '', 'MetaNetX': '', 'metabolicATLAS': '1513tacr', 'recon3d': '1513tacr_r'} {'PubChem': '', 'KEGG': '', 'HMDB': '', 'ChEBI': '', 'MetaNetX': '', 'metabolicATLAS': '1513tacr', 'recon3d': '1513tacr_e'}\n",
      "{'PubChem': '', 'KEGG': '', 'HMDB': '', 'ChEBI': '', 'MetaNetX': '', 'metabolicATLAS': '1531tacr', 'recon3d': '1531tacr_r'} {'PubChem': '', 'KEGG': '', 'HMDB': '', 'ChEBI': '', 'MetaNetX': '', 'metabolicATLAS': '1531tacr', 'recon3d': '1531tacr_c'}\n",
      "{'PubChem': '', 'KEGG': '', 'HMDB': '', 'ChEBI': '', 'MetaNetX': '', 'metabolicATLAS': '1531tacr', 'recon3d': '1531tacr_r'} {'PubChem': '', 'KEGG': '', 'HMDB': '', 'ChEBI': '', 'MetaNetX': '', 'metabolicATLAS': '1531tacr', 'recon3d': '1531tacr_e'}\n",
      "{'PubChem': '', 'KEGG': '', 'HMDB': '', 'ChEBI': '', 'MetaNetX': '', 'metabolicATLAS': '15dmt', 'recon3d': '15dmt_r'} {'PubChem': '', 'KEGG': '', 'HMDB': '', 'ChEBI': '', 'MetaNetX': '', 'metabolicATLAS': '15dmt', 'recon3d': '15dmt_c'}\n",
      "{'PubChem': '', 'KEGG': '', 'HMDB': '', 'ChEBI': '', 'MetaNetX': '', 'metabolicATLAS': '15dmt', 'recon3d': '15dmt_r'} {'PubChem': '', 'KEGG': '', 'HMDB': '', 'ChEBI': '', 'MetaNetX': '', 'metabolicATLAS': '15dmt', 'recon3d': '15dmt_e'}\n",
      "{'PubChem': '', 'KEGG': '', 'HMDB': '', 'ChEBI': '', 'MetaNetX': '', 'metabolicATLAS': '1hibupglu_S', 'recon3d': '1hibupglu_S_c'} {'PubChem': '', 'KEGG': '', 'HMDB': '', 'ChEBI': '', 'MetaNetX': '', 'metabolicATLAS': '1hibupglu_S', 'recon3d': '1hibupglu_S_e'}\n",
      "{'PubChem': '', 'KEGG': '', 'HMDB': '', 'ChEBI': '', 'MetaNetX': '', 'metabolicATLAS': '1hibupglu_S', 'recon3d': '1hibupglu_S_c'} {'PubChem': '', 'KEGG': '', 'HMDB': '', 'ChEBI': '', 'MetaNetX': '', 'metabolicATLAS': '1hibupglu_S', 'recon3d': '1hibupglu_S_r'}\n",
      "{'PubChem': '', 'KEGG': '', 'HMDB': '', 'ChEBI': '', 'MetaNetX': '', 'metabolicATLAS': '1hibup_S', 'recon3d': '1hibup_S_r'} {'PubChem': '', 'KEGG': '', 'HMDB': '', 'ChEBI': '', 'MetaNetX': '', 'metabolicATLAS': '1hibup_S', 'recon3d': '1hibup_S_c'}\n",
      "{'PubChem': '', 'KEGG': '', 'HMDB': '', 'ChEBI': '', 'MetaNetX': '', 'metabolicATLAS': '1hibup_S', 'recon3d': '1hibup_S_r'} {'PubChem': '', 'KEGG': '', 'HMDB': '', 'ChEBI': '', 'MetaNetX': '', 'metabolicATLAS': '1hibup_S', 'recon3d': '1hibup_S_e'}\n",
      "{'PubChem': '', 'KEGG': '', 'HMDB': '', 'ChEBI': '', 'MetaNetX': '', 'metabolicATLAS': '1hmdgluc', 'recon3d': '1hmdgluc_r'} {'PubChem': '', 'KEGG': '', 'HMDB': '', 'ChEBI': '', 'MetaNetX': '', 'metabolicATLAS': '1hmdgluc', 'recon3d': '1hmdgluc_e'}\n",
      "{'PubChem': '', 'KEGG': '', 'HMDB': '', 'ChEBI': '', 'MetaNetX': '', 'metabolicATLAS': '1hmdgluc', 'recon3d': '1hmdgluc_r'} {'PubChem': '', 'KEGG': '', 'HMDB': '', 'ChEBI': '', 'MetaNetX': '', 'metabolicATLAS': '1hmdgluc', 'recon3d': '1hmdgluc_c'}\n",
      "{'PubChem': '', 'KEGG': '', 'HMDB': '', 'ChEBI': '', 'MetaNetX': '', 'metabolicATLAS': '1ohmdz', 'recon3d': '1ohmdz_r'} {'PubChem': '', 'KEGG': '', 'HMDB': '', 'ChEBI': '', 'MetaNetX': '', 'metabolicATLAS': '1ohmdz', 'recon3d': '1ohmdz_c'}\n",
      "{'PubChem': '', 'KEGG': '', 'HMDB': '', 'ChEBI': '', 'MetaNetX': '', 'metabolicATLAS': '1ohmdz', 'recon3d': '1ohmdz_r'} {'PubChem': '', 'KEGG': '', 'HMDB': '', 'ChEBI': '', 'MetaNetX': '', 'metabolicATLAS': '1ohmdz', 'recon3d': '1ohmdz_e'}\n",
      "{'PubChem': '', 'KEGG': '', 'HMDB': '', 'ChEBI': '', 'MetaNetX': '', 'metabolicATLAS': '2hatvacid', 'recon3d': '2hatvacid_c'} {'PubChem': '', 'KEGG': '', 'HMDB': '', 'ChEBI': '', 'MetaNetX': '', 'metabolicATLAS': '2hatvacid', 'recon3d': '2hatvacid_r'}\n",
      "{'PubChem': '', 'KEGG': '', 'HMDB': '', 'ChEBI': '', 'MetaNetX': '', 'metabolicATLAS': '2hatvacidgluc', 'recon3d': '2hatvacidgluc_r'} {'PubChem': '', 'KEGG': '', 'HMDB': '', 'ChEBI': '', 'MetaNetX': '', 'metabolicATLAS': '2hatvacidgluc', 'recon3d': '2hatvacidgluc_c'}\n",
      "{'PubChem': '', 'KEGG': '', 'HMDB': '', 'ChEBI': '', 'MetaNetX': '', 'metabolicATLAS': '2hatvacidgluc', 'recon3d': '2hatvacidgluc_r'} {'PubChem': '', 'KEGG': '', 'HMDB': '', 'ChEBI': '', 'MetaNetX': '', 'metabolicATLAS': '2hatvacidgluc', 'recon3d': '2hatvacidgluc_e'}\n",
      "{'PubChem': '', 'KEGG': '', 'HMDB': '', 'ChEBI': '', 'MetaNetX': '', 'metabolicATLAS': '2hatvacid', 'recon3d': '2hatvacid_c'} {'PubChem': '', 'KEGG': '', 'HMDB': '', 'ChEBI': '', 'MetaNetX': '', 'metabolicATLAS': '2hatvacid', 'recon3d': '2hatvacid_e'}\n",
      "{'PubChem': '', 'KEGG': '', 'HMDB': '', 'ChEBI': '', 'MetaNetX': '', 'metabolicATLAS': '2hatvlac', 'recon3d': '2hatvlac_c'} {'PubChem': '', 'KEGG': '', 'HMDB': '', 'ChEBI': '', 'MetaNetX': '', 'metabolicATLAS': '2hatvlac', 'recon3d': '2hatvlac_r'}\n",
      "{'PubChem': '', 'KEGG': '', 'HMDB': '', 'ChEBI': '', 'MetaNetX': '', 'metabolicATLAS': '2hatvlacgluc', 'recon3d': '2hatvlacgluc_r'} {'PubChem': '', 'KEGG': '', 'HMDB': '', 'ChEBI': '', 'MetaNetX': '', 'metabolicATLAS': '2hatvlacgluc', 'recon3d': '2hatvlacgluc_c'}\n",
      "{'PubChem': '', 'KEGG': '', 'HMDB': '', 'ChEBI': '', 'MetaNetX': '', 'metabolicATLAS': '2hatvlacgluc', 'recon3d': '2hatvlacgluc_r'} {'PubChem': '', 'KEGG': '', 'HMDB': '', 'ChEBI': '', 'MetaNetX': '', 'metabolicATLAS': '2hatvlacgluc', 'recon3d': '2hatvlacgluc_e'}\n",
      "{'PubChem': '', 'KEGG': '', 'HMDB': '', 'ChEBI': '', 'MetaNetX': '', 'metabolicATLAS': '2hatvlac', 'recon3d': '2hatvlac_c'} {'PubChem': '', 'KEGG': '', 'HMDB': '', 'ChEBI': '', 'MetaNetX': '', 'metabolicATLAS': '2hatvlac', 'recon3d': '2hatvlac_e'}\n",
      "{'PubChem': '', 'KEGG': '', 'HMDB': '', 'ChEBI': '', 'MetaNetX': '', 'metabolicATLAS': '2hibupglu_S', 'recon3d': '2hibupglu_S_c'} {'PubChem': '', 'KEGG': '', 'HMDB': '', 'ChEBI': '', 'MetaNetX': '', 'metabolicATLAS': '2hibupglu_S', 'recon3d': '2hibupglu_S_e'}\n",
      "{'PubChem': '', 'KEGG': '', 'HMDB': '', 'ChEBI': '', 'MetaNetX': '', 'metabolicATLAS': '2hibup_R', 'recon3d': '2hibup_R_c'} {'PubChem': '', 'KEGG': '', 'HMDB': '', 'ChEBI': '', 'MetaNetX': '', 'metabolicATLAS': '2hibup_R', 'recon3d': '2hibup_R_e'}\n",
      "{'PubChem': '', 'KEGG': '', 'HMDB': '', 'ChEBI': '', 'MetaNetX': '', 'metabolicATLAS': '2hibupglu_S', 'recon3d': '2hibupglu_S_c'} {'PubChem': '', 'KEGG': '', 'HMDB': '', 'ChEBI': '', 'MetaNetX': '', 'metabolicATLAS': '2hibupglu_S', 'recon3d': '2hibupglu_S_r'}\n",
      "{'PubChem': '', 'KEGG': '', 'HMDB': '', 'ChEBI': '', 'MetaNetX': '', 'metabolicATLAS': '2hibup_S', 'recon3d': '2hibup_S_r'} {'PubChem': '', 'KEGG': '', 'HMDB': '', 'ChEBI': '', 'MetaNetX': '', 'metabolicATLAS': '2hibup_S', 'recon3d': '2hibup_S_c'}\n",
      "{'PubChem': '', 'KEGG': '', 'HMDB': '', 'ChEBI': '', 'MetaNetX': '', 'metabolicATLAS': '2hibup_S', 'recon3d': '2hibup_S_r'} {'PubChem': '', 'KEGG': '', 'HMDB': '', 'ChEBI': '', 'MetaNetX': '', 'metabolicATLAS': '2hibup_S', 'recon3d': '2hibup_S_e'}\n",
      "{'PubChem': '', 'KEGG': '', 'HMDB': '', 'ChEBI': '', 'MetaNetX': '', 'metabolicATLAS': '31dmt', 'recon3d': '31dmt_r'} {'PubChem': '', 'KEGG': '', 'HMDB': '', 'ChEBI': '', 'MetaNetX': '', 'metabolicATLAS': '31dmt', 'recon3d': '31dmt_c'}\n",
      "{'PubChem': '', 'KEGG': '', 'HMDB': '', 'ChEBI': '', 'MetaNetX': '', 'metabolicATLAS': '31dmt', 'recon3d': '31dmt_r'} {'PubChem': '', 'KEGG': '', 'HMDB': '', 'ChEBI': '', 'MetaNetX': '', 'metabolicATLAS': '31dmt', 'recon3d': '31dmt_e'}\n",
      "{'PubChem': '', 'KEGG': '', 'HMDB': '', 'ChEBI': '', 'MetaNetX': '', 'metabolicATLAS': '35dhpvs', 'recon3d': '35dhpvs_r'} {'PubChem': '', 'KEGG': '', 'HMDB': '', 'ChEBI': '', 'MetaNetX': '', 'metabolicATLAS': '35dhpvs', 'recon3d': '35dhpvs_c'}\n",
      "{'PubChem': '', 'KEGG': '', 'HMDB': '', 'ChEBI': '', 'MetaNetX': '', 'metabolicATLAS': '35dhpvs', 'recon3d': '35dhpvs_r'} {'PubChem': '', 'KEGG': '', 'HMDB': '', 'ChEBI': '', 'MetaNetX': '', 'metabolicATLAS': '35dhpvs', 'recon3d': '35dhpvs_e'}\n",
      "{'PubChem': '', 'KEGG': '', 'HMDB': '', 'ChEBI': '', 'MetaNetX': '', 'metabolicATLAS': '35dsmv', 'recon3d': '35dsmv_r'} {'PubChem': '', 'KEGG': '', 'HMDB': '', 'ChEBI': '', 'MetaNetX': '', 'metabolicATLAS': '35dsmv', 'recon3d': '35dsmv_c'}\n",
      "{'PubChem': '', 'KEGG': '', 'HMDB': '', 'ChEBI': '', 'MetaNetX': '', 'metabolicATLAS': '35dsmv', 'recon3d': '35dsmv_r'} {'PubChem': '', 'KEGG': '', 'HMDB': '', 'ChEBI': '', 'MetaNetX': '', 'metabolicATLAS': '35dsmv', 'recon3d': '35dsmv_e'}\n",
      "{'PubChem': '', 'KEGG': '', 'HMDB': '', 'ChEBI': '', 'MetaNetX': '', 'metabolicATLAS': '3hibupglu_S', 'recon3d': '3hibupglu_S_c'} {'PubChem': '', 'KEGG': '', 'HMDB': '', 'ChEBI': '', 'MetaNetX': '', 'metabolicATLAS': '3hibupglu_S', 'recon3d': '3hibupglu_S_e'}\n",
      "{'PubChem': '', 'KEGG': '', 'HMDB': '', 'ChEBI': '', 'MetaNetX': '', 'metabolicATLAS': '3hibup_R', 'recon3d': '3hibup_R_c'} {'PubChem': '', 'KEGG': '', 'HMDB': '', 'ChEBI': '', 'MetaNetX': '', 'metabolicATLAS': '3hibup_R', 'recon3d': '3hibup_R_e'}\n",
      "{'PubChem': '', 'KEGG': '', 'HMDB': '', 'ChEBI': '', 'MetaNetX': '', 'metabolicATLAS': '3hibupglu_S', 'recon3d': '3hibupglu_S_c'} {'PubChem': '', 'KEGG': '', 'HMDB': '', 'ChEBI': '', 'MetaNetX': '', 'metabolicATLAS': '3hibupglu_S', 'recon3d': '3hibupglu_S_r'}\n",
      "{'PubChem': '', 'KEGG': '', 'HMDB': '', 'ChEBI': '', 'MetaNetX': '', 'metabolicATLAS': '3hibup_S', 'recon3d': '3hibup_S_r'} {'PubChem': '', 'KEGG': '', 'HMDB': '', 'ChEBI': '', 'MetaNetX': '', 'metabolicATLAS': '3hibup_S', 'recon3d': '3hibup_S_c'}\n",
      "{'PubChem': '', 'KEGG': '', 'HMDB': '', 'ChEBI': '', 'MetaNetX': '', 'metabolicATLAS': '3hibup_S', 'recon3d': '3hibup_S_r'} {'PubChem': '', 'KEGG': '', 'HMDB': '', 'ChEBI': '', 'MetaNetX': '', 'metabolicATLAS': '3hibup_S', 'recon3d': '3hibup_S_e'}\n",
      "{'PubChem': '', 'KEGG': '', 'HMDB': '', 'ChEBI': '', 'MetaNetX': '', 'metabolicATLAS': '3hlvstacid', 'recon3d': '3hlvstacid_c'} {'PubChem': '', 'KEGG': '', 'HMDB': '', 'ChEBI': '', 'MetaNetX': '', 'metabolicATLAS': '3hlvstacid', 'recon3d': '3hlvstacid_e'}\n",
      "{'PubChem': '', 'KEGG': '', 'HMDB': '', 'ChEBI': '', 'MetaNetX': '', 'metabolicATLAS': '3hpvscoa', 'recon3d': '3hpvscoa_m'} {'PubChem': '', 'KEGG': '', 'HMDB': '', 'ChEBI': '', 'MetaNetX': '', 'metabolicATLAS': '3hpvscoa', 'recon3d': '3hpvscoa_x'}\n",
      "{'PubChem': '', 'KEGG': '', 'HMDB': '', 'ChEBI': '', 'MetaNetX': '', 'metabolicATLAS': '3hpvstetcoa', 'recon3d': '3hpvstetcoa_m'} {'PubChem': '', 'KEGG': '', 'HMDB': '', 'ChEBI': '', 'MetaNetX': '', 'metabolicATLAS': '3hpvstetcoa', 'recon3d': '3hpvstetcoa_x'}\n",
      "{'PubChem': '', 'KEGG': '', 'HMDB': '', 'ChEBI': '', 'MetaNetX': '', 'metabolicATLAS': '3hpvstet', 'recon3d': '3hpvstet_c'} {'PubChem': '', 'KEGG': '', 'HMDB': '', 'ChEBI': '', 'MetaNetX': '', 'metabolicATLAS': '3hpvstet', 'recon3d': '3hpvstet_e'}\n",
      "{'PubChem': '', 'KEGG': '', 'HMDB': '', 'ChEBI': '', 'MetaNetX': '', 'metabolicATLAS': '3hpvs', 'recon3d': '3hpvs_r'} {'PubChem': '', 'KEGG': '', 'HMDB': '', 'ChEBI': '', 'MetaNetX': '', 'metabolicATLAS': '3hpvs', 'recon3d': '3hpvs_c'}\n",
      "{'PubChem': '', 'KEGG': '', 'HMDB': '', 'ChEBI': '', 'MetaNetX': '', 'metabolicATLAS': '3hpvs', 'recon3d': '3hpvs_r'} {'PubChem': '', 'KEGG': '', 'HMDB': '', 'ChEBI': '', 'MetaNetX': '', 'metabolicATLAS': '3hpvs', 'recon3d': '3hpvs_e'}\n",
      "{'PubChem': '', 'KEGG': '', 'HMDB': '', 'ChEBI': '', 'MetaNetX': '', 'metabolicATLAS': '3hsmvacid', 'recon3d': '3hsmvacid_c'} {'PubChem': '', 'KEGG': '', 'HMDB': '', 'ChEBI': '', 'MetaNetX': '', 'metabolicATLAS': '3hsmvacid', 'recon3d': '3hsmvacid_e'}\n",
      "{'PubChem': '', 'KEGG': '', 'HMDB': '', 'ChEBI': '', 'MetaNetX': '', 'metabolicATLAS': '3hsmv', 'recon3d': '3hsmv_c'} {'PubChem': '', 'KEGG': '', 'HMDB': '', 'ChEBI': '', 'MetaNetX': '', 'metabolicATLAS': '3hsmv', 'recon3d': '3hsmv_r'}\n",
      "{'PubChem': '', 'KEGG': '', 'HMDB': '', 'ChEBI': '', 'MetaNetX': '', 'metabolicATLAS': 'pvs', 'recon3d': 'pvs_r'} {'PubChem': '', 'KEGG': '', 'HMDB': '', 'ChEBI': '', 'MetaNetX': '', 'metabolicATLAS': 'pvs', 'recon3d': 'pvs_c'}\n",
      "{'PubChem': '', 'KEGG': '', 'HMDB': '', 'ChEBI': '', 'MetaNetX': '', 'metabolicATLAS': '3ispvs', 'recon3d': '3ispvs_c'} {'PubChem': '', 'KEGG': '', 'HMDB': '', 'ChEBI': '', 'MetaNetX': '', 'metabolicATLAS': '3ispvs', 'recon3d': '3ispvs_e'}\n",
      "{'PubChem': '', 'KEGG': '', 'HMDB': '', 'ChEBI': '', 'MetaNetX': '', 'metabolicATLAS': '3ohacmp', 'recon3d': '3ohacmp_c'} {'PubChem': '', 'KEGG': '', 'HMDB': '', 'ChEBI': '', 'MetaNetX': '', 'metabolicATLAS': '3ohacmp', 'recon3d': '3ohacmp_r'}\n",
      "{'PubChem': '', 'KEGG': '', 'HMDB': '', 'ChEBI': '', 'MetaNetX': '', 'metabolicATLAS': '3ohacmp', 'recon3d': '3ohacmp_c'} {'PubChem': '', 'KEGG': '', 'HMDB': '', 'ChEBI': '', 'MetaNetX': '', 'metabolicATLAS': '3ohacmp', 'recon3d': '3ohacmp_e'}\n",
      "{'PubChem': '', 'KEGG': '', 'HMDB': '', 'ChEBI': '', 'MetaNetX': '', 'metabolicATLAS': '4bhglz', 'recon3d': '4bhglz_c'} {'PubChem': '', 'KEGG': '', 'HMDB': '', 'ChEBI': '', 'MetaNetX': '', 'metabolicATLAS': '4bhglz', 'recon3d': '4bhglz_e'}\n",
      "{'PubChem': '', 'KEGG': '', 'HMDB': '', 'ChEBI': '', 'MetaNetX': '', 'metabolicATLAS': '4bhglz', 'recon3d': '4bhglz_c'} {'PubChem': '', 'KEGG': '', 'HMDB': '', 'ChEBI': '', 'MetaNetX': '', 'metabolicATLAS': '4bhglz', 'recon3d': '4bhglz_r'}\n",
      "{'PubChem': '', 'KEGG': '', 'HMDB': '', 'ChEBI': '', 'MetaNetX': '', 'metabolicATLAS': '4hatvacid', 'recon3d': '4hatvacid_r'} {'PubChem': '', 'KEGG': '', 'HMDB': '', 'ChEBI': '', 'MetaNetX': '', 'metabolicATLAS': '4hatvacid', 'recon3d': '4hatvacid_c'}\n",
      "{'PubChem': '', 'KEGG': '', 'HMDB': '', 'ChEBI': '', 'MetaNetX': '', 'metabolicATLAS': '4hatvacid', 'recon3d': '4hatvacid_r'} {'PubChem': '', 'KEGG': '', 'HMDB': '', 'ChEBI': '', 'MetaNetX': '', 'metabolicATLAS': '4hatvacid', 'recon3d': '4hatvacid_e'}\n",
      "{'PubChem': '', 'KEGG': '', 'HMDB': '', 'ChEBI': '', 'MetaNetX': '', 'metabolicATLAS': '4hatvlac', 'recon3d': '4hatvlac_c'} {'PubChem': '', 'KEGG': '', 'HMDB': '', 'ChEBI': '', 'MetaNetX': '', 'metabolicATLAS': '4hatvlac', 'recon3d': '4hatvlac_r'}\n",
      "{'PubChem': '', 'KEGG': '', 'HMDB': '', 'ChEBI': '', 'MetaNetX': '', 'metabolicATLAS': '4hatvlac', 'recon3d': '4hatvlac_c'} {'PubChem': '', 'KEGG': '', 'HMDB': '', 'ChEBI': '', 'MetaNetX': '', 'metabolicATLAS': '4hatvlac', 'recon3d': '4hatvlac_e'}\n",
      "{'PubChem': '', 'KEGG': '', 'HMDB': '', 'ChEBI': '', 'MetaNetX': '', 'metabolicATLAS': '4hmdgluc', 'recon3d': '4hmdgluc_c'} {'PubChem': '', 'KEGG': '', 'HMDB': '', 'ChEBI': '', 'MetaNetX': '', 'metabolicATLAS': '4hmdgluc', 'recon3d': '4hmdgluc_e'}\n",
      "{'PubChem': '', 'KEGG': '', 'HMDB': '', 'ChEBI': '', 'MetaNetX': '', 'metabolicATLAS': '4hmdgluc', 'recon3d': '4hmdgluc_c'} {'PubChem': '', 'KEGG': '', 'HMDB': '', 'ChEBI': '', 'MetaNetX': '', 'metabolicATLAS': '4hmdgluc', 'recon3d': '4hmdgluc_r'}\n",
      "{'PubChem': '', 'KEGG': '', 'HMDB': '', 'ChEBI': '', 'MetaNetX': '', 'metabolicATLAS': '4ohmdz', 'recon3d': '4ohmdz_r'} {'PubChem': '', 'KEGG': '', 'HMDB': '', 'ChEBI': '', 'MetaNetX': '', 'metabolicATLAS': '4ohmdz', 'recon3d': '4ohmdz_c'}\n",
      "{'PubChem': '', 'KEGG': '', 'HMDB': '', 'ChEBI': '', 'MetaNetX': '', 'metabolicATLAS': '4ohmdz', 'recon3d': '4ohmdz_r'} {'PubChem': '', 'KEGG': '', 'HMDB': '', 'ChEBI': '', 'MetaNetX': '', 'metabolicATLAS': '4ohmdz', 'recon3d': '4ohmdz_e'}\n",
      "{'PubChem': '', 'KEGG': '', 'HMDB': '', 'ChEBI': '', 'MetaNetX': '', 'metabolicATLAS': '56dhpvs', 'recon3d': '56dhpvs_r'} {'PubChem': '', 'KEGG': '', 'HMDB': '', 'ChEBI': '', 'MetaNetX': '', 'metabolicATLAS': '56dhpvs', 'recon3d': '56dhpvs_c'}\n",
      "{'PubChem': '', 'KEGG': '', 'HMDB': '', 'ChEBI': '', 'MetaNetX': '', 'metabolicATLAS': '56dhpvs', 'recon3d': '56dhpvs_r'} {'PubChem': '', 'KEGG': '', 'HMDB': '', 'ChEBI': '', 'MetaNetX': '', 'metabolicATLAS': '56dhpvs', 'recon3d': '56dhpvs_e'}\n",
      "{'PubChem': '', 'KEGG': '', 'HMDB': '', 'ChEBI': '', 'MetaNetX': '', 'metabolicATLAS': '3ispvs', 'recon3d': '3ispvs_c'} {'PubChem': '', 'KEGG': '', 'HMDB': '', 'ChEBI': '', 'MetaNetX': '', 'metabolicATLAS': '3ispvs', 'recon3d': '3ispvs_r'}\n",
      "{'PubChem': '', 'KEGG': '', 'HMDB': '', 'ChEBI': '', 'MetaNetX': '', 'metabolicATLAS': '56eppvs', 'recon3d': '56eppvs_r'} {'PubChem': '', 'KEGG': '', 'HMDB': '', 'ChEBI': '', 'MetaNetX': '', 'metabolicATLAS': '56eppvs', 'recon3d': '56eppvs_c'}\n",
      "{'PubChem': '', 'KEGG': '', 'HMDB': '', 'ChEBI': '', 'MetaNetX': '', 'metabolicATLAS': '56eppvs', 'recon3d': '56eppvs_r'} {'PubChem': '', 'KEGG': '', 'HMDB': '', 'ChEBI': '', 'MetaNetX': '', 'metabolicATLAS': '56eppvs', 'recon3d': '56eppvs_e'}\n",
      "{'PubChem': '', 'KEGG': '', 'HMDB': '', 'ChEBI': '', 'MetaNetX': '', 'metabolicATLAS': '5ohfvsglu', 'recon3d': '5ohfvsglu_r'} {'PubChem': '', 'KEGG': '', 'HMDB': '', 'ChEBI': '', 'MetaNetX': '', 'metabolicATLAS': '5ohfvsglu', 'recon3d': '5ohfvsglu_c'}\n",
      "{'PubChem': '', 'KEGG': '', 'HMDB': '', 'ChEBI': '', 'MetaNetX': '', 'metabolicATLAS': '5ohfvsglu', 'recon3d': '5ohfvsglu_r'} {'PubChem': '', 'KEGG': '', 'HMDB': '', 'ChEBI': '', 'MetaNetX': '', 'metabolicATLAS': '5ohfvsglu', 'recon3d': '5ohfvsglu_e'}\n",
      "{'PubChem': '', 'KEGG': '', 'HMDB': '', 'ChEBI': '', 'MetaNetX': '', 'metabolicATLAS': '5ohfvs', 'recon3d': '5ohfvs_r'} {'PubChem': '', 'KEGG': '', 'HMDB': '', 'ChEBI': '', 'MetaNetX': '', 'metabolicATLAS': '5ohfvs', 'recon3d': '5ohfvs_c'}\n",
      "{'PubChem': '', 'KEGG': '', 'HMDB': '', 'ChEBI': '', 'MetaNetX': '', 'metabolicATLAS': '5ohfvs', 'recon3d': '5ohfvs_r'} {'PubChem': '', 'KEGG': '', 'HMDB': '', 'ChEBI': '', 'MetaNetX': '', 'metabolicATLAS': '5ohfvs', 'recon3d': '5ohfvs_e'}\n",
      "{'PubChem': '', 'KEGG': '', 'HMDB': '', 'ChEBI': '', 'MetaNetX': '', 'metabolicATLAS': '6ahglz', 'recon3d': '6ahglz_c'} {'PubChem': '', 'KEGG': '', 'HMDB': '', 'ChEBI': '', 'MetaNetX': '', 'metabolicATLAS': '6ahglz', 'recon3d': '6ahglz_e'}\n",
      "{'PubChem': '', 'KEGG': '', 'HMDB': '', 'ChEBI': '', 'MetaNetX': '', 'metabolicATLAS': '6ahglz', 'recon3d': '6ahglz_c'} {'PubChem': '', 'KEGG': '', 'HMDB': '', 'ChEBI': '', 'MetaNetX': '', 'metabolicATLAS': '6ahglz', 'recon3d': '6ahglz_r'}\n",
      "{'PubChem': '', 'KEGG': '', 'HMDB': '', 'ChEBI': '', 'MetaNetX': '', 'metabolicATLAS': '6bhglz', 'recon3d': '6bhglz_c'} {'PubChem': '', 'KEGG': '', 'HMDB': '', 'ChEBI': '', 'MetaNetX': '', 'metabolicATLAS': '6bhglz', 'recon3d': '6bhglz_e'}\n",
      "{'PubChem': '', 'KEGG': '', 'HMDB': '', 'ChEBI': '', 'MetaNetX': '', 'metabolicATLAS': '6bhglzglc', 'recon3d': '6bhglzglc_c'} {'PubChem': '', 'KEGG': '', 'HMDB': '', 'ChEBI': '', 'MetaNetX': '', 'metabolicATLAS': '6bhglzglc', 'recon3d': '6bhglzglc_e'}\n",
      "{'PubChem': '', 'KEGG': '', 'HMDB': '', 'ChEBI': '', 'MetaNetX': '', 'metabolicATLAS': '6bhglz', 'recon3d': '6bhglz_c'} {'PubChem': '', 'KEGG': '', 'HMDB': '', 'ChEBI': '', 'MetaNetX': '', 'metabolicATLAS': '6bhglz', 'recon3d': '6bhglz_r'}\n",
      "{'PubChem': '', 'KEGG': '', 'HMDB': '', 'ChEBI': '', 'MetaNetX': '', 'metabolicATLAS': '6bhglzglc', 'recon3d': '6bhglzglc_c'} {'PubChem': '', 'KEGG': '', 'HMDB': '', 'ChEBI': '', 'MetaNetX': '', 'metabolicATLAS': '6bhglzglc', 'recon3d': '6bhglzglc_r'}\n",
      "{'PubChem': '', 'KEGG': '', 'HMDB': '', 'ChEBI': '', 'MetaNetX': '', 'metabolicATLAS': '6csmvacid', 'recon3d': '6csmvacid_c'} {'PubChem': '', 'KEGG': '', 'HMDB': '', 'ChEBI': '', 'MetaNetX': '', 'metabolicATLAS': '6csmvacid', 'recon3d': '6csmvacid_e'}\n",
      "{'PubChem': '', 'KEGG': '', 'HMDB': '', 'ChEBI': '', 'MetaNetX': '', 'metabolicATLAS': '6csmv', 'recon3d': '6csmv_c'} {'PubChem': '', 'KEGG': '', 'HMDB': '', 'ChEBI': '', 'MetaNetX': '', 'metabolicATLAS': '6csmv', 'recon3d': '6csmv_r'}\n",
      "{'PubChem': '', 'KEGG': '', 'HMDB': '', 'ChEBI': '', 'MetaNetX': '', 'metabolicATLAS': '6epvs', 'recon3d': '6epvs_c'} {'PubChem': '', 'KEGG': '', 'HMDB': '', 'ChEBI': '', 'MetaNetX': '', 'metabolicATLAS': '6epvs', 'recon3d': '6epvs_e'}\n",
      "{'PubChem': '', 'KEGG': '', 'HMDB': '', 'ChEBI': '', 'MetaNetX': '', 'metabolicATLAS': '6hlvst', 'recon3d': '6hlvst_c'} {'PubChem': '', 'KEGG': '', 'HMDB': '', 'ChEBI': '', 'MetaNetX': '', 'metabolicATLAS': '6hlvst', 'recon3d': '6hlvst_e'}\n",
      "{'PubChem': '', 'KEGG': '', 'HMDB': '', 'ChEBI': '', 'MetaNetX': '', 'metabolicATLAS': '6hmsmvacid', 'recon3d': '6hmsmvacid_c'} {'PubChem': '', 'KEGG': '', 'HMDB': '', 'ChEBI': '', 'MetaNetX': '', 'metabolicATLAS': '6hmsmvacid', 'recon3d': '6hmsmvacid_e'}\n",
      "{'PubChem': '', 'KEGG': '', 'HMDB': '', 'ChEBI': '', 'MetaNetX': '', 'metabolicATLAS': '6hmsmv', 'recon3d': '6hmsmv_c'} {'PubChem': '', 'KEGG': '', 'HMDB': '', 'ChEBI': '', 'MetaNetX': '', 'metabolicATLAS': '6hmsmv', 'recon3d': '6hmsmv_r'}\n",
      "{'PubChem': '', 'KEGG': '', 'HMDB': '', 'ChEBI': '', 'MetaNetX': '', 'metabolicATLAS': '6hsmv', 'recon3d': '6hsmv_r'} {'PubChem': '', 'KEGG': '', 'HMDB': '', 'ChEBI': '', 'MetaNetX': '', 'metabolicATLAS': '6hsmv', 'recon3d': '6hsmv_c'}\n",
      "{'PubChem': '', 'KEGG': '', 'HMDB': '', 'ChEBI': '', 'MetaNetX': '', 'metabolicATLAS': '6hsmvacid', 'recon3d': '6hsmvacid_c'} {'PubChem': '', 'KEGG': '', 'HMDB': '', 'ChEBI': '', 'MetaNetX': '', 'metabolicATLAS': '6hsmvacid', 'recon3d': '6hsmvacid_e'}\n",
      "{'PubChem': '', 'KEGG': '', 'HMDB': '', 'ChEBI': '', 'MetaNetX': '', 'metabolicATLAS': '6melvacid', 'recon3d': '6melvacid_c'} {'PubChem': '', 'KEGG': '', 'HMDB': '', 'ChEBI': '', 'MetaNetX': '', 'metabolicATLAS': '6melvacid', 'recon3d': '6melvacid_e'}\n",
      "{'PubChem': '', 'KEGG': '', 'HMDB': '', 'ChEBI': '', 'MetaNetX': '', 'metabolicATLAS': '6melvst', 'recon3d': '6melvst_c'} {'PubChem': '', 'KEGG': '', 'HMDB': '', 'ChEBI': '', 'MetaNetX': '', 'metabolicATLAS': '6melvst', 'recon3d': '6melvst_e'}\n",
      "{'PubChem': '', 'KEGG': '', 'HMDB': '', 'ChEBI': '', 'MetaNetX': '', 'metabolicATLAS': '6ohfvsglu', 'recon3d': '6ohfvsglu_r'} {'PubChem': '', 'KEGG': '', 'HMDB': '', 'ChEBI': '', 'MetaNetX': '', 'metabolicATLAS': '6ohfvsglu', 'recon3d': '6ohfvsglu_c'}\n",
      "{'PubChem': '', 'KEGG': '', 'HMDB': '', 'ChEBI': '', 'MetaNetX': '', 'metabolicATLAS': '6ohfvsglu', 'recon3d': '6ohfvsglu_r'} {'PubChem': '', 'KEGG': '', 'HMDB': '', 'ChEBI': '', 'MetaNetX': '', 'metabolicATLAS': '6ohfvsglu', 'recon3d': '6ohfvsglu_e'}\n",
      "{'PubChem': '', 'KEGG': '', 'HMDB': '', 'ChEBI': '', 'MetaNetX': '', 'metabolicATLAS': '6ohfvs', 'recon3d': '6ohfvs_r'} {'PubChem': '', 'KEGG': '', 'HMDB': '', 'ChEBI': '', 'MetaNetX': '', 'metabolicATLAS': '6ohfvs', 'recon3d': '6ohfvs_c'}\n",
      "{'PubChem': '', 'KEGG': '', 'HMDB': '', 'ChEBI': '', 'MetaNetX': '', 'metabolicATLAS': '6ohfvs', 'recon3d': '6ohfvs_r'} {'PubChem': '', 'KEGG': '', 'HMDB': '', 'ChEBI': '', 'MetaNetX': '', 'metabolicATLAS': '6ohfvs', 'recon3d': '6ohfvs_e'}\n",
      "{'PubChem': '', 'KEGG': '', 'HMDB': '', 'ChEBI': '', 'MetaNetX': '', 'metabolicATLAS': '7ahglz', 'recon3d': '7ahglz_c'} {'PubChem': '', 'KEGG': '', 'HMDB': '', 'ChEBI': '', 'MetaNetX': '', 'metabolicATLAS': '7ahglz', 'recon3d': '7ahglz_e'}\n",
      "{'PubChem': '', 'KEGG': '', 'HMDB': '', 'ChEBI': '', 'MetaNetX': '', 'metabolicATLAS': '7ahglz', 'recon3d': '7ahglz_c'} {'PubChem': '', 'KEGG': '', 'HMDB': '', 'ChEBI': '', 'MetaNetX': '', 'metabolicATLAS': '7ahglz', 'recon3d': '7ahglz_r'}\n",
      "{'PubChem': '', 'KEGG': '', 'HMDB': '', 'ChEBI': '', 'MetaNetX': '', 'metabolicATLAS': '7bhglz', 'recon3d': '7bhglz_c'} {'PubChem': '', 'KEGG': '', 'HMDB': '', 'ChEBI': '', 'MetaNetX': '', 'metabolicATLAS': '7bhglz', 'recon3d': '7bhglz_e'}\n",
      "{'PubChem': '', 'KEGG': '', 'HMDB': '', 'ChEBI': '', 'MetaNetX': '', 'metabolicATLAS': '7bhglzglc', 'recon3d': '7bhglzglc_c'} {'PubChem': '', 'KEGG': '', 'HMDB': '', 'ChEBI': '', 'MetaNetX': '', 'metabolicATLAS': '7bhglzglc', 'recon3d': '7bhglzglc_e'}\n",
      "{'PubChem': '', 'KEGG': '', 'HMDB': '', 'ChEBI': '', 'MetaNetX': '', 'metabolicATLAS': '7bhglz', 'recon3d': '7bhglz_c'} {'PubChem': '', 'KEGG': '', 'HMDB': '', 'ChEBI': '', 'MetaNetX': '', 'metabolicATLAS': '7bhglz', 'recon3d': '7bhglz_r'}\n",
      "{'PubChem': '', 'KEGG': '', 'HMDB': '', 'ChEBI': '', 'MetaNetX': '', 'metabolicATLAS': '7bhglzglc', 'recon3d': '7bhglzglc_c'} {'PubChem': '', 'KEGG': '', 'HMDB': '', 'ChEBI': '', 'MetaNetX': '', 'metabolicATLAS': '7bhglzglc', 'recon3d': '7bhglzglc_r'}\n",
      "{'PubChem': '', 'KEGG': '', 'HMDB': '', 'ChEBI': '', 'MetaNetX': '', 'metabolicATLAS': '7hpvs', 'recon3d': '7hpvs_r'} {'PubChem': '', 'KEGG': '', 'HMDB': '', 'ChEBI': '', 'MetaNetX': '', 'metabolicATLAS': '7hpvs', 'recon3d': '7hpvs_c'}\n",
      "{'PubChem': '', 'KEGG': '', 'HMDB': '', 'ChEBI': '', 'MetaNetX': '', 'metabolicATLAS': '7hpvs', 'recon3d': '7hpvs_r'} {'PubChem': '', 'KEGG': '', 'HMDB': '', 'ChEBI': '', 'MetaNetX': '', 'metabolicATLAS': '7hpvs', 'recon3d': '7hpvs_e'}\n",
      "{'PubChem': '', 'KEGG': '', 'HMDB': '', 'ChEBI': '', 'MetaNetX': '', 'metabolicATLAS': 'allop', 'recon3d': 'allop_e'} {'PubChem': '', 'KEGG': '', 'HMDB': '', 'ChEBI': '', 'MetaNetX': '', 'metabolicATLAS': 'allop', 'recon3d': 'allop_c'}\n",
      "{'PubChem': '1983', 'KEGG': '', 'HMDB': 'HMDB01859', 'ChEBI': 'CHEBI:46195', 'MetaNetX': '', 'metabolicATLAS': 'acmp', 'recon3d': 'acmp_r'} {'PubChem': '1983', 'KEGG': '', 'HMDB': 'HMDB01859', 'ChEBI': 'CHEBI:46195', 'MetaNetX': '', 'metabolicATLAS': 'acmp', 'recon3d': 'acmp_c'}\n",
      "{'PubChem': '1983', 'KEGG': '', 'HMDB': 'HMDB01859', 'ChEBI': 'CHEBI:46195', 'MetaNetX': '', 'metabolicATLAS': 'acmp', 'recon3d': 'acmp_r'} {'PubChem': '1983', 'KEGG': '', 'HMDB': 'HMDB01859', 'ChEBI': 'CHEBI:46195', 'MetaNetX': '', 'metabolicATLAS': 'acmp', 'recon3d': 'acmp_e'}\n",
      "{'PubChem': '', 'KEGG': '', 'HMDB': '', 'ChEBI': 'CHEBI:32639', 'MetaNetX': '', 'metabolicATLAS': 'acmpglut', 'recon3d': 'acmpglut_e'} {'PubChem': '', 'KEGG': '', 'HMDB': '', 'ChEBI': 'CHEBI:32639', 'MetaNetX': '', 'metabolicATLAS': 'acmpglut', 'recon3d': 'acmpglut_c'}\n",
      "{'PubChem': '83944', 'KEGG': '', 'HMDB': 'HMDB10316', 'ChEBI': 'CHEBI:32636', 'MetaNetX': '', 'metabolicATLAS': 'acmpglu', 'recon3d': 'acmpglu_r'} {'PubChem': '83944', 'KEGG': '', 'HMDB': 'HMDB10316', 'ChEBI': 'CHEBI:32636', 'MetaNetX': '', 'metabolicATLAS': 'acmpglu', 'recon3d': 'acmpglu_c'}\n",
      "{'PubChem': '83944', 'KEGG': '', 'HMDB': 'HMDB10316', 'ChEBI': 'CHEBI:32636', 'MetaNetX': '', 'metabolicATLAS': 'acmpglu', 'recon3d': 'acmpglu_r'} {'PubChem': '83944', 'KEGG': '', 'HMDB': 'HMDB10316', 'ChEBI': 'CHEBI:32636', 'MetaNetX': '', 'metabolicATLAS': 'acmpglu', 'recon3d': 'acmpglu_e'}\n",
      "{'PubChem': '', 'KEGG': '', 'HMDB': '', 'ChEBI': '', 'MetaNetX': '', 'metabolicATLAS': 'am19cs', 'recon3d': 'am19cs_r'} {'PubChem': '', 'KEGG': '', 'HMDB': '', 'ChEBI': '', 'MetaNetX': '', 'metabolicATLAS': 'am19cs', 'recon3d': 'am19cs_c'}\n",
      "{'PubChem': '', 'KEGG': '', 'HMDB': '', 'ChEBI': '', 'MetaNetX': '', 'metabolicATLAS': 'am19cs', 'recon3d': 'am19cs_r'} {'PubChem': '', 'KEGG': '', 'HMDB': '', 'ChEBI': '', 'MetaNetX': '', 'metabolicATLAS': 'am19cs', 'recon3d': 'am19cs_e'}\n",
      "{'PubChem': '', 'KEGG': '', 'HMDB': '', 'ChEBI': '', 'MetaNetX': '', 'metabolicATLAS': 'am1a4ncs', 'recon3d': 'am1a4ncs_c'} {'PubChem': '', 'KEGG': '', 'HMDB': '', 'ChEBI': '', 'MetaNetX': '', 'metabolicATLAS': 'am1a4ncs', 'recon3d': 'am1a4ncs_e'}\n",
      "{'PubChem': '', 'KEGG': '', 'HMDB': '', 'ChEBI': '', 'MetaNetX': '', 'metabolicATLAS': 'am1accs', 'recon3d': 'am1accs_r'} {'PubChem': '', 'KEGG': '', 'HMDB': '', 'ChEBI': '', 'MetaNetX': '', 'metabolicATLAS': 'am1accs', 'recon3d': 'am1accs_c'}\n",
      "{'PubChem': '', 'KEGG': '', 'HMDB': '', 'ChEBI': '', 'MetaNetX': '', 'metabolicATLAS': 'am1accs', 'recon3d': 'am1accs_r'} {'PubChem': '', 'KEGG': '', 'HMDB': '', 'ChEBI': '', 'MetaNetX': '', 'metabolicATLAS': 'am1accs', 'recon3d': 'am1accs_e'}\n",
      "{'PubChem': '', 'KEGG': '', 'HMDB': '', 'ChEBI': '', 'MetaNetX': '', 'metabolicATLAS': 'am1acs', 'recon3d': 'am1acs_c'} {'PubChem': '', 'KEGG': '', 'HMDB': '', 'ChEBI': '', 'MetaNetX': '', 'metabolicATLAS': 'am1acs', 'recon3d': 'am1acs_r'}\n",
      "{'PubChem': '', 'KEGG': '', 'HMDB': '', 'ChEBI': '', 'MetaNetX': '', 'metabolicATLAS': 'am1acs', 'recon3d': 'am1acs_c'} {'PubChem': '', 'KEGG': '', 'HMDB': '', 'ChEBI': '', 'MetaNetX': '', 'metabolicATLAS': 'am1acs', 'recon3d': 'am1acs_e'}\n",
      "{'PubChem': '', 'KEGG': '', 'HMDB': '', 'ChEBI': '', 'MetaNetX': '', 'metabolicATLAS': 'am1csa', 'recon3d': 'am1csa_r'} {'PubChem': '', 'KEGG': '', 'HMDB': '', 'ChEBI': '', 'MetaNetX': '', 'metabolicATLAS': 'am1csa', 'recon3d': 'am1csa_c'}\n",
      "{'PubChem': '', 'KEGG': '', 'HMDB': '', 'ChEBI': '', 'MetaNetX': '', 'metabolicATLAS': 'am1alcs', 'recon3d': 'am1alcs_r'} {'PubChem': '', 'KEGG': '', 'HMDB': '', 'ChEBI': '', 'MetaNetX': '', 'metabolicATLAS': 'am1alcs', 'recon3d': 'am1alcs_c'}\n",
      "{'PubChem': '', 'KEGG': '', 'HMDB': '', 'ChEBI': '', 'MetaNetX': '', 'metabolicATLAS': 'am1alcs', 'recon3d': 'am1alcs_r'} {'PubChem': '', 'KEGG': '', 'HMDB': '', 'ChEBI': '', 'MetaNetX': '', 'metabolicATLAS': 'am1alcs', 'recon3d': 'am1alcs_e'}\n",
      "{'PubChem': '', 'KEGG': '', 'HMDB': '', 'ChEBI': '', 'MetaNetX': '', 'metabolicATLAS': 'am1c4n9cs', 'recon3d': 'am1c4n9cs_c'} {'PubChem': '', 'KEGG': '', 'HMDB': '', 'ChEBI': '', 'MetaNetX': '', 'metabolicATLAS': 'am1c4n9cs', 'recon3d': 'am1c4n9cs_e'}\n",
      "{'PubChem': '', 'KEGG': '', 'HMDB': '', 'ChEBI': '', 'MetaNetX': '', 'metabolicATLAS': 'am1c9cs', 'recon3d': 'am1c9cs_c'} {'PubChem': '', 'KEGG': '', 'HMDB': '', 'ChEBI': '', 'MetaNetX': '', 'metabolicATLAS': 'am1c9cs', 'recon3d': 'am1c9cs_r'}\n",
      "{'PubChem': '', 'KEGG': '', 'HMDB': '', 'ChEBI': '', 'MetaNetX': '', 'metabolicATLAS': 'am1c9cs', 'recon3d': 'am1c9cs_c'} {'PubChem': '', 'KEGG': '', 'HMDB': '', 'ChEBI': '', 'MetaNetX': '', 'metabolicATLAS': 'am1c9cs', 'recon3d': 'am1c9cs_e'}\n",
      "{'PubChem': '', 'KEGG': '', 'HMDB': '', 'ChEBI': '', 'MetaNetX': '', 'metabolicATLAS': 'am1ccs', 'recon3d': 'am1ccs_r'} {'PubChem': '', 'KEGG': '', 'HMDB': '', 'ChEBI': '', 'MetaNetX': '', 'metabolicATLAS': 'am1ccs', 'recon3d': 'am1ccs_c'}\n",
      "{'PubChem': '', 'KEGG': '', 'HMDB': '', 'ChEBI': '', 'MetaNetX': '', 'metabolicATLAS': 'am1ccs', 'recon3d': 'am1ccs_r'} {'PubChem': '', 'KEGG': '', 'HMDB': '', 'ChEBI': '', 'MetaNetX': '', 'metabolicATLAS': 'am1ccs', 'recon3d': 'am1ccs_e'}\n",
      "{'PubChem': '', 'KEGG': '', 'HMDB': '', 'ChEBI': '', 'MetaNetX': '', 'metabolicATLAS': 'am1cglc', 'recon3d': 'am1cglc_r'} {'PubChem': '', 'KEGG': '', 'HMDB': '', 'ChEBI': '', 'MetaNetX': '', 'metabolicATLAS': 'am1cglc', 'recon3d': 'am1cglc_c'}\n",
      "{'PubChem': '', 'KEGG': '', 'HMDB': '', 'ChEBI': '', 'MetaNetX': '', 'metabolicATLAS': 'am1cglc', 'recon3d': 'am1cglc_r'} {'PubChem': '', 'KEGG': '', 'HMDB': '', 'ChEBI': '', 'MetaNetX': '', 'metabolicATLAS': 'am1cglc', 'recon3d': 'am1cglc_e'}\n",
      "{'PubChem': '', 'KEGG': '', 'HMDB': '', 'ChEBI': '', 'MetaNetX': '', 'metabolicATLAS': 'am1csa', 'recon3d': 'am1csa_r'} {'PubChem': '', 'KEGG': '', 'HMDB': '', 'ChEBI': '', 'MetaNetX': '', 'metabolicATLAS': 'am1csa', 'recon3d': 'am1csa_e'}\n",
      "{'PubChem': '', 'KEGG': '', 'HMDB': '', 'ChEBI': '', 'MetaNetX': '', 'metabolicATLAS': 'am9csa', 'recon3d': 'am9csa_r'} {'PubChem': '', 'KEGG': '', 'HMDB': '', 'ChEBI': '', 'MetaNetX': '', 'metabolicATLAS': 'am9csa', 'recon3d': 'am9csa_c'}\n",
      "{'PubChem': '', 'KEGG': '', 'HMDB': '', 'ChEBI': '', 'MetaNetX': '', 'metabolicATLAS': 'am4n9cs', 'recon3d': 'am4n9cs_c'} {'PubChem': '', 'KEGG': '', 'HMDB': '', 'ChEBI': '', 'MetaNetX': '', 'metabolicATLAS': 'am4n9cs', 'recon3d': 'am4n9cs_r'}\n",
      "{'PubChem': '', 'KEGG': '', 'HMDB': '', 'ChEBI': '', 'MetaNetX': '', 'metabolicATLAS': 'am4n9cs', 'recon3d': 'am4n9cs_c'} {'PubChem': '', 'KEGG': '', 'HMDB': '', 'ChEBI': '', 'MetaNetX': '', 'metabolicATLAS': 'am4n9cs', 'recon3d': 'am4n9cs_e'}\n",
      "{'PubChem': '', 'KEGG': '', 'HMDB': '', 'ChEBI': '', 'MetaNetX': '', 'metabolicATLAS': 'csa', 'recon3d': 'csa_r'} {'PubChem': '', 'KEGG': '', 'HMDB': '', 'ChEBI': '', 'MetaNetX': '', 'metabolicATLAS': 'csa', 'recon3d': 'csa_c'}\n",
      "{'PubChem': '', 'KEGG': '', 'HMDB': '', 'ChEBI': '', 'MetaNetX': '', 'metabolicATLAS': 'am4ncs', 'recon3d': 'am4ncs_r'} {'PubChem': '', 'KEGG': '', 'HMDB': '', 'ChEBI': '', 'MetaNetX': '', 'metabolicATLAS': 'am4ncs', 'recon3d': 'am4ncs_c'}\n",
      "{'PubChem': '', 'KEGG': '', 'HMDB': '', 'ChEBI': '', 'MetaNetX': '', 'metabolicATLAS': 'am4ncs', 'recon3d': 'am4ncs_r'} {'PubChem': '', 'KEGG': '', 'HMDB': '', 'ChEBI': '', 'MetaNetX': '', 'metabolicATLAS': 'am4ncs', 'recon3d': 'am4ncs_e'}\n",
      "{'PubChem': '', 'KEGG': '', 'HMDB': '', 'ChEBI': '', 'MetaNetX': '', 'metabolicATLAS': 'am9csa', 'recon3d': 'am9csa_r'} {'PubChem': '', 'KEGG': '', 'HMDB': '', 'ChEBI': '', 'MetaNetX': '', 'metabolicATLAS': 'am9csa', 'recon3d': 'am9csa_e'}\n",
      "{'PubChem': '', 'KEGG': '', 'HMDB': '', 'ChEBI': '', 'MetaNetX': '', 'metabolicATLAS': 'atvacid', 'recon3d': 'atvacid_r'} {'PubChem': '', 'KEGG': '', 'HMDB': '', 'ChEBI': '', 'MetaNetX': '', 'metabolicATLAS': 'atvacid', 'recon3d': 'atvacid_e'}\n",
      "{'PubChem': '', 'KEGG': '', 'HMDB': '', 'ChEBI': '', 'MetaNetX': '', 'metabolicATLAS': 'atvacid', 'recon3d': 'atvacid_r'} {'PubChem': '', 'KEGG': '', 'HMDB': '', 'ChEBI': '', 'MetaNetX': '', 'metabolicATLAS': 'atvacid', 'recon3d': 'atvacid_c'}\n",
      "{'PubChem': '', 'KEGG': '', 'HMDB': '', 'ChEBI': '', 'MetaNetX': '', 'metabolicATLAS': 'atvlac', 'recon3d': 'atvlac_r'} {'PubChem': '', 'KEGG': '', 'HMDB': '', 'ChEBI': '', 'MetaNetX': '', 'metabolicATLAS': 'atvlac', 'recon3d': 'atvlac_c'}\n",
      "{'PubChem': '', 'KEGG': '', 'HMDB': '', 'ChEBI': '', 'MetaNetX': '', 'metabolicATLAS': 'atvlac', 'recon3d': 'atvlac_r'} {'PubChem': '', 'KEGG': '', 'HMDB': '', 'ChEBI': '', 'MetaNetX': '', 'metabolicATLAS': 'atvlac', 'recon3d': 'atvlac_e'}\n",
      "{'PubChem': '', 'KEGG': '', 'HMDB': '', 'ChEBI': '', 'MetaNetX': '', 'metabolicATLAS': 'caribupglu_S', 'recon3d': 'caribupglu_S_c'} {'PubChem': '', 'KEGG': '', 'HMDB': '', 'ChEBI': '', 'MetaNetX': '', 'metabolicATLAS': 'caribupglu_S', 'recon3d': 'caribupglu_S_e'}\n",
      "{'PubChem': '', 'KEGG': '', 'HMDB': '', 'ChEBI': '', 'MetaNetX': '', 'metabolicATLAS': 'caribup_R', 'recon3d': 'caribup_R_c'} {'PubChem': '', 'KEGG': '', 'HMDB': '', 'ChEBI': '', 'MetaNetX': '', 'metabolicATLAS': 'caribup_R', 'recon3d': 'caribup_R_e'}\n",
      "{'PubChem': '', 'KEGG': '', 'HMDB': '', 'ChEBI': '', 'MetaNetX': '', 'metabolicATLAS': 'caribupglu_S', 'recon3d': 'caribupglu_S_c'} {'PubChem': '', 'KEGG': '', 'HMDB': '', 'ChEBI': '', 'MetaNetX': '', 'metabolicATLAS': 'caribupglu_S', 'recon3d': 'caribupglu_S_r'}\n",
      "{'PubChem': '', 'KEGG': '', 'HMDB': '', 'ChEBI': '', 'MetaNetX': '', 'metabolicATLAS': 'caribup_s', 'recon3d': 'caribup_s_r'} {'PubChem': '', 'KEGG': '', 'HMDB': '', 'ChEBI': '', 'MetaNetX': '', 'metabolicATLAS': 'caribup_s', 'recon3d': 'caribup_s_c'}\n",
      "{'PubChem': '', 'KEGG': '', 'HMDB': '', 'ChEBI': '', 'MetaNetX': '', 'metabolicATLAS': 'caribup_s', 'recon3d': 'caribup_s_r'} {'PubChem': '', 'KEGG': '', 'HMDB': '', 'ChEBI': '', 'MetaNetX': '', 'metabolicATLAS': 'caribup_s', 'recon3d': 'caribup_s_e'}\n",
      "{'PubChem': '', 'KEGG': '', 'HMDB': '', 'ChEBI': '', 'MetaNetX': '', 'metabolicATLAS': 'crglz', 'recon3d': 'crglz_c'} {'PubChem': '', 'KEGG': '', 'HMDB': '', 'ChEBI': '', 'MetaNetX': '', 'metabolicATLAS': 'crglz', 'recon3d': 'crglz_e'}\n",
      "{'PubChem': '', 'KEGG': '', 'HMDB': '', 'ChEBI': '', 'MetaNetX': '', 'metabolicATLAS': 'crglz', 'recon3d': 'crglz_c'} {'PubChem': '', 'KEGG': '', 'HMDB': '', 'ChEBI': '', 'MetaNetX': '', 'metabolicATLAS': 'crglz', 'recon3d': 'crglz_r'}\n",
      "{'PubChem': '', 'KEGG': '', 'HMDB': '', 'ChEBI': '', 'MetaNetX': '', 'metabolicATLAS': 'crvsm1', 'recon3d': 'crvsm1_r'} {'PubChem': '', 'KEGG': '', 'HMDB': '', 'ChEBI': '', 'MetaNetX': '', 'metabolicATLAS': 'crvsm1', 'recon3d': 'crvsm1_c'}\n",
      "{'PubChem': '', 'KEGG': '', 'HMDB': '', 'ChEBI': '', 'MetaNetX': '', 'metabolicATLAS': 'crvsm1', 'recon3d': 'crvsm1_r'} {'PubChem': '', 'KEGG': '', 'HMDB': '', 'ChEBI': '', 'MetaNetX': '', 'metabolicATLAS': 'crvsm1', 'recon3d': 'crvsm1_e'}\n",
      "{'PubChem': '', 'KEGG': '', 'HMDB': '', 'ChEBI': '', 'MetaNetX': '', 'metabolicATLAS': 'crvs', 'recon3d': 'crvs_e'} {'PubChem': '', 'KEGG': '', 'HMDB': '', 'ChEBI': '', 'MetaNetX': '', 'metabolicATLAS': 'crvs', 'recon3d': 'crvs_c'}\n",
      "{'PubChem': '', 'KEGG': '', 'HMDB': '', 'ChEBI': '', 'MetaNetX': '', 'metabolicATLAS': 'crvs', 'recon3d': 'crvs_e'} {'PubChem': '', 'KEGG': '', 'HMDB': '', 'ChEBI': '', 'MetaNetX': '', 'metabolicATLAS': 'crvs', 'recon3d': 'crvs_r'}\n",
      "{'PubChem': '', 'KEGG': '', 'HMDB': '', 'ChEBI': '', 'MetaNetX': '', 'metabolicATLAS': 'crvsm22', 'recon3d': 'crvsm22_c'} {'PubChem': '', 'KEGG': '', 'HMDB': '', 'ChEBI': '', 'MetaNetX': '', 'metabolicATLAS': 'crvsm22', 'recon3d': 'crvsm22_r'}\n",
      "{'PubChem': '', 'KEGG': '', 'HMDB': '', 'ChEBI': '', 'MetaNetX': '', 'metabolicATLAS': 'crvsm23', 'recon3d': 'crvsm23_r'} {'PubChem': '', 'KEGG': '', 'HMDB': '', 'ChEBI': '', 'MetaNetX': '', 'metabolicATLAS': 'crvsm23', 'recon3d': 'crvsm23_c'}\n",
      "{'PubChem': '', 'KEGG': '', 'HMDB': '', 'ChEBI': '', 'MetaNetX': '', 'metabolicATLAS': 'crvsm23', 'recon3d': 'crvsm23_r'} {'PubChem': '', 'KEGG': '', 'HMDB': '', 'ChEBI': '', 'MetaNetX': '', 'metabolicATLAS': 'crvsm23', 'recon3d': 'crvsm23_e'}\n",
      "{'PubChem': '', 'KEGG': '', 'HMDB': '', 'ChEBI': '', 'MetaNetX': '', 'metabolicATLAS': 'crvsm24', 'recon3d': 'crvsm24_r'} {'PubChem': '', 'KEGG': '', 'HMDB': '', 'ChEBI': '', 'MetaNetX': '', 'metabolicATLAS': 'crvsm24', 'recon3d': 'crvsm24_c'}\n",
      "{'PubChem': '', 'KEGG': '', 'HMDB': '', 'ChEBI': '', 'MetaNetX': '', 'metabolicATLAS': 'crvsm24', 'recon3d': 'crvsm24_r'} {'PubChem': '', 'KEGG': '', 'HMDB': '', 'ChEBI': '', 'MetaNetX': '', 'metabolicATLAS': 'crvsm24', 'recon3d': 'crvsm24_e'}\n",
      "{'PubChem': '', 'KEGG': '', 'HMDB': '', 'ChEBI': '', 'MetaNetX': '', 'metabolicATLAS': 'csasulp', 'recon3d': 'csasulp_c'} {'PubChem': '', 'KEGG': '', 'HMDB': '', 'ChEBI': '', 'MetaNetX': '', 'metabolicATLAS': 'csasulp', 'recon3d': 'csasulp_e'}\n",
      "{'PubChem': '', 'KEGG': '', 'HMDB': '', 'ChEBI': '', 'MetaNetX': '', 'metabolicATLAS': 'csa', 'recon3d': 'csa_r'} {'PubChem': '', 'KEGG': '', 'HMDB': '', 'ChEBI': '', 'MetaNetX': '', 'metabolicATLAS': 'csa', 'recon3d': 'csa_e'}\n",
      "{'PubChem': '', 'KEGG': '', 'HMDB': '', 'ChEBI': '', 'MetaNetX': '', 'metabolicATLAS': 'cysacmp', 'recon3d': 'cysacmp_c'} {'PubChem': '', 'KEGG': '', 'HMDB': '', 'ChEBI': '', 'MetaNetX': '', 'metabolicATLAS': 'cysacmp', 'recon3d': 'cysacmp_e'}\n",
      "{'PubChem': '', 'KEGG': '', 'HMDB': '', 'ChEBI': '', 'MetaNetX': '', 'metabolicATLAS': 'crvsm31', 'recon3d': 'crvsm31_r'} {'PubChem': '', 'KEGG': '', 'HMDB': '', 'ChEBI': '', 'MetaNetX': '', 'metabolicATLAS': 'crvsm31', 'recon3d': 'crvsm31_c'}\n",
      "{'PubChem': '', 'KEGG': '', 'HMDB': '', 'ChEBI': '', 'MetaNetX': '', 'metabolicATLAS': 'fvs', 'recon3d': 'fvs_r'} {'PubChem': '', 'KEGG': '', 'HMDB': '', 'ChEBI': '', 'MetaNetX': '', 'metabolicATLAS': 'fvs', 'recon3d': 'fvs_x'}\n",
      "{'PubChem': '', 'KEGG': '', 'HMDB': '', 'ChEBI': '', 'MetaNetX': '', 'metabolicATLAS': 'deoxfvs', 'recon3d': 'deoxfvs_x'} {'PubChem': '', 'KEGG': '', 'HMDB': '', 'ChEBI': '', 'MetaNetX': '', 'metabolicATLAS': 'deoxfvs', 'recon3d': 'deoxfvs_c'}\n",
      "{'PubChem': '', 'KEGG': '', 'HMDB': '', 'ChEBI': '', 'MetaNetX': '', 'metabolicATLAS': 'deoxfvs', 'recon3d': 'deoxfvs_x'} {'PubChem': '', 'KEGG': '', 'HMDB': '', 'ChEBI': '', 'MetaNetX': '', 'metabolicATLAS': 'deoxfvs', 'recon3d': 'deoxfvs_e'}\n",
      "{'PubChem': '', 'KEGG': '', 'HMDB': '', 'ChEBI': '', 'MetaNetX': '', 'metabolicATLAS': 'desfvs', 'recon3d': 'desfvs_r'} {'PubChem': '', 'KEGG': '', 'HMDB': '', 'ChEBI': '', 'MetaNetX': '', 'metabolicATLAS': 'desfvs', 'recon3d': 'desfvs_c'}\n",
      "{'PubChem': '', 'KEGG': '', 'HMDB': '', 'ChEBI': '', 'MetaNetX': '', 'metabolicATLAS': 'desfvs', 'recon3d': 'desfvs_r'} {'PubChem': '', 'KEGG': '', 'HMDB': '', 'ChEBI': '', 'MetaNetX': '', 'metabolicATLAS': 'desfvs', 'recon3d': 'desfvs_e'}\n",
      "{'PubChem': '', 'KEGG': '', 'HMDB': '', 'ChEBI': '', 'MetaNetX': '', 'metabolicATLAS': 'dhglz', 'recon3d': 'dhglz_c'} {'PubChem': '', 'KEGG': '', 'HMDB': '', 'ChEBI': '', 'MetaNetX': '', 'metabolicATLAS': 'dhglz', 'recon3d': 'dhglz_e'}\n",
      "{'PubChem': '', 'KEGG': '', 'HMDB': '', 'ChEBI': '', 'MetaNetX': '', 'metabolicATLAS': 'glz', 'recon3d': 'glz_r'} {'PubChem': '', 'KEGG': '', 'HMDB': '', 'ChEBI': '', 'MetaNetX': '', 'metabolicATLAS': 'glz', 'recon3d': 'glz_c'}\n",
      "{'PubChem': '', 'KEGG': '', 'HMDB': '', 'ChEBI': '', 'MetaNetX': '', 'metabolicATLAS': 'dspvs', 'recon3d': 'dspvs_r'} {'PubChem': '', 'KEGG': '', 'HMDB': '', 'ChEBI': '', 'MetaNetX': '', 'metabolicATLAS': 'dspvs', 'recon3d': 'dspvs_c'}\n",
      "{'PubChem': '', 'KEGG': '', 'HMDB': '', 'ChEBI': '', 'MetaNetX': '', 'metabolicATLAS': 'dspvs', 'recon3d': 'dspvs_r'} {'PubChem': '', 'KEGG': '', 'HMDB': '', 'ChEBI': '', 'MetaNetX': '', 'metabolicATLAS': 'dspvs', 'recon3d': 'dspvs_e'}\n",
      "{'PubChem': '', 'KEGG': '', 'HMDB': '', 'ChEBI': '', 'MetaNetX': '', 'metabolicATLAS': 'epoxtac', 'recon3d': 'epoxtac_r'} {'PubChem': '', 'KEGG': '', 'HMDB': '', 'ChEBI': '', 'MetaNetX': '', 'metabolicATLAS': 'epoxtac', 'recon3d': 'epoxtac_c'}\n",
      "{'PubChem': '', 'KEGG': '', 'HMDB': '', 'ChEBI': '', 'MetaNetX': '', 'metabolicATLAS': 'epoxtac', 'recon3d': 'epoxtac_r'} {'PubChem': '', 'KEGG': '', 'HMDB': '', 'ChEBI': '', 'MetaNetX': '', 'metabolicATLAS': 'epoxtac', 'recon3d': 'epoxtac_e'}\n",
      "{'PubChem': '', 'KEGG': '', 'HMDB': '', 'ChEBI': '', 'MetaNetX': '', 'metabolicATLAS': 'fvs', 'recon3d': 'fvs_r'} {'PubChem': '', 'KEGG': '', 'HMDB': '', 'ChEBI': '', 'MetaNetX': '', 'metabolicATLAS': 'fvs', 'recon3d': 'fvs_e'}\n",
      "{'PubChem': '', 'KEGG': '', 'HMDB': '', 'ChEBI': '', 'MetaNetX': '', 'metabolicATLAS': 'glz', 'recon3d': 'glz_r'} {'PubChem': '', 'KEGG': '', 'HMDB': '', 'ChEBI': '', 'MetaNetX': '', 'metabolicATLAS': 'glz', 'recon3d': 'glz_e'}\n",
      "{'PubChem': '', 'KEGG': '', 'HMDB': '', 'ChEBI': '', 'MetaNetX': '', 'metabolicATLAS': 'mdz', 'recon3d': 'mdz_r'} {'PubChem': '', 'KEGG': '', 'HMDB': '', 'ChEBI': '', 'MetaNetX': '', 'metabolicATLAS': 'mdz', 'recon3d': 'mdz_e'}\n",
      "{'PubChem': '', 'KEGG': '', 'HMDB': '', 'ChEBI': '', 'MetaNetX': '', 'metabolicATLAS': 'meracmp', 'recon3d': 'meracmp_c'} {'PubChem': '', 'KEGG': '', 'HMDB': '', 'ChEBI': '', 'MetaNetX': '', 'metabolicATLAS': 'meracmp', 'recon3d': 'meracmp_e'}\n",
      "{'PubChem': '', 'KEGG': '', 'HMDB': '', 'ChEBI': '', 'MetaNetX': '', 'metabolicATLAS': 'mhglz', 'recon3d': 'mhglz_r'} {'PubChem': '', 'KEGG': '', 'HMDB': '', 'ChEBI': '', 'MetaNetX': '', 'metabolicATLAS': 'mhglz', 'recon3d': 'mhglz_e'}\n",
      "{'PubChem': '', 'KEGG': '', 'HMDB': '', 'ChEBI': '', 'MetaNetX': '', 'metabolicATLAS': 'oxyp', 'recon3d': 'oxyp_c'} {'PubChem': '', 'KEGG': '', 'HMDB': '', 'ChEBI': '', 'MetaNetX': '', 'metabolicATLAS': 'oxyp', 'recon3d': 'oxyp_e'}\n",
      "{'PubChem': '', 'KEGG': '', 'HMDB': '', 'ChEBI': '', 'MetaNetX': '', 'metabolicATLAS': 'pvs', 'recon3d': 'pvs_r'} {'PubChem': '', 'KEGG': '', 'HMDB': '', 'ChEBI': '', 'MetaNetX': '', 'metabolicATLAS': 'pvs', 'recon3d': 'pvs_e'}\n",
      "{'PubChem': '', 'KEGG': '', 'HMDB': '', 'ChEBI': '', 'MetaNetX': '', 'metabolicATLAS': 'smv', 'recon3d': 'smv_r'} {'PubChem': '', 'KEGG': '', 'HMDB': '', 'ChEBI': '', 'MetaNetX': '', 'metabolicATLAS': 'smv', 'recon3d': 'smv_e'}\n",
      "{'PubChem': '', 'KEGG': '', 'HMDB': '', 'ChEBI': '', 'MetaNetX': '', 'metabolicATLAS': 'sulpacmp', 'recon3d': 'sulpacmp_c'} {'PubChem': '', 'KEGG': '', 'HMDB': '', 'ChEBI': '', 'MetaNetX': '', 'metabolicATLAS': 'sulpacmp', 'recon3d': 'sulpacmp_e'}\n",
      "{'PubChem': '', 'KEGG': '', 'HMDB': '', 'ChEBI': '', 'MetaNetX': '', 'metabolicATLAS': 'tacr', 'recon3d': 'tacr_r'} {'PubChem': '', 'KEGG': '', 'HMDB': '', 'ChEBI': '', 'MetaNetX': '', 'metabolicATLAS': 'tacr', 'recon3d': 'tacr_e'}\n",
      "{'PubChem': '', 'KEGG': '', 'HMDB': '', 'ChEBI': '', 'MetaNetX': '', 'metabolicATLAS': 'tripvs', 'recon3d': 'tripvs_r'} {'PubChem': '', 'KEGG': '', 'HMDB': '', 'ChEBI': '', 'MetaNetX': '', 'metabolicATLAS': 'tripvs', 'recon3d': 'tripvs_e'}\n",
      "{'PubChem': '', 'KEGG': '', 'HMDB': '', 'ChEBI': '', 'MetaNetX': '', 'metabolicATLAS': 'fvstet', 'recon3d': 'fvstet_e'} {'PubChem': '', 'KEGG': '', 'HMDB': '', 'ChEBI': '', 'MetaNetX': '', 'metabolicATLAS': 'fvstet', 'recon3d': 'fvstet_r'}\n",
      "{'PubChem': '', 'KEGG': '', 'HMDB': '', 'ChEBI': '', 'MetaNetX': '', 'metabolicATLAS': 'fvstetglu', 'recon3d': 'fvstetglu_e'} {'PubChem': '', 'KEGG': '', 'HMDB': '', 'ChEBI': '', 'MetaNetX': '', 'metabolicATLAS': 'fvstetglu', 'recon3d': 'fvstetglu_r'}\n",
      "{'PubChem': '', 'KEGG': '', 'HMDB': '', 'ChEBI': '', 'MetaNetX': '', 'metabolicATLAS': 'fvstetglu', 'recon3d': 'fvstetglu_e'} {'PubChem': '', 'KEGG': '', 'HMDB': '', 'ChEBI': '', 'MetaNetX': '', 'metabolicATLAS': 'fvstetglu', 'recon3d': 'fvstetglu_c'}\n",
      "{'PubChem': '', 'KEGG': '', 'HMDB': '', 'ChEBI': '', 'MetaNetX': '', 'metabolicATLAS': 'fvstet', 'recon3d': 'fvstet_e'} {'PubChem': '', 'KEGG': '', 'HMDB': '', 'ChEBI': '', 'MetaNetX': '', 'metabolicATLAS': 'fvstet', 'recon3d': 'fvstet_c'}\n",
      "{'PubChem': '', 'KEGG': '', 'HMDB': '', 'ChEBI': '', 'MetaNetX': '', 'metabolicATLAS': 'tlacfvs', 'recon3d': 'tlacfvs_e'} {'PubChem': '', 'KEGG': '', 'HMDB': '', 'ChEBI': '', 'MetaNetX': '', 'metabolicATLAS': 'tlacfvs', 'recon3d': 'tlacfvs_r'}\n",
      "{'PubChem': '', 'KEGG': '', 'HMDB': '', 'ChEBI': '', 'MetaNetX': '', 'metabolicATLAS': 'fvs', 'recon3d': 'fvs_r'} {'PubChem': '', 'KEGG': '', 'HMDB': '', 'ChEBI': '', 'MetaNetX': '', 'metabolicATLAS': 'fvs', 'recon3d': 'fvs_c'}\n",
      "{'PubChem': '', 'KEGG': '', 'HMDB': '', 'ChEBI': '', 'MetaNetX': '', 'metabolicATLAS': '3meacmp', 'recon3d': '3meacmp_c'} {'PubChem': '', 'KEGG': '', 'HMDB': '', 'ChEBI': '', 'MetaNetX': '', 'metabolicATLAS': '3meacmp', 'recon3d': '3meacmp_r'}\n",
      "{'PubChem': '', 'KEGG': '', 'HMDB': '', 'ChEBI': '', 'MetaNetX': '', 'metabolicATLAS': 'glc3meacp', 'recon3d': 'glc3meacp_e'} {'PubChem': '', 'KEGG': '', 'HMDB': '', 'ChEBI': '', 'MetaNetX': '', 'metabolicATLAS': 'glc3meacp', 'recon3d': 'glc3meacp_r'}\n",
      "{'PubChem': '', 'KEGG': '', 'HMDB': '', 'ChEBI': '', 'MetaNetX': '', 'metabolicATLAS': 'glc3meacp', 'recon3d': 'glc3meacp_e'} {'PubChem': '', 'KEGG': '', 'HMDB': '', 'ChEBI': '', 'MetaNetX': '', 'metabolicATLAS': 'glc3meacp', 'recon3d': 'glc3meacp_c'}\n",
      "{'PubChem': '', 'KEGG': '', 'HMDB': '', 'ChEBI': '', 'MetaNetX': '', 'metabolicATLAS': 'gtacmp', 'recon3d': 'gtacmp_e'} {'PubChem': '', 'KEGG': '', 'HMDB': '', 'ChEBI': '', 'MetaNetX': '', 'metabolicATLAS': 'gtacmp', 'recon3d': 'gtacmp_r'}\n",
      "{'PubChem': '', 'KEGG': '', 'HMDB': '', 'ChEBI': '', 'MetaNetX': '', 'metabolicATLAS': 'gtacmp', 'recon3d': 'gtacmp_e'} {'PubChem': '', 'KEGG': '', 'HMDB': '', 'ChEBI': '', 'MetaNetX': '', 'metabolicATLAS': 'gtacmp', 'recon3d': 'gtacmp_c'}\n",
      "{'PubChem': '', 'KEGG': '', 'HMDB': '', 'ChEBI': '', 'MetaNetX': '', 'metabolicATLAS': 'ibupgluc', 'recon3d': 'ibupgluc_e'} {'PubChem': '', 'KEGG': '', 'HMDB': '', 'ChEBI': '', 'MetaNetX': '', 'metabolicATLAS': 'ibupgluc', 'recon3d': 'ibupgluc_c'}\n",
      "{'PubChem': '', 'KEGG': '', 'HMDB': '', 'ChEBI': '', 'MetaNetX': '', 'metabolicATLAS': 'ibup_S', 'recon3d': 'ibup_S_e'} {'PubChem': '', 'KEGG': '', 'HMDB': '', 'ChEBI': '', 'MetaNetX': '', 'metabolicATLAS': 'ibup_S', 'recon3d': 'ibup_S_r'}\n",
      "{'PubChem': '', 'KEGG': '', 'HMDB': '', 'ChEBI': '', 'MetaNetX': '', 'metabolicATLAS': 'ibupgluc', 'recon3d': 'ibupgluc_e'} {'PubChem': '', 'KEGG': '', 'HMDB': '', 'ChEBI': '', 'MetaNetX': '', 'metabolicATLAS': 'ibupgluc', 'recon3d': 'ibupgluc_r'}\n",
      "{'PubChem': '', 'KEGG': '', 'HMDB': '', 'ChEBI': '', 'MetaNetX': '', 'metabolicATLAS': 'ibup_R', 'recon3d': 'ibup_R_e'} {'PubChem': '', 'KEGG': '', 'HMDB': '', 'ChEBI': '', 'MetaNetX': '', 'metabolicATLAS': 'ibup_R', 'recon3d': 'ibup_R_c'}\n",
      "{'PubChem': '', 'KEGG': '', 'HMDB': '', 'ChEBI': '', 'MetaNetX': '', 'metabolicATLAS': 'ibup_R', 'recon3d': 'ibup_R_e'} {'PubChem': '', 'KEGG': '', 'HMDB': '', 'ChEBI': '', 'MetaNetX': '', 'metabolicATLAS': 'ibup_R', 'recon3d': 'ibup_R_r'}\n",
      "{'PubChem': '', 'KEGG': '', 'HMDB': '', 'ChEBI': '', 'MetaNetX': '', 'metabolicATLAS': '2hibup_R', 'recon3d': '2hibup_R_c'} {'PubChem': '', 'KEGG': '', 'HMDB': '', 'ChEBI': '', 'MetaNetX': '', 'metabolicATLAS': '2hibup_R', 'recon3d': '2hibup_R_r'}\n",
      "{'PubChem': '', 'KEGG': '', 'HMDB': '', 'ChEBI': '', 'MetaNetX': '', 'metabolicATLAS': '3hibup_R', 'recon3d': '3hibup_R_c'} {'PubChem': '', 'KEGG': '', 'HMDB': '', 'ChEBI': '', 'MetaNetX': '', 'metabolicATLAS': '3hibup_R', 'recon3d': '3hibup_R_r'}\n",
      "{'PubChem': '', 'KEGG': '', 'HMDB': '', 'ChEBI': '', 'MetaNetX': '', 'metabolicATLAS': 'ibup_S', 'recon3d': 'ibup_S_e'} {'PubChem': '', 'KEGG': '', 'HMDB': '', 'ChEBI': '', 'MetaNetX': '', 'metabolicATLAS': 'ibup_S', 'recon3d': 'ibup_S_c'}\n",
      "{'PubChem': '', 'KEGG': '', 'HMDB': '', 'ChEBI': '', 'MetaNetX': '', 'metabolicATLAS': 'tauribup_S', 'recon3d': 'tauribup_S_e'} {'PubChem': '', 'KEGG': '', 'HMDB': '', 'ChEBI': '', 'MetaNetX': '', 'metabolicATLAS': 'tauribup_S', 'recon3d': 'tauribup_S_c'}\n",
      "{'PubChem': '', 'KEGG': '', 'HMDB': '', 'ChEBI': '', 'MetaNetX': '', 'metabolicATLAS': 'isolvstacid', 'recon3d': 'isolvstacid_e'} {'PubChem': '', 'KEGG': '', 'HMDB': '', 'ChEBI': '', 'MetaNetX': '', 'metabolicATLAS': 'isolvstacid', 'recon3d': 'isolvstacid_c'}\n",
      "{'PubChem': '', 'KEGG': '', 'HMDB': '', 'ChEBI': '', 'MetaNetX': '', 'metabolicATLAS': 'lst4exp', 'recon3d': 'lst4exp_e'} {'PubChem': '', 'KEGG': '', 'HMDB': '', 'ChEBI': '', 'MetaNetX': '', 'metabolicATLAS': 'lst4exp', 'recon3d': 'lst4exp_c'}\n",
      "{'PubChem': '', 'KEGG': '', 'HMDB': '', 'ChEBI': '', 'MetaNetX': '', 'metabolicATLAS': 'lstn', 'recon3d': 'lstn_e'} {'PubChem': '', 'KEGG': '', 'HMDB': '', 'ChEBI': '', 'MetaNetX': '', 'metabolicATLAS': 'lstn', 'recon3d': 'lstn_r'}\n",
      "{'PubChem': '', 'KEGG': '', 'HMDB': '', 'ChEBI': '', 'MetaNetX': '', 'metabolicATLAS': 'lst4exp', 'recon3d': 'lst4exp_e'} {'PubChem': '', 'KEGG': '', 'HMDB': '', 'ChEBI': '', 'MetaNetX': '', 'metabolicATLAS': 'lst4exp', 'recon3d': 'lst4exp_r'}\n",
      "{'PubChem': '', 'KEGG': '', 'HMDB': '', 'ChEBI': '', 'MetaNetX': '', 'metabolicATLAS': 'lstn1gluc', 'recon3d': 'lstn1gluc_e'} {'PubChem': '', 'KEGG': '', 'HMDB': '', 'ChEBI': '', 'MetaNetX': '', 'metabolicATLAS': 'lstn1gluc', 'recon3d': 'lstn1gluc_r'}\n",
      "{'PubChem': '', 'KEGG': '', 'HMDB': '', 'ChEBI': '', 'MetaNetX': '', 'metabolicATLAS': 'lstn1gluc', 'recon3d': 'lstn1gluc_e'} {'PubChem': '', 'KEGG': '', 'HMDB': '', 'ChEBI': '', 'MetaNetX': '', 'metabolicATLAS': 'lstn1gluc', 'recon3d': 'lstn1gluc_c'}\n",
      "{'PubChem': '', 'KEGG': '', 'HMDB': '', 'ChEBI': '', 'MetaNetX': '', 'metabolicATLAS': 'lstn', 'recon3d': 'lstn_e'} {'PubChem': '', 'KEGG': '', 'HMDB': '', 'ChEBI': '', 'MetaNetX': '', 'metabolicATLAS': 'lstn', 'recon3d': 'lstn_c'}\n",
      "{'PubChem': '', 'KEGG': '', 'HMDB': '', 'ChEBI': '', 'MetaNetX': '', 'metabolicATLAS': 'lstnm1', 'recon3d': 'lstnm1_e'} {'PubChem': '', 'KEGG': '', 'HMDB': '', 'ChEBI': '', 'MetaNetX': '', 'metabolicATLAS': 'lstnm1', 'recon3d': 'lstnm1_r'}\n",
      "{'PubChem': '', 'KEGG': '', 'HMDB': '', 'ChEBI': '', 'MetaNetX': '', 'metabolicATLAS': 'lstnm1', 'recon3d': 'lstnm1_e'} {'PubChem': '', 'KEGG': '', 'HMDB': '', 'ChEBI': '', 'MetaNetX': '', 'metabolicATLAS': 'lstnm1', 'recon3d': 'lstnm1_c'}\n",
      "{'PubChem': '', 'KEGG': '', 'HMDB': '', 'ChEBI': '', 'MetaNetX': '', 'metabolicATLAS': 'lstnm2', 'recon3d': 'lstnm2_e'} {'PubChem': '', 'KEGG': '', 'HMDB': '', 'ChEBI': '', 'MetaNetX': '', 'metabolicATLAS': 'lstnm2', 'recon3d': 'lstnm2_r'}\n",
      "{'PubChem': '', 'KEGG': '', 'HMDB': '', 'ChEBI': '', 'MetaNetX': '', 'metabolicATLAS': 'lstnm2', 'recon3d': 'lstnm2_e'} {'PubChem': '', 'KEGG': '', 'HMDB': '', 'ChEBI': '', 'MetaNetX': '', 'metabolicATLAS': 'lstnm2', 'recon3d': 'lstnm2_c'}\n",
      "{'PubChem': '', 'KEGG': '', 'HMDB': '', 'ChEBI': '', 'MetaNetX': '', 'metabolicATLAS': 'lstnm4', 'recon3d': 'lstnm4_e'} {'PubChem': '', 'KEGG': '', 'HMDB': '', 'ChEBI': '', 'MetaNetX': '', 'metabolicATLAS': 'lstnm4', 'recon3d': 'lstnm4_r'}\n",
      "{'PubChem': '', 'KEGG': '', 'HMDB': '', 'ChEBI': '', 'MetaNetX': '', 'metabolicATLAS': 'lstnm4', 'recon3d': 'lstnm4_e'} {'PubChem': '', 'KEGG': '', 'HMDB': '', 'ChEBI': '', 'MetaNetX': '', 'metabolicATLAS': 'lstnm4', 'recon3d': 'lstnm4_c'}\n",
      "{'PubChem': '', 'KEGG': '', 'HMDB': '', 'ChEBI': '', 'MetaNetX': '', 'metabolicATLAS': 'lstnm5', 'recon3d': 'lstnm5_e'} {'PubChem': '', 'KEGG': '', 'HMDB': '', 'ChEBI': '', 'MetaNetX': '', 'metabolicATLAS': 'lstnm5', 'recon3d': 'lstnm5_r'}\n",
      "{'PubChem': '', 'KEGG': '', 'HMDB': '', 'ChEBI': '', 'MetaNetX': '', 'metabolicATLAS': 'lstnm5', 'recon3d': 'lstnm5_e'} {'PubChem': '', 'KEGG': '', 'HMDB': '', 'ChEBI': '', 'MetaNetX': '', 'metabolicATLAS': 'lstnm5', 'recon3d': 'lstnm5_c'}\n",
      "{'PubChem': '', 'KEGG': '', 'HMDB': '', 'ChEBI': '', 'MetaNetX': '', 'metabolicATLAS': 'lstnm7', 'recon3d': 'lstnm7_e'} {'PubChem': '', 'KEGG': '', 'HMDB': '', 'ChEBI': '', 'MetaNetX': '', 'metabolicATLAS': 'lstnm7', 'recon3d': 'lstnm7_c'}\n",
      "{'PubChem': '', 'KEGG': '', 'HMDB': '', 'ChEBI': '', 'MetaNetX': '', 'metabolicATLAS': 'lstnm7', 'recon3d': 'lstnm7_e'} {'PubChem': '', 'KEGG': '', 'HMDB': '', 'ChEBI': '', 'MetaNetX': '', 'metabolicATLAS': 'lstnm7', 'recon3d': 'lstnm7_r'}\n",
      "{'PubChem': '', 'KEGG': '', 'HMDB': '', 'ChEBI': '', 'MetaNetX': '', 'metabolicATLAS': 'lvst', 'recon3d': 'lvst_e'} {'PubChem': '', 'KEGG': '', 'HMDB': '', 'ChEBI': '', 'MetaNetX': '', 'metabolicATLAS': 'lvst', 'recon3d': 'lvst_c'}\n",
      "{'PubChem': '', 'KEGG': '', 'HMDB': '', 'ChEBI': '', 'MetaNetX': '', 'metabolicATLAS': 'lvstacid', 'recon3d': 'lvstacid_c'} {'PubChem': '', 'KEGG': '', 'HMDB': '', 'ChEBI': '', 'MetaNetX': '', 'metabolicATLAS': 'lvstacid', 'recon3d': 'lvstacid_e'}\n",
      "{'PubChem': '', 'KEGG': '', 'HMDB': '', 'ChEBI': '', 'MetaNetX': '', 'metabolicATLAS': 'lvstacid', 'recon3d': 'lvstacid_c'} {'PubChem': '', 'KEGG': '', 'HMDB': '', 'ChEBI': '', 'MetaNetX': '', 'metabolicATLAS': 'lvstacid', 'recon3d': 'lvstacid_r'}\n",
      "{'PubChem': '', 'KEGG': '', 'HMDB': '', 'ChEBI': '', 'MetaNetX': '', 'metabolicATLAS': '6hlvstacid', 'recon3d': '6hlvstacid_c'} {'PubChem': '', 'KEGG': '', 'HMDB': '', 'ChEBI': '', 'MetaNetX': '', 'metabolicATLAS': '6hlvstacid', 'recon3d': '6hlvstacid_r'}\n",
      "{'PubChem': '', 'KEGG': '', 'HMDB': '', 'ChEBI': '', 'MetaNetX': '', 'metabolicATLAS': '6melvacid', 'recon3d': '6melvacid_c'} {'PubChem': '', 'KEGG': '', 'HMDB': '', 'ChEBI': '', 'MetaNetX': '', 'metabolicATLAS': '6melvacid', 'recon3d': '6melvacid_r'}\n",
      "{'PubChem': '', 'KEGG': '', 'HMDB': '', 'ChEBI': '', 'MetaNetX': '', 'metabolicATLAS': 'lvst', 'recon3d': 'lvst_e'} {'PubChem': '', 'KEGG': '', 'HMDB': '', 'ChEBI': '', 'MetaNetX': '', 'metabolicATLAS': 'lvst', 'recon3d': 'lvst_r'}\n",
      "{'PubChem': '', 'KEGG': '', 'HMDB': '', 'ChEBI': '', 'MetaNetX': '', 'metabolicATLAS': '3hlvst', 'recon3d': '3hlvst_c'} {'PubChem': '', 'KEGG': '', 'HMDB': '', 'ChEBI': '', 'MetaNetX': '', 'metabolicATLAS': '3hlvst', 'recon3d': '3hlvst_r'}\n",
      "{'PubChem': '', 'KEGG': '', 'HMDB': '', 'ChEBI': '', 'MetaNetX': '', 'metabolicATLAS': '6hlvst', 'recon3d': '6hlvst_c'} {'PubChem': '', 'KEGG': '', 'HMDB': '', 'ChEBI': '', 'MetaNetX': '', 'metabolicATLAS': '6hlvst', 'recon3d': '6hlvst_r'}\n",
      "{'PubChem': '', 'KEGG': '', 'HMDB': '', 'ChEBI': '', 'MetaNetX': '', 'metabolicATLAS': '6melvst', 'recon3d': '6melvst_c'} {'PubChem': '', 'KEGG': '', 'HMDB': '', 'ChEBI': '', 'MetaNetX': '', 'metabolicATLAS': '6melvst', 'recon3d': '6melvst_r'}\n",
      "{'PubChem': '', 'KEGG': '', 'HMDB': '', 'ChEBI': '', 'MetaNetX': '', 'metabolicATLAS': 'mdzglc', 'recon3d': 'mdzglc_e'} {'PubChem': '', 'KEGG': '', 'HMDB': '', 'ChEBI': '', 'MetaNetX': '', 'metabolicATLAS': 'mdzglc', 'recon3d': 'mdzglc_c'}\n",
      "{'PubChem': '', 'KEGG': '', 'HMDB': '', 'ChEBI': '', 'MetaNetX': '', 'metabolicATLAS': 'mdz', 'recon3d': 'mdz_r'} {'PubChem': '', 'KEGG': '', 'HMDB': '', 'ChEBI': '', 'MetaNetX': '', 'metabolicATLAS': 'mdz', 'recon3d': 'mdz_c'}\n",
      "{'PubChem': '', 'KEGG': '', 'HMDB': '', 'ChEBI': '', 'MetaNetX': '', 'metabolicATLAS': 'mhglz', 'recon3d': 'mhglz_r'} {'PubChem': '', 'KEGG': '', 'HMDB': '', 'ChEBI': '', 'MetaNetX': '', 'metabolicATLAS': 'mhglz', 'recon3d': 'mhglz_c'}\n",
      "{'PubChem': '', 'KEGG': '', 'HMDB': '', 'ChEBI': '', 'MetaNetX': '', 'metabolicATLAS': 'rsv', 'recon3d': 'rsv_e'} {'PubChem': '', 'KEGG': '', 'HMDB': '', 'ChEBI': '', 'MetaNetX': '', 'metabolicATLAS': 'rsv', 'recon3d': 'rsv_r'}\n",
      "{'PubChem': '', 'KEGG': '', 'HMDB': '', 'ChEBI': '', 'MetaNetX': '', 'metabolicATLAS': 'ndersv', 'recon3d': 'ndersv_e'} {'PubChem': '', 'KEGG': '', 'HMDB': '', 'ChEBI': '', 'MetaNetX': '', 'metabolicATLAS': 'ndersv', 'recon3d': 'ndersv_r'}\n",
      "{'PubChem': '', 'KEGG': '', 'HMDB': '', 'ChEBI': '', 'MetaNetX': '', 'metabolicATLAS': 'ndersv', 'recon3d': 'ndersv_e'} {'PubChem': '', 'KEGG': '', 'HMDB': '', 'ChEBI': '', 'MetaNetX': '', 'metabolicATLAS': 'ndersv', 'recon3d': 'ndersv_c'}\n",
      "{'PubChem': '', 'KEGG': '', 'HMDB': '', 'ChEBI': '', 'MetaNetX': '', 'metabolicATLAS': 'nfdac', 'recon3d': 'nfdac_e'} {'PubChem': '', 'KEGG': '', 'HMDB': '', 'ChEBI': '', 'MetaNetX': '', 'metabolicATLAS': 'nfdac', 'recon3d': 'nfdac_r'}\n",
      "{'PubChem': '', 'KEGG': '', 'HMDB': '', 'ChEBI': '', 'MetaNetX': '', 'metabolicATLAS': 'nfdoh', 'recon3d': 'nfdoh_e'} {'PubChem': '', 'KEGG': '', 'HMDB': '', 'ChEBI': '', 'MetaNetX': '', 'metabolicATLAS': 'nfdoh', 'recon3d': 'nfdoh_r'}\n",
      "{'PubChem': '', 'KEGG': '', 'HMDB': '', 'ChEBI': '', 'MetaNetX': '', 'metabolicATLAS': 'nfdac', 'recon3d': 'nfdac_e'} {'PubChem': '', 'KEGG': '', 'HMDB': '', 'ChEBI': '', 'MetaNetX': '', 'metabolicATLAS': 'nfdac', 'recon3d': 'nfdac_c'}\n",
      "{'PubChem': '', 'KEGG': '', 'HMDB': '', 'ChEBI': '', 'MetaNetX': '', 'metabolicATLAS': 'nfdnpy', 'recon3d': 'nfdnpy_e'} {'PubChem': '', 'KEGG': '', 'HMDB': '', 'ChEBI': '', 'MetaNetX': '', 'metabolicATLAS': 'nfdnpy', 'recon3d': 'nfdnpy_r'}\n",
      "{'PubChem': '', 'KEGG': '', 'HMDB': '', 'ChEBI': '', 'MetaNetX': '', 'metabolicATLAS': 'nfdoh', 'recon3d': 'nfdoh_e'} {'PubChem': '', 'KEGG': '', 'HMDB': '', 'ChEBI': '', 'MetaNetX': '', 'metabolicATLAS': 'nfdoh', 'recon3d': 'nfdoh_c'}\n",
      "{'PubChem': '', 'KEGG': '', 'HMDB': '', 'ChEBI': '', 'MetaNetX': '', 'metabolicATLAS': 'nfdlac', 'recon3d': 'nfdlac_e'} {'PubChem': '', 'KEGG': '', 'HMDB': '', 'ChEBI': '', 'MetaNetX': '', 'metabolicATLAS': 'nfdlac', 'recon3d': 'nfdlac_c'}\n",
      "{'PubChem': '', 'KEGG': '', 'HMDB': '', 'ChEBI': '', 'MetaNetX': '', 'metabolicATLAS': 'nfdnpy', 'recon3d': 'nfdnpy_e'} {'PubChem': '', 'KEGG': '', 'HMDB': '', 'ChEBI': '', 'MetaNetX': '', 'metabolicATLAS': 'nfdnpy', 'recon3d': 'nfdnpy_c'}\n",
      "{'PubChem': '', 'KEGG': '', 'HMDB': '', 'ChEBI': '', 'MetaNetX': '', 'metabolicATLAS': 'nfd', 'recon3d': 'nfd_e'} {'PubChem': '', 'KEGG': '', 'HMDB': '', 'ChEBI': '', 'MetaNetX': '', 'metabolicATLAS': 'nfd', 'recon3d': 'nfd_c'}\n",
      "{'PubChem': '', 'KEGG': '', 'HMDB': '', 'ChEBI': '', 'MetaNetX': '', 'metabolicATLAS': 'oxy1rb', 'recon3d': 'oxy1rb_e'} {'PubChem': '', 'KEGG': '', 'HMDB': '', 'ChEBI': '', 'MetaNetX': '', 'metabolicATLAS': 'oxy1rb', 'recon3d': 'oxy1rb_c'}\n",
      "{'PubChem': '6336410', 'KEGG': '', 'HMDB': '', 'ChEBI': '', 'MetaNetX': '', 'metabolicATLAS': 'oxy7rb', 'recon3d': 'oxy7rb_e'} {'PubChem': '6336410', 'KEGG': '', 'HMDB': '', 'ChEBI': '', 'MetaNetX': '', 'metabolicATLAS': 'oxy7rb', 'recon3d': 'oxy7rb_c'}\n",
      "{'PubChem': '', 'KEGG': '', 'HMDB': '', 'ChEBI': '', 'MetaNetX': '', 'metabolicATLAS': 'profvscoa', 'recon3d': 'profvscoa_x'} {'PubChem': '', 'KEGG': '', 'HMDB': '', 'ChEBI': '', 'MetaNetX': '', 'metabolicATLAS': 'profvscoa', 'recon3d': 'profvscoa_c'}\n",
      "{'PubChem': '', 'KEGG': '', 'HMDB': '', 'ChEBI': '', 'MetaNetX': '', 'metabolicATLAS': 'profvs', 'recon3d': 'profvs_e'} {'PubChem': '', 'KEGG': '', 'HMDB': '', 'ChEBI': '', 'MetaNetX': '', 'metabolicATLAS': 'profvs', 'recon3d': 'profvs_c'}\n",
      "{'PubChem': '', 'KEGG': '', 'HMDB': '', 'ChEBI': '', 'MetaNetX': '', 'metabolicATLAS': 'ptvst', 'recon3d': 'ptvst_e'} {'PubChem': '', 'KEGG': '', 'HMDB': '', 'ChEBI': '', 'MetaNetX': '', 'metabolicATLAS': 'ptvst', 'recon3d': 'ptvst_c'}\n",
      "{'PubChem': '', 'KEGG': '', 'HMDB': '', 'ChEBI': '', 'MetaNetX': '', 'metabolicATLAS': 'ptvst', 'recon3d': 'ptvst_e'} {'PubChem': '', 'KEGG': '', 'HMDB': '', 'ChEBI': '', 'MetaNetX': '', 'metabolicATLAS': 'ptvst', 'recon3d': 'ptvst_r'}\n",
      "{'PubChem': '', 'KEGG': '', 'HMDB': '', 'ChEBI': '', 'MetaNetX': '', 'metabolicATLAS': 'ptvstlac', 'recon3d': 'ptvstlac_e'} {'PubChem': '', 'KEGG': '', 'HMDB': '', 'ChEBI': '', 'MetaNetX': '', 'metabolicATLAS': 'ptvstlac', 'recon3d': 'ptvstlac_r'}\n",
      "{'PubChem': '', 'KEGG': '', 'HMDB': '', 'ChEBI': '', 'MetaNetX': '', 'metabolicATLAS': 'ptvstlac', 'recon3d': 'ptvstlac_e'} {'PubChem': '', 'KEGG': '', 'HMDB': '', 'ChEBI': '', 'MetaNetX': '', 'metabolicATLAS': 'ptvstlac', 'recon3d': 'ptvstlac_c'}\n",
      "{'PubChem': '', 'KEGG': '', 'HMDB': '', 'ChEBI': '', 'MetaNetX': '', 'metabolicATLAS': 'ptvstm3', 'recon3d': 'ptvstm3_e'} {'PubChem': '', 'KEGG': '', 'HMDB': '', 'ChEBI': '', 'MetaNetX': '', 'metabolicATLAS': 'ptvstm3', 'recon3d': 'ptvstm3_c'}\n",
      "{'PubChem': '', 'KEGG': '', 'HMDB': '', 'ChEBI': '', 'MetaNetX': '', 'metabolicATLAS': 'ptvstm3', 'recon3d': 'ptvstm3_e'} {'PubChem': '', 'KEGG': '', 'HMDB': '', 'ChEBI': '', 'MetaNetX': '', 'metabolicATLAS': 'ptvstm3', 'recon3d': 'ptvstm3_r'}\n",
      "{'PubChem': '', 'KEGG': '', 'HMDB': '', 'ChEBI': '', 'MetaNetX': '', 'metabolicATLAS': 'pvsgluc', 'recon3d': 'pvsgluc_e'} {'PubChem': '', 'KEGG': '', 'HMDB': '', 'ChEBI': '', 'MetaNetX': '', 'metabolicATLAS': 'pvsgluc', 'recon3d': 'pvsgluc_r'}\n",
      "{'PubChem': '', 'KEGG': '', 'HMDB': '', 'ChEBI': '', 'MetaNetX': '', 'metabolicATLAS': 'pvsgluc', 'recon3d': 'pvsgluc_e'} {'PubChem': '', 'KEGG': '', 'HMDB': '', 'ChEBI': '', 'MetaNetX': '', 'metabolicATLAS': 'pvsgluc', 'recon3d': 'pvsgluc_c'}\n",
      "{'PubChem': '', 'KEGG': '', 'HMDB': '', 'ChEBI': '', 'MetaNetX': '', 'metabolicATLAS': 'rsv', 'recon3d': 'rsv_e'} {'PubChem': '', 'KEGG': '', 'HMDB': '', 'ChEBI': '', 'MetaNetX': '', 'metabolicATLAS': 'rsv', 'recon3d': 'rsv_c'}\n",
      "{'PubChem': '', 'KEGG': '', 'HMDB': '', 'ChEBI': '', 'MetaNetX': '', 'metabolicATLAS': 'rsvlac', 'recon3d': 'rsvlac_e'} {'PubChem': '', 'KEGG': '', 'HMDB': '', 'ChEBI': '', 'MetaNetX': '', 'metabolicATLAS': 'rsvlac', 'recon3d': 'rsvlac_r'}\n",
      "{'PubChem': '', 'KEGG': '', 'HMDB': '', 'ChEBI': '', 'MetaNetX': '', 'metabolicATLAS': 'rsvlac', 'recon3d': 'rsvlac_e'} {'PubChem': '', 'KEGG': '', 'HMDB': '', 'ChEBI': '', 'MetaNetX': '', 'metabolicATLAS': 'rsvlac', 'recon3d': 'rsvlac_c'}\n",
      "{'PubChem': '', 'KEGG': '', 'HMDB': '', 'ChEBI': '', 'MetaNetX': '', 'metabolicATLAS': 's3meacmp', 'recon3d': 's3meacmp_e'} {'PubChem': '', 'KEGG': '', 'HMDB': '', 'ChEBI': '', 'MetaNetX': '', 'metabolicATLAS': 's3meacmp', 'recon3d': 's3meacmp_c'}\n",
      "{'PubChem': '', 'KEGG': '', 'HMDB': '', 'ChEBI': '', 'MetaNetX': '', 'metabolicATLAS': 'smvacid', 'recon3d': 'smvacid_e'} {'PubChem': '', 'KEGG': '', 'HMDB': '', 'ChEBI': '', 'MetaNetX': '', 'metabolicATLAS': 'smvacid', 'recon3d': 'smvacid_c'}\n",
      "{'PubChem': '', 'KEGG': '', 'HMDB': '', 'ChEBI': '', 'MetaNetX': '', 'metabolicATLAS': 'smvacid', 'recon3d': 'smvacid_e'} {'PubChem': '', 'KEGG': '', 'HMDB': '', 'ChEBI': '', 'MetaNetX': '', 'metabolicATLAS': 'smvacid', 'recon3d': 'smvacid_r'}\n",
      "{'PubChem': '', 'KEGG': '', 'HMDB': '', 'ChEBI': '', 'MetaNetX': '', 'metabolicATLAS': 'smv', 'recon3d': 'smv_r'} {'PubChem': '', 'KEGG': '', 'HMDB': '', 'ChEBI': '', 'MetaNetX': '', 'metabolicATLAS': 'smv', 'recon3d': 'smv_c'}\n",
      "{'PubChem': '', 'KEGG': '', 'HMDB': '', 'ChEBI': '', 'MetaNetX': '', 'metabolicATLAS': 'tmacmp', 'recon3d': 'tmacmp_r'} {'PubChem': '', 'KEGG': '', 'HMDB': '', 'ChEBI': '', 'MetaNetX': '', 'metabolicATLAS': 'tmacmp', 'recon3d': 'tmacmp_c'}\n",
      "{'PubChem': '', 'KEGG': '', 'HMDB': '', 'ChEBI': '', 'MetaNetX': '', 'metabolicATLAS': 'stacmp', 'recon3d': 'stacmp_e'} {'PubChem': '', 'KEGG': '', 'HMDB': '', 'ChEBI': '', 'MetaNetX': '', 'metabolicATLAS': 'stacmp', 'recon3d': 'stacmp_c'}\n",
      "{'PubChem': '', 'KEGG': '', 'HMDB': '', 'ChEBI': '', 'MetaNetX': '', 'metabolicATLAS': 'tacr', 'recon3d': 'tacr_r'} {'PubChem': '', 'KEGG': '', 'HMDB': '', 'ChEBI': '', 'MetaNetX': '', 'metabolicATLAS': 'tacr', 'recon3d': 'tacr_c'}\n",
      "{'PubChem': '', 'KEGG': '', 'HMDB': '', 'ChEBI': '', 'MetaNetX': '', 'metabolicATLAS': 'thrfvs', 'recon3d': 'thrfvs_e'} {'PubChem': '', 'KEGG': '', 'HMDB': '', 'ChEBI': '', 'MetaNetX': '', 'metabolicATLAS': 'thrfvs', 'recon3d': 'thrfvs_c'}\n",
      "{'PubChem': '', 'KEGG': '', 'HMDB': '', 'ChEBI': '', 'MetaNetX': '', 'metabolicATLAS': 'tlacfvs', 'recon3d': 'tlacfvs_e'} {'PubChem': '', 'KEGG': '', 'HMDB': '', 'ChEBI': '', 'MetaNetX': '', 'metabolicATLAS': 'tlacfvs', 'recon3d': 'tlacfvs_c'}\n",
      "{'PubChem': '', 'KEGG': '', 'HMDB': '', 'ChEBI': '', 'MetaNetX': '', 'metabolicATLAS': 'tmdm1', 'recon3d': 'tmdm1_e'} {'PubChem': '', 'KEGG': '', 'HMDB': '', 'ChEBI': '', 'MetaNetX': '', 'metabolicATLAS': 'tmdm1', 'recon3d': 'tmdm1_c'}\n",
      "{'PubChem': '', 'KEGG': '', 'HMDB': '', 'ChEBI': '', 'MetaNetX': '', 'metabolicATLAS': 'tmd', 'recon3d': 'tmd_e'} {'PubChem': '', 'KEGG': '', 'HMDB': '', 'ChEBI': '', 'MetaNetX': '', 'metabolicATLAS': 'tmd', 'recon3d': 'tmd_r'}\n",
      "{'PubChem': '', 'KEGG': '', 'HMDB': '', 'ChEBI': '', 'MetaNetX': '', 'metabolicATLAS': 'tmdm1', 'recon3d': 'tmdm1_e'} {'PubChem': '', 'KEGG': '', 'HMDB': '', 'ChEBI': '', 'MetaNetX': '', 'metabolicATLAS': 'tmdm1', 'recon3d': 'tmdm1_r'}\n",
      "{'PubChem': '', 'KEGG': '', 'HMDB': '', 'ChEBI': '', 'MetaNetX': '', 'metabolicATLAS': 'tmdm3', 'recon3d': 'tmdm3_e'} {'PubChem': '', 'KEGG': '', 'HMDB': '', 'ChEBI': '', 'MetaNetX': '', 'metabolicATLAS': 'tmdm3', 'recon3d': 'tmdm3_c'}\n",
      "{'PubChem': '', 'KEGG': '', 'HMDB': '', 'ChEBI': '', 'MetaNetX': '', 'metabolicATLAS': 'tmdm3', 'recon3d': 'tmdm3_e'} {'PubChem': '', 'KEGG': '', 'HMDB': '', 'ChEBI': '', 'MetaNetX': '', 'metabolicATLAS': 'tmdm3', 'recon3d': 'tmdm3_r'}\n",
      "{'PubChem': '', 'KEGG': '', 'HMDB': '', 'ChEBI': '', 'MetaNetX': '', 'metabolicATLAS': 'tmdm5', 'recon3d': 'tmdm5_e'} {'PubChem': '', 'KEGG': '', 'HMDB': '', 'ChEBI': '', 'MetaNetX': '', 'metabolicATLAS': 'tmdm5', 'recon3d': 'tmdm5_c'}\n",
      "{'PubChem': '', 'KEGG': '', 'HMDB': '', 'ChEBI': '', 'MetaNetX': '', 'metabolicATLAS': 'tmdm5', 'recon3d': 'tmdm5_e'} {'PubChem': '', 'KEGG': '', 'HMDB': '', 'ChEBI': '', 'MetaNetX': '', 'metabolicATLAS': 'tmdm5', 'recon3d': 'tmdm5_r'}\n",
      "{'PubChem': '', 'KEGG': '', 'HMDB': '', 'ChEBI': '', 'MetaNetX': '', 'metabolicATLAS': 'tmd', 'recon3d': 'tmd_e'} {'PubChem': '', 'KEGG': '', 'HMDB': '', 'ChEBI': '', 'MetaNetX': '', 'metabolicATLAS': 'tmd', 'recon3d': 'tmd_c'}\n",
      "{'PubChem': '', 'KEGG': '', 'HMDB': '', 'ChEBI': '', 'MetaNetX': '', 'metabolicATLAS': 'tripvs', 'recon3d': 'tripvs_r'} {'PubChem': '', 'KEGG': '', 'HMDB': '', 'ChEBI': '', 'MetaNetX': '', 'metabolicATLAS': 'tripvs', 'recon3d': 'tripvs_c'}\n",
      "{'PubChem': '', 'KEGG': '', 'HMDB': '', 'ChEBI': '', 'MetaNetX': '', 'metabolicATLAS': 'tsacmgluc', 'recon3d': 'tsacmgluc_e'} {'PubChem': '', 'KEGG': '', 'HMDB': '', 'ChEBI': '', 'MetaNetX': '', 'metabolicATLAS': 'tsacmgluc', 'recon3d': 'tsacmgluc_c'}\n",
      "{'PubChem': '', 'KEGG': '', 'HMDB': '', 'ChEBI': '', 'MetaNetX': '', 'metabolicATLAS': 'tsacmgluc', 'recon3d': 'tsacmgluc_e'} {'PubChem': '', 'KEGG': '', 'HMDB': '', 'ChEBI': '', 'MetaNetX': '', 'metabolicATLAS': 'tsacmgluc', 'recon3d': 'tsacmgluc_r'}\n",
      "{'PubChem': '', 'KEGG': '', 'HMDB': '', 'ChEBI': '', 'MetaNetX': '', 'metabolicATLAS': 'thsacmp', 'recon3d': 'thsacmp_r'} {'PubChem': '', 'KEGG': '', 'HMDB': '', 'ChEBI': '', 'MetaNetX': '', 'metabolicATLAS': 'thsacmp', 'recon3d': 'thsacmp_c'}\n",
      "{'PubChem': '', 'KEGG': '', 'HMDB': '', 'ChEBI': '', 'MetaNetX': '', 'metabolicATLAS': 'tsacmsul', 'recon3d': 'tsacmsul_e'} {'PubChem': '', 'KEGG': '', 'HMDB': '', 'ChEBI': '', 'MetaNetX': '', 'metabolicATLAS': 'tsacmsul', 'recon3d': 'tsacmsul_c'}\n",
      "{'PubChem': '', 'KEGG': '', 'HMDB': '', 'ChEBI': '', 'MetaNetX': '', 'metabolicATLAS': '3hpvscoa', 'recon3d': '3hpvscoa_m'} {'PubChem': '', 'KEGG': '', 'HMDB': '', 'ChEBI': '', 'MetaNetX': '', 'metabolicATLAS': '3hpvscoa', 'recon3d': '3hpvscoa_c'}\n",
      "{'PubChem': '', 'KEGG': '', 'HMDB': '', 'ChEBI': '', 'MetaNetX': '', 'metabolicATLAS': '3hpvstetcoa', 'recon3d': '3hpvstetcoa_m'} {'PubChem': '', 'KEGG': '', 'HMDB': '', 'ChEBI': '', 'MetaNetX': '', 'metabolicATLAS': '3hpvstetcoa', 'recon3d': '3hpvstetcoa_c'}\n",
      "{'PubChem': '', 'KEGG': '', 'HMDB': '', 'ChEBI': '', 'MetaNetX': '', 'metabolicATLAS': 'fvscoa', 'recon3d': 'fvscoa_x'} {'PubChem': '', 'KEGG': '', 'HMDB': '', 'ChEBI': '', 'MetaNetX': '', 'metabolicATLAS': 'fvscoa', 'recon3d': 'fvscoa_c'}\n",
      "{'PubChem': '', 'KEGG': '', 'HMDB': '', 'ChEBI': '', 'MetaNetX': '', 'metabolicATLAS': 'mdzglc', 'recon3d': 'mdzglc_e'} {'PubChem': '', 'KEGG': '', 'HMDB': '', 'ChEBI': '', 'MetaNetX': '', 'metabolicATLAS': 'mdzglc', 'recon3d': 'mdzglc_r'}\n",
      "{'PubChem': '', 'KEGG': '', 'HMDB': '', 'ChEBI': '', 'MetaNetX': '', 'metabolicATLAS': 'ptvstm13', 'recon3d': 'ptvstm13_r'} {'PubChem': '', 'KEGG': '', 'HMDB': '', 'ChEBI': '', 'MetaNetX': '', 'metabolicATLAS': 'ptvstm13', 'recon3d': 'ptvstm13_c'}\n",
      "{'PubChem': '', 'KEGG': '', 'HMDB': '', 'ChEBI': '', 'MetaNetX': '', 'metabolicATLAS': 'ptvstm13', 'recon3d': 'ptvstm13_r'} {'PubChem': '', 'KEGG': '', 'HMDB': '', 'ChEBI': '', 'MetaNetX': '', 'metabolicATLAS': 'ptvstm13', 'recon3d': 'ptvstm13_e'}\n",
      "{'PubChem': '', 'KEGG': '', 'HMDB': '', 'ChEBI': 'CHEBI:32639', 'MetaNetX': '', 'metabolicATLAS': 'acmpglut', 'recon3d': 'acmpglut_e'} {'PubChem': '', 'KEGG': '', 'HMDB': '', 'ChEBI': 'CHEBI:32639', 'MetaNetX': '', 'metabolicATLAS': 'acmpglut', 'recon3d': 'acmpglut_r'}\n",
      "{'PubChem': '', 'KEGG': '', 'HMDB': '', 'ChEBI': '', 'MetaNetX': '', 'metabolicATLAS': 'cysacmp', 'recon3d': 'cysacmp_c'} {'PubChem': '', 'KEGG': '', 'HMDB': '', 'ChEBI': '', 'MetaNetX': '', 'metabolicATLAS': 'cysacmp', 'recon3d': 'cysacmp_r'}\n",
      "{'PubChem': '5280581', 'KEGG': 'C03242', 'HMDB': 'HMDB02925', 'ChEBI': 'CHEBI:53486', 'MetaNetX': 'MNXM5607', 'metabolicATLAS': 'CE2516', 'recon3d': 'CE2516_c'} {'PubChem': '5280581', 'KEGG': 'C03242', 'HMDB': 'HMDB02925', 'ChEBI': 'CHEBI:53486', 'MetaNetX': '', 'metabolicATLAS': 'CE2516', 'recon3d': 'CE2516_e'}\n",
      "{'PubChem': '', 'KEGG': '', 'HMDB': '', 'ChEBI': '', 'MetaNetX': '', 'metabolicATLAS': 'hexdtr', 'recon3d': 'hexdtr_m'} {'PubChem': '', 'KEGG': '', 'HMDB': '', 'ChEBI': '', 'MetaNetX': '', 'metabolicATLAS': 'hexdtr', 'recon3d': 'hexdtr_e'}\n",
      "{'PubChem': '', 'KEGG': '', 'HMDB': '', 'ChEBI': '', 'MetaNetX': '', 'metabolicATLAS': '1ohmdz', 'recon3d': '1ohmdz_r'} {'PubChem': '', 'KEGG': '', 'HMDB': '', 'ChEBI': '', 'MetaNetX': '', 'metabolicATLAS': '1ohmdz', 'recon3d': '1ohmdz_e'}\n",
      "{'PubChem': '', 'KEGG': '', 'HMDB': '', 'ChEBI': '', 'MetaNetX': '', 'metabolicATLAS': '1hmdgluc', 'recon3d': '1hmdgluc_r'} {'PubChem': '', 'KEGG': '', 'HMDB': '', 'ChEBI': '', 'MetaNetX': '', 'metabolicATLAS': '1hmdgluc', 'recon3d': '1hmdgluc_e'}\n",
      "{'PubChem': '', 'KEGG': '', 'HMDB': '', 'ChEBI': '', 'MetaNetX': '', 'metabolicATLAS': '14hmdz', 'recon3d': '14hmdz_r'} {'PubChem': '', 'KEGG': '', 'HMDB': '', 'ChEBI': '', 'MetaNetX': '', 'metabolicATLAS': '14hmdz', 'recon3d': '14hmdz_e'}\n",
      "{'PubChem': '', 'KEGG': '', 'HMDB': '', 'ChEBI': '', 'MetaNetX': '', 'metabolicATLAS': 'xolest182_hs', 'recon3d': 'xolest182_hs_l'} {'PubChem': '', 'KEGG': '', 'HMDB': '', 'ChEBI': '', 'MetaNetX': '', 'metabolicATLAS': 'xolest182_hs', 'recon3d': 'xolest182_hs_e'}\n",
      "{'PubChem': '', 'KEGG': '', 'HMDB': '', 'ChEBI': '', 'MetaNetX': '', 'metabolicATLAS': '1hibup_S', 'recon3d': '1hibup_S_r'} {'PubChem': '', 'KEGG': '', 'HMDB': '', 'ChEBI': '', 'MetaNetX': '', 'metabolicATLAS': '1hibup_S', 'recon3d': '1hibup_S_e'}\n",
      "{'PubChem': '', 'KEGG': '', 'HMDB': '', 'ChEBI': '', 'MetaNetX': '', 'metabolicATLAS': '1hibupglu_S', 'recon3d': '1hibupglu_S_c'} {'PubChem': '', 'KEGG': '', 'HMDB': '', 'ChEBI': '', 'MetaNetX': '', 'metabolicATLAS': '1hibupglu_S', 'recon3d': '1hibupglu_S_e'}\n",
      "{'PubChem': '', 'KEGG': '', 'HMDB': '', 'ChEBI': '', 'MetaNetX': '', 'metabolicATLAS': '12dhchol', 'recon3d': '12dhchol_c'} {'PubChem': '', 'KEGG': '', 'HMDB': '', 'ChEBI': '', 'MetaNetX': '', 'metabolicATLAS': '12dhchol', 'recon3d': '12dhchol_e'}\n",
      "{'PubChem': '', 'KEGG': '', 'HMDB': '', 'ChEBI': '', 'MetaNetX': '', 'metabolicATLAS': '12htacr', 'recon3d': '12htacr_r'} {'PubChem': '', 'KEGG': '', 'HMDB': '', 'ChEBI': '', 'MetaNetX': '', 'metabolicATLAS': '12htacr', 'recon3d': '12htacr_e'}\n",
      "{'PubChem': '', 'KEGG': '', 'HMDB': '', 'ChEBI': '', 'MetaNetX': '', 'metabolicATLAS': '1513tacr', 'recon3d': '1513tacr_r'} {'PubChem': '', 'KEGG': '', 'HMDB': '', 'ChEBI': '', 'MetaNetX': '', 'metabolicATLAS': '1513tacr', 'recon3d': '1513tacr_e'}\n",
      "{'PubChem': '', 'KEGG': '', 'HMDB': '', 'ChEBI': '', 'MetaNetX': '', 'metabolicATLAS': '1331tacr', 'recon3d': '1331tacr_r'} {'PubChem': '', 'KEGG': '', 'HMDB': '', 'ChEBI': '', 'MetaNetX': '', 'metabolicATLAS': '1331tacr', 'recon3d': '1331tacr_e'}\n",
      "{'PubChem': '', 'KEGG': '', 'HMDB': '', 'ChEBI': '', 'MetaNetX': '', 'metabolicATLAS': '13dmt', 'recon3d': '13dmt_r'} {'PubChem': '', 'KEGG': '', 'HMDB': '', 'ChEBI': '', 'MetaNetX': '', 'metabolicATLAS': '13dmt', 'recon3d': '13dmt_e'}\n",
      "{'PubChem': '', 'KEGG': '', 'HMDB': '', 'ChEBI': '', 'MetaNetX': '', 'metabolicATLAS': '1531tacr', 'recon3d': '1531tacr_r'} {'PubChem': '', 'KEGG': '', 'HMDB': '', 'ChEBI': '', 'MetaNetX': '', 'metabolicATLAS': '1531tacr', 'recon3d': '1531tacr_e'}\n",
      "{'PubChem': '', 'KEGG': '', 'HMDB': '', 'ChEBI': '', 'MetaNetX': '', 'metabolicATLAS': '15dmt', 'recon3d': '15dmt_r'} {'PubChem': '', 'KEGG': '', 'HMDB': '', 'ChEBI': '', 'MetaNetX': '', 'metabolicATLAS': '15dmt', 'recon3d': '15dmt_e'}\n",
      "{'PubChem': '', 'KEGG': '', 'HMDB': '', 'ChEBI': '', 'MetaNetX': '', 'metabolicATLAS': '15kprostgf2', 'recon3d': '15kprostgf2_c'} {'PubChem': '', 'KEGG': '', 'HMDB': '', 'ChEBI': '', 'MetaNetX': '', 'metabolicATLAS': '15kprostgf2', 'recon3d': '15kprostgf2_e'}\n",
      "{'PubChem': '', 'KEGG': '', 'HMDB': '', 'ChEBI': '', 'MetaNetX': '', 'metabolicATLAS': 'and19one', 'recon3d': 'and19one_c'} {'PubChem': '', 'KEGG': '', 'HMDB': '', 'ChEBI': '', 'MetaNetX': '', 'metabolicATLAS': 'and19one', 'recon3d': 'and19one_e'}\n",
      "{'PubChem': '', 'KEGG': '', 'HMDB': '', 'ChEBI': '', 'MetaNetX': '', 'metabolicATLAS': '2h3mv', 'recon3d': '2h3mv_c'} {'PubChem': '', 'KEGG': '', 'HMDB': '', 'ChEBI': '', 'MetaNetX': '', 'metabolicATLAS': '2h3mv', 'recon3d': '2h3mv_e'}\n",
      "{'PubChem': '', 'KEGG': '', 'HMDB': '', 'ChEBI': '', 'MetaNetX': '', 'metabolicATLAS': '2hydog', 'recon3d': '2hydog_c'} {'PubChem': '', 'KEGG': '', 'HMDB': '', 'ChEBI': '', 'MetaNetX': '', 'metabolicATLAS': '2hydog', 'recon3d': '2hydog_e'}\n",
      "{'PubChem': '', 'KEGG': '', 'HMDB': '', 'ChEBI': '', 'MetaNetX': '', 'metabolicATLAS': '2hiv', 'recon3d': '2hiv_c'} {'PubChem': '', 'KEGG': '', 'HMDB': '', 'ChEBI': '', 'MetaNetX': '', 'metabolicATLAS': '2hiv', 'recon3d': '2hiv_e'}\n",
      "{'PubChem': '', 'KEGG': '', 'HMDB': '', 'ChEBI': '', 'MetaNetX': '', 'metabolicATLAS': 'adpoh', 'recon3d': 'adpoh_c'} {'PubChem': '', 'KEGG': '', 'HMDB': '', 'ChEBI': '', 'MetaNetX': '', 'metabolicATLAS': 'adpoh', 'recon3d': 'adpoh_e'}\n",
      "{'PubChem': '', 'KEGG': '', 'HMDB': '', 'ChEBI': '', 'MetaNetX': '', 'metabolicATLAS': '2m3hbu', 'recon3d': '2m3hbu_m'} {'PubChem': '', 'KEGG': '', 'HMDB': '', 'ChEBI': '', 'MetaNetX': '', 'metabolicATLAS': '2m3hbu', 'recon3d': '2m3hbu_e'}\n",
      "{'PubChem': '', 'KEGG': '', 'HMDB': '', 'ChEBI': '', 'MetaNetX': '', 'metabolicATLAS': '2m3hvac', 'recon3d': '2m3hvac_c'} {'PubChem': '', 'KEGG': '', 'HMDB': '', 'ChEBI': '', 'MetaNetX': '', 'metabolicATLAS': '2m3hvac', 'recon3d': '2m3hvac_e'}\n",
      "{'PubChem': '', 'KEGG': '', 'HMDB': '', 'ChEBI': '', 'MetaNetX': '', 'metabolicATLAS': '2hibupglu_S', 'recon3d': '2hibupglu_S_c'} {'PubChem': '', 'KEGG': '', 'HMDB': '', 'ChEBI': '', 'MetaNetX': '', 'metabolicATLAS': '2hibupglu_S', 'recon3d': '2hibupglu_S_e'}\n",
      "{'PubChem': '', 'KEGG': '', 'HMDB': '', 'ChEBI': '', 'MetaNetX': '', 'metabolicATLAS': '2hibup_R', 'recon3d': '2hibup_R_c'} {'PubChem': '', 'KEGG': '', 'HMDB': '', 'ChEBI': '', 'MetaNetX': '', 'metabolicATLAS': '2hibup_R', 'recon3d': '2hibup_R_e'}\n",
      "{'PubChem': '', 'KEGG': '', 'HMDB': '', 'ChEBI': '', 'MetaNetX': '', 'metabolicATLAS': '2hibup_S', 'recon3d': '2hibup_S_r'} {'PubChem': '', 'KEGG': '', 'HMDB': '', 'ChEBI': '', 'MetaNetX': '', 'metabolicATLAS': '2hibup_S', 'recon3d': '2hibup_S_e'}\n",
      "{'PubChem': '', 'KEGG': '', 'HMDB': '', 'ChEBI': '', 'MetaNetX': '', 'metabolicATLAS': '2hatvacid', 'recon3d': '2hatvacid_c'} {'PubChem': '', 'KEGG': '', 'HMDB': '', 'ChEBI': '', 'MetaNetX': '', 'metabolicATLAS': '2hatvacid', 'recon3d': '2hatvacid_e'}\n",
      "{'PubChem': '', 'KEGG': '', 'HMDB': '', 'ChEBI': '', 'MetaNetX': '', 'metabolicATLAS': '2hatvacidgluc', 'recon3d': '2hatvacidgluc_r'} {'PubChem': '', 'KEGG': '', 'HMDB': '', 'ChEBI': '', 'MetaNetX': '', 'metabolicATLAS': '2hatvacidgluc', 'recon3d': '2hatvacidgluc_e'}\n",
      "{'PubChem': '', 'KEGG': '', 'HMDB': '', 'ChEBI': '', 'MetaNetX': '', 'metabolicATLAS': '2hatvlac', 'recon3d': '2hatvlac_c'} {'PubChem': '', 'KEGG': '', 'HMDB': '', 'ChEBI': '', 'MetaNetX': '', 'metabolicATLAS': '2hatvlac', 'recon3d': '2hatvlac_e'}\n",
      "{'PubChem': '', 'KEGG': '', 'HMDB': '', 'ChEBI': '', 'MetaNetX': '', 'metabolicATLAS': '2hatvlacgluc', 'recon3d': '2hatvlacgluc_r'} {'PubChem': '', 'KEGG': '', 'HMDB': '', 'ChEBI': '', 'MetaNetX': '', 'metabolicATLAS': '2hatvlacgluc', 'recon3d': '2hatvlacgluc_e'}\n",
      "{'PubChem': '', 'KEGG': '', 'HMDB': '', 'ChEBI': '', 'MetaNetX': '', 'metabolicATLAS': '21hprgnlone', 'recon3d': '21hprgnlone_c'} {'PubChem': '', 'KEGG': '', 'HMDB': '', 'ChEBI': '', 'MetaNetX': '', 'metabolicATLAS': '21hprgnlone', 'recon3d': '21hprgnlone_e'}\n",
      "{'PubChem': '', 'KEGG': '', 'HMDB': '', 'ChEBI': '', 'MetaNetX': '', 'metabolicATLAS': '3hlvstacid', 'recon3d': '3hlvstacid_c'} {'PubChem': '', 'KEGG': '', 'HMDB': '', 'ChEBI': '', 'MetaNetX': '', 'metabolicATLAS': '3hlvstacid', 'recon3d': '3hlvstacid_e'}\n",
      "{'PubChem': '', 'KEGG': '', 'HMDB': '', 'ChEBI': '', 'MetaNetX': '', 'metabolicATLAS': '35dsmv', 'recon3d': '35dsmv_r'} {'PubChem': '', 'KEGG': '', 'HMDB': '', 'ChEBI': '', 'MetaNetX': '', 'metabolicATLAS': '35dsmv', 'recon3d': '35dsmv_e'}\n",
      "{'PubChem': '', 'KEGG': '', 'HMDB': '', 'ChEBI': '', 'MetaNetX': '', 'metabolicATLAS': '3hpvs', 'recon3d': '3hpvs_r'} {'PubChem': '', 'KEGG': '', 'HMDB': '', 'ChEBI': '', 'MetaNetX': '', 'metabolicATLAS': '3hpvs', 'recon3d': '3hpvs_e'}\n",
      "{'PubChem': '', 'KEGG': '', 'HMDB': '', 'ChEBI': '', 'MetaNetX': '', 'metabolicATLAS': '3hpvstet', 'recon3d': '3hpvstet_c'} {'PubChem': '', 'KEGG': '', 'HMDB': '', 'ChEBI': '', 'MetaNetX': '', 'metabolicATLAS': '3hpvstet', 'recon3d': '3hpvstet_e'}\n",
      "{'PubChem': '', 'KEGG': '', 'HMDB': '', 'ChEBI': '', 'MetaNetX': '', 'metabolicATLAS': '35dhpvs', 'recon3d': '35dhpvs_r'} {'PubChem': '', 'KEGG': '', 'HMDB': '', 'ChEBI': '', 'MetaNetX': '', 'metabolicATLAS': '35dhpvs', 'recon3d': '35dhpvs_e'}\n",
      "{'PubChem': '', 'KEGG': '', 'HMDB': '', 'ChEBI': '', 'MetaNetX': '', 'metabolicATLAS': '3hsmvacid', 'recon3d': '3hsmvacid_c'} {'PubChem': '', 'KEGG': '', 'HMDB': '', 'ChEBI': '', 'MetaNetX': '', 'metabolicATLAS': '3hsmvacid', 'recon3d': '3hsmvacid_e'}\n",
      "{'PubChem': '', 'KEGG': '', 'HMDB': '', 'ChEBI': '', 'MetaNetX': '', 'metabolicATLAS': '34dhpe', 'recon3d': '34dhpe_c'} {'PubChem': '', 'KEGG': '', 'HMDB': '', 'ChEBI': '', 'MetaNetX': '', 'metabolicATLAS': '34dhpe', 'recon3d': '34dhpe_e'}\n",
      "{'PubChem': '', 'KEGG': '', 'HMDB': '', 'ChEBI': '', 'MetaNetX': 'MNXM1634; MNXM1634', 'metabolicATLAS': '3hpppn', 'recon3d': '3hpppn_c'} {'PubChem': '', 'KEGG': '', 'HMDB': '', 'ChEBI': '', 'MetaNetX': 'MNXM1634', 'metabolicATLAS': '3hpppn', 'recon3d': '3hpppn_e'}\n",
      "{'PubChem': '', 'KEGG': '', 'HMDB': '', 'ChEBI': '', 'MetaNetX': '', 'metabolicATLAS': '3hpppnohgluc', 'recon3d': '3hpppnohgluc_c'} {'PubChem': '', 'KEGG': '', 'HMDB': '', 'ChEBI': '', 'MetaNetX': '', 'metabolicATLAS': '3hpppnohgluc', 'recon3d': '3hpppnohgluc_e'}\n",
      "{'PubChem': '', 'KEGG': '', 'HMDB': '', 'ChEBI': '', 'MetaNetX': '', 'metabolicATLAS': '3dhcdchol', 'recon3d': '3dhcdchol_c'} {'PubChem': '', 'KEGG': '', 'HMDB': '', 'ChEBI': '', 'MetaNetX': '', 'metabolicATLAS': '3dhcdchol', 'recon3d': '3dhcdchol_e'}\n",
      "{'PubChem': '', 'KEGG': '', 'HMDB': '', 'ChEBI': '', 'MetaNetX': '', 'metabolicATLAS': '3dhchol', 'recon3d': '3dhchol_c'} {'PubChem': '', 'KEGG': '', 'HMDB': '', 'ChEBI': '', 'MetaNetX': '', 'metabolicATLAS': '3dhchol', 'recon3d': '3dhchol_e'}\n",
      "{'PubChem': '', 'KEGG': '', 'HMDB': '', 'ChEBI': '', 'MetaNetX': '', 'metabolicATLAS': '3ohsubac', 'recon3d': '3ohsubac_x'} {'PubChem': '', 'KEGG': '', 'HMDB': '', 'ChEBI': '', 'MetaNetX': '', 'metabolicATLAS': '3ohsubac', 'recon3d': '3ohsubac_e'}\n",
      "{'PubChem': '', 'KEGG': '', 'HMDB': '', 'ChEBI': '', 'MetaNetX': 'MNXM163668; MNXM163668', 'metabolicATLAS': '3bcrn', 'recon3d': '3bcrn_c'} {'PubChem': '', 'KEGG': '', 'HMDB': '', 'ChEBI': '', 'MetaNetX': 'MNXM163668', 'metabolicATLAS': '3bcrn', 'recon3d': '3bcrn_e'}\n",
      "{'PubChem': '', 'KEGG': '', 'HMDB': '', 'ChEBI': '', 'MetaNetX': '', 'metabolicATLAS': '3tetd7ecoacrn', 'recon3d': '3tetd7ecoacrn_c'} {'PubChem': '', 'KEGG': '', 'HMDB': '', 'ChEBI': '', 'MetaNetX': '', 'metabolicATLAS': '3tetd7ecoacrn', 'recon3d': '3tetd7ecoacrn_e'}\n",
      "{'PubChem': '', 'KEGG': '', 'HMDB': '', 'ChEBI': '', 'MetaNetX': '', 'metabolicATLAS': '3ttetddcoacrn', 'recon3d': '3ttetddcoacrn_c'} {'PubChem': '', 'KEGG': '', 'HMDB': '', 'ChEBI': '', 'MetaNetX': '', 'metabolicATLAS': '3ttetddcoacrn', 'recon3d': '3ttetddcoacrn_e'}\n",
      "{'PubChem': '', 'KEGG': '', 'HMDB': '', 'ChEBI': '', 'MetaNetX': '', 'metabolicATLAS': '3thexddcoacrn', 'recon3d': '3thexddcoacrn_c'} {'PubChem': '', 'KEGG': '', 'HMDB': '', 'ChEBI': '', 'MetaNetX': '', 'metabolicATLAS': '3thexddcoacrn', 'recon3d': '3thexddcoacrn_e'}\n",
      "{'PubChem': '', 'KEGG': '', 'HMDB': '', 'ChEBI': '', 'MetaNetX': '', 'metabolicATLAS': '3h3mglt', 'recon3d': '3h3mglt_c'} {'PubChem': '', 'KEGG': '', 'HMDB': '', 'ChEBI': '', 'MetaNetX': '', 'metabolicATLAS': '3h3mglt', 'recon3d': '3h3mglt_e'}\n",
      "{'PubChem': '', 'KEGG': '', 'HMDB': '', 'ChEBI': '', 'MetaNetX': '', 'metabolicATLAS': '3hadpac', 'recon3d': '3hadpac_x'} {'PubChem': '', 'KEGG': '', 'HMDB': '', 'ChEBI': '', 'MetaNetX': '', 'metabolicATLAS': '3hadpac', 'recon3d': '3hadpac_e'}\n",
      "{'PubChem': '', 'KEGG': '', 'HMDB': '', 'ChEBI': '', 'MetaNetX': '', 'metabolicATLAS': '3ohglutac', 'recon3d': '3ohglutac_m'} {'PubChem': '', 'KEGG': '', 'HMDB': '', 'ChEBI': '', 'MetaNetX': '', 'metabolicATLAS': '3ohglutac', 'recon3d': '3ohglutac_e'}\n",
      "{'PubChem': '', 'KEGG': '', 'HMDB': '', 'ChEBI': '', 'MetaNetX': '', 'metabolicATLAS': '3octdece1crn', 'recon3d': '3octdece1crn_c'} {'PubChem': '', 'KEGG': '', 'HMDB': '', 'ChEBI': '', 'MetaNetX': '', 'metabolicATLAS': '3octdece1crn', 'recon3d': '3octdece1crn_e'}\n",
      "{'PubChem': '', 'KEGG': '', 'HMDB': '', 'ChEBI': '', 'MetaNetX': '', 'metabolicATLAS': '3ohsebac', 'recon3d': '3ohsebac_x'} {'PubChem': '', 'KEGG': '', 'HMDB': '', 'ChEBI': '', 'MetaNetX': '', 'metabolicATLAS': '3ohsebac', 'recon3d': '3ohsebac_e'}\n",
      "{'PubChem': '', 'KEGG': '', 'HMDB': '', 'ChEBI': '', 'MetaNetX': 'MNXM150929; MNXM150929', 'metabolicATLAS': '3tdcrn', 'recon3d': '3tdcrn_c'} {'PubChem': '', 'KEGG': '', 'HMDB': '', 'ChEBI': '', 'MetaNetX': 'MNXM150929', 'metabolicATLAS': '3tdcrn', 'recon3d': '3tdcrn_e'}\n",
      "{'PubChem': '', 'KEGG': '', 'HMDB': '', 'ChEBI': '', 'MetaNetX': 'MNXM1799; MNXM1799', 'metabolicATLAS': '3hcinnm', 'recon3d': '3hcinnm_e'} {'PubChem': '', 'KEGG': '', 'HMDB': '', 'ChEBI': '', 'MetaNetX': 'MNXM1799', 'metabolicATLAS': '3hcinnm', 'recon3d': '3hcinnm_e'}\n",
      "{'PubChem': '', 'KEGG': '', 'HMDB': '', 'ChEBI': '', 'MetaNetX': 'MNXM150909; MNXM150909', 'metabolicATLAS': '3deccrn', 'recon3d': '3deccrn_c'} {'PubChem': '', 'KEGG': '', 'HMDB': '', 'ChEBI': '', 'MetaNetX': 'MNXM150909', 'metabolicATLAS': '3deccrn', 'recon3d': '3deccrn_e'}\n",
      "{'PubChem': '', 'KEGG': '', 'HMDB': '', 'ChEBI': '', 'MetaNetX': 'MNXM150910; MNXM150910', 'metabolicATLAS': '3ddcrn', 'recon3d': '3ddcrn_c'} {'PubChem': '', 'KEGG': '', 'HMDB': '', 'ChEBI': '', 'MetaNetX': 'MNXM150910', 'metabolicATLAS': '3ddcrn', 'recon3d': '3ddcrn_e'}\n",
      "{'PubChem': '53481691', 'KEGG': '', 'HMDB': '', 'ChEBI': '', 'MetaNetX': 'MNXM36524; MNXM36524', 'metabolicATLAS': '3hexdcrn', 'recon3d': '3hexdcrn_c'} {'PubChem': '53481691', 'KEGG': '', 'HMDB': '', 'ChEBI': '', 'MetaNetX': 'MNXM36524', 'metabolicATLAS': '3hexdcrn', 'recon3d': '3hexdcrn_e'}\n",
      "{'PubChem': '', 'KEGG': '', 'HMDB': '', 'ChEBI': '', 'MetaNetX': '', 'metabolicATLAS': '3hdececrn', 'recon3d': '3hdececrn_c'} {'PubChem': '', 'KEGG': '', 'HMDB': '', 'ChEBI': '', 'MetaNetX': '', 'metabolicATLAS': '3hdececrn', 'recon3d': '3hdececrn_e'}\n",
      "{'PubChem': '', 'KEGG': '', 'HMDB': '', 'ChEBI': '', 'MetaNetX': '', 'metabolicATLAS': '3hivac', 'recon3d': '3hivac_m'} {'PubChem': '', 'KEGG': '', 'HMDB': '', 'ChEBI': '', 'MetaNetX': '', 'metabolicATLAS': '3hivac', 'recon3d': '3hivac_e'}\n",
      "{'PubChem': '', 'KEGG': '', 'HMDB': '', 'ChEBI': '', 'MetaNetX': '', 'metabolicATLAS': '3octdec2crn', 'recon3d': '3octdec2crn_c'} {'PubChem': '', 'KEGG': '', 'HMDB': '', 'ChEBI': '', 'MetaNetX': '', 'metabolicATLAS': '3octdec2crn', 'recon3d': '3octdec2crn_e'}\n",
      "{'PubChem': '', 'KEGG': '', 'HMDB': '', 'ChEBI': '', 'MetaNetX': '', 'metabolicATLAS': '3octdeccrn', 'recon3d': '3octdeccrn_c'} {'PubChem': '', 'KEGG': '', 'HMDB': '', 'ChEBI': '', 'MetaNetX': '', 'metabolicATLAS': '3octdeccrn', 'recon3d': '3octdeccrn_e'}\n",
      "{'PubChem': '', 'KEGG': '', 'HMDB': '', 'ChEBI': '', 'MetaNetX': '', 'metabolicATLAS': '3mglutac', 'recon3d': '3mglutac_m'} {'PubChem': '', 'KEGG': '', 'HMDB': '', 'ChEBI': '', 'MetaNetX': '', 'metabolicATLAS': '3mglutac', 'recon3d': '3mglutac_e'}\n",
      "{'PubChem': '', 'KEGG': '', 'HMDB': '', 'ChEBI': '', 'MetaNetX': '', 'metabolicATLAS': '3mglutr', 'recon3d': '3mglutr_c'} {'PubChem': '', 'KEGG': '', 'HMDB': '', 'ChEBI': '', 'MetaNetX': '', 'metabolicATLAS': '3mglutr', 'recon3d': '3mglutr_e'}\n",
      "{'PubChem': '', 'KEGG': '', 'HMDB': '', 'ChEBI': '', 'MetaNetX': 'MNXM2782; MNXM2782', 'metabolicATLAS': '3mtp', 'recon3d': '3mtp_c'} {'PubChem': '', 'KEGG': '', 'HMDB': '', 'ChEBI': '', 'MetaNetX': 'MNXM2782', 'metabolicATLAS': '3mtp', 'recon3d': '3mtp_e'}\n",
      "{'PubChem': '', 'KEGG': '', 'HMDB': '', 'ChEBI': '', 'MetaNetX': '', 'metabolicATLAS': '3mhis', 'recon3d': '3mhis_c'} {'PubChem': '', 'KEGG': '', 'HMDB': '', 'ChEBI': '', 'MetaNetX': '', 'metabolicATLAS': '3mhis', 'recon3d': '3mhis_e'}\n",
      "{'PubChem': '', 'KEGG': '', 'HMDB': '', 'ChEBI': '', 'MetaNetX': '', 'metabolicATLAS': '3ispvs', 'recon3d': '3ispvs_c'} {'PubChem': '', 'KEGG': '', 'HMDB': '', 'ChEBI': '', 'MetaNetX': '', 'metabolicATLAS': '3ispvs', 'recon3d': '3ispvs_e'}\n",
      "{'PubChem': '', 'KEGG': '', 'HMDB': '', 'ChEBI': '', 'MetaNetX': '', 'metabolicATLAS': '3dhdchol', 'recon3d': '3dhdchol_c'} {'PubChem': '', 'KEGG': '', 'HMDB': '', 'ChEBI': '', 'MetaNetX': '', 'metabolicATLAS': '3dhdchol', 'recon3d': '3dhdchol_e'}\n",
      "{'PubChem': '', 'KEGG': '', 'HMDB': '', 'ChEBI': '', 'MetaNetX': '', 'metabolicATLAS': '3dhlchol', 'recon3d': '3dhlchol_c'} {'PubChem': '', 'KEGG': '', 'HMDB': '', 'ChEBI': '', 'MetaNetX': '', 'metabolicATLAS': '3dhlchol', 'recon3d': '3dhlchol_e'}\n",
      "{'PubChem': '', 'KEGG': '', 'HMDB': '', 'ChEBI': '', 'MetaNetX': '', 'metabolicATLAS': '3hibup_R', 'recon3d': '3hibup_R_c'} {'PubChem': '', 'KEGG': '', 'HMDB': '', 'ChEBI': '', 'MetaNetX': '', 'metabolicATLAS': '3hibup_R', 'recon3d': '3hibup_R_e'}\n",
      "{'PubChem': '', 'KEGG': '', 'HMDB': '', 'ChEBI': '', 'MetaNetX': '', 'metabolicATLAS': '3hibup_S', 'recon3d': '3hibup_S_r'} {'PubChem': '', 'KEGG': '', 'HMDB': '', 'ChEBI': '', 'MetaNetX': '', 'metabolicATLAS': '3hibup_S', 'recon3d': '3hibup_S_e'}\n",
      "{'PubChem': '', 'KEGG': '', 'HMDB': '', 'ChEBI': '', 'MetaNetX': '', 'metabolicATLAS': '3hibupglu_S', 'recon3d': '3hibupglu_S_c'} {'PubChem': '', 'KEGG': '', 'HMDB': '', 'ChEBI': '', 'MetaNetX': '', 'metabolicATLAS': '3hibupglu_S', 'recon3d': '3hibupglu_S_e'}\n",
      "{'PubChem': '', 'KEGG': '', 'HMDB': '', 'ChEBI': '', 'MetaNetX': '', 'metabolicATLAS': '3ohacmp', 'recon3d': '3ohacmp_c'} {'PubChem': '', 'KEGG': '', 'HMDB': '', 'ChEBI': '', 'MetaNetX': '', 'metabolicATLAS': '3ohacmp', 'recon3d': '3ohacmp_e'}\n",
      "{'PubChem': '', 'KEGG': '', 'HMDB': '', 'ChEBI': '', 'MetaNetX': '', 'metabolicATLAS': '56dhpvs', 'recon3d': '56dhpvs_r'} {'PubChem': '', 'KEGG': '', 'HMDB': '', 'ChEBI': '', 'MetaNetX': '', 'metabolicATLAS': '56dhpvs', 'recon3d': '56dhpvs_e'}\n",
      "{'PubChem': '', 'KEGG': '', 'HMDB': '', 'ChEBI': '', 'MetaNetX': '', 'metabolicATLAS': '31dmt', 'recon3d': '31dmt_r'} {'PubChem': '', 'KEGG': '', 'HMDB': '', 'ChEBI': '', 'MetaNetX': '', 'metabolicATLAS': '31dmt', 'recon3d': '31dmt_e'}\n",
      "{'PubChem': '', 'KEGG': '', 'HMDB': '', 'ChEBI': '', 'MetaNetX': '', 'metabolicATLAS': 'epoxtac', 'recon3d': 'epoxtac_r'} {'PubChem': '', 'KEGG': '', 'HMDB': '', 'ChEBI': '', 'MetaNetX': '', 'metabolicATLAS': 'epoxtac', 'recon3d': 'epoxtac_e'}\n",
      "{'PubChem': '', 'KEGG': '', 'HMDB': '', 'ChEBI': '', 'MetaNetX': '', 'metabolicATLAS': '4ohbut', 'recon3d': '4ohbut_m'} {'PubChem': '', 'KEGG': '', 'HMDB': '', 'ChEBI': '', 'MetaNetX': '', 'metabolicATLAS': '4ohbut', 'recon3d': '4ohbut_e'}\n",
      "{'PubChem': '', 'KEGG': '', 'HMDB': '', 'ChEBI': '', 'MetaNetX': '', 'metabolicATLAS': '4ohmdz', 'recon3d': '4ohmdz_r'} {'PubChem': '', 'KEGG': '', 'HMDB': '', 'ChEBI': '', 'MetaNetX': '', 'metabolicATLAS': '4ohmdz', 'recon3d': '4ohmdz_e'}\n",
      "{'PubChem': '', 'KEGG': '', 'HMDB': '', 'ChEBI': '', 'MetaNetX': '', 'metabolicATLAS': '4hmdgluc', 'recon3d': '4hmdgluc_c'} {'PubChem': '', 'KEGG': '', 'HMDB': '', 'ChEBI': '', 'MetaNetX': '', 'metabolicATLAS': '4hmdgluc', 'recon3d': '4hmdgluc_e'}\n",
      "{'PubChem': '', 'KEGG': '', 'HMDB': '', 'ChEBI': '', 'MetaNetX': '', 'metabolicATLAS': '4glu56dihdind', 'recon3d': '4glu56dihdind_c'} {'PubChem': '', 'KEGG': '', 'HMDB': '', 'ChEBI': '', 'MetaNetX': '', 'metabolicATLAS': '4glu56dihdind', 'recon3d': '4glu56dihdind_e'}\n",
      "{'PubChem': '', 'KEGG': '', 'HMDB': '', 'ChEBI': '', 'MetaNetX': '', 'metabolicATLAS': '4bhglz', 'recon3d': '4bhglz_c'} {'PubChem': '', 'KEGG': '', 'HMDB': '', 'ChEBI': '', 'MetaNetX': '', 'metabolicATLAS': '4bhglz', 'recon3d': '4bhglz_e'}\n",
      "{'PubChem': '', 'KEGG': '', 'HMDB': '', 'ChEBI': '', 'MetaNetX': '', 'metabolicATLAS': '4hatvacid', 'recon3d': '4hatvacid_r'} {'PubChem': '', 'KEGG': '', 'HMDB': '', 'ChEBI': '', 'MetaNetX': '', 'metabolicATLAS': '4hatvacid', 'recon3d': '4hatvacid_e'}\n",
      "{'PubChem': '', 'KEGG': '', 'HMDB': '', 'ChEBI': '', 'MetaNetX': '', 'metabolicATLAS': '4hatvlac', 'recon3d': '4hatvlac_c'} {'PubChem': '', 'KEGG': '', 'HMDB': '', 'ChEBI': '', 'MetaNetX': '', 'metabolicATLAS': '4hatvlac', 'recon3d': '4hatvlac_e'}\n",
      "{'PubChem': '', 'KEGG': '', 'HMDB': '', 'ChEBI': '', 'MetaNetX': '', 'metabolicATLAS': '56eppvs', 'recon3d': '56eppvs_r'} {'PubChem': '', 'KEGG': '', 'HMDB': '', 'ChEBI': '', 'MetaNetX': '', 'metabolicATLAS': '56eppvs', 'recon3d': '56eppvs_e'}\n",
      "{'PubChem': '', 'KEGG': '', 'HMDB': '', 'ChEBI': '', 'MetaNetX': '', 'metabolicATLAS': '5eipenc', 'recon3d': '5eipenc_m'} {'PubChem': '', 'KEGG': '', 'HMDB': '', 'ChEBI': '', 'MetaNetX': '', 'metabolicATLAS': '5eipenc', 'recon3d': '5eipenc_e'}\n",
      "{'PubChem': '', 'KEGG': '', 'HMDB': '', 'ChEBI': '', 'MetaNetX': '', 'metabolicATLAS': '5ohhexa', 'recon3d': '5ohhexa_c'} {'PubChem': '', 'KEGG': '', 'HMDB': '', 'ChEBI': '', 'MetaNetX': '', 'metabolicATLAS': '5ohhexa', 'recon3d': '5ohhexa_e'}\n",
      "{'PubChem': '', 'KEGG': '', 'HMDB': '', 'ChEBI': '', 'MetaNetX': '', 'metabolicATLAS': '5cysdopa', 'recon3d': '5cysdopa_c'} {'PubChem': '', 'KEGG': '', 'HMDB': '', 'ChEBI': '', 'MetaNetX': '', 'metabolicATLAS': '5cysdopa', 'recon3d': '5cysdopa_e'}\n",
      "{'PubChem': '', 'KEGG': '', 'HMDB': '', 'ChEBI': '', 'MetaNetX': '', 'metabolicATLAS': '5ohfvs', 'recon3d': '5ohfvs_r'} {'PubChem': '', 'KEGG': '', 'HMDB': '', 'ChEBI': '', 'MetaNetX': '', 'metabolicATLAS': '5ohfvs', 'recon3d': '5ohfvs_e'}\n",
      "{'PubChem': '', 'KEGG': '', 'HMDB': '', 'ChEBI': '', 'MetaNetX': '', 'metabolicATLAS': '5ohfvsglu', 'recon3d': '5ohfvsglu_r'} {'PubChem': '', 'KEGG': '', 'HMDB': '', 'ChEBI': '', 'MetaNetX': '', 'metabolicATLAS': '5ohfvsglu', 'recon3d': '5ohfvsglu_e'}\n",
      "{'PubChem': '', 'KEGG': '', 'HMDB': '', 'ChEBI': '', 'MetaNetX': '', 'metabolicATLAS': '6csmvacid', 'recon3d': '6csmvacid_c'} {'PubChem': '', 'KEGG': '', 'HMDB': '', 'ChEBI': '', 'MetaNetX': '', 'metabolicATLAS': '6csmvacid', 'recon3d': '6csmvacid_e'}\n",
      "{'PubChem': '', 'KEGG': '', 'HMDB': '', 'ChEBI': '', 'MetaNetX': '', 'metabolicATLAS': '6hsmvacid', 'recon3d': '6hsmvacid_c'} {'PubChem': '', 'KEGG': '', 'HMDB': '', 'ChEBI': '', 'MetaNetX': '', 'metabolicATLAS': '6hsmvacid', 'recon3d': '6hsmvacid_e'}\n",
      "{'PubChem': '', 'KEGG': '', 'HMDB': '', 'ChEBI': '', 'MetaNetX': '', 'metabolicATLAS': '6hlvst', 'recon3d': '6hlvst_c'} {'PubChem': '', 'KEGG': '', 'HMDB': '', 'ChEBI': '', 'MetaNetX': '', 'metabolicATLAS': '6hlvst', 'recon3d': '6hlvst_e'}\n",
      "{'PubChem': '', 'KEGG': '', 'HMDB': '', 'ChEBI': '', 'MetaNetX': '', 'metabolicATLAS': '6hmsmvacid', 'recon3d': '6hmsmvacid_c'} {'PubChem': '', 'KEGG': '', 'HMDB': '', 'ChEBI': '', 'MetaNetX': '', 'metabolicATLAS': '6hmsmvacid', 'recon3d': '6hmsmvacid_e'}\n",
      "{'PubChem': '', 'KEGG': '', 'HMDB': '', 'ChEBI': '', 'MetaNetX': '', 'metabolicATLAS': '6melvst', 'recon3d': '6melvst_c'} {'PubChem': '', 'KEGG': '', 'HMDB': '', 'ChEBI': '', 'MetaNetX': '', 'metabolicATLAS': '6melvst', 'recon3d': '6melvst_e'}\n",
      "{'PubChem': '', 'KEGG': '', 'HMDB': '', 'ChEBI': '', 'MetaNetX': '', 'metabolicATLAS': '6melvacid', 'recon3d': '6melvacid_c'} {'PubChem': '', 'KEGG': '', 'HMDB': '', 'ChEBI': '', 'MetaNetX': '', 'metabolicATLAS': '6melvacid', 'recon3d': '6melvacid_e'}\n",
      "{'PubChem': '', 'KEGG': '', 'HMDB': '', 'ChEBI': '', 'MetaNetX': '', 'metabolicATLAS': '6ahglz', 'recon3d': '6ahglz_c'} {'PubChem': '', 'KEGG': '', 'HMDB': '', 'ChEBI': '', 'MetaNetX': '', 'metabolicATLAS': '6ahglz', 'recon3d': '6ahglz_e'}\n",
      "{'PubChem': '', 'KEGG': '', 'HMDB': '', 'ChEBI': '', 'MetaNetX': '', 'metabolicATLAS': '6bhglz', 'recon3d': '6bhglz_c'} {'PubChem': '', 'KEGG': '', 'HMDB': '', 'ChEBI': '', 'MetaNetX': '', 'metabolicATLAS': '6bhglz', 'recon3d': '6bhglz_e'}\n",
      "{'PubChem': '', 'KEGG': '', 'HMDB': '', 'ChEBI': '', 'MetaNetX': '', 'metabolicATLAS': '6bhglzglc', 'recon3d': '6bhglzglc_c'} {'PubChem': '', 'KEGG': '', 'HMDB': '', 'ChEBI': '', 'MetaNetX': '', 'metabolicATLAS': '6bhglzglc', 'recon3d': '6bhglzglc_e'}\n",
      "{'PubChem': '', 'KEGG': '', 'HMDB': '', 'ChEBI': '', 'MetaNetX': '', 'metabolicATLAS': '6epvs', 'recon3d': '6epvs_c'} {'PubChem': '', 'KEGG': '', 'HMDB': '', 'ChEBI': '', 'MetaNetX': '', 'metabolicATLAS': '6epvs', 'recon3d': '6epvs_e'}\n",
      "{'PubChem': '', 'KEGG': '', 'HMDB': '', 'ChEBI': '', 'MetaNetX': '', 'metabolicATLAS': '6ohfvs', 'recon3d': '6ohfvs_r'} {'PubChem': '', 'KEGG': '', 'HMDB': '', 'ChEBI': '', 'MetaNetX': '', 'metabolicATLAS': '6ohfvs', 'recon3d': '6ohfvs_e'}\n",
      "{'PubChem': '', 'KEGG': '', 'HMDB': '', 'ChEBI': '', 'MetaNetX': '', 'metabolicATLAS': '6ohfvsglu', 'recon3d': '6ohfvsglu_r'} {'PubChem': '', 'KEGG': '', 'HMDB': '', 'ChEBI': '', 'MetaNetX': '', 'metabolicATLAS': '6ohfvsglu', 'recon3d': '6ohfvsglu_e'}\n",
      "{'PubChem': '', 'KEGG': '', 'HMDB': '', 'ChEBI': '', 'MetaNetX': '', 'metabolicATLAS': '7dhcdchol', 'recon3d': '7dhcdchol_c'} {'PubChem': '', 'KEGG': '', 'HMDB': '', 'ChEBI': '', 'MetaNetX': '', 'metabolicATLAS': '7dhcdchol', 'recon3d': '7dhcdchol_e'}\n",
      "{'PubChem': '', 'KEGG': '', 'HMDB': '', 'ChEBI': '', 'MetaNetX': '', 'metabolicATLAS': '7dhchol', 'recon3d': '7dhchol_c'} {'PubChem': '', 'KEGG': '', 'HMDB': '', 'ChEBI': '', 'MetaNetX': '', 'metabolicATLAS': '7dhchol', 'recon3d': '7dhchol_e'}\n",
      "{'PubChem': '', 'KEGG': '', 'HMDB': '', 'ChEBI': '', 'MetaNetX': '', 'metabolicATLAS': '7ohocata', 'recon3d': '7ohocata_c'} {'PubChem': '', 'KEGG': '', 'HMDB': '', 'ChEBI': '', 'MetaNetX': '', 'metabolicATLAS': '7ohocata', 'recon3d': '7ohocata_e'}\n",
      "{'PubChem': '', 'KEGG': '', 'HMDB': '', 'ChEBI': '', 'MetaNetX': '', 'metabolicATLAS': '7klitchol', 'recon3d': '7klitchol_c'} {'PubChem': '', 'KEGG': '', 'HMDB': '', 'ChEBI': '', 'MetaNetX': '', 'metabolicATLAS': '7klitchol', 'recon3d': '7klitchol_e'}\n",
      "{'PubChem': '', 'KEGG': '', 'HMDB': '', 'ChEBI': '', 'MetaNetX': '', 'metabolicATLAS': '7ahglz', 'recon3d': '7ahglz_c'} {'PubChem': '', 'KEGG': '', 'HMDB': '', 'ChEBI': '', 'MetaNetX': '', 'metabolicATLAS': '7ahglz', 'recon3d': '7ahglz_e'}\n",
      "{'PubChem': '', 'KEGG': '', 'HMDB': '', 'ChEBI': '', 'MetaNetX': '', 'metabolicATLAS': '7bhglz', 'recon3d': '7bhglz_c'} {'PubChem': '', 'KEGG': '', 'HMDB': '', 'ChEBI': '', 'MetaNetX': '', 'metabolicATLAS': '7bhglz', 'recon3d': '7bhglz_e'}\n",
      "{'PubChem': '', 'KEGG': '', 'HMDB': '', 'ChEBI': '', 'MetaNetX': '', 'metabolicATLAS': '7bhglzglc', 'recon3d': '7bhglzglc_c'} {'PubChem': '', 'KEGG': '', 'HMDB': '', 'ChEBI': '', 'MetaNetX': '', 'metabolicATLAS': '7bhglzglc', 'recon3d': '7bhglzglc_e'}\n",
      "{'PubChem': '', 'KEGG': '', 'HMDB': '', 'ChEBI': '', 'MetaNetX': '', 'metabolicATLAS': '7hpvs', 'recon3d': '7hpvs_r'} {'PubChem': '', 'KEGG': '', 'HMDB': '', 'ChEBI': '', 'MetaNetX': '', 'metabolicATLAS': '7hpvs', 'recon3d': '7hpvs_e'}\n",
      "{'PubChem': '', 'KEGG': '', 'HMDB': '', 'ChEBI': '', 'MetaNetX': '', 'metabolicATLAS': 'thexdd', 'recon3d': 'thexdd_m'} {'PubChem': '', 'KEGG': '', 'HMDB': '', 'ChEBI': '', 'MetaNetX': '', 'metabolicATLAS': 'thexdd', 'recon3d': 'thexdd_e'}\n",
      "{'PubChem': '129846', 'KEGG': '', 'HMDB': '', 'ChEBI': '', 'MetaNetX': 'MNXM164395; MNXM164395; MNXM164395', 'metabolicATLAS': 'CE1297', 'recon3d': 'CE1297_c'} {'PubChem': '129846', 'KEGG': '', 'HMDB': '', 'ChEBI': '', 'MetaNetX': 'MNXM164395', 'metabolicATLAS': 'CE1297', 'recon3d': 'CE1297_e'}\n",
      "{'PubChem': '', 'KEGG': '', 'HMDB': '', 'ChEBI': '', 'MetaNetX': '', 'metabolicATLAS': 'am1csa', 'recon3d': 'am1csa_r'} {'PubChem': '', 'KEGG': '', 'HMDB': '', 'ChEBI': '', 'MetaNetX': '', 'metabolicATLAS': 'am1csa', 'recon3d': 'am1csa_e'}\n",
      "{'PubChem': '', 'KEGG': '', 'HMDB': '', 'ChEBI': '', 'MetaNetX': '', 'metabolicATLAS': 'am19cs', 'recon3d': 'am19cs_r'} {'PubChem': '', 'KEGG': '', 'HMDB': '', 'ChEBI': '', 'MetaNetX': '', 'metabolicATLAS': 'am19cs', 'recon3d': 'am19cs_e'}\n",
      "{'PubChem': '', 'KEGG': '', 'HMDB': '', 'ChEBI': '', 'MetaNetX': '', 'metabolicATLAS': 'am1acs', 'recon3d': 'am1acs_c'} {'PubChem': '', 'KEGG': '', 'HMDB': '', 'ChEBI': '', 'MetaNetX': '', 'metabolicATLAS': 'am1acs', 'recon3d': 'am1acs_e'}\n",
      "{'PubChem': '', 'KEGG': '', 'HMDB': '', 'ChEBI': '', 'MetaNetX': '', 'metabolicATLAS': 'am1a4ncs', 'recon3d': 'am1a4ncs_c'} {'PubChem': '', 'KEGG': '', 'HMDB': '', 'ChEBI': '', 'MetaNetX': '', 'metabolicATLAS': 'am1a4ncs', 'recon3d': 'am1a4ncs_e'}\n",
      "{'PubChem': '', 'KEGG': '', 'HMDB': '', 'ChEBI': '', 'MetaNetX': '', 'metabolicATLAS': 'am1alcs', 'recon3d': 'am1alcs_r'} {'PubChem': '', 'KEGG': '', 'HMDB': '', 'ChEBI': '', 'MetaNetX': '', 'metabolicATLAS': 'am1alcs', 'recon3d': 'am1alcs_e'}\n",
      "{'PubChem': '', 'KEGG': '', 'HMDB': '', 'ChEBI': '', 'MetaNetX': '', 'metabolicATLAS': 'am1accs', 'recon3d': 'am1accs_r'} {'PubChem': '', 'KEGG': '', 'HMDB': '', 'ChEBI': '', 'MetaNetX': '', 'metabolicATLAS': 'am1accs', 'recon3d': 'am1accs_e'}\n",
      "{'PubChem': '', 'KEGG': '', 'HMDB': '', 'ChEBI': '', 'MetaNetX': '', 'metabolicATLAS': 'am1ccs', 'recon3d': 'am1ccs_r'} {'PubChem': '', 'KEGG': '', 'HMDB': '', 'ChEBI': '', 'MetaNetX': '', 'metabolicATLAS': 'am1ccs', 'recon3d': 'am1ccs_e'}\n",
      "{'PubChem': '', 'KEGG': '', 'HMDB': '', 'ChEBI': '', 'MetaNetX': '', 'metabolicATLAS': 'am1cglc', 'recon3d': 'am1cglc_r'} {'PubChem': '', 'KEGG': '', 'HMDB': '', 'ChEBI': '', 'MetaNetX': '', 'metabolicATLAS': 'am1cglc', 'recon3d': 'am1cglc_e'}\n",
      "{'PubChem': '', 'KEGG': '', 'HMDB': '', 'ChEBI': '', 'MetaNetX': '', 'metabolicATLAS': 'am1c4n9cs', 'recon3d': 'am1c4n9cs_c'} {'PubChem': '', 'KEGG': '', 'HMDB': '', 'ChEBI': '', 'MetaNetX': '', 'metabolicATLAS': 'am1c4n9cs', 'recon3d': 'am1c4n9cs_e'}\n",
      "{'PubChem': '', 'KEGG': '', 'HMDB': '', 'ChEBI': '', 'MetaNetX': '', 'metabolicATLAS': 'am1c9cs', 'recon3d': 'am1c9cs_c'} {'PubChem': '', 'KEGG': '', 'HMDB': '', 'ChEBI': '', 'MetaNetX': '', 'metabolicATLAS': 'am1c9cs', 'recon3d': 'am1c9cs_e'}\n",
      "{'PubChem': '', 'KEGG': '', 'HMDB': '', 'ChEBI': '', 'MetaNetX': '', 'metabolicATLAS': 'am4ncs', 'recon3d': 'am4ncs_r'} {'PubChem': '', 'KEGG': '', 'HMDB': '', 'ChEBI': '', 'MetaNetX': '', 'metabolicATLAS': 'am4ncs', 'recon3d': 'am4ncs_e'}\n",
      "{'PubChem': '', 'KEGG': '', 'HMDB': '', 'ChEBI': '', 'MetaNetX': '', 'metabolicATLAS': 'am4n9cs', 'recon3d': 'am4n9cs_c'} {'PubChem': '', 'KEGG': '', 'HMDB': '', 'ChEBI': '', 'MetaNetX': '', 'metabolicATLAS': 'am4n9cs', 'recon3d': 'am4n9cs_e'}\n",
      "{'PubChem': '', 'KEGG': '', 'HMDB': '', 'ChEBI': '', 'MetaNetX': '', 'metabolicATLAS': 'am9csa', 'recon3d': 'am9csa_r'} {'PubChem': '', 'KEGG': '', 'HMDB': '', 'ChEBI': '', 'MetaNetX': '', 'metabolicATLAS': 'am9csa', 'recon3d': 'am9csa_e'}\n",
      "{'PubChem': '83944', 'KEGG': '', 'HMDB': 'HMDB10316', 'ChEBI': 'CHEBI:32636', 'MetaNetX': '', 'metabolicATLAS': 'acmpglu', 'recon3d': 'acmpglu_r'} {'PubChem': '83944', 'KEGG': '', 'HMDB': 'HMDB10316', 'ChEBI': 'CHEBI:32636', 'MetaNetX': '', 'metabolicATLAS': 'acmpglu', 'recon3d': 'acmpglu_e'}\n",
      "{'PubChem': '', 'KEGG': '', 'HMDB': '', 'ChEBI': '', 'MetaNetX': '', 'metabolicATLAS': 'acile_L', 'recon3d': 'acile_L_m'} {'PubChem': '', 'KEGG': '', 'HMDB': '', 'ChEBI': '', 'MetaNetX': '', 'metabolicATLAS': 'acile_L', 'recon3d': 'acile_L_e'}\n",
      "{'PubChem': '', 'KEGG': '', 'HMDB': '', 'ChEBI': '', 'MetaNetX': '', 'metabolicATLAS': 'acgly', 'recon3d': 'acgly_m'} {'PubChem': '', 'KEGG': '', 'HMDB': '', 'ChEBI': '', 'MetaNetX': '', 'metabolicATLAS': 'acgly', 'recon3d': 'acgly_e'}\n",
      "{'PubChem': '', 'KEGG': '', 'HMDB': '', 'ChEBI': '', 'MetaNetX': '', 'metabolicATLAS': 'aclys', 'recon3d': 'aclys_c'} {'PubChem': '', 'KEGG': '', 'HMDB': '', 'ChEBI': '', 'MetaNetX': '', 'metabolicATLAS': 'aclys', 'recon3d': 'aclys_e'}\n",
      "{'PubChem': '', 'KEGG': '', 'HMDB': '', 'ChEBI': '', 'MetaNetX': '', 'metabolicATLAS': 'acthr_L', 'recon3d': 'acthr_L_m'} {'PubChem': '', 'KEGG': '', 'HMDB': '', 'ChEBI': '', 'MetaNetX': '', 'metabolicATLAS': 'acthr_L', 'recon3d': 'acthr_L_e'}\n",
      "{'PubChem': '', 'KEGG': '', 'HMDB': '', 'ChEBI': '', 'MetaNetX': '', 'metabolicATLAS': 'achom_L', 'recon3d': 'achom_L_m'} {'PubChem': '', 'KEGG': '', 'HMDB': '', 'ChEBI': '', 'MetaNetX': '', 'metabolicATLAS': 'achom_L', 'recon3d': 'achom_L_e'}\n",
      "{'PubChem': '196', 'KEGG': 'C06104', 'HMDB': 'HMDB00448', 'ChEBI': 'CHEBI:30832', 'MetaNetX': 'MNXM163728; MNXM163728; MNXM163728', 'metabolicATLAS': 'adpac', 'recon3d': 'adpac_c'} {'PubChem': '196', 'KEGG': 'C06104', 'HMDB': 'HMDB00448', 'ChEBI': 'CHEBI:30832', 'MetaNetX': 'MNXM163728', 'metabolicATLAS': 'adpac', 'recon3d': 'adpac_e'}\n",
      "{'PubChem': '', 'KEGG': '', 'HMDB': '', 'ChEBI': '', 'MetaNetX': 'MNXM162921; MNXM162921; MNXM162921', 'metabolicATLAS': 'c6dc', 'recon3d': 'c6dc_x'} {'PubChem': '', 'KEGG': '', 'HMDB': '', 'ChEBI': '', 'MetaNetX': 'MNXM162921', 'metabolicATLAS': 'c6dc', 'recon3d': 'c6dc_e'}\n",
      "{'PubChem': '', 'KEGG': '', 'HMDB': '', 'ChEBI': '', 'MetaNetX': 'MNXM4488; MNXM4488', 'metabolicATLAS': 'bvite', 'recon3d': 'bvite_e'} {'PubChem': '', 'KEGG': '', 'HMDB': '', 'ChEBI': '', 'MetaNetX': 'MNXM4488', 'metabolicATLAS': 'bvite', 'recon3d': 'bvite_e'}\n",
      "{'PubChem': '10133', 'KEGG': 'C02528', 'HMDB': 'HMDB00518', 'ChEBI': 'CHEBI:16755', 'MetaNetX': 'MNXM1183; MNXM1183; MNXM1183; MNXM1183', 'metabolicATLAS': 'C02528', 'recon3d': 'C02528_r'} {'PubChem': '10133', 'KEGG': 'C02528', 'HMDB': 'HMDB00518', 'ChEBI': 'CHEBI:16755', 'MetaNetX': 'MNXM1183', 'metabolicATLAS': 'C02528', 'recon3d': 'C02528_e'}\n",
      "{'PubChem': '', 'KEGG': '', 'HMDB': '', 'ChEBI': '', 'MetaNetX': '', 'metabolicATLAS': 'cdca24g', 'recon3d': 'cdca24g_c'} {'PubChem': '', 'KEGG': '', 'HMDB': '', 'ChEBI': '', 'MetaNetX': '', 'metabolicATLAS': 'cdca24g', 'recon3d': 'cdca24g_e'}\n",
      "{'PubChem': '', 'KEGG': '', 'HMDB': '', 'ChEBI': '', 'MetaNetX': '', 'metabolicATLAS': 'cdca3g', 'recon3d': 'cdca3g_c'} {'PubChem': '', 'KEGG': '', 'HMDB': '', 'ChEBI': '', 'MetaNetX': '', 'metabolicATLAS': 'cdca3g', 'recon3d': 'cdca3g_e'}\n",
      "{'PubChem': '', 'KEGG': '', 'HMDB': '', 'ChEBI': '', 'MetaNetX': 'MNXM90954; MNXM90954; MNXM90954', 'metabolicATLAS': 'xolest_hs', 'recon3d': 'xolest_hs_e'} {'PubChem': '', 'KEGG': '', 'HMDB': '', 'ChEBI': '', 'MetaNetX': 'MNXM90954', 'metabolicATLAS': 'xolest_hs', 'recon3d': 'xolest_hs_e'}\n",
      "{'PubChem': '', 'KEGG': '', 'HMDB': '', 'ChEBI': '', 'MetaNetX': '', 'metabolicATLAS': 'ca3s', 'recon3d': 'ca3s_c'} {'PubChem': '', 'KEGG': '', 'HMDB': '', 'ChEBI': '', 'MetaNetX': '', 'metabolicATLAS': 'ca3s', 'recon3d': 'ca3s_e'}\n",
      "{'PubChem': '', 'KEGG': '', 'HMDB': '', 'ChEBI': '', 'MetaNetX': '', 'metabolicATLAS': 'ca24g', 'recon3d': 'ca24g_c'} {'PubChem': '', 'KEGG': '', 'HMDB': '', 'ChEBI': '', 'MetaNetX': '', 'metabolicATLAS': 'ca24g', 'recon3d': 'ca24g_e'}\n",
      "{'PubChem': '', 'KEGG': '', 'HMDB': '', 'ChEBI': '', 'MetaNetX': '', 'metabolicATLAS': 'tetdeca511ac', 'recon3d': 'tetdeca511ac_c'} {'PubChem': '', 'KEGG': '', 'HMDB': '', 'ChEBI': '', 'MetaNetX': '', 'metabolicATLAS': 'tetdeca511ac', 'recon3d': 'tetdeca511ac_e'}\n",
      "{'PubChem': '6439848', 'KEGG': 'C16525', 'HMDB': 'HMDB05060', 'ChEBI': 'CHEBI:603631', 'MetaNetX': '', 'metabolicATLAS': 'eidi1114ac', 'recon3d': 'eidi1114ac_c'} {'PubChem': '6439848', 'KEGG': 'C16525', 'HMDB': 'HMDB05060', 'ChEBI': 'CHEBI:603631', 'MetaNetX': '', 'metabolicATLAS': 'eidi1114ac', 'recon3d': 'eidi1114ac_e'}\n",
      "{'PubChem': '', 'KEGG': '', 'HMDB': '', 'ChEBI': '', 'MetaNetX': '', 'metabolicATLAS': 'coprost', 'recon3d': 'coprost_c'} {'PubChem': '', 'KEGG': '', 'HMDB': '', 'ChEBI': '', 'MetaNetX': '', 'metabolicATLAS': 'coprost', 'recon3d': 'coprost_e'}\n",
      "{'PubChem': '540', 'KEGG': '', 'HMDB': '', 'ChEBI': '', 'MetaNetX': 'MNXM1191; MNXM1191', 'metabolicATLAS': 'cynt', 'recon3d': 'cynt_c'} {'PubChem': '540', 'KEGG': '', 'HMDB': '', 'ChEBI': '', 'MetaNetX': 'MNXM1191', 'metabolicATLAS': 'cynt', 'recon3d': 'cynt_e'}\n",
      "{'PubChem': '', 'KEGG': '', 'HMDB': '', 'ChEBI': '', 'MetaNetX': '', 'metabolicATLAS': 'CE1950', 'recon3d': 'CE1950_c'} {'PubChem': '', 'KEGG': '', 'HMDB': '', 'ChEBI': '', 'MetaNetX': '', 'metabolicATLAS': 'CE1950', 'recon3d': 'CE1950_e'}\n",
      "{'PubChem': '5460362', 'KEGG': '', 'HMDB': '', 'ChEBI': '', 'MetaNetX': 'MNXM669; MNXM669', 'metabolicATLAS': 'alaala', 'recon3d': 'alaala_c'} {'PubChem': '5460362', 'KEGG': '', 'HMDB': '', 'ChEBI': '', 'MetaNetX': 'MNXM669', 'metabolicATLAS': 'alaala', 'recon3d': 'alaala_e'}\n",
      "{'PubChem': '', 'KEGG': '', 'HMDB': '', 'ChEBI': '', 'MetaNetX': 'MNXM1018; MNXM1018', 'metabolicATLAS': 'abt_D', 'recon3d': 'abt_D_e'} {'PubChem': '', 'KEGG': '', 'HMDB': '', 'ChEBI': '', 'MetaNetX': 'MNXM1018', 'metabolicATLAS': 'abt_D', 'recon3d': 'abt_D_e'}\n",
      "{'PubChem': '', 'KEGG': 'C06377', 'HMDB': '', 'ChEBI': 'CHEBI:18232', 'MetaNetX': 'MNXM147460; MNXM147460', 'metabolicATLAS': 'galam', 'recon3d': 'galam_e'} {'PubChem': '', 'KEGG': 'C06377', 'HMDB': '', 'ChEBI': 'CHEBI:18232', 'MetaNetX': 'MNXM147460', 'metabolicATLAS': 'galam', 'recon3d': 'galam_e'}\n",
      "{'PubChem': '53481669', 'KEGG': '', 'HMDB': '', 'ChEBI': '', 'MetaNetX': '', 'metabolicATLAS': 'decdicrn', 'recon3d': 'decdicrn_c'} {'PubChem': '53481669', 'KEGG': '', 'HMDB': '', 'ChEBI': '', 'MetaNetX': '', 'metabolicATLAS': 'decdicrn', 'recon3d': 'decdicrn_e'}\n",
      "{'PubChem': '10245190', 'KEGG': '', 'HMDB': 'HMDB00651', 'ChEBI': '', 'MetaNetX': '', 'metabolicATLAS': 'c10crn', 'recon3d': 'c10crn_c'} {'PubChem': '10245190', 'KEGG': '', 'HMDB': 'HMDB00651', 'ChEBI': '', 'MetaNetX': '', 'metabolicATLAS': 'c10crn', 'recon3d': 'c10crn_e'}\n",
      "{'PubChem': '53481651', 'KEGG': '', 'HMDB': '', 'ChEBI': '', 'MetaNetX': '', 'metabolicATLAS': 'c101crn', 'recon3d': 'c101crn_c'} {'PubChem': '53481651', 'KEGG': '', 'HMDB': '', 'ChEBI': '', 'MetaNetX': '', 'metabolicATLAS': 'c101crn', 'recon3d': 'c101crn_e'}\n",
      "{'PubChem': '', 'KEGG': '', 'HMDB': '', 'ChEBI': '', 'MetaNetX': '', 'metabolicATLAS': 'dca3s', 'recon3d': 'dca3s_c'} {'PubChem': '', 'KEGG': '', 'HMDB': '', 'ChEBI': '', 'MetaNetX': '', 'metabolicATLAS': 'dca3s', 'recon3d': 'dca3s_e'}\n",
      "{'PubChem': '', 'KEGG': '', 'HMDB': '', 'ChEBI': '', 'MetaNetX': '', 'metabolicATLAS': 'dca24g', 'recon3d': 'dca24g_c'} {'PubChem': '', 'KEGG': '', 'HMDB': '', 'ChEBI': '', 'MetaNetX': '', 'metabolicATLAS': 'dca24g', 'recon3d': 'dca24g_e'}\n",
      "{'PubChem': '', 'KEGG': '', 'HMDB': 'HMDB02596', 'ChEBI': '', 'MetaNetX': '', 'metabolicATLAS': 'dca3g', 'recon3d': 'dca3g_c'} {'PubChem': '', 'KEGG': '', 'HMDB': 'HMDB02596', 'ChEBI': '', 'MetaNetX': '', 'metabolicATLAS': 'dca3g', 'recon3d': 'dca3g_e'}\n",
      "{'PubChem': '244872', 'KEGG': '', 'HMDB': '', 'ChEBI': '', 'MetaNetX': '', 'metabolicATLAS': 'docosdiac', 'recon3d': 'docosdiac_r'} {'PubChem': '244872', 'KEGG': '', 'HMDB': '', 'ChEBI': '', 'MetaNetX': '', 'metabolicATLAS': 'docosdiac', 'recon3d': 'docosdiac_e'}\n",
      "{'PubChem': '12736', 'KEGG': '', 'HMDB': '', 'ChEBI': '', 'MetaNetX': '', 'metabolicATLAS': 'dodecanac', 'recon3d': 'dodecanac_x'} {'PubChem': '12736', 'KEGG': '', 'HMDB': '', 'ChEBI': '', 'MetaNetX': '', 'metabolicATLAS': 'dodecanac', 'recon3d': 'dodecanac_e'}\n",
      "{'PubChem': '', 'KEGG': '', 'HMDB': '', 'ChEBI': '', 'MetaNetX': '', 'metabolicATLAS': 'c12dc', 'recon3d': 'c12dc_c'} {'PubChem': '', 'KEGG': '', 'HMDB': '', 'ChEBI': '', 'MetaNetX': '', 'metabolicATLAS': 'c12dc', 'recon3d': 'c12dc_e'}\n",
      "{'PubChem': '', 'KEGG': '', 'HMDB': '', 'ChEBI': '', 'MetaNetX': '', 'metabolicATLAS': 'ddece1crn', 'recon3d': 'ddece1crn_c'} {'PubChem': '', 'KEGG': '', 'HMDB': '', 'ChEBI': '', 'MetaNetX': '', 'metabolicATLAS': 'ddece1crn', 'recon3d': 'ddece1crn_e'}\n",
      "{'PubChem': '', 'KEGG': '', 'HMDB': '', 'ChEBI': '', 'MetaNetX': '', 'metabolicATLAS': 'dopa4sf', 'recon3d': 'dopa4sf_c'} {'PubChem': '', 'KEGG': '', 'HMDB': '', 'ChEBI': '', 'MetaNetX': '', 'metabolicATLAS': 'dopa4sf', 'recon3d': 'dopa4sf_e'}\n",
      "{'PubChem': '', 'KEGG': '', 'HMDB': '', 'ChEBI': '', 'MetaNetX': '', 'metabolicATLAS': 'dopa3glcur', 'recon3d': 'dopa3glcur_c'} {'PubChem': '', 'KEGG': '', 'HMDB': '', 'ChEBI': '', 'MetaNetX': '', 'metabolicATLAS': 'dopa3glcur', 'recon3d': 'dopa3glcur_e'}\n",
      "{'PubChem': '', 'KEGG': '', 'HMDB': '', 'ChEBI': '', 'MetaNetX': '', 'metabolicATLAS': 'dopa4glcur', 'recon3d': 'dopa4glcur_c'} {'PubChem': '', 'KEGG': '', 'HMDB': '', 'ChEBI': '', 'MetaNetX': '', 'metabolicATLAS': 'dopa4glcur', 'recon3d': 'dopa4glcur_e'}\n",
      "{'PubChem': '', 'KEGG': '', 'HMDB': '', 'ChEBI': '', 'MetaNetX': '', 'metabolicATLAS': 'ethmalac', 'recon3d': 'ethmalac_c'} {'PubChem': '', 'KEGG': '', 'HMDB': '', 'ChEBI': '', 'MetaNetX': '', 'metabolicATLAS': 'ethmalac', 'recon3d': 'ethmalac_e'}\n",
      "{'PubChem': '', 'KEGG': '', 'HMDB': '', 'ChEBI': '', 'MetaNetX': 'MNXM146565; MNXM146565', 'metabolicATLAS': '9_cis_retfa', 'recon3d': '9_cis_retfa_e'} {'PubChem': '', 'KEGG': '', 'HMDB': '', 'ChEBI': '', 'MetaNetX': 'MNXM146565', 'metabolicATLAS': '9_cis_retfa', 'recon3d': '9_cis_retfa_e'}\n",
      "{'PubChem': '', 'KEGG': '', 'HMDB': '', 'ChEBI': '', 'MetaNetX': 'MNXM90540; MNXM90540; MNXM90540; MNXM90540', 'metabolicATLAS': 'galgluside_hs', 'recon3d': 'galgluside_hs_c'} {'PubChem': '', 'KEGG': '', 'HMDB': '', 'ChEBI': '', 'MetaNetX': 'MNXM90540', 'metabolicATLAS': 'galgluside_hs', 'recon3d': 'galgluside_hs_e'}\n",
      "{'PubChem': '', 'KEGG': 'C04911', 'HMDB': 'HMDB00117', 'ChEBI': 'CHEBI:18216', 'MetaNetX': 'MNXM11641; MNXM11641; MNXM11641; MNXM11641; MNXM11641', 'metabolicATLAS': 'gm1_hs', 'recon3d': 'gm1_hs_g'} {'PubChem': '', 'KEGG': 'C04911', 'HMDB': 'HMDB00117', 'ChEBI': 'CHEBI:18216', 'MetaNetX': 'MNXM11641', 'metabolicATLAS': 'gm1_hs', 'recon3d': 'gm1_hs_e'}\n",
      "{'PubChem': '', 'KEGG': '', 'HMDB': '', 'ChEBI': '', 'MetaNetX': '', 'metabolicATLAS': 'glz', 'recon3d': 'glz_r'} {'PubChem': '', 'KEGG': '', 'HMDB': '', 'ChEBI': '', 'MetaNetX': '', 'metabolicATLAS': 'glz', 'recon3d': 'glz_e'}\n",
      "{'PubChem': '', 'KEGG': '', 'HMDB': '', 'ChEBI': '', 'MetaNetX': '', 'metabolicATLAS': 'glutcon', 'recon3d': 'glutcon_m'} {'PubChem': '', 'KEGG': '', 'HMDB': '', 'ChEBI': '', 'MetaNetX': '', 'metabolicATLAS': 'glutcon', 'recon3d': 'glutcon_e'}\n",
      "{'PubChem': '743', 'KEGG': 'C00489', 'HMDB': '', 'ChEBI': 'CHEBI:17859', 'MetaNetX': 'MNXM1021; MNXM1021', 'metabolicATLAS': 'glutar', 'recon3d': 'glutar_e'} {'PubChem': '743', 'KEGG': 'C00489', 'HMDB': '', 'ChEBI': 'CHEBI:17859', 'MetaNetX': 'MNXM1021', 'metabolicATLAS': 'glutar', 'recon3d': 'glutar_e'}\n",
      "{'PubChem': '53481622', 'KEGG': '', 'HMDB': '', 'ChEBI': '', 'MetaNetX': '', 'metabolicATLAS': 'c5dc', 'recon3d': 'c5dc_c'} {'PubChem': '53481622', 'KEGG': '', 'HMDB': '', 'ChEBI': '', 'MetaNetX': '', 'metabolicATLAS': 'c5dc', 'recon3d': 'c5dc_e'}\n",
      "{'PubChem': '', 'KEGG': '', 'HMDB': '', 'ChEBI': '', 'MetaNetX': 'MNXM2527; MNXM2527', 'metabolicATLAS': 'glyc2p', 'recon3d': 'glyc2p_c'} {'PubChem': '', 'KEGG': '', 'HMDB': '', 'ChEBI': '', 'MetaNetX': 'MNXM2527', 'metabolicATLAS': 'glyc2p', 'recon3d': 'glyc2p_e'}\n",
      "{'PubChem': '', 'KEGG': '', 'HMDB': '', 'ChEBI': '', 'MetaNetX': '', 'metabolicATLAS': 'gcdca3s', 'recon3d': 'gcdca3s_c'} {'PubChem': '', 'KEGG': '', 'HMDB': '', 'ChEBI': '', 'MetaNetX': '', 'metabolicATLAS': 'gcdca3s', 'recon3d': 'gcdca3s_e'}\n",
      "{'PubChem': '', 'KEGG': '', 'HMDB': '', 'ChEBI': '', 'MetaNetX': '', 'metabolicATLAS': 'gca3s', 'recon3d': 'gca3s_c'} {'PubChem': '', 'KEGG': '', 'HMDB': '', 'ChEBI': '', 'MetaNetX': '', 'metabolicATLAS': 'gca3s', 'recon3d': 'gca3s_e'}\n",
      "{'PubChem': '', 'KEGG': '', 'HMDB': '', 'ChEBI': '', 'MetaNetX': '', 'metabolicATLAS': 'gdca3s', 'recon3d': 'gdca3s_c'} {'PubChem': '', 'KEGG': '', 'HMDB': '', 'ChEBI': '', 'MetaNetX': '', 'metabolicATLAS': 'gdca3s', 'recon3d': 'gdca3s_e'}\n",
      "{'PubChem': '', 'KEGG': '', 'HMDB': '', 'ChEBI': '', 'MetaNetX': '', 'metabolicATLAS': 'gudca3s', 'recon3d': 'gudca3s_c'} {'PubChem': '', 'KEGG': '', 'HMDB': '', 'ChEBI': '', 'MetaNetX': '', 'metabolicATLAS': 'gudca3s', 'recon3d': 'gudca3s_e'}\n",
      "{'PubChem': '11163', 'KEGG': '', 'HMDB': '', 'ChEBI': '', 'MetaNetX': 'MNXM4002; MNXM4002', 'metabolicATLAS': 'glygly', 'recon3d': 'glygly_c'} {'PubChem': '11163', 'KEGG': '', 'HMDB': '', 'ChEBI': '', 'MetaNetX': 'MNXM4002', 'metabolicATLAS': 'glygly', 'recon3d': 'glygly_e'}\n",
      "{'PubChem': '', 'KEGG': '', 'HMDB': 'HMDB0028848', 'ChEBI': '', 'MetaNetX': 'MNXM8669; MNXM8669', 'metabolicATLAS': 'glyphe', 'recon3d': 'glyphe_e'} {'PubChem': '', 'KEGG': '', 'HMDB': 'HMDB0028848', 'ChEBI': '', 'MetaNetX': 'MNXM8669', 'metabolicATLAS': 'glyphe', 'recon3d': 'glyphe_e'}\n",
      "{'PubChem': '92843', 'KEGG': 'C02155', 'HMDB': 'HMDB00759', 'ChEBI': 'CHEBI:185298', 'MetaNetX': 'MNXM126241; MNXM126241', 'metabolicATLAS': 'glyleu', 'recon3d': 'glyleu_c'} {'PubChem': '92843', 'KEGG': 'C02155', 'HMDB': 'HMDB00759', 'ChEBI': 'CHEBI:185298', 'MetaNetX': 'MNXM126241', 'metabolicATLAS': 'glyleu', 'recon3d': 'glyleu_e'}\n",
      "{'PubChem': '79101', 'KEGG': '', 'HMDB': 'HMDB00721', 'ChEBI': 'CHEBI:356660', 'MetaNetX': 'MNXM11725; MNXM11725', 'metabolicATLAS': 'glypro', 'recon3d': 'glypro_e'} {'PubChem': '79101', 'KEGG': '', 'HMDB': 'HMDB00721', 'ChEBI': 'CHEBI:356660', 'MetaNetX': 'MNXM11725', 'metabolicATLAS': 'glypro', 'recon3d': 'glypro_e'}\n",
      "{'PubChem': '93131', 'KEGG': '', 'HMDB': '', 'ChEBI': '', 'MetaNetX': 'MNXM55458; MNXM55458', 'metabolicATLAS': 'glysar', 'recon3d': 'glysar_c'} {'PubChem': '93131', 'KEGG': '', 'HMDB': '', 'ChEBI': '', 'MetaNetX': 'MNXM55458', 'metabolicATLAS': 'glysar', 'recon3d': 'glysar_e'}\n",
      "{'PubChem': '', 'KEGG': '', 'HMDB': '', 'ChEBI': '', 'MetaNetX': 'MNXM164821; MNXM164821', 'metabolicATLAS': 'HC02154', 'recon3d': 'HC02154_c'} {'PubChem': '', 'KEGG': '', 'HMDB': '', 'ChEBI': '', 'MetaNetX': 'MNXM164821', 'metabolicATLAS': 'HC02154', 'recon3d': 'HC02154_e'}\n",
      "{'PubChem': '10459', 'KEGG': '', 'HMDB': '', 'ChEBI': '', 'MetaNetX': '', 'metabolicATLAS': 'hexdiac', 'recon3d': 'hexdiac_r'} {'PubChem': '10459', 'KEGG': '', 'HMDB': '', 'ChEBI': '', 'MetaNetX': '', 'metabolicATLAS': 'hexdiac', 'recon3d': 'hexdiac_e'}\n"
     ]
    },
    {
     "output_type": "stream",
     "name": "stdout",
     "text": [
      "{'PubChem': '566787', 'KEGG': '', 'HMDB': '', 'ChEBI': '', 'MetaNetX': '', 'metabolicATLAS': 'c16dc', 'recon3d': 'c16dc_c'} {'PubChem': '566787', 'KEGG': '', 'HMDB': '', 'ChEBI': '', 'MetaNetX': '', 'metabolicATLAS': 'c16dc', 'recon3d': 'c16dc_e'}\n",
      "{'PubChem': '', 'KEGG': '', 'HMDB': '', 'ChEBI': '', 'MetaNetX': 'MNXM1653; MNXM1653; MNXM1653; MNXM1653', 'metabolicATLAS': 'hxa', 'recon3d': 'hxa_c'} {'PubChem': '', 'KEGG': '', 'HMDB': '', 'ChEBI': '', 'MetaNetX': 'MNXM1653', 'metabolicATLAS': 'hxa', 'recon3d': 'hxa_e'}\n",
      "{'PubChem': '6426853', 'KEGG': '', 'HMDB': '', 'ChEBI': '', 'MetaNetX': '', 'metabolicATLAS': 'c6crn', 'recon3d': 'c6crn_c'} {'PubChem': '6426853', 'KEGG': '', 'HMDB': '', 'ChEBI': '', 'MetaNetX': '', 'metabolicATLAS': 'c6crn', 'recon3d': 'c6crn_e'}\n",
      "{'PubChem': '', 'KEGG': '', 'HMDB': '', 'ChEBI': '', 'MetaNetX': '', 'metabolicATLAS': 'hexgly', 'recon3d': 'hexgly_c'} {'PubChem': '', 'KEGG': '', 'HMDB': '', 'ChEBI': '', 'MetaNetX': '', 'metabolicATLAS': 'hexgly', 'recon3d': 'hexgly_e'}\n",
      "{'PubChem': '', 'KEGG': '', 'HMDB': '', 'ChEBI': '', 'MetaNetX': '', 'metabolicATLAS': 'hmcarn', 'recon3d': 'hmcarn_c'} {'PubChem': '', 'KEGG': '', 'HMDB': '', 'ChEBI': '', 'MetaNetX': '', 'metabolicATLAS': 'hmcarn', 'recon3d': 'hmcarn_e'}\n",
      "{'PubChem': '', 'KEGG': '', 'HMDB': '', 'ChEBI': '', 'MetaNetX': '', 'metabolicATLAS': 'hmcr', 'recon3d': 'hmcr_c'} {'PubChem': '', 'KEGG': '', 'HMDB': '', 'ChEBI': '', 'MetaNetX': '', 'metabolicATLAS': 'hmcr', 'recon3d': 'hmcr_e'}\n",
      "{'PubChem': '', 'KEGG': '', 'HMDB': '', 'ChEBI': '', 'MetaNetX': '', 'metabolicATLAS': 'hca24g', 'recon3d': 'hca24g_c'} {'PubChem': '', 'KEGG': '', 'HMDB': '', 'ChEBI': '', 'MetaNetX': '', 'metabolicATLAS': 'hca24g', 'recon3d': 'hca24g_e'}\n",
      "{'PubChem': '', 'KEGG': '', 'HMDB': '', 'ChEBI': '', 'MetaNetX': '', 'metabolicATLAS': 'hca6g', 'recon3d': 'hca6g_c'} {'PubChem': '', 'KEGG': '', 'HMDB': '', 'ChEBI': '', 'MetaNetX': '', 'metabolicATLAS': 'hca6g', 'recon3d': 'hca6g_e'}\n",
      "{'PubChem': '96023992', 'KEGG': 'C17649', 'HMDB': 'HMDB00760', 'ChEBI': 'CHEBI:81244', 'MetaNetX': '', 'metabolicATLAS': 'hyochol', 'recon3d': 'hyochol_c'} {'PubChem': '96023992', 'KEGG': 'C17649', 'HMDB': 'HMDB00760', 'ChEBI': 'CHEBI:81244', 'MetaNetX': '', 'metabolicATLAS': 'hyochol', 'recon3d': 'hyochol_e'}\n",
      "{'PubChem': '', 'KEGG': '', 'HMDB': '', 'ChEBI': '', 'MetaNetX': '', 'metabolicATLAS': 'hdca24g', 'recon3d': 'hdca24g_c'} {'PubChem': '', 'KEGG': '', 'HMDB': '', 'ChEBI': '', 'MetaNetX': '', 'metabolicATLAS': 'hdca24g', 'recon3d': 'hdca24g_e'}\n",
      "{'PubChem': '', 'KEGG': '', 'HMDB': '', 'ChEBI': '', 'MetaNetX': '', 'metabolicATLAS': 'hdca6g', 'recon3d': 'hdca6g_c'} {'PubChem': '', 'KEGG': '', 'HMDB': '', 'ChEBI': '', 'MetaNetX': '', 'metabolicATLAS': 'hdca6g', 'recon3d': 'hdca6g_e'}\n",
      "{'PubChem': '', 'KEGG': '', 'HMDB': '', 'ChEBI': '', 'MetaNetX': 'MNXM377; MNXM377', 'metabolicATLAS': 'indole', 'recon3d': 'indole_c'} {'PubChem': '', 'KEGG': '', 'HMDB': '', 'ChEBI': '', 'MetaNetX': 'MNXM377', 'metabolicATLAS': 'indole', 'recon3d': 'indole_e'}\n",
      "{'PubChem': '', 'KEGG': '', 'HMDB': '', 'ChEBI': '', 'MetaNetX': '', 'metabolicATLAS': 'inds', 'recon3d': 'inds_c'} {'PubChem': '', 'KEGG': '', 'HMDB': '', 'ChEBI': '', 'MetaNetX': '', 'metabolicATLAS': 'inds', 'recon3d': 'inds_e'}\n",
      "{'PubChem': '', 'KEGG': '', 'HMDB': '', 'ChEBI': '', 'MetaNetX': '', 'metabolicATLAS': 'isochol', 'recon3d': 'isochol_c'} {'PubChem': '', 'KEGG': '', 'HMDB': '', 'ChEBI': '', 'MetaNetX': '', 'metabolicATLAS': 'isochol', 'recon3d': 'isochol_e'}\n",
      "{'PubChem': '', 'KEGG': '', 'HMDB': '', 'ChEBI': '', 'MetaNetX': '', 'metabolicATLAS': 'icdchol', 'recon3d': 'icdchol_c'} {'PubChem': '', 'KEGG': '', 'HMDB': '', 'ChEBI': '', 'MetaNetX': '', 'metabolicATLAS': 'icdchol', 'recon3d': 'icdchol_e'}\n",
      "{'PubChem': '6426851', 'KEGG': '', 'HMDB': '', 'ChEBI': '', 'MetaNetX': 'MNXM105848; MNXM105848', 'metabolicATLAS': 'ivcrn', 'recon3d': 'ivcrn_c'} {'PubChem': '6426851', 'KEGG': '', 'HMDB': '', 'ChEBI': '', 'MetaNetX': 'MNXM105848', 'metabolicATLAS': 'ivcrn', 'recon3d': 'ivcrn_e'}\n",
      "{'PubChem': '', 'KEGG': '', 'HMDB': '', 'ChEBI': '', 'MetaNetX': '', 'metabolicATLAS': 'Lhcystin', 'recon3d': 'Lhcystin_c'} {'PubChem': '', 'KEGG': '', 'HMDB': '', 'ChEBI': '', 'MetaNetX': '', 'metabolicATLAS': 'Lhcystin', 'recon3d': 'Lhcystin_e'}\n",
      "{'PubChem': '6426709', 'KEGG': '', 'HMDB': '', 'ChEBI': '', 'MetaNetX': 'MNXM7481; MNXM7481', 'metabolicATLAS': 'progly', 'recon3d': 'progly_e'} {'PubChem': '6426709', 'KEGG': '', 'HMDB': '', 'ChEBI': '', 'MetaNetX': 'MNXM7481', 'metabolicATLAS': 'progly', 'recon3d': 'progly_e'}\n",
      "{'PubChem': '168381', 'KEGG': '', 'HMDB': '', 'ChEBI': '', 'MetaNetX': '', 'metabolicATLAS': 'ddeccrn', 'recon3d': 'ddeccrn_c'} {'PubChem': '168381', 'KEGG': '', 'HMDB': '', 'ChEBI': '', 'MetaNetX': '', 'metabolicATLAS': 'ddeccrn', 'recon3d': 'ddeccrn_e'}\n",
      "{'PubChem': '', 'KEGG': '', 'HMDB': '', 'ChEBI': '', 'MetaNetX': 'MNXM8835; MNXM8835; MNXM8835', 'metabolicATLAS': 'fucfucgalacglcgalgluside_hs', 'recon3d': 'fucfucgalacglcgalgluside_hs_e'} {'PubChem': '', 'KEGG': '', 'HMDB': '', 'ChEBI': '', 'MetaNetX': 'MNXM8835', 'metabolicATLAS': 'fucfucgalacglcgalgluside_hs', 'recon3d': 'fucfucgalacglcgalgluside_hs_e'}\n",
      "{'PubChem': '', 'KEGG': '', 'HMDB': 'HMDB0028929', 'ChEBI': '', 'MetaNetX': 'MNXM127273; MNXM127273', 'metabolicATLAS': 'leugly', 'recon3d': 'leugly_e'} {'PubChem': '', 'KEGG': '', 'HMDB': 'HMDB0028929', 'ChEBI': '', 'MetaNetX': 'MNXM127273', 'metabolicATLAS': 'leugly', 'recon3d': 'leugly_e'}\n",
      "{'PubChem': '94244', 'KEGG': '', 'HMDB': '', 'ChEBI': '', 'MetaNetX': 'MNXM157161; MNXM157161', 'metabolicATLAS': 'leuleu', 'recon3d': 'leuleu_c'} {'PubChem': '94244', 'KEGG': '', 'HMDB': '', 'ChEBI': '', 'MetaNetX': 'MNXM157161', 'metabolicATLAS': 'leuleu', 'recon3d': 'leuleu_e'}\n",
      "{'PubChem': '', 'KEGG': '', 'HMDB': '', 'ChEBI': '', 'MetaNetX': 'MNXM8840; MNXM8840; MNXM8840', 'metabolicATLAS': 'fucfuc12gal14acglcgalgluside_hs', 'recon3d': 'fucfuc12gal14acglcgalgluside_hs_e'} {'PubChem': '', 'KEGG': '', 'HMDB': '', 'ChEBI': '', 'MetaNetX': 'MNXM8840', 'metabolicATLAS': 'fucfuc12gal14acglcgalgluside_hs', 'recon3d': 'fucfuc12gal14acglcgalgluside_hs_e'}\n",
      "{'PubChem': '', 'KEGG': '', 'HMDB': '', 'ChEBI': '', 'MetaNetX': '', 'metabolicATLAS': 'lca3s', 'recon3d': 'lca3s_c'} {'PubChem': '', 'KEGG': '', 'HMDB': '', 'ChEBI': '', 'MetaNetX': '', 'metabolicATLAS': 'lca3s', 'recon3d': 'lca3s_e'}\n",
      "{'PubChem': '', 'KEGG': '', 'HMDB': '', 'ChEBI': '', 'MetaNetX': '', 'metabolicATLAS': 'lca24g', 'recon3d': 'lca24g_c'} {'PubChem': '', 'KEGG': '', 'HMDB': '', 'ChEBI': '', 'MetaNetX': '', 'metabolicATLAS': 'lca24g', 'recon3d': 'lca24g_e'}\n",
      "{'PubChem': '', 'KEGG': '', 'HMDB': '', 'ChEBI': '', 'MetaNetX': '', 'metabolicATLAS': 'lca3g', 'recon3d': 'lca3g_c'} {'PubChem': '', 'KEGG': '', 'HMDB': '', 'ChEBI': '', 'MetaNetX': '', 'metabolicATLAS': 'lca3g', 'recon3d': 'lca3g_e'}\n",
      "{'PubChem': '22833583', 'KEGG': '', 'HMDB': '', 'ChEBI': '', 'MetaNetX': '', 'metabolicATLAS': 'c3dc', 'recon3d': 'c3dc_c'} {'PubChem': '22833583', 'KEGG': '', 'HMDB': '', 'ChEBI': '', 'MetaNetX': '', 'metabolicATLAS': 'c3dc', 'recon3d': 'c3dc_e'}\n",
      "{'PubChem': '439639', 'KEGG': '', 'HMDB': '', 'ChEBI': '', 'MetaNetX': 'MNXM5663; MNXM5663', 'metabolicATLAS': 'maltttr', 'recon3d': 'maltttr_c'} {'PubChem': '439639', 'KEGG': '', 'HMDB': '', 'ChEBI': '', 'MetaNetX': 'MNXM5663', 'metabolicATLAS': 'maltttr', 'recon3d': 'maltttr_e'}\n",
      "{'PubChem': '9988135', 'KEGG': '', 'HMDB': '', 'ChEBI': '', 'MetaNetX': '', 'metabolicATLAS': 'mqn10', 'recon3d': 'mqn10_c'} {'PubChem': '9988135', 'KEGG': '', 'HMDB': '', 'ChEBI': '', 'MetaNetX': '', 'metabolicATLAS': 'mqn10', 'recon3d': 'mqn10_e'}\n",
      "{'PubChem': '6442190', 'KEGG': '', 'HMDB': '', 'ChEBI': '', 'MetaNetX': '', 'metabolicATLAS': 'mqn11', 'recon3d': 'mqn11_c'} {'PubChem': '6442190', 'KEGG': '', 'HMDB': '', 'ChEBI': '', 'MetaNetX': '', 'metabolicATLAS': 'mqn11', 'recon3d': 'mqn11_e'}\n",
      "{'PubChem': '5287554', 'KEGG': '', 'HMDB': '', 'ChEBI': '', 'MetaNetX': 'MNXM12236; MNXM12236', 'metabolicATLAS': 'mqn7', 'recon3d': 'mqn7_c'} {'PubChem': '5287554', 'KEGG': '', 'HMDB': '', 'ChEBI': '', 'MetaNetX': 'MNXM12236', 'metabolicATLAS': 'mqn7', 'recon3d': 'mqn7_e'}\n",
      "{'PubChem': '5376507', 'KEGG': '', 'HMDB': '', 'ChEBI': '', 'MetaNetX': 'MNXM509; MNXM509', 'metabolicATLAS': 'mqn8', 'recon3d': 'mqn8_c'} {'PubChem': '5376507', 'KEGG': '', 'HMDB': '', 'ChEBI': '', 'MetaNetX': 'MNXM509', 'metabolicATLAS': 'mqn8', 'recon3d': 'mqn8_e'}\n",
      "{'PubChem': '6289935', 'KEGG': '', 'HMDB': '', 'ChEBI': '', 'MetaNetX': '', 'metabolicATLAS': 'mqn9', 'recon3d': 'mqn9_c'} {'PubChem': '6289935', 'KEGG': '', 'HMDB': '', 'ChEBI': '', 'MetaNetX': '', 'metabolicATLAS': 'mqn9', 'recon3d': 'mqn9_e'}\n",
      "{'PubChem': '878', 'KEGG': '', 'HMDB': '', 'ChEBI': '', 'MetaNetX': 'MNXM652; MNXM652', 'metabolicATLAS': 'ch4s', 'recon3d': 'ch4s_c'} {'PubChem': '878', 'KEGG': '', 'HMDB': '', 'ChEBI': '', 'MetaNetX': 'MNXM652', 'metabolicATLAS': 'ch4s', 'recon3d': 'ch4s_e'}\n",
      "{'PubChem': '', 'KEGG': '', 'HMDB': '', 'ChEBI': '', 'MetaNetX': '', 'metabolicATLAS': 'methsucc', 'recon3d': 'methsucc_c'} {'PubChem': '', 'KEGG': '', 'HMDB': '', 'ChEBI': '', 'MetaNetX': '', 'metabolicATLAS': 'methsucc', 'recon3d': 'methsucc_e'}\n",
      "{'PubChem': '', 'KEGG': '', 'HMDB': '', 'ChEBI': '', 'MetaNetX': '', 'metabolicATLAS': 'mhglz', 'recon3d': 'mhglz_r'} {'PubChem': '', 'KEGG': '', 'HMDB': '', 'ChEBI': '', 'MetaNetX': '', 'metabolicATLAS': 'mhglz', 'recon3d': 'mhglz_e'}\n",
      "{'PubChem': '', 'KEGG': '', 'HMDB': '', 'ChEBI': '', 'MetaNetX': '', 'metabolicATLAS': 'mvlac', 'recon3d': 'mvlac_c'} {'PubChem': '', 'KEGG': '', 'HMDB': '', 'ChEBI': '', 'MetaNetX': '', 'metabolicATLAS': 'mvlac', 'recon3d': 'mvlac_e'}\n",
      "{'PubChem': '', 'KEGG': '', 'HMDB': '', 'ChEBI': '', 'MetaNetX': '', 'metabolicATLAS': 'mdz', 'recon3d': 'mdz_r'} {'PubChem': '', 'KEGG': '', 'HMDB': '', 'ChEBI': '', 'MetaNetX': '', 'metabolicATLAS': 'mdz', 'recon3d': 'mdz_e'}\n",
      "{'PubChem': '', 'KEGG': '', 'HMDB': '', 'ChEBI': '', 'MetaNetX': '', 'metabolicATLAS': 'actyr', 'recon3d': 'actyr_m'} {'PubChem': '', 'KEGG': '', 'HMDB': '', 'ChEBI': '', 'MetaNetX': '', 'metabolicATLAS': 'actyr', 'recon3d': 'actyr_e'}\n",
      "{'PubChem': '', 'KEGG': '', 'HMDB': '', 'ChEBI': '', 'MetaNetX': '', 'metabolicATLAS': 'acleu_L', 'recon3d': 'acleu_L_m'} {'PubChem': '', 'KEGG': '', 'HMDB': '', 'ChEBI': '', 'MetaNetX': '', 'metabolicATLAS': 'acleu_L', 'recon3d': 'acleu_L_e'}\n",
      "{'PubChem': '', 'KEGG': '', 'HMDB': '', 'ChEBI': '', 'MetaNetX': '', 'metabolicATLAS': 'nacvanala', 'recon3d': 'nacvanala_m'} {'PubChem': '', 'KEGG': '', 'HMDB': '', 'ChEBI': '', 'MetaNetX': '', 'metabolicATLAS': 'nacvanala', 'recon3d': 'nacvanala_e'}\n",
      "{'PubChem': '', 'KEGG': '', 'HMDB': '', 'ChEBI': '', 'MetaNetX': '', 'metabolicATLAS': 'desfvs', 'recon3d': 'desfvs_r'} {'PubChem': '', 'KEGG': '', 'HMDB': '', 'ChEBI': '', 'MetaNetX': '', 'metabolicATLAS': 'desfvs', 'recon3d': 'desfvs_e'}\n",
      "{'PubChem': '53481667', 'KEGG': '', 'HMDB': '', 'ChEBI': '', 'MetaNetX': '', 'metabolicATLAS': 'c81crn', 'recon3d': 'c81crn_c'} {'PubChem': '53481667', 'KEGG': '', 'HMDB': '', 'ChEBI': '', 'MetaNetX': '', 'metabolicATLAS': 'c81crn', 'recon3d': 'c81crn_e'}\n",
      "{'PubChem': '2879', 'KEGG': 'C01468', 'HMDB': 'HMDB01858', 'ChEBI': 'CHEBI:17847', 'MetaNetX': '', 'metabolicATLAS': 'pcresol', 'recon3d': 'pcresol_c'} {'PubChem': '2879', 'KEGG': 'C01468', 'HMDB': 'HMDB01858', 'ChEBI': 'CHEBI:17847', 'MetaNetX': '', 'metabolicATLAS': 'pcresol', 'recon3d': 'pcresol_e'}\n",
      "{'PubChem': '4615423', 'KEGG': '', 'HMDB': 'HMDB11635', 'ChEBI': '', 'MetaNetX': '', 'metabolicATLAS': 'pcs', 'recon3d': 'pcs_c'} {'PubChem': '4615423', 'KEGG': '', 'HMDB': 'HMDB11635', 'ChEBI': '', 'MetaNetX': '', 'metabolicATLAS': 'pcs', 'recon3d': 'pcs_e'}\n",
      "{'PubChem': '', 'KEGG': '', 'HMDB': '', 'ChEBI': '', 'MetaNetX': 'MNXM4775; MNXM4775; MNXM4775', 'metabolicATLAS': 'pheacgly', 'recon3d': 'pheacgly_m'} {'PubChem': '', 'KEGG': '', 'HMDB': '', 'ChEBI': '', 'MetaNetX': 'MNXM4775', 'metabolicATLAS': 'pheacgly', 'recon3d': 'pheacgly_e'}\n",
      "{'PubChem': '', 'KEGG': '', 'HMDB': '', 'ChEBI': '', 'MetaNetX': '', 'metabolicATLAS': 'phacgly', 'recon3d': 'phacgly_c'} {'PubChem': '', 'KEGG': '', 'HMDB': '', 'ChEBI': '', 'MetaNetX': '', 'metabolicATLAS': 'phacgly', 'recon3d': 'phacgly_e'}\n",
      "{'PubChem': '', 'KEGG': '', 'HMDB': '', 'ChEBI': '', 'MetaNetX': '', 'metabolicATLAS': 'phlac', 'recon3d': 'phlac_c'} {'PubChem': '', 'KEGG': '', 'HMDB': '', 'ChEBI': '', 'MetaNetX': '', 'metabolicATLAS': 'phlac', 'recon3d': 'phlac_e'}\n",
      "{'PubChem': '26840', 'KEGG': 'C01607', 'HMDB': 'HMDB00801', 'ChEBI': 'CHEBI:16285', 'MetaNetX': 'MNXM91275; MNXM91275; MNXM91275', 'metabolicATLAS': 'phyt', 'recon3d': 'phyt_e'} {'PubChem': '26840', 'KEGG': 'C01607', 'HMDB': 'HMDB00801', 'ChEBI': 'CHEBI:16285', 'MetaNetX': 'MNXM91275', 'metabolicATLAS': 'phyt', 'recon3d': 'phyt_e'}\n",
      "{'PubChem': '', 'KEGG': '', 'HMDB': '', 'ChEBI': '', 'MetaNetX': '', 'metabolicATLAS': 'ppiogly', 'recon3d': 'ppiogly_m'} {'PubChem': '', 'KEGG': '', 'HMDB': '', 'ChEBI': '', 'MetaNetX': '', 'metabolicATLAS': 'ppiogly', 'recon3d': 'ppiogly_e'}\n",
      "{'PubChem': '', 'KEGG': '', 'HMDB': '', 'ChEBI': '', 'MetaNetX': 'MNXM4098; MNXM4098; MNXM4098; MNXM4098; MNXM4098; MNXM4098', 'metabolicATLAS': 'Rtotal', 'recon3d': 'Rtotal_x'} {'PubChem': '', 'KEGG': '', 'HMDB': '', 'ChEBI': '', 'MetaNetX': 'MNXM4098', 'metabolicATLAS': 'Rtotal', 'recon3d': 'Rtotal_e'}\n",
      "{'PubChem': '', 'KEGG': '', 'HMDB': '', 'ChEBI': '', 'MetaNetX': 'MNXM2723; MNXM2723', 'metabolicATLAS': 'Rtotal2', 'recon3d': 'Rtotal2_c'} {'PubChem': '', 'KEGG': '', 'HMDB': '', 'ChEBI': '', 'MetaNetX': 'MNXM2723', 'metabolicATLAS': 'Rtotal2', 'recon3d': 'Rtotal2_e'}\n",
      "{'PubChem': '', 'KEGG': '', 'HMDB': '', 'ChEBI': '', 'MetaNetX': 'MNXM9076; MNXM9076', 'metabolicATLAS': 'Rtotal3', 'recon3d': 'Rtotal3_c'} {'PubChem': '', 'KEGG': '', 'HMDB': '', 'ChEBI': '', 'MetaNetX': 'MNXM9076', 'metabolicATLAS': 'Rtotal3', 'recon3d': 'Rtotal3_e'}\n",
      "{'PubChem': '', 'KEGG': '', 'HMDB': '', 'ChEBI': '', 'MetaNetX': '', 'metabolicATLAS': 'caribup_R', 'recon3d': 'caribup_R_c'} {'PubChem': '', 'KEGG': '', 'HMDB': '', 'ChEBI': '', 'MetaNetX': '', 'metabolicATLAS': 'caribup_R', 'recon3d': 'caribup_R_e'}\n",
      "{'PubChem': '115015', 'KEGG': 'C05824', 'HMDB': 'HMDB00731', 'ChEBI': 'CHEBI:27891', 'MetaNetX': 'MNXM2428; MNXM2428', 'metabolicATLAS': 'slfcys', 'recon3d': 'slfcys_e'} {'PubChem': '115015', 'KEGG': 'C05824', 'HMDB': 'HMDB00731', 'ChEBI': 'CHEBI:27891', 'MetaNetX': 'MNXM2428', 'metabolicATLAS': 'slfcys', 'recon3d': 'slfcys_e'}\n",
      "{'PubChem': '', 'KEGG': '', 'HMDB': '', 'ChEBI': '', 'MetaNetX': '', 'metabolicATLAS': 'caribup_s', 'recon3d': 'caribup_s_r'} {'PubChem': '', 'KEGG': '', 'HMDB': '', 'ChEBI': '', 'MetaNetX': '', 'metabolicATLAS': 'caribup_s', 'recon3d': 'caribup_s_e'}\n",
      "{'PubChem': '', 'KEGG': '', 'HMDB': '', 'ChEBI': '', 'MetaNetX': '', 'metabolicATLAS': 'caribupglu_S', 'recon3d': 'caribupglu_S_c'} {'PubChem': '', 'KEGG': '', 'HMDB': '', 'ChEBI': '', 'MetaNetX': '', 'metabolicATLAS': 'caribupglu_S', 'recon3d': 'caribupglu_S_e'}\n",
      "{'PubChem': '5192', 'KEGG': 'C08277', 'HMDB': 'HMDB00792', 'ChEBI': 'CHEBI:41865', 'MetaNetX': 'MNXM163575; MNXM163575; MNXM163575', 'metabolicATLAS': 'sebacid', 'recon3d': 'sebacid_c'} {'PubChem': '5192', 'KEGG': 'C08277', 'HMDB': 'HMDB00792', 'ChEBI': 'CHEBI:41865', 'MetaNetX': 'MNXM163575', 'metabolicATLAS': 'sebacid', 'recon3d': 'sebacid_e'}\n",
      "{'PubChem': '', 'KEGG': '', 'HMDB': '', 'ChEBI': '', 'MetaNetX': 'MNXM162993; MNXM162993; MNXM162993', 'metabolicATLAS': 'c10dc', 'recon3d': 'c10dc_x'} {'PubChem': '', 'KEGG': '', 'HMDB': '', 'ChEBI': '', 'MetaNetX': 'MNXM162993', 'metabolicATLAS': 'c10dc', 'recon3d': 'c10dc_e'}\n",
      "{'PubChem': '', 'KEGG': '', 'HMDB': '', 'ChEBI': '', 'MetaNetX': '', 'metabolicATLAS': 'sphmyln1824_hs', 'recon3d': 'sphmyln1824_hs_c'} {'PubChem': '', 'KEGG': '', 'HMDB': '', 'ChEBI': '', 'MetaNetX': '', 'metabolicATLAS': 'sphmyln1824_hs', 'recon3d': 'sphmyln1824_hs_e'}\n",
      "{'PubChem': '', 'KEGG': '', 'HMDB': '', 'ChEBI': '', 'MetaNetX': '', 'metabolicATLAS': 'sphmyln180241_hs', 'recon3d': 'sphmyln180241_hs_c'} {'PubChem': '', 'KEGG': '', 'HMDB': '', 'ChEBI': '', 'MetaNetX': '', 'metabolicATLAS': 'sphmyln180241_hs', 'recon3d': 'sphmyln180241_hs_e'}\n",
      "{'PubChem': '', 'KEGG': '', 'HMDB': '', 'ChEBI': '', 'MetaNetX': '', 'metabolicATLAS': 'sphmyln1825_hs', 'recon3d': 'sphmyln1825_hs_c'} {'PubChem': '', 'KEGG': '', 'HMDB': '', 'ChEBI': '', 'MetaNetX': '', 'metabolicATLAS': 'sphmyln1825_hs', 'recon3d': 'sphmyln1825_hs_e'}\n",
      "{'PubChem': '', 'KEGG': '', 'HMDB': '', 'ChEBI': '', 'MetaNetX': '', 'metabolicATLAS': 'sphmyln18114_hs', 'recon3d': 'sphmyln18114_hs_c'} {'PubChem': '', 'KEGG': '', 'HMDB': '', 'ChEBI': '', 'MetaNetX': '', 'metabolicATLAS': 'sphmyln18114_hs', 'recon3d': 'sphmyln18114_hs_e'}\n",
      "{'PubChem': '', 'KEGG': '', 'HMDB': '', 'ChEBI': '', 'MetaNetX': '', 'metabolicATLAS': 'sphmyln18115_hs', 'recon3d': 'sphmyln18115_hs_c'} {'PubChem': '', 'KEGG': '', 'HMDB': '', 'ChEBI': '', 'MetaNetX': '', 'metabolicATLAS': 'sphmyln18115_hs', 'recon3d': 'sphmyln18115_hs_e'}\n",
      "{'PubChem': '', 'KEGG': '', 'HMDB': '', 'ChEBI': '', 'MetaNetX': '', 'metabolicATLAS': 'sphmyln18116_hs', 'recon3d': 'sphmyln18116_hs_c'} {'PubChem': '', 'KEGG': '', 'HMDB': '', 'ChEBI': '', 'MetaNetX': '', 'metabolicATLAS': 'sphmyln18116_hs', 'recon3d': 'sphmyln18116_hs_e'}\n",
      "{'PubChem': '', 'KEGG': '', 'HMDB': '', 'ChEBI': '', 'MetaNetX': '', 'metabolicATLAS': 'sphmyln181161_hs', 'recon3d': 'sphmyln181161_hs_c'} {'PubChem': '', 'KEGG': '', 'HMDB': '', 'ChEBI': '', 'MetaNetX': '', 'metabolicATLAS': 'sphmyln181161_hs', 'recon3d': 'sphmyln181161_hs_e'}\n",
      "{'PubChem': '', 'KEGG': '', 'HMDB': '', 'ChEBI': '', 'MetaNetX': '', 'metabolicATLAS': 'sphmyln18117_hs', 'recon3d': 'sphmyln18117_hs_c'} {'PubChem': '', 'KEGG': '', 'HMDB': '', 'ChEBI': '', 'MetaNetX': '', 'metabolicATLAS': 'sphmyln18117_hs', 'recon3d': 'sphmyln18117_hs_e'}\n",
      "{'PubChem': '', 'KEGG': '', 'HMDB': '', 'ChEBI': '', 'MetaNetX': '', 'metabolicATLAS': 'sphmyln18118_hs', 'recon3d': 'sphmyln18118_hs_c'} {'PubChem': '', 'KEGG': '', 'HMDB': '', 'ChEBI': '', 'MetaNetX': '', 'metabolicATLAS': 'sphmyln18118_hs', 'recon3d': 'sphmyln18118_hs_e'}\n",
      "{'PubChem': '', 'KEGG': '', 'HMDB': '', 'ChEBI': '', 'MetaNetX': '', 'metabolicATLAS': 'sphmyln181181_hs', 'recon3d': 'sphmyln181181_hs_c'} {'PubChem': '', 'KEGG': '', 'HMDB': '', 'ChEBI': '', 'MetaNetX': '', 'metabolicATLAS': 'sphmyln181181_hs', 'recon3d': 'sphmyln181181_hs_e'}\n",
      "{'PubChem': '', 'KEGG': '', 'HMDB': '', 'ChEBI': '', 'MetaNetX': '', 'metabolicATLAS': 'sphmyln18120_hs', 'recon3d': 'sphmyln18120_hs_c'} {'PubChem': '', 'KEGG': '', 'HMDB': '', 'ChEBI': '', 'MetaNetX': '', 'metabolicATLAS': 'sphmyln18120_hs', 'recon3d': 'sphmyln18120_hs_e'}\n",
      "{'PubChem': '', 'KEGG': '', 'HMDB': '', 'ChEBI': '', 'MetaNetX': '', 'metabolicATLAS': 'sphmyln181201_hs', 'recon3d': 'sphmyln181201_hs_c'} {'PubChem': '', 'KEGG': '', 'HMDB': '', 'ChEBI': '', 'MetaNetX': '', 'metabolicATLAS': 'sphmyln181201_hs', 'recon3d': 'sphmyln181201_hs_e'}\n",
      "{'PubChem': '', 'KEGG': '', 'HMDB': '', 'ChEBI': '', 'MetaNetX': '', 'metabolicATLAS': 'sphmyln18121_hs', 'recon3d': 'sphmyln18121_hs_c'} {'PubChem': '', 'KEGG': '', 'HMDB': '', 'ChEBI': '', 'MetaNetX': '', 'metabolicATLAS': 'sphmyln18121_hs', 'recon3d': 'sphmyln18121_hs_e'}\n",
      "{'PubChem': '', 'KEGG': '', 'HMDB': '', 'ChEBI': '', 'MetaNetX': '', 'metabolicATLAS': 'sphmyln18122_hs', 'recon3d': 'sphmyln18122_hs_c'} {'PubChem': '', 'KEGG': '', 'HMDB': '', 'ChEBI': '', 'MetaNetX': '', 'metabolicATLAS': 'sphmyln18122_hs', 'recon3d': 'sphmyln18122_hs_e'}\n",
      "{'PubChem': '', 'KEGG': '', 'HMDB': '', 'ChEBI': '', 'MetaNetX': '', 'metabolicATLAS': 'sphmyln181221_hs', 'recon3d': 'sphmyln181221_hs_c'} {'PubChem': '', 'KEGG': '', 'HMDB': '', 'ChEBI': '', 'MetaNetX': '', 'metabolicATLAS': 'sphmyln181221_hs', 'recon3d': 'sphmyln181221_hs_e'}\n",
      "{'PubChem': '', 'KEGG': '', 'HMDB': '', 'ChEBI': '', 'MetaNetX': '', 'metabolicATLAS': 'sphmyln18123_hs', 'recon3d': 'sphmyln18123_hs_c'} {'PubChem': '', 'KEGG': '', 'HMDB': '', 'ChEBI': '', 'MetaNetX': '', 'metabolicATLAS': 'sphmyln18123_hs', 'recon3d': 'sphmyln18123_hs_e'}\n",
      "{'PubChem': '10457', 'KEGG': 'C08278', 'HMDB': 'HMDB00893', 'ChEBI': 'CHEBI:9300', 'MetaNetX': 'MNXM12964; MNXM12964; MNXM12964', 'metabolicATLAS': 'subeac', 'recon3d': 'subeac_x'} {'PubChem': '10457', 'KEGG': 'C08278', 'HMDB': 'HMDB00893', 'ChEBI': 'CHEBI:9300', 'MetaNetX': 'MNXM12964', 'metabolicATLAS': 'subeac', 'recon3d': 'subeac_e'}\n",
      "{'PubChem': '', 'KEGG': '', 'HMDB': '', 'ChEBI': '', 'MetaNetX': 'MNXM162999; MNXM162999; MNXM162999', 'metabolicATLAS': 'c8dc', 'recon3d': 'c8dc_c'} {'PubChem': '', 'KEGG': '', 'HMDB': '', 'ChEBI': '', 'MetaNetX': 'MNXM162999', 'metabolicATLAS': 'c8dc', 'recon3d': 'c8dc_e'}\n",
      "{'PubChem': '', 'KEGG': '', 'HMDB': '', 'ChEBI': '', 'MetaNetX': '', 'metabolicATLAS': 'subgly', 'recon3d': 'subgly_c'} {'PubChem': '', 'KEGG': '', 'HMDB': '', 'ChEBI': '', 'MetaNetX': '', 'metabolicATLAS': 'subgly', 'recon3d': 'subgly_e'}\n",
      "{'PubChem': '', 'KEGG': '', 'HMDB': '', 'ChEBI': '', 'MetaNetX': 'MNXM158939; MNXM158939; MNXM158939', 'metabolicATLAS': 'c4dc', 'recon3d': 'c4dc_x'} {'PubChem': '', 'KEGG': '', 'HMDB': '', 'ChEBI': '', 'MetaNetX': 'MNXM158939', 'metabolicATLAS': 'c4dc', 'recon3d': 'c4dc_e'}\n",
      "{'PubChem': '', 'KEGG': '', 'HMDB': '', 'ChEBI': '', 'MetaNetX': '', 'metabolicATLAS': 'sucaceto', 'recon3d': 'sucaceto_c'} {'PubChem': '', 'KEGG': '', 'HMDB': '', 'ChEBI': '', 'MetaNetX': '', 'metabolicATLAS': 'sucaceto', 'recon3d': 'sucaceto_e'}\n",
      "{'PubChem': '', 'KEGG': '', 'HMDB': '', 'ChEBI': '', 'MetaNetX': '', 'metabolicATLAS': 'tacr', 'recon3d': 'tacr_r'} {'PubChem': '', 'KEGG': '', 'HMDB': '', 'ChEBI': '', 'MetaNetX': '', 'metabolicATLAS': 'tacr', 'recon3d': 'tacr_e'}\n",
      "{'PubChem': '', 'KEGG': '', 'HMDB': '', 'ChEBI': '', 'MetaNetX': '', 'metabolicATLAS': 'tcdca3s', 'recon3d': 'tcdca3s_c'} {'PubChem': '', 'KEGG': '', 'HMDB': '', 'ChEBI': '', 'MetaNetX': '', 'metabolicATLAS': 'tcdca3s', 'recon3d': 'tcdca3s_e'}\n",
      "{'PubChem': '', 'KEGG': '', 'HMDB': '', 'ChEBI': '', 'MetaNetX': '', 'metabolicATLAS': 'tca3s', 'recon3d': 'tca3s_c'} {'PubChem': '', 'KEGG': '', 'HMDB': '', 'ChEBI': '', 'MetaNetX': '', 'metabolicATLAS': 'tca3s', 'recon3d': 'tca3s_e'}\n",
      "{'PubChem': '', 'KEGG': '', 'HMDB': '', 'ChEBI': '', 'MetaNetX': '', 'metabolicATLAS': 'tdca3s', 'recon3d': 'tdca3s_c'} {'PubChem': '', 'KEGG': '', 'HMDB': '', 'ChEBI': '', 'MetaNetX': '', 'metabolicATLAS': 'tdca3s', 'recon3d': 'tdca3s_e'}\n",
      "{'PubChem': '17396508', 'KEGG': 'C15516', 'HMDB': 'HMDB11637', 'ChEBI': 'CHEBI:52022', 'MetaNetX': '', 'metabolicATLAS': 'thyochol', 'recon3d': 'thyochol_c'} {'PubChem': '17396508', 'KEGG': 'C15516', 'HMDB': 'HMDB11637', 'ChEBI': 'CHEBI:52022', 'MetaNetX': '', 'metabolicATLAS': 'thyochol', 'recon3d': 'thyochol_e'}\n",
      "{'PubChem': '', 'KEGG': '', 'HMDB': '', 'ChEBI': '', 'MetaNetX': '', 'metabolicATLAS': 'tudca3s', 'recon3d': 'tudca3s_c'} {'PubChem': '', 'KEGG': '', 'HMDB': '', 'ChEBI': '', 'MetaNetX': '', 'metabolicATLAS': 'tudca3s', 'recon3d': 'tudca3s_e'}\n",
      "{'PubChem': '', 'KEGG': '', 'HMDB': '', 'ChEBI': '', 'MetaNetX': '', 'metabolicATLAS': 'tetdec2crn', 'recon3d': 'tetdec2crn_c'} {'PubChem': '', 'KEGG': '', 'HMDB': '', 'ChEBI': '', 'MetaNetX': '', 'metabolicATLAS': 'tetdec2crn', 'recon3d': 'tetdec2crn_e'}\n",
      "{'PubChem': '22833575', 'KEGG': '', 'HMDB': '', 'ChEBI': '', 'MetaNetX': '', 'metabolicATLAS': 'tetdece1crn', 'recon3d': 'tetdece1crn_c'} {'PubChem': '22833575', 'KEGG': '', 'HMDB': '', 'ChEBI': '', 'MetaNetX': '', 'metabolicATLAS': 'tetdece1crn', 'recon3d': 'tetdece1crn_e'}\n",
      "{'PubChem': '', 'KEGG': '', 'HMDB': '', 'ChEBI': '', 'MetaNetX': 'MNXM148517; MNXM148517', 'metabolicATLAS': 'txb2', 'recon3d': 'txb2_e'} {'PubChem': '', 'KEGG': '', 'HMDB': '', 'ChEBI': '', 'MetaNetX': 'MNXM148517', 'metabolicATLAS': 'txb2', 'recon3d': 'txb2_e'}\n",
      "{'PubChem': '22833596', 'KEGG': '', 'HMDB': '', 'ChEBI': '', 'MetaNetX': 'MNXM163903; MNXM163903', 'metabolicATLAS': 'c51crn', 'recon3d': 'c51crn_c'} {'PubChem': '22833596', 'KEGG': '', 'HMDB': '', 'ChEBI': '', 'MetaNetX': 'MNXM163903', 'metabolicATLAS': 'c51crn', 'recon3d': 'c51crn_e'}\n",
      "{'PubChem': '', 'KEGG': '', 'HMDB': '', 'ChEBI': '', 'MetaNetX': '', 'metabolicATLAS': 'tiggly', 'recon3d': 'tiggly_m'} {'PubChem': '', 'KEGG': '', 'HMDB': '', 'ChEBI': '', 'MetaNetX': '', 'metabolicATLAS': 'tiggly', 'recon3d': 'tiggly_e'}\n",
      "{'PubChem': '', 'KEGG': '', 'HMDB': '', 'ChEBI': '', 'MetaNetX': '', 'metabolicATLAS': 'eic21114tr', 'recon3d': 'eic21114tr_c'} {'PubChem': '', 'KEGG': '', 'HMDB': '', 'ChEBI': '', 'MetaNetX': '', 'metabolicATLAS': 'eic21114tr', 'recon3d': 'eic21114tr_e'}\n",
      "{'PubChem': '', 'KEGG': '', 'HMDB': '', 'ChEBI': '', 'MetaNetX': '', 'metabolicATLAS': 'hpdece', 'recon3d': 'hpdece_m'} {'PubChem': '', 'KEGG': '', 'HMDB': '', 'ChEBI': '', 'MetaNetX': '', 'metabolicATLAS': 'hpdece', 'recon3d': 'hpdece_e'}\n",
      "{'PubChem': '', 'KEGG': '', 'HMDB': '', 'ChEBI': '', 'MetaNetX': 'MNXM146651; MNXM146651', 'metabolicATLAS': 'Tyr_ggn', 'recon3d': 'Tyr_ggn_e'} {'PubChem': '', 'KEGG': '', 'HMDB': '', 'ChEBI': '', 'MetaNetX': 'MNXM146651', 'metabolicATLAS': 'Tyr_ggn', 'recon3d': 'Tyr_ggn_e'}\n",
      "{'PubChem': '', 'KEGG': '', 'HMDB': '', 'ChEBI': '', 'MetaNetX': '', 'metabolicATLAS': 'uchol', 'recon3d': 'uchol_c'} {'PubChem': '', 'KEGG': '', 'HMDB': '', 'ChEBI': '', 'MetaNetX': '', 'metabolicATLAS': 'uchol', 'recon3d': 'uchol_e'}\n",
      "{'PubChem': '', 'KEGG': '', 'HMDB': '', 'ChEBI': '', 'MetaNetX': '', 'metabolicATLAS': 'udca3s', 'recon3d': 'udca3s_c'} {'PubChem': '', 'KEGG': '', 'HMDB': '', 'ChEBI': '', 'MetaNetX': '', 'metabolicATLAS': 'udca3s', 'recon3d': 'udca3s_e'}\n",
      "{'PubChem': '', 'KEGG': '', 'HMDB': '', 'ChEBI': '', 'MetaNetX': '', 'metabolicATLAS': 'vanillac', 'recon3d': 'vanillac_c'} {'PubChem': '', 'KEGG': '', 'HMDB': '', 'ChEBI': '', 'MetaNetX': '', 'metabolicATLAS': 'vanillac', 'recon3d': 'vanillac_e'}\n",
      "{'PubChem': '', 'KEGG': '', 'HMDB': '', 'ChEBI': '', 'MetaNetX': '', 'metabolicATLAS': 'vldl_hs', 'recon3d': 'vldl_hs_c'} {'PubChem': '', 'KEGG': '', 'HMDB': '', 'ChEBI': '', 'MetaNetX': '', 'metabolicATLAS': 'vldl_hs', 'recon3d': 'vldl_hs_e'}\n",
      "{'PubChem': '', 'KEGG': '', 'HMDB': '', 'ChEBI': '', 'MetaNetX': '', 'metabolicATLAS': 'meracmp', 'recon3d': 'meracmp_c'} {'PubChem': '', 'KEGG': '', 'HMDB': '', 'ChEBI': '', 'MetaNetX': '', 'metabolicATLAS': 'meracmp', 'recon3d': 'meracmp_e'}\n",
      "{'PubChem': '1983', 'KEGG': '', 'HMDB': 'HMDB01859', 'ChEBI': 'CHEBI:46195', 'MetaNetX': '', 'metabolicATLAS': 'acmp', 'recon3d': 'acmp_r'} {'PubChem': '1983', 'KEGG': '', 'HMDB': 'HMDB01859', 'ChEBI': 'CHEBI:46195', 'MetaNetX': '', 'metabolicATLAS': 'acmp', 'recon3d': 'acmp_e'}\n",
      "{'PubChem': '', 'KEGG': '', 'HMDB': '', 'ChEBI': '', 'MetaNetX': '', 'metabolicATLAS': 'atvacid', 'recon3d': 'atvacid_r'} {'PubChem': '', 'KEGG': '', 'HMDB': '', 'ChEBI': '', 'MetaNetX': '', 'metabolicATLAS': 'atvacid', 'recon3d': 'atvacid_e'}\n",
      "{'PubChem': '', 'KEGG': '', 'HMDB': '', 'ChEBI': '', 'MetaNetX': '', 'metabolicATLAS': 'atvlac', 'recon3d': 'atvlac_r'} {'PubChem': '', 'KEGG': '', 'HMDB': '', 'ChEBI': '', 'MetaNetX': '', 'metabolicATLAS': 'atvlac', 'recon3d': 'atvlac_e'}\n",
      "{'PubChem': '', 'KEGG': '', 'HMDB': '', 'ChEBI': '', 'MetaNetX': '', 'metabolicATLAS': 'crglz', 'recon3d': 'crglz_c'} {'PubChem': '', 'KEGG': '', 'HMDB': '', 'ChEBI': '', 'MetaNetX': '', 'metabolicATLAS': 'crglz', 'recon3d': 'crglz_e'}\n",
      "{'PubChem': '', 'KEGG': '', 'HMDB': '', 'ChEBI': '', 'MetaNetX': '', 'metabolicATLAS': 'crvsm1', 'recon3d': 'crvsm1_r'} {'PubChem': '', 'KEGG': '', 'HMDB': '', 'ChEBI': '', 'MetaNetX': '', 'metabolicATLAS': 'crvsm1', 'recon3d': 'crvsm1_e'}\n",
      "{'PubChem': '', 'KEGG': '', 'HMDB': '', 'ChEBI': '', 'MetaNetX': '', 'metabolicATLAS': 'crvsm23', 'recon3d': 'crvsm23_r'} {'PubChem': '', 'KEGG': '', 'HMDB': '', 'ChEBI': '', 'MetaNetX': '', 'metabolicATLAS': 'crvsm23', 'recon3d': 'crvsm23_e'}\n",
      "{'PubChem': '', 'KEGG': '', 'HMDB': '', 'ChEBI': '', 'MetaNetX': '', 'metabolicATLAS': 'crvsm24', 'recon3d': 'crvsm24_r'} {'PubChem': '', 'KEGG': '', 'HMDB': '', 'ChEBI': '', 'MetaNetX': '', 'metabolicATLAS': 'crvsm24', 'recon3d': 'crvsm24_e'}\n",
      "{'PubChem': '', 'KEGG': '', 'HMDB': '', 'ChEBI': '', 'MetaNetX': '', 'metabolicATLAS': 'csa', 'recon3d': 'csa_r'} {'PubChem': '', 'KEGG': '', 'HMDB': '', 'ChEBI': '', 'MetaNetX': '', 'metabolicATLAS': 'csa', 'recon3d': 'csa_e'}\n",
      "{'PubChem': '', 'KEGG': '', 'HMDB': '', 'ChEBI': '', 'MetaNetX': '', 'metabolicATLAS': 'csasulp', 'recon3d': 'csasulp_c'} {'PubChem': '', 'KEGG': '', 'HMDB': '', 'ChEBI': '', 'MetaNetX': '', 'metabolicATLAS': 'csasulp', 'recon3d': 'csasulp_e'}\n",
      "{'PubChem': '', 'KEGG': '', 'HMDB': '', 'ChEBI': '', 'MetaNetX': '', 'metabolicATLAS': 'cysacmp', 'recon3d': 'cysacmp_c'} {'PubChem': '', 'KEGG': '', 'HMDB': '', 'ChEBI': '', 'MetaNetX': '', 'metabolicATLAS': 'cysacmp', 'recon3d': 'cysacmp_e'}\n",
      "{'PubChem': '', 'KEGG': '', 'HMDB': '', 'ChEBI': '', 'MetaNetX': '', 'metabolicATLAS': 'dhglz', 'recon3d': 'dhglz_c'} {'PubChem': '', 'KEGG': '', 'HMDB': '', 'ChEBI': '', 'MetaNetX': '', 'metabolicATLAS': 'dhglz', 'recon3d': 'dhglz_e'}\n",
      "{'PubChem': '', 'KEGG': '', 'HMDB': '', 'ChEBI': '', 'MetaNetX': '', 'metabolicATLAS': 'deoxfvs', 'recon3d': 'deoxfvs_x'} {'PubChem': '', 'KEGG': '', 'HMDB': '', 'ChEBI': '', 'MetaNetX': '', 'metabolicATLAS': 'deoxfvs', 'recon3d': 'deoxfvs_e'}\n",
      "{'PubChem': '', 'KEGG': '', 'HMDB': '', 'ChEBI': '', 'MetaNetX': '', 'metabolicATLAS': 'dspvs', 'recon3d': 'dspvs_r'} {'PubChem': '', 'KEGG': '', 'HMDB': '', 'ChEBI': '', 'MetaNetX': '', 'metabolicATLAS': 'dspvs', 'recon3d': 'dspvs_e'}\n",
      "{'PubChem': '', 'KEGG': '', 'HMDB': '', 'ChEBI': '', 'MetaNetX': '', 'metabolicATLAS': 'fvs', 'recon3d': 'fvs_r'} {'PubChem': '', 'KEGG': '', 'HMDB': '', 'ChEBI': '', 'MetaNetX': '', 'metabolicATLAS': 'fvs', 'recon3d': 'fvs_e'}\n",
      "{'PubChem': '', 'KEGG': '', 'HMDB': '', 'ChEBI': '', 'MetaNetX': '', 'metabolicATLAS': 'lvstacid', 'recon3d': 'lvstacid_c'} {'PubChem': '', 'KEGG': '', 'HMDB': '', 'ChEBI': '', 'MetaNetX': '', 'metabolicATLAS': 'lvstacid', 'recon3d': 'lvstacid_e'}\n",
      "{'PubChem': '', 'KEGG': '', 'HMDB': '', 'ChEBI': '', 'MetaNetX': '', 'metabolicATLAS': 'oxyp', 'recon3d': 'oxyp_c'} {'PubChem': '', 'KEGG': '', 'HMDB': '', 'ChEBI': '', 'MetaNetX': '', 'metabolicATLAS': 'oxyp', 'recon3d': 'oxyp_e'}\n",
      "{'PubChem': '', 'KEGG': '', 'HMDB': '', 'ChEBI': '', 'MetaNetX': '', 'metabolicATLAS': 'ptvstm13', 'recon3d': 'ptvstm13_r'} {'PubChem': '', 'KEGG': '', 'HMDB': '', 'ChEBI': '', 'MetaNetX': '', 'metabolicATLAS': 'ptvstm13', 'recon3d': 'ptvstm13_e'}\n",
      "{'PubChem': '', 'KEGG': '', 'HMDB': '', 'ChEBI': '', 'MetaNetX': '', 'metabolicATLAS': 'pvs', 'recon3d': 'pvs_r'} {'PubChem': '', 'KEGG': '', 'HMDB': '', 'ChEBI': '', 'MetaNetX': '', 'metabolicATLAS': 'pvs', 'recon3d': 'pvs_e'}\n",
      "{'PubChem': '', 'KEGG': '', 'HMDB': '', 'ChEBI': '', 'MetaNetX': '', 'metabolicATLAS': 'smv', 'recon3d': 'smv_r'} {'PubChem': '', 'KEGG': '', 'HMDB': '', 'ChEBI': '', 'MetaNetX': '', 'metabolicATLAS': 'smv', 'recon3d': 'smv_e'}\n",
      "{'PubChem': '', 'KEGG': '', 'HMDB': '', 'ChEBI': '', 'MetaNetX': '', 'metabolicATLAS': 'sulpacmp', 'recon3d': 'sulpacmp_c'} {'PubChem': '', 'KEGG': '', 'HMDB': '', 'ChEBI': '', 'MetaNetX': '', 'metabolicATLAS': 'sulpacmp', 'recon3d': 'sulpacmp_e'}\n",
      "{'PubChem': '', 'KEGG': '', 'HMDB': '', 'ChEBI': '', 'MetaNetX': '', 'metabolicATLAS': 'tripvs', 'recon3d': 'tripvs_r'} {'PubChem': '', 'KEGG': '', 'HMDB': '', 'ChEBI': '', 'MetaNetX': '', 'metabolicATLAS': 'tripvs', 'recon3d': 'tripvs_e'}\n",
      "{'PubChem': '', 'KEGG': 'C14748', 'HMDB': '', 'ChEBI': 'CHEBI:34306', 'MetaNetX': 'MNXM6760', 'metabolicATLAS': 'm00591', 'recon3d': ''} {'PubChem': '', 'KEGG': '', 'HMDB': '', 'ChEBI': '', 'MetaNetX': '', 'metabolicATLAS': 'm00591', 'recon3d': ''}\n",
      "{'PubChem': '10133', 'KEGG': 'C02528', 'HMDB': 'HMDB00518', 'ChEBI': 'CHEBI:16755', 'MetaNetX': 'MNXM1183', 'metabolicATLAS': 'm01435', 'recon3d': 'HC00958'} {'PubChem': '', 'KEGG': '', 'HMDB': '', 'ChEBI': '', 'MetaNetX': '', 'metabolicATLAS': 'm01435', 'recon3d': ''}\n",
      "{'PubChem': '', 'KEGG': 'C01290', 'HMDB': 'HMDB00173', 'ChEBI': 'CHEBI:17950', 'MetaNetX': 'MNXM269', 'metabolicATLAS': 'm02328', 'recon3d': 'C01290'} {'PubChem': '', 'KEGG': '', 'HMDB': '', 'ChEBI': '', 'MetaNetX': '', 'metabolicATLAS': 'm02328', 'recon3d': ''}\n",
      "{'PubChem': '', 'KEGG': '', 'HMDB': '', 'ChEBI': '', 'MetaNetX': '', 'metabolicATLAS': 'chylo_hs', 'recon3d': 'chylo_hs_c'} {'PubChem': '', 'KEGG': '', 'HMDB': '', 'ChEBI': '', 'MetaNetX': '', 'metabolicATLAS': 'chylo_hs', 'recon3d': ''}\n",
      "&&&&&&&&&&&&&&&&&&&&&&&&&&&&&&&&&&&&&&&&&&&&&&&\n",
      "4168\n",
      "{'PubChem': '', 'KEGG': '', 'HMDB': '', 'ChEBI': '', 'MetaNetX': 'MNXM150165; MNXM27815', 'metabolicATLAS': 'm00003', 'recon3d': 'M00003'}\n"
     ]
    }
   ],
   "metadata": {}
  },
  {
   "cell_type": "code",
   "execution_count": 119,
   "source": [
    "# populate atlas2020metabolites list of Compounds\n",
    "\n",
    "counter = 0\n",
    "\n",
    "for k in d:\n",
    "    C = Compound()\n",
    "    if d[k]['PubChem']:\n",
    "        C.azimuth_id = 'az_pcid_' + d[k]['PubChem']\n",
    "    elif d[k]['HMDB']:\n",
    "        C.azimuth_id = 'az_hmdb_' + d[k]['HMDB']\n",
    "    elif d[k]['KEGG']:\n",
    "        C.azimuth_id = 'az_kegg_' + d[k]['KEGG']\n",
    "    elif d[k]['ChEBI']:\n",
    "        C.azimuth_id = 'az_chebi_' + d[k]['ChEBI']\n",
    "    else:\n",
    "        C.azimuth_id = 'az_atlas_' + d[k]['metabolicATLAS']\n",
    "        counter += 1\n",
    "    \n",
    "    C.other_ids = d[k]\n",
    "    atlas2020metabolites.append(C)\n",
    "\n",
    "print(len(atlas2020metabolites), counter)"
   ],
   "outputs": [
    {
     "output_type": "stream",
     "name": "stdout",
     "text": [
      "4168 1975\n"
     ]
    }
   ],
   "metadata": {}
  },
  {
   "cell_type": "markdown",
   "source": [
    "**Among 4168 metabolites in the metabolic ATLAS model, 1975 have not been assigned ID from either PubChem, HMDB, KEGG or ChEBI.**\n",
    "\n"
   ],
   "metadata": {}
  },
  {
   "cell_type": "code",
   "execution_count": 120,
   "source": [
    "all = [C.azimuth_id for C in atlas2020metabolites]\n",
    "print(len([x for x in all if 'az_pcid_' in x]))\n",
    "print(len([x for x in all if 'az_hmdb_' in x]))\n",
    "print(len([x for x in all if 'az_kegg_' in x]))\n",
    "print(len([x for x in all if 'az_chebi_' in x]))"
   ],
   "outputs": [
    {
     "output_type": "stream",
     "name": "stdout",
     "text": [
      "1419\n",
      "15\n",
      "734\n",
      "25\n"
     ]
    }
   ],
   "metadata": {}
  },
  {
   "cell_type": "code",
   "execution_count": 121,
   "source": [
    "# add info from Refmet \n",
    "# [' refmet_name', 'super_class', 'main_class', 'sub_class', 'formula', 'exactmass', 'inchi_key', 'pubchem_cid']\n",
    "\n",
    "# index via pubchem_cid\n",
    "pid_refmetDict = {}\n",
    "for k,v in refmetDict.items():\n",
    "    if v[7]:                    # this is 'pubchem_cid'\n",
    "        pid_refmetDict[v[7]] = {\n",
    "            'pubchem_cid': v[7],\n",
    "            'refmet_name': v[0], \n",
    "            'super_class': v[1], \n",
    "            'main_class': v[2], \n",
    "            'sub_class': v[3], \n",
    "            'formula': v[4], \n",
    "            'exactmass': v[5], \n",
    "            'inchi_key': v[6],\n",
    "        }\n",
    "\n",
    "print(\"Done indexing - \", len(pid_refmetDict))\n",
    "\n",
    "counter = 0\n",
    "\n",
    "for C in atlas2020metabolites:\n",
    "    if C.other_ids['PubChem'] and C.other_ids['PubChem'] in pid_refmetDict:\n",
    "        counter += 1\n",
    "        C.formula = pid_refmetDict[C.other_ids['PubChem']]['formula']\n",
    "        C.mw = pid_refmetDict[C.other_ids['PubChem']]['exactmass']\n",
    "        C.inchi_key = pid_refmetDict[C.other_ids['PubChem']]['inchi_key']\n",
    "        C.refmet = pid_refmetDict[C.other_ids['PubChem']]\n",
    "\n",
    "print(counter)\n",
    "print(\"~~~~~~~~~~~~~~~~~~~~~~~~~~~\")\n"
   ],
   "outputs": [
    {
     "output_type": "stream",
     "name": "stdout",
     "text": [
      "Done indexing -  23062\n",
      "748\n",
      "~~~~~~~~~~~~~~~~~~~~~~~~~~~\n"
     ]
    }
   ],
   "metadata": {}
  },
  {
   "cell_type": "code",
   "execution_count": 122,
   "source": [
    "print([C.formula for C in atlas2020metabolites[:30]])"
   ],
   "outputs": [
    {
     "output_type": "stream",
     "name": "stdout",
     "text": [
      "['', '', '', '', '', '', '', '', '', '', '', '', 'C20H32O5', '', '', '', '', '', '', '', '', '', '', '', '', '', '', 'C20H30O3', 'C20H30O3', '']\n"
     ]
    }
   ],
   "metadata": {}
  },
  {
   "cell_type": "markdown",
   "source": [
    "**Only 748 ported from Refmet via PubChem ID**\n",
    "\n",
    "Go thru mummichog 2 next, via KEGG like IDs.\n",
    "\n",
    "This is via single file JSON_metabolicModels.py in v2."
   ],
   "metadata": {}
  },
  {
   "cell_type": "code",
   "execution_count": 123,
   "source": [
    "from JSON_metabolicModels import metabolicModels\n",
    "\n",
    "mcg2cpds = metabolicModels[ 'human_model_mfn' ]['Compounds']\n",
    "\n",
    "print(list(mcg2cpds.items())[500:505])"
   ],
   "outputs": [
    {
     "output_type": "stream",
     "name": "stdout",
     "text": [
      "[('G00123', {'formula': '', 'mw': 0, 'name': 'GA2; (Gal)1 (GalNAc)1 (Glc)1 (Cer)1; Glycolipid; Sphingolipid', 'adducts': {}}), ('G00025', {'formula': '', 'mw': 0, 'name': '(Gal)1 (GalNAc)1 (GlcNAc)1 (Ser/Thr)1; Glycoprotein; O-Glycan', 'adducts': {}}), ('C04833', {'formula': '', 'mw': 0, 'name': \"m7G(5')pppm6Am (mRNA containing an N6,2'-O-dimethyladenosine cap)\", 'adducts': {}}), ('dcsptn1coa', {'formula': 'C43H64N7O17P3S', 'mw': 1075.329224, 'name': 'docosa-4,7,10,13,16-pentaenoyl coenzyme A', 'adducts': {'M+2H[2+]': 538.67188846677, 'M+Br81[-]': 1156.2455240000002, 'M-H2O+H[1+]': 1058.32590046677, 'M-C3H4O2+H[1+]': 1004.31540046677, 'M-HCOOH+H[1+]': 1030.33110046677, 'M-CO+H[1+]': 1048.3415004667702, 'M+K[1+]': 1114.29200046677, 'M+Cl[-]': 1110.2981240000001, 'M+Na-2H[-]': 1095.29667106646, 'M-CO2+H[1+]': 1032.34670046677, 'M+Na[1+]': 1098.31850046677, 'M-2H[2-]': 536.65733553323, 'M(S34)-H[-]': 1076.31774753323, 'M+H[1+]': 1076.33650046677, 'M-H4O2+H[1+]': 1040.3153004667702, 'M(C13)-H[-]': 1075.3253475332301, 'M+HCOONa[1+]': 1144.32390046677, 'M(C13)+2H[2+]': 539.1735884667701, 'M+HCOOK[1+]': 1160.29780046677, 'M+HCOO[-]': 1120.326869, 'M(C13)+3H[3+]': 359.7847511334367, 'M-H[-]': 1074.32194753323, 'M+ACN-H[-]': 1115.34849253323, 'M+Cl37[-]': 1112.295124, 'M-H2O-H[-]': 1056.31134753323, 'M(S34)+H[1+]': 1078.33230046677, 'M+Br[-]': 1154.247524, 'M+3H[3+]': 359.4503511334367, 'M+CH3COO[-]': 1134.342519, 'M(C13)+H[1+]': 1077.3399004667701, 'M[1+]': 1075.329224, 'M-NH3+H[1+]': 1059.3100004667701, 'M+NaCl[1+]': 1134.29510046677, 'M+H+Na[2+]': 549.66288846677, 'M+H2O+H[1+]': 1094.3471004667701, 'M-H+O[-]': 1090.31685753323, 'M+K-2H[-]': 1111.27017106646}}), ('C04789', {'formula': '', 'mw': 0, 'name': 'Lysosomal-enzyme N-acetyl-D-glucosaminyl-phospho-D-mannose', 'adducts': {}})]\n"
     ]
    }
   ],
   "metadata": {}
  },
  {
   "cell_type": "code",
   "execution_count": 124,
   "source": [
    "counter = 0\n",
    "\n",
    "for C in atlas2020metabolites:\n",
    "    if C.other_ids['KEGG'] and C.other_ids['KEGG'] in mcg2cpds:\n",
    "        counter += 1\n",
    "        C.formula = mcg2cpds[C.other_ids['KEGG']]['formula']\n",
    "        C.mw = mcg2cpds[C.other_ids['KEGG']]['mw']\n",
    "        C.mummichog2 = mcg2cpds[C.other_ids['KEGG']]\n",
    "\n",
    "print(counter)\n",
    "print(\"~~~~~~~~~~~~~~~~~~~~~~~~~~~\")"
   ],
   "outputs": [
    {
     "output_type": "stream",
     "name": "stdout",
     "text": [
      "1462\n",
      "~~~~~~~~~~~~~~~~~~~~~~~~~~~\n"
     ]
    }
   ],
   "metadata": {}
  },
  {
   "cell_type": "code",
   "execution_count": 125,
   "source": [
    "print(len([C.formula for C in atlas2020metabolites if C.formula]))\n",
    "print(len([C.mw for C in atlas2020metabolites if C.mw]))\n"
   ],
   "outputs": [
    {
     "output_type": "stream",
     "name": "stdout",
     "text": [
      "1264\n",
      "1334\n"
     ]
    }
   ],
   "metadata": {}
  },
  {
   "cell_type": "markdown",
   "source": [
    "This may have overwritten some entries from Refmet.\n",
    "\n",
    "mcg2 adducts need to be calculated again:\n",
    "* to fix the bug Jasmine found on -ion Na/K\n",
    "* not to be blanket when formula is missing\n",
    "\n",
    "Another round via Refmet by names:"
   ],
   "metadata": {}
  },
  {
   "cell_type": "code",
   "execution_count": 127,
   "source": [
    "name_refmetDict = {}\n",
    "for k,v in lowrefmetDict.items():\n",
    "    name_refmetDict[k] = {\n",
    "            'pubchem_cid': v[7],\n",
    "            'refmet_name': v[0], \n",
    "            'super_class': v[1], \n",
    "            'main_class': v[2], \n",
    "            'sub_class': v[3], \n",
    "            'formula': v[4], \n",
    "            'exactmass': v[5], \n",
    "            'inchi_key': v[6],\n",
    "        }\n",
    "\n",
    "print(\"Done indexing - \", len(name_refmetDict))\n",
    "\n",
    "# also need build dict from C.other_ids['metabolicATLAS'] to common name\n",
    "atlas_names = {}\n",
    "for k,v in cpd_dict.items():\n",
    "    atlas_names[k[2:-1]] = v['name']  # changing key, e.g. 'M_m00001c' to 'm00001'\n",
    "\n",
    "#\n",
    "counter = 0\n",
    "unfound = []\n",
    "for C in atlas2020metabolites:\n",
    "    if not C.mw:\n",
    "        # try get name via C.other_ids['metabolicATLAS']\n",
    "        try:\n",
    "            lname = atlas_names[C.other_ids['metabolicATLAS']].replace('(-)-', '').replace('(+)-', '').lower()\n",
    "            if lname in name_refmetDict:\n",
    "                counter += 1\n",
    "                C.formula = name_refmetDict[lname]['formula']\n",
    "                C.mw = name_refmetDict[lname]['exactmass']\n",
    "                C.inchi_key = name_refmetDict[lname]['inchi_key']\n",
    "                C.refmet = name_refmetDict[lname]\n",
    "        except KeyError:\n",
    "            unfound.append(C.other_ids['metabolicATLAS'])\n",
    "            \n",
    "            \n",
    "print(counter)\n",
    "print(\"~~~~~~~~~~~~~~~~~~~~~~~~~~~\")\n",
    "print (len(unfound), unfound[:60])"
   ],
   "outputs": [
    {
     "output_type": "stream",
     "name": "stdout",
     "text": [
      "Done indexing -  95384\n",
      "0\n",
      "~~~~~~~~~~~~~~~~~~~~~~~~~~~\n",
      "914 ['temp002', 'temp003', 'temp004', 'temp005', '3amp', 'galgluside_hs', 'Rtotal2', 'Rtotal2coa', 'alpa_hs', 'alkylR1oh', 'Rtotal', 'glygn4', 'Rtotalcoa', 'Rtotal3coa', 'Rtotal3', 'R1coa_hs', 'R2coa_hs', 'R3coa_hs', 'octd11ecoa', 'R4coa_hs', 'R5coa_hs', 'R6coa_hs', 'galacglcgalacglcgal14acglcgalgluside_hs', 'dgcholcoa', 'bvite', '2dpmhobq', '2dp6mobq', '2dp6mobq_me', 'dmnoncoa', 'melanin', 'Ser_Thr', 'dmhptcoa', 'glc1man', 'glc2man', 'glc3man', 'etfox', 'etfrd', '1glyc_hs', '9_cis_retfa', 'fucfuc12gal14acglcgalgluside_hs', 'fucfucgalacglcgalgluside_hs', 'glyc_S', 'glygn5', 'Tyr_ggn', 'xolest_hs', 'tdeACP', 'hdeACP', 'ocdcaACP', 'octeACP', 'lnlcACP', 'lneldcACP', 'ocdcyaACP', 'ocdcya', 'pristcoa', 'tag1p_D', 'm_em_3gacpail', 'lnlncacrn', 'm_em_3gacpail_hs', 'm_em_3gacpail_prot_hs', 'pecgoncoa']\n"
     ]
    }
   ],
   "metadata": {}
  },
  {
   "cell_type": "markdown",
   "source": [
    "**This means most names in ATLAS XML are not names but BiGG style IDs**\n",
    "\n",
    "### Looking for all metabolites in ATLAS model via vmh.life API\n",
    "\n",
    "Recon3D site's API: https://www.vmh.life/_api/docs/#metabolites-list\n"
   ],
   "metadata": {}
  },
  {
   "cell_type": "code",
   "execution_count": 114,
   "source": [
    "import requests\n",
    "\n",
    "vmh_results = []\n",
    "counter = 0\n",
    "for C in atlas2020metabolites:\n",
    "    counter += 1\n",
    "    url = \"https://www.vmh.life/_api/metabolites/?abbreviation=%s&format=json\" %C.other_ids['metabolicATLAS']\n",
    "    r = requests.get(url).json()\n",
    "    vmh_results += r['results']\n",
    "    if str(counter)[-2:] == '00':\n",
    "        print(counter)\n"
   ],
   "outputs": [
    {
     "output_type": "stream",
     "name": "stdout",
     "text": [
      "100\n",
      "200\n",
      "300\n",
      "400\n",
      "500\n",
      "600\n",
      "700\n",
      "800\n",
      "900\n",
      "1000\n",
      "1100\n",
      "1200\n",
      "1300\n",
      "1400\n",
      "1500\n",
      "1600\n",
      "1700\n",
      "1800\n",
      "1900\n",
      "2000\n",
      "2100\n",
      "2200\n",
      "2300\n",
      "2400\n",
      "2500\n",
      "2600\n",
      "2700\n",
      "2800\n",
      "2900\n",
      "3000\n",
      "3100\n",
      "3200\n",
      "3300\n",
      "3400\n",
      "3500\n",
      "3600\n",
      "3700\n",
      "3800\n",
      "3900\n",
      "4000\n",
      "4100\n"
     ]
    }
   ],
   "metadata": {}
  },
  {
   "cell_type": "code",
   "execution_count": 115,
   "source": [
    "# above API calls took > 1 hour\n",
    "len(vmh_results)"
   ],
   "outputs": [
    {
     "output_type": "execute_result",
     "data": {
      "text/plain": [
       "1787"
      ]
     },
     "metadata": {},
     "execution_count": 115
    }
   ],
   "metadata": {}
  },
  {
   "cell_type": "code",
   "execution_count": 134,
   "source": [
    "# check how many unfound in vmh_results\n",
    "\n",
    "vabbr = [x['abbreviation'].lower() for x in vmh_results]\n",
    "print(len(vabbr), len(set(vabbr).intersection(set(unfound))))\n",
    "\n",
    "print([x for x in vabbr if x not in unfound][:30])\n",
    "print(list(set(vabbr).intersection(set(unfound)))[:30])"
   ],
   "outputs": [
    {
     "output_type": "stream",
     "name": "stdout",
     "text": [
      "1787 784\n",
      "['m00003', 'm00004', 'm00005', 'm00006', 'm00008', 'm00010', 'm00011', 'm00012', 'm00017', 'm00018', 'm00019', 'm00020', 'm00021', 'm00022', 'm00023', 'm00030', 'm00031', 'm00033', 'm00034', 'm00044', 'm00045', 'm00046', 'm00047', 'm00048', 'm00049', 'm00054', 'm00055', 'm00056', 'm00060', 'm00061']\n",
      "['tlacfvs', 'crglz', 'micit', 'lineth', 'histrphis', 'serglyglu', '1hmdgluc', 'glumet', 'am19cs', '3ohsubcoa', 'tmdm5', '3hdececrn', 'alaglylys', '4hatvacid', 'pmeth', 'c16dc', 'mdz', 'argphearg', 'asnpheasp', 'ileasnhis', 'valtrpval', 'hexde7coa', 'pcholpalm_hs', 'argprothr', 'trpglupro', 'hislysthr', '2hiv', 'prophe', 'lnlncacrn', 'sphmyln181161_hs']\n"
     ]
    }
   ],
   "metadata": {}
  },
  {
   "cell_type": "code",
   "execution_count": 132,
   "source": [
    "list(cpd_dict.items())[:2]"
   ],
   "outputs": [
    {
     "output_type": "execute_result",
     "data": {
      "text/plain": [
       "[('M_m00001c',\n",
       "  {'metaid': 'M_m00001c',\n",
       "   'sboTerm': 'SBO:0000247',\n",
       "   'id': 'M_m00001c',\n",
       "   'name': '(-)-trans-carveol',\n",
       "   'compartment': 'c',\n",
       "   'initialConcentration': '0',\n",
       "   'hasOnlySubstanceUnits': 'false',\n",
       "   'boundaryCondition': 'false',\n",
       "   'constant': 'false',\n",
       "   '{http://www.sbml.org/sbml/level3/version1/fbc/version2}charge': '0',\n",
       "   '{http://www.sbml.org/sbml/level3/version1/fbc/version2}chemicalFormula': 'C10H16O'}),\n",
       " ('M_m00001s',\n",
       "  {'metaid': 'M_m00001s',\n",
       "   'sboTerm': 'SBO:0000247',\n",
       "   'id': 'M_m00001s',\n",
       "   'name': '(-)-trans-carveol',\n",
       "   'compartment': 's',\n",
       "   'initialConcentration': '0',\n",
       "   'hasOnlySubstanceUnits': 'false',\n",
       "   'boundaryCondition': 'false',\n",
       "   'constant': 'false',\n",
       "   '{http://www.sbml.org/sbml/level3/version1/fbc/version2}charge': '0',\n",
       "   '{http://www.sbml.org/sbml/level3/version1/fbc/version2}chemicalFormula': 'C10H16O'})]"
      ]
     },
     "metadata": {},
     "execution_count": 132
    }
   ],
   "metadata": {}
  },
  {
   "cell_type": "code",
   "execution_count": 137,
   "source": [
    "# update d with charge and formula\n",
    "\n",
    "for k,v in cpd_dict.items():\n",
    "    try:\n",
    "        d[k[2:-1]]['charge'] = int(v['{http://www.sbml.org/sbml/level3/version1/fbc/version2}charge'])\n",
    "    except KeyError:\n",
    "        pass\n",
    "    try:\n",
    "        d[k[2:-1]]['formula'] = v['{http://www.sbml.org/sbml/level3/version1/fbc/version2}chemicalFormula']\n",
    "    except KeyError:\n",
    "        pass\n",
    "\n",
    "list(d.items())[2]"
   ],
   "outputs": [
    {
     "output_type": "execute_result",
     "data": {
      "text/plain": [
       "('m00003',\n",
       " {'PubChem': '',\n",
       "  'KEGG': '',\n",
       "  'HMDB': '',\n",
       "  'ChEBI': '',\n",
       "  'MetaNetX': 'MNXM150165; MNXM27815',\n",
       "  'metabolicATLAS': 'm00003',\n",
       "  'recon3d': 'M00003',\n",
       "  'charge': -1,\n",
       "  'formula': 'C17H31O2'})"
      ]
     },
     "metadata": {},
     "execution_count": 137
    }
   ],
   "metadata": {}
  },
  {
   "cell_type": "code",
   "execution_count": 140,
   "source": [
    "good = [C.mw for C in atlas2020metabolites if C.mw]\n",
    "print(len(good))\n",
    "\n",
    "counter = 0\n",
    "for C in atlas2020metabolites:\n",
    "    ii = C.other_ids['metabolicATLAS']\n",
    "    if 'charge' in d[ ii ]:\n",
    "        C.charge = d[ii]['charge']\n",
    "        counter += 1\n",
    "    if 'formula' in d[ii]:\n",
    "        C.formula = d[ii]['formula']\n",
    "\n",
    "print(counter)\n",
    "print(len([C.formula for C in atlas2020metabolites if C.formula]))"
   ],
   "outputs": [
    {
     "output_type": "stream",
     "name": "stdout",
     "text": [
      "1394\n",
      "3196\n",
      "3249\n"
     ]
    }
   ],
   "metadata": {}
  },
  {
   "cell_type": "code",
   "execution_count": 141,
   "source": [
    "vmh_results[55]"
   ],
   "outputs": [
    {
     "output_type": "execute_result",
     "data": {
      "text/plain": [
       "{'met_id': 5545,\n",
       " 'abbreviation': 'M00187',\n",
       " 'createdDate': '2018-05-31T15:54:08.170242Z',\n",
       " 'updatedDate': '2018-08-10T14:18:12.616036Z',\n",
       " 'fullName': 'Beta-Adrenergic-Receptor',\n",
       " 'description': '',\n",
       " 'synonyms': None,\n",
       " 'iupac': None,\n",
       " 'neutralFormula': '',\n",
       " 'chargedFormula': 'C4H6N2O3R2',\n",
       " 'charge': 0,\n",
       " 'avgmolweight': None,\n",
       " 'monoisotopicweight': None,\n",
       " 'miriam': 'http://identifiers.org/vmhmetabolite/M00187',\n",
       " 'biggId': '',\n",
       " 'lmId': '',\n",
       " 'ehmnId': '',\n",
       " 'hepatonetId': '',\n",
       " 'keggId': 'C01141',\n",
       " 'pubChemId': '',\n",
       " 'cheBlId': '',\n",
       " 'chembl': '',\n",
       " 'inchiString': '',\n",
       " 'inchiKey': None,\n",
       " 'smile': '[H]OC([H])([H])[C@]([H])(N([H])C([*])=O)C(=O)N([H])[*]',\n",
       " 'hmdb': '',\n",
       " 'metanetx': '',\n",
       " 'seed': None,\n",
       " 'pdmapName': None,\n",
       " 'reconMap': None,\n",
       " 'reconMap3': None,\n",
       " 'golgimap': None,\n",
       " 'lysosomemap': None,\n",
       " 'mitochondrionmap': None,\n",
       " 'nucleusmap': None,\n",
       " 'peroxisomemap': None,\n",
       " 'reticulummap': None,\n",
       " 'food_db': None,\n",
       " 'chemspider': None,\n",
       " 'biocyc': None,\n",
       " 'wikipedia': None,\n",
       " 'drugbank': None,\n",
       " 'knapsack': None,\n",
       " 'phenolExplorer': None,\n",
       " 'metlin': '',\n",
       " 'casRegistry': None,\n",
       " 'epa_id': None,\n",
       " 'echa_id': None,\n",
       " 'iuphar_id': None,\n",
       " 'fda_id': None,\n",
       " 'mesh_id': None,\n",
       " 'chodb_id': None,\n",
       " 'isHuman': True,\n",
       " 'isMicrobe': False}"
      ]
     },
     "metadata": {},
     "execution_count": 141
    }
   ],
   "metadata": {}
  },
  {
   "cell_type": "markdown",
   "source": [
    "**The above result shows an nonsense idiosyncrasy started in KEGG but no one fixed it**\n",
    "\n",
    "How could a GPCR protein be treated as a \"metabolite\" for ever???"
   ],
   "metadata": {}
  },
  {
   "cell_type": "code",
   "execution_count": 147,
   "source": [
    "vmh_results[1600]"
   ],
   "outputs": [
    {
     "output_type": "execute_result",
     "data": {
      "text/plain": [
       "{'met_id': 5708,\n",
       " 'abbreviation': 'lca24g',\n",
       " 'createdDate': '2018-05-31T15:54:08.170242Z',\n",
       " 'updatedDate': '2018-12-03T15:53:11.425813Z',\n",
       " 'fullName': 'Lithocholic acid-24glucuronide, CDCA-24G',\n",
       " 'description': '',\n",
       " 'synonyms': '',\n",
       " 'iupac': None,\n",
       " 'neutralFormula': '',\n",
       " 'chargedFormula': 'C30H47O9',\n",
       " 'charge': -1,\n",
       " 'avgmolweight': None,\n",
       " 'monoisotopicweight': None,\n",
       " 'miriam': 'http://identifiers.org/vmhmetabolite/lca24g',\n",
       " 'biggId': '',\n",
       " 'lmId': '',\n",
       " 'ehmnId': '',\n",
       " 'hepatonetId': '',\n",
       " 'keggId': '',\n",
       " 'pubChemId': '',\n",
       " 'cheBlId': '',\n",
       " 'chembl': '',\n",
       " 'inchiString': '',\n",
       " 'inchiKey': None,\n",
       " 'smile': '',\n",
       " 'hmdb': '',\n",
       " 'metanetx': '',\n",
       " 'seed': None,\n",
       " 'pdmapName': '',\n",
       " 'reconMap': '',\n",
       " 'reconMap3': 'lca24g',\n",
       " 'golgimap': None,\n",
       " 'lysosomemap': None,\n",
       " 'mitochondrionmap': None,\n",
       " 'nucleusmap': None,\n",
       " 'peroxisomemap': None,\n",
       " 'reticulummap': 'lca24g',\n",
       " 'food_db': None,\n",
       " 'chemspider': None,\n",
       " 'biocyc': None,\n",
       " 'wikipedia': None,\n",
       " 'drugbank': None,\n",
       " 'knapsack': None,\n",
       " 'phenolExplorer': None,\n",
       " 'metlin': None,\n",
       " 'casRegistry': None,\n",
       " 'epa_id': None,\n",
       " 'echa_id': None,\n",
       " 'iuphar_id': None,\n",
       " 'fda_id': None,\n",
       " 'mesh_id': None,\n",
       " 'chodb_id': None,\n",
       " 'isHuman': True,\n",
       " 'isMicrobe': False}"
      ]
     },
     "metadata": {},
     "execution_count": 147
    }
   ],
   "metadata": {}
  },
  {
   "cell_type": "code",
   "execution_count": 143,
   "source": [
    "# How many we might gain from vmh_results\n",
    "\n",
    "unfound = [C.other_ids['metabolicATLAS'] for C in atlas2020metabolites if not C.formula]\n",
    "print(len(vabbr), len(set(vabbr).intersection(set(unfound))))"
   ],
   "outputs": [
    {
     "output_type": "stream",
     "name": "stdout",
     "text": [
      "1787 786\n"
     ]
    }
   ],
   "metadata": {}
  },
  {
   "cell_type": "code",
   "execution_count": 150,
   "source": [
    "#\n",
    "vabbrDict = {}\n",
    "for x in vmh_results:\n",
    "    vabbrDict[x['abbreviation'].lower()] = x\n",
    "    \n",
    "for C in atlas2020metabolites:\n",
    "    k = C.other_ids['metabolicATLAS']\n",
    "    if not C.formula and k in vabbrDict:\n",
    "        if vabbrDict[k]['charge']:\n",
    "            C.charge = vabbrDict[k]['charge']\n",
    "            C.formula = vabbrDict[k]['chargedFormula']\n",
    "        elif vabbrDict[k]['neutralFormula']:\n",
    "            C.formula = vabbrDict[k]['neutralFormula']\n",
    "        C.vmh = vabbrDict[k]\n",
    "\n",
    "print(len([C.other_ids['metabolicATLAS'] for C in atlas2020metabolites if not C.formula]))\n",
    "print(len([C for C in atlas2020metabolites if C.formula]))\n",
    "print(len(atlas2020metabolites))"
   ],
   "outputs": [
    {
     "output_type": "stream",
     "name": "stdout",
     "text": [
      "412\n",
      "3756\n",
      "4168\n"
     ]
    }
   ],
   "metadata": {}
  },
  {
   "cell_type": "code",
   "execution_count": 157,
   "source": [
    "remaining = [C.other_ids['metabolicATLAS'] for C in atlas2020metabolites if not C.formula]\n",
    "print(remaining)"
   ],
   "outputs": [
    {
     "output_type": "stream",
     "name": "stdout",
     "text": [
      "['temp002', 'temp003', 'temp004', 'temp005', 'galgluside_hs', 'Rtotal2', 'Rtotal2coa', 'alkylR1oh', 'Rtotal', 'glygn4', 'Rtotalcoa', 'Rtotal3coa', 'Rtotal3', 'R1coa_hs', 'R2coa_hs', 'R3coa_hs', 'R4coa_hs', 'R5coa_hs', 'R6coa_hs', 'galacglcgalacglcgal14acglcgalgluside_hs', 'bvite', '2dpmhobq', '2dp6mobq', '2dp6mobq_me', 'Ser_Thr', 'glc1man', 'glc2man', 'glc3man', 'etfox', 'etfrd', '9_cis_retfa', 'fucfuc12gal14acglcgalgluside_hs', 'fucfucgalacglcgalgluside_hs', 'glyc_S', 'glygn5', 'Tyr_ggn', 'xolest_hs', 'tdeACP', 'hdeACP', 'ocdcaACP', 'octeACP', 'lnlcACP', 'lneldcACP', 'ocdcyaACP', 'tag1p_D', 'm_em_3gacpail', 'lnlncacrn', 'm_em_3gacpail_hs', 'm_em_3gacpail_prot_hs', 'Rtotal2crn', 'Rtotal3crn', 'Rtotalcrn', 'HC02119', 'HC02097', 'HC02098', 'HC02099', 'HC01988', 'HC02111', 'HC02112', 'HC02113', 'HC02114', 'HC02115', 'CE0692', 'HC02154', 'CE2881', 'CE2885', 'CE2882', 'CE2886', 'CE2883', 'CE2887', 'CE2884', 'CE2888', 'malthx', 'malthp', 'CE1950', 'CE2891', 'CE4753', 'CE4754', 'CE0233', 'CE2953', 'CE1162', 'CE2955', 'CE5775', 'CE5776', 'CE1294', 'CE5932', 'CE5013', 'CE5837', 'CE5838', 'CE5839', 'CE5840', 'CE5829', 'CE5865', 'CE5866', 'CE5016', 'CE2615', 'CE2616', 'CE2597', 'CE2596', 'CE5117', 'CE5118', 'CE5119', 'CE5120', 'CE4790', 'CE4792', 'CE4794', 'CE4824', 'CE2313', 'CE6027', 'CE4837', 'CE5049', 'CE5160', 'CE5161', 'CE5162', 'CE5168', '12dgr120', 'CN0012', 'CN0009', 'CN0010', 'CN0011', 'CN0021', 'CN0022', 'CN0023', 'CN0016', 'CN0017', 'CN0018', 'CN0019', '3bcrn', 'c10crn', 'decdicrn', '3deccrn', 'ddece1crn', '3ddcrn', 'tetdece1crn', '3tetd7ecoacrn', 'tetdec2crn', '3ttetddcoacrn', '3tdcrn', '3hdececrn', '3thexddcoacrn', '3hexdcrn', '3octdece1crn', '3octdec2crn', '3octdeccrn', 'ivcrn', 'c6crn', 'c81crn', '3ivcrn', 'octdececrn', 'alaala', 'bglc', 'glgchlo', 'gltcho', 'glyphe', 'glypro', 'glysar', 'gum', 'gumgchol', 'gumtchol', 'leugly', 'leuleu', 'pectingchol', 'pectintchol', 'psyl', 'psylchol', 'psyltchol', 'and19one', '21hprgnlone', '3mhis', 'hmcr', 'peole_hs', 'pcholpalme_hs', 'pcholpalm_hs', 'pepalm_hs', 'peste_hs', 'pchol2linl_hs', 'pe2linl_hs', 'pchol2ole_hs', 'pchol2palm_hs', 'pchol2ste_hs', 'xolest183_hs', 'xolest181_hs', 'xolest205_hs', 'xolest204_hs', 'xolest226_hs', 'pcholn15_hs', 'pcholar_hs', 'pcholn183_hs', 'pcholn1836_hs', 'pcholn19_hs', 'pcholn201_hs', 'pcholn205_hs', 'pcholn224_hs', 'pcholn225_hs', 'pcholn2254_hs', 'pcholn226_hs', 'pear_hs', 'pe203_hs', 'pe226_hs', 'pe224_hs', 'pedh203_hs', 'pe12_hs', 'pe14_hs', 'pe161_hs', 'pe13_hs', 'pe15_hs', 'pe17_hs', 'pcholn203_hs', 'pcholn261_hs', 'pcholn281_hs', 'pcholn28_hs', 'pcholdoc_hs', 'pcholeic_hs', 'pcholet_hs', 'pchollinl_hs', 'pelinl_hs', 'sphmyln18114_hs', 'sphmyln18121_hs', 'sphmyln181221_hs', 'sphmyln18122_hs', 'sphmyln18123_hs', 'sphmyln180241_hs', 'sphmyln1824_hs', 'sphmyln1825_hs', 'sphmyln18115_hs', 'sphmyln181161_hs', 'sphmyln18116_hs', 'sphmyln18117_hs', 'sphmyln18118_hs', 'sphmyln181181_hs', 'sphmyln181201_hs', 'sphmyln18120_hs', 'xolest182_hs', 'maglinl_hs', 'magole_hs', 'magpalm_hs', 'magste_hs', 'magarachi_hs', 'hmcarn', '3mtp', 'abt_D', 'acthr_L', 'didecaeth', 'diholineth', 'docohxeth', 'docteteth', 'hepdeceth', 'hexdeceeth', 'lineth', 'oleth', 'pendecaeth', 'pmeth', 'steeth', 'tetdecaeth', 'trideceth', 'acile_L', 'acleu_L', 'achom_L', 'indole', 'alaasnleu', 'alahisala', 'argglupro', 'asncyscys', 'asnmetpro', 'asnphecys', 'asntyrgly', 'asntyrphe', 'asntyrthr', 'aspalaarg', 'asplyshis', 'aspprolys', 'cysasnmet', 'cyscys', 'cysglnmet', 'cysleuthr', 'cyssermet', 'cystyrasn', 'glnasngln', 'glnhishis', 'glntyrleu', 'gluargleu', 'gluilelys', 'gluthrlys', 'glyhisasn', 'glyvalhis', 'hiscyscys', 'hisglnala', 'hislysglu', 'hismet', 'hismetgln', 'histrphis', 'ileasnhis', 'iletrptyr', 'leuasplys', 'leuleutrp', 'leupro', 'leusertrp', 'leutrp', 'leutyrtyr', 'leuval', 'metasntyr', 'metglntyr', 'metmetile', 'mettrpphe', 'pheasnmet', 'pheglnphe', 'pheleu', 'pheleuhis', 'phephe', 'phepheasn', 'phephethr', 'phesertrp', 'phetrpleu', 'phetyr', 'phetyrgln', 'proargasp', 'proasncys', 'procys', 'proglnpro', 'proglulys', 'prohis', 'prohistyr', 'propropro', 'protrpthr', 'provalgln', 'sertrphis', 'thrasntyr', 'thrglntyr', 'thrhishis', 'thrtyrmet', 'trpalapro', 'trpglngln', 'trpglyleu', 'trpglyphe', 'trpglyval', 'trphismet', 'trpiletrp', 'trpleuval', 'trpmetval', 'trpphe', 'trpprogly', 'trpproleu', 'trpproval', 'trpsertyr', 'trpthrile', 'trpthrtyr', 'trptyrgln', 'trptyrtyr', 'tyrala', 'tyralaphe', 'tyrargglu', 'tyrasparg', 'tyrcysgly', 'tyrcysthr', 'tyrphetyr', 'tyrthr', 'tyrtrpphe', 'tyrtyr', 'tyrvalmet', 'valhisasn', 'valleuphe', 'valprotrp', 'valtrpphe', 'valtrpval', 'valval', 'Lhcystin', 'band', 'bandmt', 'galam', 'mqn10', 'mqn11', '2hxic_L', 'vldl_hs', 'idl_hs', 'ldl_hs', 'hdl_hs', 'myelin_hs', 'chylo_hs', 'dopa4sf', 'dopa4glcur', 'dopa3glcur', '34dhpe', '5cysgly34dhphe', '6hddopaqn', '23dh1i56dio', 'ind56qn', 'phcrm_hs', 'hhxdcal', 'coprost', '1hibupglu_S', '1hibup_S', '2hibupglu_S', '2hibup_R', '2hibup_S', '3hibupglu_S', '3hibup_R', '3hibup_S', 'caribupglu_S', 'caribup_R', 'ibup_R', 'ibup_S', 'tauribup_S', 'ibupcoa_R', 'ibupcoa_S', 'm10000', 'm10001', 'm10002', 'm10003', 'm10012', 'm10013', 'm10014', 'm10015']\n"
     ]
    }
   ],
   "metadata": {}
  },
  {
   "cell_type": "code",
   "execution_count": 154,
   "source": [
    "# rerun vmh API, some may be timed out last time\n",
    "counter = 0\n",
    "for x in remaining:\n",
    "    counter += 1\n",
    "    url = \"https://www.vmh.life/_api/metabolites/?abbreviation=%s&format=json\" %x\n",
    "    r = requests.get(url).json()\n",
    "    vmh_results += r['results']\n",
    "    if str(counter)[-2:] == '00':\n",
    "        print(counter)"
   ],
   "outputs": [
    {
     "output_type": "stream",
     "name": "stdout",
     "text": [
      "100\n",
      "200\n",
      "300\n",
      "400\n"
     ]
    }
   ],
   "metadata": {}
  },
  {
   "cell_type": "code",
   "execution_count": 158,
   "source": [
    "len(vmh_results)\n",
    "vmh_results[1787 + 20]"
   ],
   "outputs": [
    {
     "output_type": "execute_result",
     "data": {
      "text/plain": [
       "{'met_id': 725,\n",
       " 'abbreviation': 'Ser_Thr',\n",
       " 'createdDate': '2018-05-31T15:54:08.170242Z',\n",
       " 'updatedDate': '2019-01-29T17:58:36.589634Z',\n",
       " 'fullName': 'Protein-Linked Serine Or Threonine Residue (O-Glycosylation Site)',\n",
       " 'description': '',\n",
       " 'synonyms': None,\n",
       " 'iupac': None,\n",
       " 'neutralFormula': '',\n",
       " 'chargedFormula': 'XH',\n",
       " 'charge': 0,\n",
       " 'avgmolweight': None,\n",
       " 'monoisotopicweight': None,\n",
       " 'miriam': 'http://identifiers.org/vmhmetabolite/Ser_Thr',\n",
       " 'biggId': 'Ser_Thr',\n",
       " 'lmId': '',\n",
       " 'ehmnId': '',\n",
       " 'hepatonetId': '',\n",
       " 'keggId': '',\n",
       " 'pubChemId': '',\n",
       " 'cheBlId': '',\n",
       " 'chembl': '',\n",
       " 'inchiString': '',\n",
       " 'inchiKey': None,\n",
       " 'smile': '',\n",
       " 'hmdb': '',\n",
       " 'metanetx': 'MNXM147296',\n",
       " 'seed': None,\n",
       " 'pdmapName': None,\n",
       " 'reconMap': 'Ser_Thr',\n",
       " 'reconMap3': 'Ser_Thr',\n",
       " 'golgimap': 'Ser_Thr',\n",
       " 'lysosomemap': 'Ser_Thr',\n",
       " 'mitochondrionmap': None,\n",
       " 'nucleusmap': None,\n",
       " 'peroxisomemap': None,\n",
       " 'reticulummap': None,\n",
       " 'food_db': None,\n",
       " 'chemspider': None,\n",
       " 'biocyc': None,\n",
       " 'wikipedia': None,\n",
       " 'drugbank': None,\n",
       " 'knapsack': None,\n",
       " 'phenolExplorer': None,\n",
       " 'metlin': None,\n",
       " 'casRegistry': None,\n",
       " 'epa_id': None,\n",
       " 'echa_id': None,\n",
       " 'iuphar_id': None,\n",
       " 'fda_id': None,\n",
       " 'mesh_id': None,\n",
       " 'chodb_id': 'Ser_Thr',\n",
       " 'isHuman': True,\n",
       " 'isMicrobe': True}"
      ]
     },
     "metadata": {},
     "execution_count": 158
    }
   ],
   "metadata": {}
  },
  {
   "cell_type": "code",
   "execution_count": 159,
   "source": [
    "# paste & rerun the prevous block\n",
    "\n",
    "vabbrDict = {}\n",
    "for x in vmh_results:\n",
    "    vabbrDict[x['abbreviation'].lower()] = x\n",
    "    \n",
    "for C in atlas2020metabolites:\n",
    "    k = C.other_ids['metabolicATLAS']\n",
    "    if not C.formula and k in vabbrDict:\n",
    "        try:\n",
    "            C.charge = vabbrDict[k]['charge']\n",
    "            C.formula = vabbrDict[k]['chargedFormula']\n",
    "        except KeyError:\n",
    "            try:\n",
    "                C.formula = vabbrDict[k]['neutralFormula']\n",
    "            except KeyError:\n",
    "                print(k)\n",
    "        C.vmh = vabbrDict[k]\n",
    "\n",
    "print(len([C.other_ids['metabolicATLAS'] for C in atlas2020metabolites if not C.formula]))\n",
    "print(len([C for C in atlas2020metabolites if C.formula]))\n",
    "print(len(atlas2020metabolites))"
   ],
   "outputs": [
    {
     "output_type": "stream",
     "name": "stdout",
     "text": [
      "133\n",
      "4035\n",
      "4168\n"
     ]
    }
   ],
   "metadata": {}
  },
  {
   "cell_type": "code",
   "execution_count": 160,
   "source": [
    "remaining = [C.other_ids['metabolicATLAS'] for C in atlas2020metabolites if not C.formula]\n",
    "print(len(remaining))\n",
    "print(remaining)"
   ],
   "outputs": [
    {
     "output_type": "stream",
     "name": "stdout",
     "text": [
      "133\n",
      "['temp002', 'temp003', 'temp004', 'temp005', 'Rtotal2', 'Rtotal2coa', 'alkylR1oh', 'Rtotal', 'Rtotalcoa', 'Rtotal3coa', 'Rtotal3', 'R1coa_hs', 'R2coa_hs', 'R3coa_hs', 'R4coa_hs', 'R5coa_hs', 'R6coa_hs', 'Ser_Thr', 'glyc_S', 'Tyr_ggn', 'tdeACP', 'hdeACP', 'ocdcaACP', 'octeACP', 'lnlcACP', 'lneldcACP', 'ocdcyaACP', 'tag1p_D', 'Rtotal2crn', 'Rtotal3crn', 'Rtotalcrn', 'HC02119', 'HC02097', 'HC02098', 'HC02099', 'HC01988', 'HC02111', 'HC02112', 'HC02113', 'HC02114', 'HC02115', 'CE0692', 'HC02154', 'CE2881', 'CE2885', 'CE2882', 'CE2886', 'CE2883', 'CE2887', 'CE2884', 'CE2888', 'CE1950', 'CE2891', 'CE4753', 'CE4754', 'CE0233', 'CE2953', 'CE1162', 'CE2955', 'CE5775', 'CE5776', 'CE1294', 'CE5932', 'CE5013', 'CE5837', 'CE5838', 'CE5839', 'CE5840', 'CE5829', 'CE5865', 'CE5866', 'CE5016', 'CE2615', 'CE2616', 'CE2597', 'CE2596', 'CE5117', 'CE5118', 'CE5119', 'CE5120', 'CE4790', 'CE4792', 'CE4794', 'CE4824', 'CE2313', 'CE6027', 'CE4837', 'CE5049', 'CE5160', 'CE5161', 'CE5162', 'CE5168', 'CN0012', 'CN0009', 'CN0010', 'CN0011', 'CN0021', 'CN0022', 'CN0023', 'CN0016', 'CN0017', 'CN0018', 'CN0019', 'abt_D', 'acthr_L', 'acile_L', 'acleu_L', 'achom_L', 'Lhcystin', '2hxic_L', '1hibupglu_S', '1hibup_S', '2hibupglu_S', '2hibup_R', '2hibup_S', '3hibupglu_S', '3hibup_R', '3hibup_S', 'caribupglu_S', 'caribup_R', 'ibup_R', 'ibup_S', 'tauribup_S', 'ibupcoa_R', 'ibupcoa_S', 'm10000', 'm10001', 'm10002', 'm10003', 'm10012', 'm10013', 'm10014', 'm10015']\n"
     ]
    }
   ],
   "metadata": {}
  },
  {
   "cell_type": "markdown",
   "source": [
    "**So we are getting formula for 4035 of 4168 compounds.**\n",
    "\n",
    "Exact mass can be computed from formula.\n",
    "Pay attention to\n",
    "neutral vs charged formula and mass!!"
   ],
   "metadata": {}
  },
  {
   "cell_type": "code",
   "execution_count": 162,
   "source": [
    "# mummichog has a few more\n",
    "print(len(mcg2cpds),\n",
    "mcg2cpds['CE2881'])"
   ],
   "outputs": [
    {
     "output_type": "stream",
     "name": "stdout",
     "text": [
      "3557 {'formula': 'C14H7I4O4', 'mw': 746.6523057131, 'name': \"3,5,3',5'-tetraiodothyroacetate\", 'adducts': {'M+2H[2+]': 374.33342932332, 'M+Br81[-]': 827.5686057130999, 'M-H2O+H[1+]': 729.64898217987, 'M-C3H4O2+H[1+]': 675.6384821798699, 'M-HCOOH+H[1+]': 701.65418217987, 'M-CO+H[1+]': 719.66458217987, 'M+K[1+]': 785.61508217987, 'M+Cl[-]': 781.6212057130999, 'M+Na-2H[-]': 766.6197527795599, 'M-CO2+H[1+]': 703.66978217987, 'M+Na[1+]': 769.6415821798699, 'M-2H[2-]': 372.31887638978, 'M+H[1+]': 747.65958217987, 'M-H4O2+H[1+]': 711.63838217987, 'M(C13)-H[-]': 746.64842924633, 'M+HCOONa[1+]': 815.64698217987, 'M(C13)+2H[2+]': 374.83512932332, 'M+HCOOK[1+]': 831.62088217987, 'M+HCOO[-]': 791.6499507131, 'M(C13)+3H[3+]': 250.22577837113664, 'M+ACN-H[-]': 786.6715742463299, 'M+Cl37[-]': 783.6182057131, 'M-H2O-H[-]': 727.63442924633, 'M+Br[-]': 825.5706057131, 'M+3H[3+]': 249.89137837113665, 'M+CH3COO[-]': 805.6656007130999, 'M(C13)+H[1+]': 748.66298217987, 'M[1+]': 746.6523057131, 'M-H[-]': 745.64502924633, 'M+NaCl[1+]': 805.61818217987, 'M+H+Na[2+]': 385.32442932332, 'M+H2O+H[1+]': 765.6701821798699, 'M-H+O[-]': 761.63993924633, 'M+K-2H[-]': 782.59325277956}}\n"
     ]
    }
   ],
   "metadata": {}
  },
  {
   "cell_type": "code",
   "execution_count": 163,
   "source": [
    "for C in atlas2020metabolites:\n",
    "    k = C.other_ids['metabolicATLAS']\n",
    "    if not C.formula and k in mcg2cpds:\n",
    "        C.formula = mcg2cpds[k]['formula']\n",
    "        C.mw = mcg2cpds[k]['mw']\n",
    "        C.mummichog2 = mcg2cpds[k]\n",
    "\n",
    "print(len([C.other_ids['metabolicATLAS'] for C in atlas2020metabolites if not C.formula]))\n",
    "print(len([C for C in atlas2020metabolites if C.formula]))\n",
    "print(len(atlas2020metabolites))"
   ],
   "outputs": [
    {
     "output_type": "stream",
     "name": "stdout",
     "text": [
      "75\n",
      "4093\n",
      "4168\n"
     ]
    }
   ],
   "metadata": {}
  },
  {
   "cell_type": "code",
   "execution_count": 164,
   "source": [
    "remaining = [C.other_ids['metabolicATLAS'] for C in atlas2020metabolites if not C.formula]\n",
    "print(len(remaining))\n",
    "print(remaining)"
   ],
   "outputs": [
    {
     "output_type": "stream",
     "name": "stdout",
     "text": [
      "75\n",
      "['temp002', 'temp003', 'temp004', 'temp005', 'alkylR1oh', 'Rtotal3', 'R1coa_hs', 'R2coa_hs', 'R3coa_hs', 'R4coa_hs', 'R5coa_hs', 'R6coa_hs', 'Ser_Thr', 'glyc_S', 'Tyr_ggn', 'tag1p_D', 'HC02119', 'HC02097', 'HC02098', 'HC02099', 'HC01988', 'HC02111', 'HC02112', 'HC02113', 'HC02114', 'HC02115', 'HC02154', 'CE0233', 'CE1162', 'CE2955', 'CE1294', 'CE5829', 'CE5865', 'CE5866', 'CE5160', 'CN0012', 'CN0009', 'CN0010', 'CN0011', 'CN0021', 'CN0022', 'CN0023', 'CN0017', 'CN0018', 'CN0019', 'abt_D', 'acthr_L', 'acile_L', 'acleu_L', 'achom_L', 'Lhcystin', '2hxic_L', '1hibupglu_S', '1hibup_S', '2hibupglu_S', '2hibup_R', '2hibup_S', '3hibupglu_S', '3hibup_R', '3hibup_S', 'caribupglu_S', 'caribup_R', 'ibup_R', 'ibup_S', 'tauribup_S', 'ibupcoa_R', 'ibupcoa_S', 'm10000', 'm10001', 'm10002', 'm10003', 'm10012', 'm10013', 'm10014', 'm10015']\n"
     ]
    }
   ],
   "metadata": {}
  },
  {
   "cell_type": "markdown",
   "source": [
    "## Finished collecting formula on metabolites\n",
    "Next:\n",
    "* Recompute mw and adducts\n"
   ],
   "metadata": {}
  },
  {
   "cell_type": "code",
   "execution_count": 176,
   "source": [
    "print(len([C for C in atlas2020metabolites if C.formula]))\n",
    "\n",
    "withCharge = []\n",
    "for C in atlas2020metabolites:\n",
    "    try:\n",
    "        withCharge.append((C.charge, C.formula, C.mw, C))\n",
    "    except AttributeError:\n",
    "        pass\n",
    "        \n",
    "print(len(withCharge))\n",
    "print(len([x for x in withCharge if x != 0]))\n",
    "print(withCharge[:5])\n",
    "withCharge = [C[-1].azimuth_id for C in withCharge]"
   ],
   "outputs": [
    {
     "output_type": "stream",
     "name": "stdout",
     "text": [
      "4093\n",
      "3897\n",
      "3897\n",
      "[(0, 'C10H16O', 152.1201, <__main__.Compound object at 0x7f93ffc1e6d0>), (0, 'C10H16', '136.1252', <__main__.Compound object at 0x7f93ffc1e7d0>), (-1, 'C17H31O2', 0, <__main__.Compound object at 0x7f93ffc1e990>), (-4, 'C38H62N7O17P3S', 0, <__main__.Compound object at 0x7f93ffc1e510>), (-1, 'C20H31O4', 0, <__main__.Compound object at 0x7f93ffc23c50>)]\n"
     ]
    }
   ],
   "metadata": {}
  },
  {
   "cell_type": "code",
   "execution_count": 179,
   "source": [
    "# verify charged formula against mcg 2\n",
    "\n",
    "withKEGG = []\n",
    "for C in atlas2020metabolites:\n",
    "    if C.other_ids[\"KEGG\"]:\n",
    "        withKEGG.append(C)\n",
    "\n",
    "new, good, bad = [], [], []\n",
    "for C in withKEGG:\n",
    "    if C.azimuth_id in withCharge and C.other_ids[\"KEGG\"] in mcg2cpds:\n",
    "        new.append(C)\n",
    "\n",
    "print(len(new))\n",
    "for C in new:\n",
    "    if C.formula and C.formula == mcg2cpds[C.other_ids[\"KEGG\"]]['formula']:\n",
    "        good.append(C)\n",
    "    else:\n",
    "        bad.append(C)\n",
    "        \n",
    "print(len(good), len(bad))\n",
    "for C in bad[200:220]:\n",
    "    print(C.charge, C.formula, \"||||||||\", mcg2cpds[C.other_ids[\"KEGG\"]]['formula'])"
   ],
   "outputs": [
    {
     "output_type": "stream",
     "name": "stdout",
     "text": [
      "1449\n",
      "433 1016\n",
      "-2 C6H6O5 |||||||| C6H8O5\n",
      "-1 C4H5O3 |||||||| C4H6O3\n",
      "-1 C5H6NO4 |||||||| C5H7NO4\n",
      "-3 C3H4O7P |||||||| C3H7O7P\n",
      "-3 C2H2O6P |||||||| C2H5O6P\n",
      "-1 C12H18N3O8S |||||||| \n",
      "0 C54H89N2O25P2R7 |||||||| \n",
      "-1 C8H7O5 |||||||| C8H8O5\n",
      "-1 C8H7O4 |||||||| C8H8O4\n",
      "-2 C66H111N4O38RCO |||||||| \n",
      "-4 C48H74N7O21P3S |||||||| C48H78N7O21P3S\n",
      "-4 C48H74N7O20P3S |||||||| C48H78N7O20P3S\n",
      "-1 C27H45O5 |||||||| C27H46O5\n",
      "-4 C48H74N7O20P3S |||||||| C48H78N7O20P3S\n",
      "-4 C48H74N7O19P3S |||||||| C48H78N7O19P3S\n",
      "-1 C27H45O4 |||||||| \n",
      "1 C3H8NO |||||||| C3H7NO\n",
      "-1 C23H36O20X |||||||| \n",
      "-3 C16H21N4O10P2S |||||||| C16H25N4O10P2S\n",
      "-1 C6H9O7 |||||||| C6H10O7\n"
     ]
    }
   ],
   "metadata": {}
  },
  {
   "cell_type": "markdown",
   "source": [
    "**How many are caused by H atoms alone?**"
   ],
   "metadata": {}
  },
  {
   "cell_type": "code",
   "execution_count": 184,
   "source": [
    "def compareFormulas(x, y):\n",
    "    p = []\n",
    "    n1, n2 = len(x), len(y)\n",
    "    if n1 == n2:\n",
    "        for ii in range(n1):\n",
    "            if x[-ii] != y[-ii]:\n",
    "                p += [x[-ii-1], x[-ii]]\n",
    "\n",
    "        return ''.join(p)\n",
    "    else:\n",
    "        return '~~~~'.join([x,y])\n",
    "\n",
    "diffBad = []\n",
    "for C in bad:\n",
    "    y = mcg2cpds[C.other_ids[\"KEGG\"]]['formula']\n",
    "    if y:\n",
    "        diffBad.append( [C.charge, C.formula, y, \"^^^^^^^^^^^^^^^^^\", compareFormulas(C.formula, y)] )\n",
    "        \n",
    "diffBad[30:50]"
   ],
   "outputs": [
    {
     "output_type": "execute_result",
     "data": {
      "text/plain": [
       "[[-4, 'C35H58N7O18P3S', 'C35H62N7O18P3S', '^^^^^^^^^^^^^^^^^', '58H5'],\n",
       " [-1, 'C5H5N2O4', 'C5H6N2O4', '^^^^^^^^^^^^^^^^^', 'H5'],\n",
       " [-4, 'C31H50N7O18P3S', 'C31H54N7O18P3S', '^^^^^^^^^^^^^^^^^', '50'],\n",
       " [-4, 'C27H42N7O18P3S', 'C27H46N7O18P3S', '^^^^^^^^^^^^^^^^^', '42'],\n",
       " [-4, 'C29H46N7O18P3S', 'C29H50N7O18P3S', '^^^^^^^^^^^^^^^^^', '46H4'],\n",
       " [1,\n",
       "  'C9H18N3O2R2',\n",
       "  'C8H18N2O2',\n",
       "  '^^^^^^^^^^^^^^^^^',\n",
       "  'C9H18N3O2R2~~~~C8H18N2O2'],\n",
       " [-2, 'C4H5N2O6PR2', 'HO4P', '^^^^^^^^^^^^^^^^^', 'C4H5N2O6PR2~~~~HO4P'],\n",
       " [0, 'C5H10O6PR', 'C19H39O6P', '^^^^^^^^^^^^^^^^^', 'PR6PO60O10H15HC5'],\n",
       " [-4, 'C3H4O10P2', 'C3H8O10P2', '^^^^^^^^^^^^^^^^^', 'H4'],\n",
       " [2, 'C3H12N2', 'C3H10N2', '^^^^^^^^^^^^^^^^^', '12'],\n",
       " [-2, 'C20H21N7O7', 'C20H23N7O7', '^^^^^^^^^^^^^^^^^', '21'],\n",
       " [-1, 'C20H31O3', 'C20H32O3', '^^^^^^^^^^^^^^^^^', '31'],\n",
       " [0, 'C21H30O3', 'C20H28O4', '^^^^^^^^^^^^^^^^^', 'O330H321'],\n",
       " [-1, 'C18H31O3', 'C18H32O3', '^^^^^^^^^^^^^^^^^', '31'],\n",
       " [-1, 'C20H31O4', 'C20H32O4', '^^^^^^^^^^^^^^^^^', '31'],\n",
       " [-1, 'C20H27O3', 'C20H28O3', '^^^^^^^^^^^^^^^^^', '27'],\n",
       " [0, 'C8H19NO6PR', 'C26H56NO6P', '^^^^^^^^^^^^^^^^^', 'PR6PO6NO9N19H18HC8'],\n",
       " [-10,\n",
       "  'C6H7O21P5',\n",
       "  'C6H17O21P5',\n",
       "  '^^^^^^^^^^^^^^^^^',\n",
       "  'C6H7O21P5~~~~C6H17O21P5'],\n",
       " [-8,\n",
       "  'C6H8O18P4',\n",
       "  'C6H16O18P4',\n",
       "  '^^^^^^^^^^^^^^^^^',\n",
       "  'C6H8O18P4~~~~C6H16O18P4'],\n",
       " [-8,\n",
       "  'C6H8O18P4',\n",
       "  'C6H16O18P4',\n",
       "  '^^^^^^^^^^^^^^^^^',\n",
       "  'C6H8O18P4~~~~C6H16O18P4']]"
      ]
     },
     "metadata": {},
     "execution_count": 184
    }
   ],
   "metadata": {}
  },
  {
   "cell_type": "code",
   "execution_count": 191,
   "source": [
    "print(\"Mummichog v2 has %s cpds\" %len(mcg2cpds))\n",
    "\n",
    "t = []\n",
    "for k,v in mcg2cpds.items():\n",
    "    if v['formula']:\n",
    "        t.append(k)\n",
    "        \n",
    "print(len(t))\n",
    "# How mnay R in model?\n",
    "print(\"Number of metabolites in this model w/ R \", \n",
    "len([C for C in atlas2020metabolites if C.formula and \"R\" in C.formula]))\n",
    "\n",
    "print(len(atlas2020metabolites))"
   ],
   "outputs": [
    {
     "output_type": "stream",
     "name": "stdout",
     "text": [
      "Mummichog v2 has 3557 cpds\n",
      "2170\n",
      "Number of metabolites in this model w/ R  516\n",
      "4168\n"
     ]
    }
   ],
   "metadata": {}
  },
  {
   "cell_type": "markdown",
   "source": [
    "**So the charge is mostly on H atoms**\n",
    "\n",
    "**But the \"R\" group is nopass for mw, not usable anyway**\n",
    "\n",
    "**Excluding the ones wiht R group, this model doesn't have many more metabolites than mcg v2. Hoping the formulas help**\n"
   ],
   "metadata": {}
  },
  {
   "cell_type": "code",
   "execution_count": 198,
   "source": [
    "# new mass calculation\n",
    "# using pychemy module. It failed to install using pip because of `Open Babel` binding.\n",
    "# But the mass calcuation function is not depdendent on `Open Babel`, \n",
    "# thus pychemy folder is copied here and it's usable as below\n",
    "\n",
    "from pychemy.molmass import Formula\n",
    "\n",
    "t = []\n",
    "\n",
    "for C in atlas2020metabolites:\n",
    "    if C.formula:\n",
    "        if \"R\" not in C.formula and \"X\" not in C.formula:\n",
    "            mw = Formula( C.formula ).isotope.mass\n",
    "            try:\n",
    "                t.append((mw, C.mw, C.formula, C.charge))\n",
    "            except AttributeError:\n",
    "                t.append((mw, C.mw, C.formula, ''))\n",
    "                \n",
    "print(len(t))\n",
    "t[30:130]"
   ],
   "outputs": [
    {
     "output_type": "stream",
     "name": "stdout",
     "text": [
      "3366\n"
     ]
    },
    {
     "output_type": "execute_result",
     "data": {
      "text/plain": [
       "[(449.1256707986, 451.1413, 'C20H23N3O7S', -2),\n",
       " (144.0575148789, 144.0575, 'C10H8O', 0),\n",
       " (449.1256707986, 451.1413, 'C20H23N3O7S', -2),\n",
       " (144.0575148789, 144.0575, 'C10H8O', 0),\n",
       " (416.3290452787, 0, 'C27H44O3', 0),\n",
       " (1211.4027827601, 1215.4341, 'C48H76N7O21P3S', -4),\n",
       " (1195.4078681380001, 1199.4392, 'C48H76N7O20P3S', -4),\n",
       " (915.2040233729, 919.2353, 'C31H48N7O17P3S', -4),\n",
       " (1083.3918241433, 0, 'C43H72N7O17P3S', -4),\n",
       " (943.2353235013, 947.2666, 'C33H52N7O17P3S', -4),\n",
       " (1055.3605240149, 0, 'C41H68N7O17P3S', -4),\n",
       " (1069.3761740791, 0, 'C42H70N7O17P3S', -4),\n",
       " (1013.3135738223, 0, 'C38H62N7O17P3S', -4),\n",
       " (873.1570731803, 0, 'C28H42N7O17P3S', -4),\n",
       " (1139.4544244001, 0, 'C47H80N7O17P3S', -4),\n",
       " (999.2979237581, 1003.3292, 'C37H60N7O17P3S', -4),\n",
       " (859.1414231161, 863.1727, 'C27H40N7O17P3S', -4),\n",
       " (1041.3448739507, 0, 'C40H66N7O17P3S', -4),\n",
       " (901.1883733087, 0, 'C30H46N7O17P3S', -4),\n",
       " (1027.3292238865001, 1031.3605, 'C39H64N7O17P3S', -4),\n",
       " (887.1727232445, 891.204, 'C29H44N7O17P3S', -4),\n",
       " (985.2822736939, 0, 'C36H58N7O17P3S', -4),\n",
       " (845.1257730519, 0, 'C26H38N7O17P3S', -4),\n",
       " (1111.4231242717, 0, 'C45H76N7O17P3S', -4),\n",
       " (971.2666236297, 975.2979, 'C35H56N7O17P3S', -4),\n",
       " (1097.4074742075, 0, 'C44H74N7O17P3S', -4),\n",
       " (957.2509735655, 0, 'C34H54N7O17P3S', -4),\n",
       " (929.2196734371, 0, 'C32H50N7O17P3S', -4),\n",
       " (993.2509735655, 0, 'C37H54N7O17P3S', -4),\n",
       " (1021.2822736939, 0, 'C39H58N7O17P3S', -4),\n",
       " (1075.3292238865001, 0, 'C43H64N7O17P3S', -4),\n",
       " (1043.3605240149, 0, 'C40H68N7O17P3S', -4),\n",
       " (973.2822736939, 0, 'C35H58N7O17P3S', -4),\n",
       " (297.2793554319, 0, 'C19H37O2', -1),\n",
       " (1043.3605240149, 0, 'C40H68N7O17P3S', -4),\n",
       " (971.2666236297, 0, 'C35H56N7O17P3S', -4),\n",
       " (973.2822736939, 0, 'C35H58N7O17P3S', -4),\n",
       " (1013.277188316, 0, 'C37H58N7O18P3S', -4),\n",
       " (959.2302381234, 0, 'C33H52N7O18P3S', -4),\n",
       " (1041.3084884444, 0, 'C39H62N7O18P3S', -4),\n",
       " (892.1026918860999, 897.1418, 'C26H37N7O20P3S', -5),\n",
       " (1097.3710887011998, 0, 'C43H70N7O18P3S', -4),\n",
       " (1067.3241385085998, 0, 'C41H64N7O18P3S', -4),\n",
       " (1069.3397885728, 0, 'C41H66N7O18P3S', -4),\n",
       " (943.2353235013, 947.2666, 'C33H52N7O17P3S', -4),\n",
       " (995.2666236297, 0, 'C37H56N7O17P3S', -4),\n",
       " (999.2979237581, 0, 'C37H60N7O17P3S', -4),\n",
       " (995.2666236297, 0, 'C37H56N7O17P3S', -4),\n",
       " (473.3505090023, 0, 'C29H47NO4', 0),\n",
       " (1075.3292238865001, 1079.3605, 'C43H64N7O17P3S', -4),\n",
       " (329.2480553035, 0, 'C22H33O2', -1),\n",
       " (1073.3135738223, 1077.3449, 'C43H62N7O17P3S', -4),\n",
       " (217.0824465382, 218.09027157030002, 'C8H13N2O5', -1),\n",
       " (333.2065844193, 0, 'C20H29O4', -1),\n",
       " (943.2353235013, 0, 'C33H52N7O17P3S', -4),\n",
       " (449.3505090023, 0, 'C27H47NO4', 0),\n",
       " (1051.3292238865001, 0, 'C41H64N7O17P3S', -4),\n",
       " (445.3192088739, 0, 'C27H43NO4', 0),\n",
       " (1047.2979237580998, 1051.3292, 'C41H60N7O17P3S', -4),\n",
       " (279.23240523929996, '280.2402', 'C18H31O2', -1),\n",
       " (423.3348589381, '423.3349', 'C25H45NO4', 0),\n",
       " (1025.3135738223, 0, 'C39H62N7O17P3S', -4),\n",
       " (419.3035588097, 0, 'C25H41NO4', 0),\n",
       " (1021.2822736939, 1025.3136, 'C39H58N7O17P3S', -4),\n",
       " (501.3818091307, 0, 'C31H51NO4', 0),\n",
       " (1103.3605240149, 1107.3918, 'C45H68N7O17P3S', -4),\n",
       " (357.2793554319, 0, 'C24H37O2', -1),\n",
       " (499.3661590665, 0, 'C31H49NO4', 0),\n",
       " (1101.3448739507, 1105.3762, 'C45H66N7O17P3S', -4),\n",
       " (355.2637053677, 0, 'C24H35O2', -1),\n",
       " (281.2480553035, 0, 'C18H33O2', -1),\n",
       " (1027.3292238865001, 0, 'C39H64N7O17P3S', -4),\n",
       " (225.18545504669999, 0, 'C14H25O2', -1),\n",
       " (971.2666236297, 0, 'C35H56N7O17P3S', -4),\n",
       " (1077.3448739507, 0, 'C43H66N7O17P3S', -4),\n",
       " (473.3505090023, 0, 'C29H47NO4', 0),\n",
       " (1075.3292238865001, 0, 'C43H64N7O17P3S', -4),\n",
       " (451.3661590665, 0, 'C27H49NO4', 0),\n",
       " (1053.3448739507, 0, 'C41H66N7O17P3S', -4),\n",
       " (447.3348589381, 0, 'C27H45NO4', 0),\n",
       " (1049.3135738223, 0, 'C41H62N7O17P3S', -4),\n",
       " (425.3505090023, '425.3505', 'C25H47NO4', 0),\n",
       " (1027.3292238865001, 0, 'C39H64N7O17P3S', -4),\n",
       " (225.18545504669999, 0, 'C14H25O2', -1),\n",
       " (971.2666236297, 0, 'C35H56N7O17P3S', -4),\n",
       " (503.39745919489997, 0, 'C31H53NO4', 0),\n",
       " (1105.3761740791, 0, 'C45H70N7O17P3S', -4),\n",
       " (359.2950054961, 0, 'C24H39O2', -1),\n",
       " (501.3818091307, 0, 'C31H51NO4', 0),\n",
       " (1103.3605240149, 0, 'C45H68N7O17P3S', -4),\n",
       " (357.2793554319, 0, 'C24H37O2', -1),\n",
       " (707.2484075138, 0, 'C26H45NO21', 0),\n",
       " (3889.9878568831, 0, 'C188H310N2O77P2', -2),\n",
       " (174.0793129535, 174.0793, 'C10H10N2O', 0),\n",
       " (194.118103763, 0, 'C11H16NO2', 1),\n",
       " (103.039519091, 104.0473, 'C4H7O3', -1),\n",
       " (849.120687674, 853.152, 'C25H38N7O18P3S', -4),\n",
       " (399.06271245130006, 402.0862, 'C12H20N2O9PS', -3),\n",
       " (303.974919562, 308.0062, 'C6H10O10P2', -4),\n",
       " (225.0164141857, 228.0399, 'C6H10O7P', -3)]"
      ]
     },
     "metadata": {},
     "execution_count": 198
    }
   ],
   "metadata": {}
  },
  {
   "cell_type": "markdown",
   "source": [
    "**From visual inspection, the charge is responsible for diff mass there**\n",
    "\n",
    "Continue calculating all mw using formula via the pychemy.molmass.Formula"
   ],
   "metadata": {}
  },
  {
   "cell_type": "code",
   "execution_count": 199,
   "source": [
    "print(len([C for C in atlas2020metabolites if C.mw]))\n",
    "\n",
    "for C in atlas2020metabolites:\n",
    "    if C.formula:\n",
    "        if \"R\" not in C.formula and \"X\" not in C.formula:\n",
    "            mw = Formula( C.formula ).isotope.mass\n",
    "            C.mw = mw\n",
    "            \n",
    "print(len([C for C in atlas2020metabolites if C.mw]))"
   ],
   "outputs": [
    {
     "output_type": "stream",
     "name": "stdout",
     "text": [
      "1437\n",
      "3417\n"
     ]
    }
   ],
   "metadata": {}
  },
  {
   "cell_type": "markdown",
   "source": [
    "**Yet to compute adducts**\n",
    "\n",
    "But need upload to GCP Azimuth now.\n",
    "\n",
    "## Adding pathways to rxns\n"
   ],
   "metadata": {}
  },
  {
   "cell_type": "code",
   "execution_count": 202,
   "source": [
    "print(len(rxns))\n",
    "\n",
    "rxn_dict = {}\n",
    "for r in rxns:\n",
    "    if r.attrib:\n",
    "        tmp = {'id': r.attrib['id'], 'name': '', 'source': 'Human-GEM', }\n",
    "        tmp['reactants'] = [x.attrib['species'] for x in r.find('{http://www.sbml.org/sbml/level3/version1/core}listOfReactants')]\n",
    "        tmp['products'] = [x.attrib['species'] for x in r.find('{http://www.sbml.org/sbml/level3/version1/core}listOfProducts')]\n",
    "        tmp['cpds'] = tmp['reactants'] + tmp['products']\n",
    "        rxn_dict[r.attrib['id']] = tmp\n",
    "        \n",
    "print(\"Got %d reactions.\" %len(rxn_dict))\n",
    "print(list(rxn_dict.items())[:2])\n",
    "\n",
    "# will add pathway etc. from spreadsheet"
   ],
   "outputs": [
    {
     "output_type": "stream",
     "name": "stdout",
     "text": [
      "13097\n",
      "Got 13097 reactions.\n",
      "[('R_HMR_3905', {'id': 'R_HMR_3905', 'name': '', 'source': 'Human-GEM', 'reactants': ['M_m01796c', 'M_m02552c'], 'products': ['M_m01249c', 'M_m02039c', 'M_m02553c'], 'cpds': ['M_m01796c', 'M_m02552c', 'M_m01249c', 'M_m02039c', 'M_m02553c']}), ('R_HMR_3907', {'id': 'R_HMR_3907', 'name': '', 'source': 'Human-GEM', 'reactants': ['M_m01796c', 'M_m02554c'], 'products': ['M_m01249c', 'M_m02039c', 'M_m02555c'], 'cpds': ['M_m01796c', 'M_m02554c', 'M_m01249c', 'M_m02039c', 'M_m02555c']})]\n"
     ]
    }
   ],
   "metadata": {}
  },
  {
   "cell_type": "code",
   "execution_count": 206,
   "source": [
    "print(header)\n",
    "print(\"EC-NUMBER\", header.index('EC-NUMBER'))\n",
    "print(\"SUBSYSTEM\", header.index('SUBSYSTEM'))\n",
    "\n",
    "print(sheets[0].row_values(2))"
   ],
   "outputs": [
    {
     "output_type": "stream",
     "name": "stdout",
     "text": [
      "['#', 'ID', 'NAME', 'EQUATION', 'EC-NUMBER', 'GENE ASSOCIATION', 'LOWER BOUND', 'UPPER BOUND', 'OBJECTIVE', 'COMPARTMENT', 'MIRIAM', 'SUBSYSTEM', 'REPLACEMENT ID', 'NOTE', 'REFERENCE', 'CONFIDENCE SCORE']\n",
      "EC-NUMBER 4\n",
      "SUBSYSTEM 11\n",
      "['', 'HMR_3907', '', 'ethanol[c] + NADP+[c] => acetaldehyde[c] + H+[c] + NADPH[c]', 'EC:1.1.1.2', 'ENSG00000117448', '', '', '', '', '', 'Glycolysis / Gluconeogenesis', '', '', '', 0.0]\n"
     ]
    }
   ],
   "metadata": {}
  },
  {
   "cell_type": "code",
   "execution_count": 208,
   "source": [
    "len(rxns) \n",
    "# 13417 rows in RXNS sheet, 147 pathways\n",
    "\n",
    "bad = []\n",
    "for ii in range(1, sheets[0].nrows):\n",
    "    thisdata = sheets[0].row_values(ii)\n",
    "    rid, ec, pathway = thisdata[1], thisdata[4], thisdata[11]\n",
    "    try:\n",
    "        rxn_dict['R_' + rid]['EC'] = ec\n",
    "        rxn_dict['R_' + rid]['pathway'] = pathway\n",
    "    except KeyError:\n",
    "        bad.append(thisdata[:5])\n",
    "        \n",
    "print(len(bad))"
   ],
   "outputs": [
    {
     "output_type": "stream",
     "name": "stdout",
     "text": [
      "1515\n"
     ]
    }
   ],
   "metadata": {}
  },
  {
   "cell_type": "code",
   "execution_count": 209,
   "source": [
    "print(list(rxn_dict.items())[:2])"
   ],
   "outputs": [
    {
     "output_type": "stream",
     "name": "stdout",
     "text": [
      "[('R_HMR_3905', {'id': 'R_HMR_3905', 'name': '', 'source': 'Human-GEM', 'reactants': ['M_m01796c', 'M_m02552c'], 'products': ['M_m01249c', 'M_m02039c', 'M_m02553c'], 'cpds': ['M_m01796c', 'M_m02552c', 'M_m01249c', 'M_m02039c', 'M_m02553c'], 'EC': 'EC:1.1.1.1; EC:1.1.1.71', 'pathway': 'Glycolysis / Gluconeogenesis'}), ('R_HMR_3907', {'id': 'R_HMR_3907', 'name': '', 'source': 'Human-GEM', 'reactants': ['M_m01796c', 'M_m02554c'], 'products': ['M_m01249c', 'M_m02039c', 'M_m02555c'], 'cpds': ['M_m01796c', 'M_m02554c', 'M_m01249c', 'M_m02039c', 'M_m02555c'], 'EC': 'EC:1.1.1.2', 'pathway': 'Glycolysis / Gluconeogenesis'})]\n"
     ]
    }
   ],
   "metadata": {}
  },
  {
   "cell_type": "code",
   "execution_count": 210,
   "source": [
    "mcg2rxns = metabolicModels[ 'human_model_mfn' ]['metabolic_rxns']\n",
    "mcg2rxns[:2]"
   ],
   "outputs": [
    {
     "output_type": "execute_result",
     "data": {
      "text/plain": [
       "[{'reactants': ['C02909'],\n",
       "  'id': 'R06927',\n",
       "  'source': 'kegg_dre',\n",
       "  'ecs': ['1.1.1.1'],\n",
       "  'products': ['C14099'],\n",
       "  'cpds': ['C02909', 'C14099'],\n",
       "  'pathway': '1- and 2-Methylnaphthalene degradation'},\n",
       " {'reactants': ['C14089'],\n",
       "  'id': 'R06917',\n",
       "  'source': 'kegg_dre',\n",
       "  'ecs': ['1.1.1.1'],\n",
       "  'products': ['C14090'],\n",
       "  'cpds': ['C14089', 'C14090'],\n",
       "  'pathway': '1- and 2-Methylnaphthalene degradation'}]"
      ]
     },
     "metadata": {},
     "execution_count": 210
    }
   ],
   "metadata": {}
  },
  {
   "cell_type": "code",
   "execution_count": 211,
   "source": [
    "ATLAS_reactions = list(rxn_dict.values())\n",
    "ATLAS_reactions[:2]"
   ],
   "outputs": [
    {
     "output_type": "execute_result",
     "data": {
      "text/plain": [
       "[{'id': 'R_HMR_3905',\n",
       "  'name': '',\n",
       "  'source': 'Human-GEM',\n",
       "  'reactants': ['M_m01796c', 'M_m02552c'],\n",
       "  'products': ['M_m01249c', 'M_m02039c', 'M_m02553c'],\n",
       "  'cpds': ['M_m01796c', 'M_m02552c', 'M_m01249c', 'M_m02039c', 'M_m02553c'],\n",
       "  'EC': 'EC:1.1.1.1; EC:1.1.1.71',\n",
       "  'pathway': 'Glycolysis / Gluconeogenesis'},\n",
       " {'id': 'R_HMR_3907',\n",
       "  'name': '',\n",
       "  'source': 'Human-GEM',\n",
       "  'reactants': ['M_m01796c', 'M_m02554c'],\n",
       "  'products': ['M_m01249c', 'M_m02039c', 'M_m02555c'],\n",
       "  'cpds': ['M_m01796c', 'M_m02554c', 'M_m01249c', 'M_m02039c', 'M_m02555c'],\n",
       "  'EC': 'EC:1.1.1.2',\n",
       "  'pathway': 'Glycolysis / Gluconeogenesis'}]"
      ]
     },
     "metadata": {},
     "execution_count": 211
    }
   ],
   "metadata": {}
  },
  {
   "cell_type": "markdown",
   "source": [
    "## Save ATLAS_reactions and atlas2020metabolites to Pickle\n",
    "\n",
    "Note:\n",
    "* yet to clean up rxns and use IDs without compartments"
   ],
   "metadata": {}
  },
  {
   "cell_type": "code",
   "execution_count": 213,
   "source": [
    "import pickle\n",
    "\n",
    "#reactions\n",
    "with open('ATLAS_reactions.pickle', 'wb') as f:\n",
    "    pickle.dump(ATLAS_reactions, f, pickle.HIGHEST_PROTOCOL)"
   ],
   "outputs": [],
   "metadata": {}
  },
  {
   "cell_type": "code",
   "execution_count": 218,
   "source": [
    "#  metabolites\n",
    "# Better to serialize \n",
    "ATLAS_metabolites = []\n",
    "for C in atlas2020metabolites:\n",
    "    m = vars(C)\n",
    "    ATLAS_metabolites.append(m)\n",
    "    \n",
    "with open('ATLAS_metabolites_lite.pickle', 'wb') as f:\n",
    "    pickle.dump(ATLAS_metabolites, f, pickle.HIGHEST_PROTOCOL)"
   ],
   "outputs": [],
   "metadata": {}
  },
  {
   "cell_type": "code",
   "execution_count": 219,
   "source": [
    "m"
   ],
   "outputs": [
    {
     "output_type": "execute_result",
     "data": {
      "text/plain": [
       "{'azimuth_id': 'az_kegg_C17689',\n",
       " 'name': '',\n",
       " 'other_ids': {'PubChem': '',\n",
       "  'KEGG': 'C17689',\n",
       "  'HMDB': '',\n",
       "  'ChEBI': '',\n",
       "  'MetaNetX': '',\n",
       "  'metabolicATLAS': 'm10042',\n",
       "  'recon3d': '',\n",
       "  'charge': -4,\n",
       "  'formula': 'C45H70N7O19P3S'},\n",
       " 'formula': 'C45H70N7O19P3S',\n",
       " 'inchi': '',\n",
       " 'mw': 1137.3660033233,\n",
       " 'adducts': {},\n",
       " 'note': {'atlas2020': ''},\n",
       " 'charge': -4}"
      ]
     },
     "metadata": {},
     "execution_count": 219
    }
   ],
   "metadata": {}
  },
  {
   "cell_type": "markdown",
   "source": [
    "**The pickle data were uploaded to Azimuth via CLI**"
   ],
   "metadata": {}
  },
  {
   "cell_type": "code",
   "execution_count": 220,
   "source": [
    "!ls\n"
   ],
   "outputs": [
    {
     "output_type": "stream",
     "name": "stdout",
     "text": [
      "ATLAS_metabolites_lite.pickle\t    HMDB-3.5\t\t\t __pycache__\r\n",
      "ATLAS_metabolites.pickle\t    hmdb_metabolites.zip\t pychemy\r\n",
      "ATLAS_reactions.pickle\t\t    Human-GEM\t\t\t Recon3D\r\n",
      "bigg_models_metabolites.txt\t    JSON_metabolicModels.py\t refmet.csv\r\n",
      "biomodels_from_Xia_site\t\t    mcg1\t\t\t refmet.zip\r\n",
      "chem_xref.tsv\t\t\t    microbial_xia\t\t sample_data\r\n",
      "EmoryCIDC_rxns_expt5_C18_neg.txt    old.data_import\t\t venv\r\n",
      "EmoryCIDC_rxns_expt5_HILIC_pos.txt  porting_human_gem2020.ipynb  worm\r\n"
     ]
    }
   ],
   "metadata": {}
  },
  {
   "cell_type": "code",
   "execution_count": null,
   "source": [],
   "outputs": [],
   "metadata": {}
  }
 ],
 "metadata": {
  "kernelspec": {
   "display_name": "Python 3",
   "language": "python",
   "name": "python3"
  },
  "language_info": {
   "codemirror_mode": {
    "name": "ipython",
    "version": 3
   },
   "file_extension": ".py",
   "mimetype": "text/x-python",
   "name": "python",
   "nbconvert_exporter": "python",
   "pygments_lexer": "ipython3",
   "version": "3.7.6"
  }
 },
 "nbformat": 4,
 "nbformat_minor": 4
}